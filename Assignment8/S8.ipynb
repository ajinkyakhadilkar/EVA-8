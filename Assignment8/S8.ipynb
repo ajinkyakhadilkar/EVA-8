{
  "cells": [
    {
      "cell_type": "code",
      "execution_count": 1,
      "metadata": {
        "colab": {
          "base_uri": "https://localhost:8080/"
        },
        "id": "ge05SZ-UxOdK",
        "outputId": "d1cdbb64-0a7c-4eae-c316-8d4c808baa3a"
      },
      "outputs": [
        {
          "output_type": "stream",
          "name": "stdout",
          "text": [
            "Cloning into 'pytorch-cifar-for-EVA'...\n",
            "remote: Enumerating objects: 458, done.\u001b[K\n",
            "remote: Counting objects: 100% (102/102), done.\u001b[K\n",
            "remote: Compressing objects: 100% (66/66), done.\u001b[K\n",
            "remote: Total 458 (delta 55), reused 55 (delta 34), pack-reused 356\u001b[K\n",
            "Receiving objects: 100% (458/458), 108.84 KiB | 1.47 MiB/s, done.\n",
            "Resolving deltas: 100% (236/236), done.\n"
          ]
        }
      ],
      "source": [
        "!git clone https://github.com/ajinkyakhadilkar/pytorch-cifar-for-EVA.git\n",
        "!mv pytorch-cifar-for-EVA pytorch_cifar"
      ]
    },
    {
      "cell_type": "code",
      "execution_count": 2,
      "metadata": {
        "colab": {
          "base_uri": "https://localhost:8080/"
        },
        "id": "r_MdIRGauh8J",
        "outputId": "c4d74735-7bea-4cf8-f79c-a83ba8343413"
      },
      "outputs": [
        {
          "output_type": "stream",
          "name": "stdout",
          "text": [
            "Looking in indexes: https://pypi.org/simple, https://us-python.pkg.dev/colab-wheels/public/simple/\n",
            "Collecting grad-cam\n",
            "  Downloading grad-cam-1.4.6.tar.gz (7.8 MB)\n",
            "\u001b[2K     \u001b[90m━━━━━━━━━━━━━━━━━━━━━━━━━━━━━━━━━━━━━━━━\u001b[0m \u001b[32m7.8/7.8 MB\u001b[0m \u001b[31m67.6 MB/s\u001b[0m eta \u001b[36m0:00:00\u001b[0m\n",
            "\u001b[?25h  Installing build dependencies ... \u001b[?25l\u001b[?25hdone\n",
            "  Getting requirements to build wheel ... \u001b[?25l\u001b[?25hdone\n",
            "  Preparing metadata (pyproject.toml) ... \u001b[?25l\u001b[?25hdone\n",
            "Requirement already satisfied: matplotlib in /usr/local/lib/python3.8/dist-packages (from grad-cam) (3.2.2)\n",
            "Requirement already satisfied: opencv-python in /usr/local/lib/python3.8/dist-packages (from grad-cam) (4.6.0.66)\n",
            "Requirement already satisfied: torchvision>=0.8.2 in /usr/local/lib/python3.8/dist-packages (from grad-cam) (0.14.1+cu116)\n",
            "Requirement already satisfied: tqdm in /usr/local/lib/python3.8/dist-packages (from grad-cam) (4.64.1)\n",
            "Collecting ttach\n",
            "  Downloading ttach-0.0.3-py3-none-any.whl (9.8 kB)\n",
            "Requirement already satisfied: numpy in /usr/local/lib/python3.8/dist-packages (from grad-cam) (1.21.6)\n",
            "Requirement already satisfied: scikit-learn in /usr/local/lib/python3.8/dist-packages (from grad-cam) (1.0.2)\n",
            "Requirement already satisfied: Pillow in /usr/local/lib/python3.8/dist-packages (from grad-cam) (7.1.2)\n",
            "Requirement already satisfied: torch>=1.7.1 in /usr/local/lib/python3.8/dist-packages (from grad-cam) (1.13.1+cu116)\n",
            "Requirement already satisfied: typing-extensions in /usr/local/lib/python3.8/dist-packages (from torch>=1.7.1->grad-cam) (4.5.0)\n",
            "Requirement already satisfied: requests in /usr/local/lib/python3.8/dist-packages (from torchvision>=0.8.2->grad-cam) (2.25.1)\n",
            "Requirement already satisfied: cycler>=0.10 in /usr/local/lib/python3.8/dist-packages (from matplotlib->grad-cam) (0.11.0)\n",
            "Requirement already satisfied: python-dateutil>=2.1 in /usr/local/lib/python3.8/dist-packages (from matplotlib->grad-cam) (2.8.2)\n",
            "Requirement already satisfied: kiwisolver>=1.0.1 in /usr/local/lib/python3.8/dist-packages (from matplotlib->grad-cam) (1.4.4)\n",
            "Requirement already satisfied: pyparsing!=2.0.4,!=2.1.2,!=2.1.6,>=2.0.1 in /usr/local/lib/python3.8/dist-packages (from matplotlib->grad-cam) (3.0.9)\n",
            "Requirement already satisfied: threadpoolctl>=2.0.0 in /usr/local/lib/python3.8/dist-packages (from scikit-learn->grad-cam) (3.1.0)\n",
            "Requirement already satisfied: joblib>=0.11 in /usr/local/lib/python3.8/dist-packages (from scikit-learn->grad-cam) (1.2.0)\n",
            "Requirement already satisfied: scipy>=1.1.0 in /usr/local/lib/python3.8/dist-packages (from scikit-learn->grad-cam) (1.7.3)\n",
            "Requirement already satisfied: six>=1.5 in /usr/local/lib/python3.8/dist-packages (from python-dateutil>=2.1->matplotlib->grad-cam) (1.15.0)\n",
            "Requirement already satisfied: idna<3,>=2.5 in /usr/local/lib/python3.8/dist-packages (from requests->torchvision>=0.8.2->grad-cam) (2.10)\n",
            "Requirement already satisfied: chardet<5,>=3.0.2 in /usr/local/lib/python3.8/dist-packages (from requests->torchvision>=0.8.2->grad-cam) (4.0.0)\n",
            "Requirement already satisfied: urllib3<1.27,>=1.21.1 in /usr/local/lib/python3.8/dist-packages (from requests->torchvision>=0.8.2->grad-cam) (1.24.3)\n",
            "Requirement already satisfied: certifi>=2017.4.17 in /usr/local/lib/python3.8/dist-packages (from requests->torchvision>=0.8.2->grad-cam) (2022.12.7)\n",
            "Building wheels for collected packages: grad-cam\n",
            "  Building wheel for grad-cam (pyproject.toml) ... \u001b[?25l\u001b[?25hdone\n",
            "  Created wheel for grad-cam: filename=grad_cam-1.4.6-py3-none-any.whl size=38261 sha256=d74b995bc8f98ac9645633c0ed6a2378795534a6b52a8794fa2c09e6de023e71\n",
            "  Stored in directory: /root/.cache/pip/wheels/53/02/43/1f75726b5c28459596067ad91e36951463c01273eef661f09f\n",
            "Successfully built grad-cam\n",
            "Installing collected packages: ttach, grad-cam\n",
            "Successfully installed grad-cam-1.4.6 ttach-0.0.3\n",
            "Looking in indexes: https://pypi.org/simple, https://us-python.pkg.dev/colab-wheels/public/simple/\n",
            "Requirement already satisfied: albumentations in /usr/local/lib/python3.8/dist-packages (1.2.1)\n",
            "Collecting albumentations\n",
            "  Downloading albumentations-1.3.0-py3-none-any.whl (123 kB)\n",
            "\u001b[2K     \u001b[90m━━━━━━━━━━━━━━━━━━━━━━━━━━━━━━━━━━━━━━━\u001b[0m \u001b[32m123.5/123.5 KB\u001b[0m \u001b[31m8.7 MB/s\u001b[0m eta \u001b[36m0:00:00\u001b[0m\n",
            "\u001b[?25hRequirement already satisfied: scipy in /usr/local/lib/python3.8/dist-packages (from albumentations) (1.7.3)\n",
            "Requirement already satisfied: opencv-python-headless>=4.1.1 in /usr/local/lib/python3.8/dist-packages (from albumentations) (4.7.0.68)\n",
            "Requirement already satisfied: PyYAML in /usr/local/lib/python3.8/dist-packages (from albumentations) (6.0)\n",
            "Requirement already satisfied: scikit-image>=0.16.1 in /usr/local/lib/python3.8/dist-packages (from albumentations) (0.18.3)\n",
            "Requirement already satisfied: qudida>=0.0.4 in /usr/local/lib/python3.8/dist-packages (from albumentations) (0.0.4)\n",
            "Requirement already satisfied: numpy>=1.11.1 in /usr/local/lib/python3.8/dist-packages (from albumentations) (1.21.6)\n",
            "Requirement already satisfied: scikit-learn>=0.19.1 in /usr/local/lib/python3.8/dist-packages (from qudida>=0.0.4->albumentations) (1.0.2)\n",
            "Requirement already satisfied: typing-extensions in /usr/local/lib/python3.8/dist-packages (from qudida>=0.0.4->albumentations) (4.5.0)\n",
            "Requirement already satisfied: networkx>=2.0 in /usr/local/lib/python3.8/dist-packages (from scikit-image>=0.16.1->albumentations) (3.0)\n",
            "Requirement already satisfied: tifffile>=2019.7.26 in /usr/local/lib/python3.8/dist-packages (from scikit-image>=0.16.1->albumentations) (2023.2.3)\n",
            "Requirement already satisfied: imageio>=2.3.0 in /usr/local/lib/python3.8/dist-packages (from scikit-image>=0.16.1->albumentations) (2.9.0)\n",
            "Requirement already satisfied: pillow!=7.1.0,!=7.1.1,>=4.3.0 in /usr/local/lib/python3.8/dist-packages (from scikit-image>=0.16.1->albumentations) (7.1.2)\n",
            "Requirement already satisfied: PyWavelets>=1.1.1 in /usr/local/lib/python3.8/dist-packages (from scikit-image>=0.16.1->albumentations) (1.4.1)\n",
            "Requirement already satisfied: matplotlib!=3.0.0,>=2.0.0 in /usr/local/lib/python3.8/dist-packages (from scikit-image>=0.16.1->albumentations) (3.2.2)\n",
            "Requirement already satisfied: cycler>=0.10 in /usr/local/lib/python3.8/dist-packages (from matplotlib!=3.0.0,>=2.0.0->scikit-image>=0.16.1->albumentations) (0.11.0)\n",
            "Requirement already satisfied: python-dateutil>=2.1 in /usr/local/lib/python3.8/dist-packages (from matplotlib!=3.0.0,>=2.0.0->scikit-image>=0.16.1->albumentations) (2.8.2)\n",
            "Requirement already satisfied: kiwisolver>=1.0.1 in /usr/local/lib/python3.8/dist-packages (from matplotlib!=3.0.0,>=2.0.0->scikit-image>=0.16.1->albumentations) (1.4.4)\n",
            "Requirement already satisfied: pyparsing!=2.0.4,!=2.1.2,!=2.1.6,>=2.0.1 in /usr/local/lib/python3.8/dist-packages (from matplotlib!=3.0.0,>=2.0.0->scikit-image>=0.16.1->albumentations) (3.0.9)\n",
            "Requirement already satisfied: joblib>=0.11 in /usr/local/lib/python3.8/dist-packages (from scikit-learn>=0.19.1->qudida>=0.0.4->albumentations) (1.2.0)\n",
            "Requirement already satisfied: threadpoolctl>=2.0.0 in /usr/local/lib/python3.8/dist-packages (from scikit-learn>=0.19.1->qudida>=0.0.4->albumentations) (3.1.0)\n",
            "Requirement already satisfied: six>=1.5 in /usr/local/lib/python3.8/dist-packages (from python-dateutil>=2.1->matplotlib!=3.0.0,>=2.0.0->scikit-image>=0.16.1->albumentations) (1.15.0)\n",
            "Installing collected packages: albumentations\n",
            "  Attempting uninstall: albumentations\n",
            "    Found existing installation: albumentations 1.2.1\n",
            "    Uninstalling albumentations-1.2.1:\n",
            "      Successfully uninstalled albumentations-1.2.1\n",
            "Successfully installed albumentations-1.3.0\n"
          ]
        }
      ],
      "source": [
        "!pip install grad-cam\n",
        "!pip install -U albumentations\n"
      ]
    },
    {
      "cell_type": "code",
      "execution_count": 4,
      "metadata": {
        "colab": {
          "base_uri": "https://localhost:8080/"
        },
        "id": "z1HxtuZOuR0X",
        "outputId": "6b8dcbfc-1e81-4ef9-bad6-140bcebf44ab"
      },
      "outputs": [
        {
          "output_type": "stream",
          "name": "stdout",
          "text": [
            "==> Preparing data..\n",
            "Files already downloaded and verified\n",
            "Files already downloaded and verified\n",
            "==> Building model..\n"
          ]
        }
      ],
      "source": [
        "import pytorch_cifar.main as main\n",
        "import pytorch_cifar.models as models\n",
        "import torch\n",
        "\n",
        "main.set_net(models.custom_resnet.ResNet())"
      ]
    },
    {
      "cell_type": "code",
      "execution_count": 5,
      "metadata": {
        "colab": {
          "base_uri": "https://localhost:8080/"
        },
        "id": "CwBEsxpOvwQv",
        "outputId": "29de4ecd-3d81-4f22-b61d-6158a3e46106"
      },
      "outputs": [
        {
          "output_type": "stream",
          "name": "stdout",
          "text": [
            "----------------------------------------------------------------\n",
            "        Layer (type)               Output Shape         Param #\n",
            "================================================================\n",
            "            Conv2d-1           [-1, 64, 32, 32]           1,792\n",
            "       BatchNorm2d-2           [-1, 64, 32, 32]             128\n",
            "              ReLU-3           [-1, 64, 32, 32]               0\n",
            "            Conv2d-4          [-1, 128, 32, 32]          73,856\n",
            "         MaxPool2d-5          [-1, 128, 16, 16]               0\n",
            "       BatchNorm2d-6          [-1, 128, 16, 16]             256\n",
            "              ReLU-7          [-1, 128, 16, 16]               0\n",
            "            Conv2d-8          [-1, 128, 16, 16]         147,584\n",
            "       BatchNorm2d-9          [-1, 128, 16, 16]             256\n",
            "             ReLU-10          [-1, 128, 16, 16]               0\n",
            "           Conv2d-11          [-1, 128, 16, 16]         147,584\n",
            "      BatchNorm2d-12          [-1, 128, 16, 16]             256\n",
            "             ReLU-13          [-1, 128, 16, 16]               0\n",
            "      ResNetBlock-14          [-1, 128, 16, 16]               0\n",
            "           Conv2d-15          [-1, 256, 16, 16]         295,168\n",
            "        MaxPool2d-16            [-1, 256, 8, 8]               0\n",
            "      BatchNorm2d-17            [-1, 256, 8, 8]             512\n",
            "             ReLU-18            [-1, 256, 8, 8]               0\n",
            "           Conv2d-19            [-1, 512, 8, 8]       1,180,160\n",
            "        MaxPool2d-20            [-1, 512, 4, 4]               0\n",
            "      BatchNorm2d-21            [-1, 512, 4, 4]           1,024\n",
            "             ReLU-22            [-1, 512, 4, 4]               0\n",
            "           Conv2d-23            [-1, 512, 4, 4]       2,359,808\n",
            "      BatchNorm2d-24            [-1, 512, 4, 4]           1,024\n",
            "             ReLU-25            [-1, 512, 4, 4]               0\n",
            "           Conv2d-26            [-1, 512, 4, 4]       2,359,808\n",
            "      BatchNorm2d-27            [-1, 512, 4, 4]           1,024\n",
            "             ReLU-28            [-1, 512, 4, 4]               0\n",
            "      ResNetBlock-29            [-1, 512, 4, 4]               0\n",
            "        MaxPool2d-30            [-1, 512, 1, 1]               0\n",
            "           Linear-31                   [-1, 10]           5,130\n",
            "           ResNet-32                   [-1, 10]               0\n",
            "================================================================\n",
            "Total params: 6,575,370\n",
            "Trainable params: 6,575,370\n",
            "Non-trainable params: 0\n",
            "----------------------------------------------------------------\n",
            "Input size (MB): 0.01\n",
            "Forward/backward pass size (MB): 6.75\n",
            "Params size (MB): 25.08\n",
            "Estimated Total Size (MB): 31.85\n",
            "----------------------------------------------------------------\n"
          ]
        }
      ],
      "source": [
        "from torchsummary import summary\n",
        "\n",
        "summary(main.net, input_size=(3,32,32))"
      ]
    },
    {
      "cell_type": "code",
      "execution_count": null,
      "metadata": {
        "colab": {
          "background_save": true,
          "base_uri": "https://localhost:8080/"
        },
        "id": "g7yBJuqu0Zw-",
        "outputId": "c70296af-372e-4cd7-e0f1-aa6dfb8daedb"
      },
      "outputs": [
        {
          "name": "stderr",
          "output_type": "stream",
          "text": [
            "Epoch=0 Loss=1.4622747346263407 batch_id=390 Accuracy=47.09%: 100%|██████████| 391/391 [00:37<00:00, 10.54it/s]\n"
          ]
        },
        {
          "name": "stdout",
          "output_type": "stream",
          "text": [
            "\n",
            "Test set: Average loss: 1.1243, Accuracy: 5987/10000 (59.87%)\n",
            "\n"
          ]
        },
        {
          "name": "stderr",
          "output_type": "stream",
          "text": [
            "Epoch=1 Loss=0.9991522492350214 batch_id=390 Accuracy=64.65%: 100%|██████████| 391/391 [00:34<00:00, 11.45it/s]\n"
          ]
        },
        {
          "name": "stdout",
          "output_type": "stream",
          "text": [
            "\n",
            "Test set: Average loss: 0.9584, Accuracy: 6590/10000 (65.90%)\n",
            "\n"
          ]
        },
        {
          "name": "stderr",
          "output_type": "stream",
          "text": [
            "Epoch=2 Loss=0.8015305399132506 batch_id=390 Accuracy=71.90%: 100%|██████████| 391/391 [00:33<00:00, 11.72it/s]\n"
          ]
        },
        {
          "name": "stdout",
          "output_type": "stream",
          "text": [
            "\n",
            "Test set: Average loss: 0.7635, Accuracy: 7290/10000 (72.90%)\n",
            "\n"
          ]
        },
        {
          "name": "stderr",
          "output_type": "stream",
          "text": [
            "Epoch=3 Loss=0.6698650120164428 batch_id=390 Accuracy=76.69%: 100%|██████████| 391/391 [00:32<00:00, 12.09it/s]\n"
          ]
        },
        {
          "name": "stdout",
          "output_type": "stream",
          "text": [
            "\n",
            "Test set: Average loss: 0.6552, Accuracy: 7733/10000 (77.33%)\n",
            "\n"
          ]
        },
        {
          "name": "stderr",
          "output_type": "stream",
          "text": [
            "Epoch=4 Loss=0.5891794049373978 batch_id=390 Accuracy=79.44%: 100%|██████████| 391/391 [00:32<00:00, 11.93it/s]\n"
          ]
        },
        {
          "name": "stdout",
          "output_type": "stream",
          "text": [
            "\n",
            "Test set: Average loss: 0.6553, Accuracy: 7808/10000 (78.08%)\n",
            "\n"
          ]
        },
        {
          "name": "stderr",
          "output_type": "stream",
          "text": [
            "Epoch=5 Loss=0.525552509538353 batch_id=390 Accuracy=81.59%: 100%|██████████| 391/391 [00:33<00:00, 11.58it/s]\n"
          ]
        },
        {
          "name": "stdout",
          "output_type": "stream",
          "text": [
            "\n",
            "Test set: Average loss: 0.5793, Accuracy: 8057/10000 (80.57%)\n",
            "\n"
          ]
        },
        {
          "name": "stderr",
          "output_type": "stream",
          "text": [
            "Epoch=6 Loss=0.4754679805177557 batch_id=390 Accuracy=83.47%: 100%|██████████| 391/391 [00:33<00:00, 11.67it/s]\n"
          ]
        },
        {
          "name": "stdout",
          "output_type": "stream",
          "text": [
            "\n",
            "Test set: Average loss: 0.5897, Accuracy: 7974/10000 (79.74%)\n",
            "\n"
          ]
        },
        {
          "name": "stderr",
          "output_type": "stream",
          "text": [
            "Epoch=7 Loss=0.44134847381535697 batch_id=390 Accuracy=84.67%: 100%|██████████| 391/391 [00:32<00:00, 12.04it/s]\n"
          ]
        },
        {
          "name": "stdout",
          "output_type": "stream",
          "text": [
            "\n",
            "Test set: Average loss: 0.4965, Accuracy: 8340/10000 (83.40%)\n",
            "\n"
          ]
        },
        {
          "name": "stderr",
          "output_type": "stream",
          "text": [
            "Epoch=8 Loss=0.3945238174075056 batch_id=390 Accuracy=86.42%: 100%|██████████| 391/391 [00:31<00:00, 12.24it/s]\n"
          ]
        },
        {
          "name": "stdout",
          "output_type": "stream",
          "text": [
            "\n",
            "Test set: Average loss: 0.4847, Accuracy: 8373/10000 (83.73%)\n",
            "\n"
          ]
        },
        {
          "name": "stderr",
          "output_type": "stream",
          "text": [
            "Epoch=9 Loss=0.361724764222989 batch_id=390 Accuracy=87.47%: 100%|██████████| 391/391 [00:33<00:00, 11.72it/s]\n"
          ]
        },
        {
          "name": "stdout",
          "output_type": "stream",
          "text": [
            "\n",
            "Test set: Average loss: 0.4831, Accuracy: 8416/10000 (84.16%)\n",
            "\n"
          ]
        },
        {
          "name": "stderr",
          "output_type": "stream",
          "text": [
            "Epoch=10 Loss=0.3365507690269319 batch_id=390 Accuracy=88.41%: 100%|██████████| 391/391 [00:33<00:00, 11.68it/s]\n"
          ]
        },
        {
          "name": "stdout",
          "output_type": "stream",
          "text": [
            "\n",
            "Test set: Average loss: 0.5074, Accuracy: 8318/10000 (83.18%)\n",
            "\n"
          ]
        },
        {
          "name": "stderr",
          "output_type": "stream",
          "text": [
            "Epoch=11 Loss=0.31242554484273466 batch_id=390 Accuracy=89.15%: 100%|██████████| 391/391 [00:33<00:00, 11.81it/s]\n"
          ]
        },
        {
          "name": "stdout",
          "output_type": "stream",
          "text": [
            "\n",
            "Test set: Average loss: 0.4356, Accuracy: 8523/10000 (85.23%)\n",
            "\n"
          ]
        },
        {
          "name": "stderr",
          "output_type": "stream",
          "text": [
            "Epoch=12 Loss=0.2896423172920256 batch_id=390 Accuracy=90.06%: 100%|██████████| 391/391 [00:32<00:00, 12.14it/s]\n"
          ]
        },
        {
          "name": "stdout",
          "output_type": "stream",
          "text": [
            "\n",
            "Test set: Average loss: 0.4669, Accuracy: 8449/10000 (84.49%)\n",
            "\n"
          ]
        },
        {
          "name": "stderr",
          "output_type": "stream",
          "text": [
            "Epoch=13 Loss=0.2678310612354742 batch_id=390 Accuracy=90.64%: 100%|██████████| 391/391 [00:32<00:00, 11.99it/s]\n"
          ]
        },
        {
          "name": "stdout",
          "output_type": "stream",
          "text": [
            "\n",
            "Test set: Average loss: 0.4629, Accuracy: 8511/10000 (85.11%)\n",
            "\n"
          ]
        },
        {
          "name": "stderr",
          "output_type": "stream",
          "text": [
            "Epoch=14 Loss=0.2488472222557763 batch_id=390 Accuracy=91.42%: 100%|██████████| 391/391 [00:33<00:00, 11.68it/s]\n"
          ]
        },
        {
          "name": "stdout",
          "output_type": "stream",
          "text": [
            "\n",
            "Test set: Average loss: 0.4304, Accuracy: 8588/10000 (85.88%)\n",
            "\n"
          ]
        },
        {
          "name": "stderr",
          "output_type": "stream",
          "text": [
            "Epoch=15 Loss=0.22968262182477187 batch_id=390 Accuracy=92.10%: 100%|██████████| 391/391 [00:33<00:00, 11.74it/s]\n"
          ]
        },
        {
          "name": "stdout",
          "output_type": "stream",
          "text": [
            "\n",
            "Test set: Average loss: 0.4367, Accuracy: 8600/10000 (86.00%)\n",
            "\n"
          ]
        },
        {
          "name": "stderr",
          "output_type": "stream",
          "text": [
            "Epoch=16 Loss=0.21536130528620748 batch_id=390 Accuracy=92.68%: 100%|██████████| 391/391 [00:32<00:00, 12.18it/s]\n"
          ]
        },
        {
          "name": "stdout",
          "output_type": "stream",
          "text": [
            "\n",
            "Test set: Average loss: 0.4173, Accuracy: 8656/10000 (86.56%)\n",
            "\n"
          ]
        },
        {
          "name": "stderr",
          "output_type": "stream",
          "text": [
            "Epoch=17 Loss=0.1983217767170628 batch_id=390 Accuracy=93.34%: 100%|██████████| 391/391 [00:31<00:00, 12.35it/s]\n"
          ]
        },
        {
          "name": "stdout",
          "output_type": "stream",
          "text": [
            "\n",
            "Test set: Average loss: 0.4203, Accuracy: 8652/10000 (86.52%)\n",
            "\n"
          ]
        },
        {
          "name": "stderr",
          "output_type": "stream",
          "text": [
            "Epoch=18 Loss=0.18437278689935688 batch_id=390 Accuracy=93.69%: 100%|██████████| 391/391 [00:32<00:00, 12.03it/s]\n"
          ]
        },
        {
          "name": "stdout",
          "output_type": "stream",
          "text": [
            "\n",
            "Test set: Average loss: 0.4503, Accuracy: 8639/10000 (86.39%)\n",
            "\n"
          ]
        },
        {
          "name": "stderr",
          "output_type": "stream",
          "text": [
            "Epoch=19 Loss=0.17058100187412614 batch_id=390 Accuracy=94.14%: 100%|██████████| 391/391 [00:31<00:00, 12.34it/s]\n"
          ]
        },
        {
          "name": "stdout",
          "output_type": "stream",
          "text": [
            "\n",
            "Test set: Average loss: 0.4076, Accuracy: 8712/10000 (87.12%)\n",
            "\n"
          ]
        },
        {
          "name": "stderr",
          "output_type": "stream",
          "text": [
            "Epoch=20 Loss=0.156914476762571 batch_id=390 Accuracy=94.72%: 100%|██████████| 391/391 [00:31<00:00, 12.35it/s]\n"
          ]
        },
        {
          "name": "stdout",
          "output_type": "stream",
          "text": [
            "\n",
            "Test set: Average loss: 0.4060, Accuracy: 8766/10000 (87.66%)\n",
            "\n"
          ]
        },
        {
          "name": "stderr",
          "output_type": "stream",
          "text": [
            "Epoch=21 Loss=0.14641771423618508 batch_id=390 Accuracy=94.97%: 100%|██████████| 391/391 [00:30<00:00, 12.63it/s]\n"
          ]
        },
        {
          "name": "stdout",
          "output_type": "stream",
          "text": [
            "\n",
            "Test set: Average loss: 0.4099, Accuracy: 8756/10000 (87.56%)\n",
            "\n"
          ]
        },
        {
          "name": "stderr",
          "output_type": "stream",
          "text": [
            "Epoch=22 Loss=0.13605844769674494 batch_id=390 Accuracy=95.43%: 100%|██████████| 391/391 [00:30<00:00, 12.66it/s]\n"
          ]
        },
        {
          "name": "stdout",
          "output_type": "stream",
          "text": [
            "\n",
            "Test set: Average loss: 0.4571, Accuracy: 8644/10000 (86.44%)\n",
            "\n"
          ]
        },
        {
          "name": "stderr",
          "output_type": "stream",
          "text": [
            "Epoch=23 Loss=0.12992879799793444 batch_id=390 Accuracy=95.57%: 100%|██████████| 391/391 [00:31<00:00, 12.37it/s]\n"
          ]
        },
        {
          "name": "stdout",
          "output_type": "stream",
          "text": [
            "\n",
            "Test set: Average loss: 0.4078, Accuracy: 8749/10000 (87.49%)\n",
            "\n"
          ]
        }
      ],
      "source": [
        "torch.autograd.set_detect_anomaly(True)\n",
        "main.start_training()"
      ]
    },
    {
      "cell_type": "markdown",
      "source": [
        "# Range Test"
      ],
      "metadata": {
        "id": "NIjXn8JZIA3D"
      }
    },
    {
      "cell_type": "code",
      "source": [
        "main.start_training(1, is_range_test=True)\n",
        "print(main.lr)\n",
        "print(main.train_losses)"
      ],
      "metadata": {
        "colab": {
          "base_uri": "https://localhost:8080/"
        },
        "id": "ehbZjwTk7Mla",
        "outputId": "bab34af5-8a29-4d98-d038-8bccad016132"
      },
      "execution_count": 2,
      "outputs": [
        {
          "output_type": "stream",
          "name": "stderr",
          "text": [
            "Epoch=0 LR=1.1249957846191874e-05 Loss=2.799161970615387 batch_id=3 Accuracy=9.38%:   1%|          | 3/391 [00:03<06:17,  1.03it/s] "
          ]
        },
        {
          "output_type": "stream",
          "name": "stdout",
          "text": [
            "1\n",
            "\n",
            " Current LR:1.029882607207437e-05\n",
            "\n",
            " Loss: 2.894618511199951\n",
            "2\n",
            "\n",
            " Current LR:1.060658184628388e-05\n",
            "\n",
            " Loss: 2.712022304534912\n",
            "3\n",
            "\n",
            " Current LR:1.0923534165409913e-05\n",
            "\n",
            " Loss: 2.947608470916748\n",
            "4\n",
            "\n",
            " Current LR:1.1249957846191874e-05\n",
            "\n",
            " Loss: 2.6423985958099365\n",
            "5\n"
          ]
        },
        {
          "output_type": "stream",
          "name": "stderr",
          "text": [
            "Epoch=0 LR=1.2656155154109411e-05 Loss=2.7876560986042023 batch_id=7 Accuracy=9.67%:   2%|▏         | 7/391 [00:03<02:00,  3.17it/s]"
          ]
        },
        {
          "output_type": "stream",
          "name": "stdout",
          "text": [
            "\n",
            " Current LR:1.1586135917609852e-05\n",
            "\n",
            " Loss: 2.915708541870117\n",
            "6\n",
            "\n",
            " Current LR:1.1932359866287762e-05\n",
            "\n",
            " Loss: 2.7345314025878906\n",
            "7\n",
            "\n",
            " Current LR:1.2288929889229824e-05\n",
            "\n",
            " Loss: 2.734654188156128\n",
            "8\n",
            "\n",
            " Current LR:1.2656155154109411e-05\n",
            "\n",
            " Loss: 2.7197067737579346\n"
          ]
        },
        {
          "output_type": "stream",
          "name": "stderr",
          "text": [
            "Epoch=0 LR=1.382499432286429e-05 Loss=2.7703569802370938 batch_id=10 Accuracy=9.38%:   3%|▎         | 11/391 [00:04<01:01,  6.16it/s]"
          ]
        },
        {
          "output_type": "stream",
          "name": "stdout",
          "text": [
            "9\n",
            "\n",
            " Current LR:1.3034354067336042e-05\n",
            "\n",
            " Loss: 2.668097734451294\n",
            "10\n",
            "\n",
            " Current LR:1.3423854550132903e-05\n",
            "\n",
            " Loss: 2.736386299133301\n",
            "11\n",
            "\n",
            " Current LR:1.382499432286429e-05\n",
            "\n",
            " Loss: 2.7681939601898193\n",
            "12\n"
          ]
        },
        {
          "output_type": "stream",
          "name": "stderr",
          "text": [
            "Epoch=0 LR=1.555306033560652e-05 Loss=2.7638190428415936 batch_id=14 Accuracy=9.58%:   4%|▍         | 15/391 [00:04<00:40,  9.38it/s]"
          ]
        },
        {
          "output_type": "stream",
          "name": "stdout",
          "text": [
            "\n",
            " Current LR:1.423812119785949e-05\n",
            "\n",
            " Loss: 2.8127734661102295\n",
            "13\n",
            "\n",
            " Current LR:1.4663593380987007e-05\n",
            "\n",
            " Loss: 2.69694185256958\n",
            "14\n",
            "\n",
            " Current LR:1.5101779782240613e-05\n",
            "\n",
            " Loss: 2.8980095386505127\n",
            "15\n",
            "\n",
            " Current LR:1.555306033560652e-05\n",
            "\n",
            " Loss: 2.575634002685547\n"
          ]
        },
        {
          "output_type": "stream",
          "name": "stderr",
          "text": [
            "Epoch=0 LR=1.698943859526796e-05 Loss=2.7390095790227256 batch_id=17 Accuracy=9.55%:   4%|▍         | 17/391 [00:04<00:34, 10.72it/s]"
          ]
        },
        {
          "output_type": "stream",
          "name": "stdout",
          "text": [
            "16\n",
            "\n",
            " Current LR:1.601782632848902e-05\n",
            "\n",
            " Loss: 2.6239984035491943\n",
            "17\n",
            "\n",
            " Current LR:1.64964807409802e-05\n",
            "\n",
            " Loss: 2.580177068710327\n",
            "18\n",
            "\n",
            " Current LR:1.698943859526796e-05\n",
            "\n",
            " Loss: 2.6407113075256348\n"
          ]
        },
        {
          "output_type": "stream",
          "name": "stderr",
          "text": [
            "Epoch=0 LR=1.8558471294654332e-05 Loss=2.717443795431228 batch_id=20 Accuracy=9.93%:   5%|▌         | 21/391 [00:04<00:30, 11.99it/s]"
          ]
        },
        {
          "output_type": "stream",
          "name": "stdout",
          "text": [
            "19\n",
            "\n",
            " Current LR:1.749712731548522e-05\n",
            "\n",
            " Loss: 2.673527956008911\n",
            "20\n",
            "\n",
            " Current LR:1.801998709831238e-05\n",
            "\n",
            " Loss: 2.609095335006714\n",
            "21\n",
            "\n",
            " Current LR:1.8558471294654332e-05\n",
            "\n",
            " Loss: 2.4815239906311035\n"
          ]
        },
        {
          "output_type": "stream",
          "name": "stderr",
          "text": [
            "Epoch=0 LR=2.0272409524493572e-05 Loss=2.6967537303765616 batch_id=23 Accuracy=9.96%:   6%|▌         | 23/391 [00:05<00:30, 11.91it/s]"
          ]
        },
        {
          "output_type": "stream",
          "name": "stdout",
          "text": [
            "22\n",
            "\n",
            " Current LR:1.9113046802722984e-05\n",
            "\n",
            " Loss: 2.573655605316162\n",
            "23\n",
            "\n",
            " Current LR:1.968419447286611e-05\n",
            "\n",
            " Loss: 2.5344650745391846\n",
            "24\n",
            "\n",
            " Current LR:2.0272409524493572e-05\n",
            "\n",
            " Loss: 2.5476491451263428\n"
          ]
        },
        {
          "output_type": "stream",
          "name": "stderr",
          "text": [
            "Epoch=0 LR=2.1502097084292593e-05 Loss=2.6847597635709324 batch_id=25 Accuracy=9.92%:   6%|▋         | 25/391 [00:05<00:30, 11.99it/s] "
          ]
        },
        {
          "output_type": "stream",
          "name": "stdout",
          "text": [
            "25\n",
            "\n",
            " Current LR:2.0878201975462318e-05\n",
            "\n",
            " Loss: 2.5816574096679688\n",
            "26\n",
            "\n",
            " Current LR:2.1502097084292593e-05\n",
            "\n",
            " Loss: 2.500006914138794\n",
            "27"
          ]
        },
        {
          "output_type": "stream",
          "name": "stderr",
          "text": [
            "Epoch=0 LR=2.2806375259129134e-05 Loss=2.6741987551961626 batch_id=27 Accuracy=9.71%:   7%|▋         | 27/391 [00:05<00:32, 11.17it/s]"
          ]
        },
        {
          "output_type": "stream",
          "name": "stdout",
          "text": [
            "\n",
            "\n",
            " Current LR:2.214463580559868e-05\n",
            "\n",
            " Loss: 2.4219417572021484\n",
            "28\n",
            "\n",
            " Current LR:2.2806375259129134e-05\n",
            "\n",
            " Loss: 2.651869535446167\n",
            "29\n"
          ]
        },
        {
          "output_type": "stream",
          "name": "stderr",
          "text": [
            "Epoch=0 LR=2.491262193322564e-05 Loss=2.6567453876618417 batch_id=30 Accuracy=10.16%:   8%|▊         | 31/391 [00:05<00:30, 11.72it/s]"
          ]
        },
        {
          "output_type": "stream",
          "name": "stdout",
          "text": [
            "\n",
            " Current LR:2.3487889212823095e-05\n",
            "\n",
            " Loss: 2.545468330383301\n",
            "30\n",
            "\n",
            " Current LR:2.4189768580301685e-05\n",
            "\n",
            " Loss: 2.540963649749756\n",
            "31\n",
            "\n",
            " Current LR:2.491262193322564e-05\n",
            "\n",
            " Loss: 2.3951098918914795\n",
            "32\n",
            "\n",
            " Current LR:2.5657076028963604e-05\n"
          ]
        },
        {
          "output_type": "stream",
          "name": "stderr",
          "text": [
            "Epoch=0 LR=2.721338768375306e-05 Loss=2.6386613915948307 batch_id=33 Accuracy=10.34%:   8%|▊         | 33/391 [00:05<00:30, 11.86it/s]"
          ]
        },
        {
          "output_type": "stream",
          "name": "stdout",
          "text": [
            "\n",
            " Loss: 2.4885125160217285\n",
            "33\n",
            "\n",
            " Current LR:2.6423776354028466e-05\n",
            "\n",
            " Loss: 2.4076831340789795\n",
            "34\n",
            "\n",
            " Current LR:2.721338768375306e-05\n",
            "\n",
            " Loss: 2.4591846466064453\n"
          ]
        },
        {
          "output_type": "stream",
          "name": "stderr",
          "text": [
            "Epoch=0 LR=2.9726637012002185e-05 Loss=2.6209093815571554 batch_id=36 Accuracy=10.52%:   9%|▉         | 37/391 [00:06<00:28, 12.43it/s]"
          ]
        },
        {
          "output_type": "stream",
          "name": "stdout",
          "text": [
            "35\n",
            "\n",
            " Current LR:2.8026594658690357e-05\n",
            "\n",
            " Loss: 2.422346353530884\n",
            "36\n",
            "\n",
            " Current LR:2.886410237823805e-05\n",
            "\n",
            " Loss: 2.4070608615875244\n",
            "37\n",
            "\n",
            " Current LR:2.9726637012002185e-05\n",
            "\n",
            " Loss: 2.4297525882720947\n"
          ]
        },
        {
          "output_type": "stream",
          "name": "stderr",
          "text": [
            "Epoch=0 LR=3.2471993502334466e-05 Loss=2.602703809738159 batch_id=39 Accuracy=10.55%:  10%|▉         | 39/391 [00:06<00:27, 12.73it/s]"
          ]
        },
        {
          "output_type": "stream",
          "name": "stdout",
          "text": [
            "38\n",
            "\n",
            " Current LR:3.0614946429429905e-05\n",
            "\n",
            " Loss: 2.33526873588562\n",
            "39\n",
            "\n",
            " Current LR:3.152980084825729e-05\n",
            "\n",
            " Loss: 2.448735237121582\n",
            "40\n",
            "\n",
            " Current LR:3.2471993502334466e-05\n",
            "\n",
            " Loss: 2.350501298904419\n"
          ]
        },
        {
          "output_type": "stream",
          "name": "stderr",
          "text": [
            "Epoch=0 LR=3.4441685679450885e-05 Loss=2.590479776972816 batch_id=41 Accuracy=10.64%:  10%|█         | 41/391 [00:06<00:26, 13.31it/s]"
          ]
        },
        {
          "output_type": "stream",
          "name": "stdout",
          "text": [
            "41\n",
            "\n",
            " Current LR:3.344234132940718e-05\n",
            "\n",
            " Loss: 2.3275554180145264\n",
            "42\n",
            "\n",
            " Current LR:3.4441685679450885e-05\n",
            "\n",
            " Loss: 2.364442825317383\n",
            "43\n",
            "\n",
            " Current LR:3.547089304417192e-05\n",
            "\n",
            " Loss: 2.3005576133728027\n"
          ]
        },
        {
          "output_type": "stream",
          "name": "stderr",
          "text": [
            "Epoch=0 LR=3.76224930233791e-05 Loss=2.5720722569359675 batch_id=44 Accuracy=10.85%:  12%|█▏        | 45/391 [00:06<00:27, 12.53it/s]"
          ]
        },
        {
          "output_type": "stream",
          "name": "stdout",
          "text": [
            "44\n",
            "\n",
            " Current LR:3.653085580830792e-05\n",
            "\n",
            " Loss: 2.2764031887054443\n",
            "45\n",
            "\n",
            " Current LR:3.76224930233791e-05\n",
            "\n",
            " Loss: 2.366140127182007\n",
            "46\n"
          ]
        },
        {
          "output_type": "stream",
          "name": "stderr",
          "text": [
            "Epoch=0 LR=3.990460515137147e-05 Loss=2.5642930954060654 batch_id=46 Accuracy=10.95%:  12%|█▏        | 47/391 [00:06<00:28, 12.00it/s]"
          ]
        },
        {
          "output_type": "stream",
          "name": "stdout",
          "text": [
            "\n",
            " Current LR:3.874675120456128e-05\n",
            "\n",
            " Loss: 2.421189785003662\n",
            "47\n",
            "\n",
            " Current LR:3.990460515137147e-05\n",
            "\n",
            " Loss: 2.3573341369628906\n",
            "48\n"
          ]
        },
        {
          "output_type": "stream",
          "name": "stderr",
          "text": [
            "Epoch=0 LR=4.3589931772819856e-05 Loss=2.5500696182250975 batch_id=49 Accuracy=11.05%:  13%|█▎        | 49/391 [00:07<00:29, 11.67it/s]"
          ]
        },
        {
          "output_type": "stream",
          "name": "stdout",
          "text": [
            "\n",
            " Current LR:4.109705879287776e-05\n",
            "\n",
            " Loss: 2.354302406311035\n",
            "49\n",
            "\n",
            " Current LR:4.232514605816627e-05\n",
            "\n",
            " Loss: 2.332702875137329\n",
            "50\n",
            "\n",
            " Current LR:4.3589931772819856e-05\n",
            "\n",
            " Loss: 2.2947001457214355\n",
            "51"
          ]
        },
        {
          "output_type": "stream",
          "name": "stderr",
          "text": [
            "Epoch=0 LR=4.7615610898828476e-05 Loss=2.53935736530232 batch_id=52 Accuracy=11.11%:  13%|█▎        | 51/391 [00:07<00:28, 11.79it/s] "
          ]
        },
        {
          "output_type": "stream",
          "name": "stdout",
          "text": [
            "\n",
            "\n",
            " Current LR:4.489251258218601e-05\n",
            "\n",
            " Loss: 2.3260085582733154\n",
            "52\n",
            "\n",
            " Current LR:4.6234017902234394e-05\n",
            "\n",
            " Loss: 2.4084489345550537\n",
            "53\n",
            "\n",
            " Current LR:4.7615610898828476e-05\n",
            "\n",
            " Loss: 2.3480019569396973\n"
          ]
        },
        {
          "output_type": "stream",
          "name": "stderr",
          "text": [
            "Epoch=0 LR=5.201307524602173e-05 Loss=2.5259935515267506 batch_id=55 Accuracy=11.16%:  14%|█▍        | 55/391 [00:07<00:29, 11.35it/s]"
          ]
        },
        {
          "output_type": "stream",
          "name": "stdout",
          "text": [
            "54\n",
            "\n",
            " Current LR:4.9038489496260325e-05\n",
            "\n",
            " Loss: 2.2992045879364014\n",
            "55\n",
            "\n",
            " Current LR:5.050388741592309e-05\n",
            "\n",
            " Loss: 2.2104947566986084\n",
            "56\n",
            "\n",
            " Current LR:5.201307524602173e-05\n",
            "\n",
            " Loss: 2.359999179840088\n"
          ]
        },
        {
          "output_type": "stream",
          "name": "stderr",
          "text": [
            "Epoch=0 LR=5.68166604497955e-05 Loss=2.5115445427975414 batch_id=58 Accuracy=11.37%:  15%|█▌        | 59/391 [00:07<00:26, 12.51it/s]"
          ]
        },
        {
          "output_type": "stream",
          "name": "stdout",
          "text": [
            "57\n",
            "\n",
            " Current LR:5.3567361543249464e-05\n",
            "\n",
            " Loss: 2.2775936126708984\n",
            "58\n",
            "\n",
            " Current LR:5.5168093967385154e-05\n",
            "\n",
            " Loss: 2.2381505966186523\n",
            "59\n",
            "\n",
            " Current LR:5.68166604497955e-05\n",
            "\n",
            " Loss: 2.209744930267334\n",
            "60\n"
          ]
        },
        {
          "output_type": "stream",
          "name": "stderr",
          "text": [
            "Epoch=0 LR=6.206387315878352e-05 Loss=2.4989570186984156 batch_id=61 Accuracy=11.58%:  16%|█▌        | 61/391 [00:08<00:24, 13.46it/s]"
          ]
        },
        {
          "output_type": "stream",
          "name": "stdout",
          "text": [
            "\n",
            " Current LR:5.851449039685506e-05\n",
            "\n",
            " Loss: 2.2547903060913086\n",
            "61\n",
            "\n",
            " Current LR:6.026305592932762e-05\n",
            "\n",
            " Loss: 2.251910448074341\n",
            "62\n",
            "\n",
            " Current LR:6.206387315878352e-05\n",
            "\n",
            " Loss: 2.2475063800811768\n",
            "63\n"
          ]
        },
        {
          "output_type": "stream",
          "name": "stderr",
          "text": [
            "Epoch=0 LR=6.77956838887639e-05 Loss=2.485645400560819 batch_id=64 Accuracy=11.91%:  17%|█▋        | 65/391 [00:08<00:25, 12.70it/s]"
          ]
        },
        {
          "output_type": "stream",
          "name": "stdout",
          "text": [
            "\n",
            " Current LR:6.391850350215964e-05\n",
            "\n",
            " Loss: 2.253159523010254\n",
            "64\n",
            "\n",
            " Current LR:6.582855503560186e-05\n",
            "\n",
            " Loss: 2.1517317295074463\n",
            "65\n",
            "\n",
            " Current LR:6.77956838887639e-05\n",
            "\n",
            " Loss: 2.226724624633789\n"
          ]
        },
        {
          "output_type": "stream",
          "name": "stderr",
          "text": [
            "Epoch=0 LR=7.190804699909636e-05 Loss=2.4796441846819066 batch_id=66 Accuracy=12.09%:  17%|█▋        | 67/391 [00:08<00:27, 11.82it/s]"
          ]
        },
        {
          "output_type": "stream",
          "name": "stdout",
          "text": [
            "66\n",
            "\n",
            " Current LR:6.982159568077139e-05\n",
            "\n",
            " Loss: 2.2728893756866455\n",
            "67\n",
            "\n",
            " Current LR:7.190804699909636e-05\n",
            "\n",
            " Loss: 2.2963199615478516\n",
            "68\n"
          ]
        },
        {
          "output_type": "stream",
          "name": "stderr",
          "text": [
            "Epoch=0 LR=7.626985859023433e-05 Loss=2.4737341334854346 batch_id=68 Accuracy=12.23%:  18%|█▊        | 69/391 [00:08<00:29, 10.95it/s]"
          ]
        },
        {
          "output_type": "stream",
          "name": "stdout",
          "text": [
            "\n",
            " Current LR:7.405684692262427e-05\n",
            "\n",
            " Loss: 2.269580841064453\n",
            "69\n",
            "\n",
            " Current LR:7.626985859023433e-05\n",
            "\n",
            " Loss: 2.281913995742798\n"
          ]
        },
        {
          "output_type": "stream",
          "name": "stderr",
          "text": [
            "Epoch=0 LR=8.08962497541818e-05 Loss=2.467639859293548 batch_id=70 Accuracy=12.35%:  18%|█▊        | 71/391 [00:09<00:31, 10.21it/s]"
          ]
        },
        {
          "output_type": "stream",
          "name": "stdout",
          "text": [
            "70\n",
            "\n",
            " Current LR:7.854900081625308e-05\n",
            "\n",
            " Loss: 2.21240496635437\n",
            "71\n",
            "\n",
            " Current LR:8.08962497541818e-05\n",
            "\n",
            " Loss: 2.3023698329925537\n",
            "72\n"
          ]
        },
        {
          "output_type": "stream",
          "name": "stderr",
          "text": [
            "Epoch=0 LR=8.83672948043338e-05 Loss=2.459257116188874 batch_id=73 Accuracy=12.49%:  19%|█▊        | 73/391 [00:09<00:31, 10.24it/s] "
          ]
        },
        {
          "output_type": "stream",
          "name": "stdout",
          "text": [
            "\n",
            " Current LR:8.331364061014075e-05\n",
            "\n",
            " Loss: 2.2965171337127686\n",
            "73\n",
            "\n",
            " Current LR:8.580326940751514e-05\n",
            "\n",
            " Loss: 2.2799031734466553\n",
            "74\n",
            "\n",
            " Current LR:8.83672948043338e-05\n",
            "\n",
            " Loss: 2.206176280975342\n"
          ]
        },
        {
          "output_type": "stream",
          "name": "stderr",
          "text": [
            "Epoch=0 LR=9.372749448768628e-05 Loss=2.452634532200663 batch_id=75 Accuracy=12.60%:  19%|█▉        | 75/391 [00:09<00:29, 10.84it/s]"
          ]
        },
        {
          "output_type": "stream",
          "name": "stdout",
          "text": [
            "75\n",
            "\n",
            " Current LR:9.100793996495551e-05\n",
            "\n",
            " Loss: 2.1572296619415283\n",
            "76\n",
            "\n",
            " Current LR:9.372749448768628e-05\n",
            "\n",
            " Loss: 2.2579681873321533\n",
            "77\n",
            "\n",
            " Current LR:9.652831638999902e-05\n",
            "\n",
            " Loss: 2.2039995193481445\n"
          ]
        },
        {
          "output_type": "stream",
          "name": "stderr",
          "text": [
            "Epoch=0 LR=0.00010544303620156518 Loss=2.4373311549425125 batch_id=79 Accuracy=12.94%:  20%|██        | 79/391 [00:09<00:26, 11.78it/s]"
          ]
        },
        {
          "output_type": "stream",
          "name": "stdout",
          "text": [
            "78\n",
            "\n",
            " Current LR:9.941283415307656e-05\n",
            "\n",
            " Loss: 2.1192941665649414\n",
            "79\n",
            "\n",
            " Current LR:0.00010238354882745101\n",
            "\n",
            " Loss: 2.12160587310791\n",
            "80\n",
            "\n",
            " Current LR:0.00010544303620156518\n",
            "\n",
            " Loss: 2.1413683891296387\n"
          ]
        },
        {
          "output_type": "stream",
          "name": "stderr",
          "text": [
            "Epoch=0 LR=0.00011183901935925751 Loss=2.431273405144854 batch_id=81 Accuracy=13.10%:  21%|██        | 81/391 [00:09<00:24, 12.88it/s]"
          ]
        },
        {
          "output_type": "stream",
          "name": "stdout",
          "text": [
            "81\n",
            "\n",
            " Current LR:0.00010859394903513612\n",
            "\n",
            " Loss: 2.161168098449707\n",
            "82\n",
            "\n",
            " Current LR:0.00011183901935925751\n",
            "\n",
            " Loss: 2.2167587280273438\n",
            "83\n",
            "\n",
            " Current LR:0.00011518106084523513\n"
          ]
        },
        {
          "output_type": "stream",
          "name": "stderr",
          "text": [
            "Epoch=0 LR=0.000122167734899679 Loss=2.4216685267055738 batch_id=84 Accuracy=13.42%:  22%|██▏       | 85/391 [00:10<00:24, 12.25it/s]"
          ]
        },
        {
          "output_type": "stream",
          "name": "stdout",
          "text": [
            "\n",
            " Loss: 2.1548855304718018\n",
            "84\n",
            "\n",
            " Current LR:0.00011862297124420921\n",
            "\n",
            " Loss: 2.159331798553467\n",
            "85\n",
            "\n",
            " Current LR:0.000122167734899679\n",
            "\n",
            " Loss: 2.1631882190704346\n"
          ]
        },
        {
          "output_type": "stream",
          "name": "stderr",
          "text": [
            "Epoch=0 LR=0.00012957820791885567 Loss=2.414995503151554 batch_id=86 Accuracy=13.65%:  22%|██▏       | 87/391 [00:10<00:27, 11.13it/s]"
          ]
        },
        {
          "output_type": "stream",
          "name": "stdout",
          "text": [
            "86\n",
            "\n",
            " Current LR:0.0001258184253351084\n",
            "\n",
            " Loss: 2.169299840927124\n",
            "87\n",
            "\n",
            " Current LR:0.00012957820791885567\n",
            "\n",
            " Loss: 2.0934841632843018\n",
            "88\n"
          ]
        },
        {
          "output_type": "stream",
          "name": "stderr",
          "text": [
            "Epoch=0 LR=0.0001415451981294209 Loss=2.4064788023630777 batch_id=89 Accuracy=13.98%:  23%|██▎       | 89/391 [00:10<00:26, 11.59it/s] "
          ]
        },
        {
          "output_type": "stream",
          "name": "stdout",
          "text": [
            "\n",
            " Current LR:0.00013345034260873844\n",
            "\n",
            " Loss: 2.187237024307251\n",
            "89\n",
            "\n",
            " Current LR:0.00013743818677861325\n",
            "\n",
            " Loss: 2.1226589679718018\n",
            "90\n",
            "\n",
            " Current LR:0.0001415451981294209\n",
            "\n",
            " Loss: 2.1685874462127686\n"
          ]
        },
        {
          "output_type": "stream",
          "name": "stderr",
          "text": [
            "Epoch=0 LR=0.00015013107289081707 Loss=2.40094474605892 batch_id=91 Accuracy=14.14%:  23%|██▎       | 91/391 [00:10<00:25, 11.63it/s] "
          ]
        },
        {
          "output_type": "stream",
          "name": "stdout",
          "text": [
            "91\n",
            "\n",
            " Current LR:0.00014577493768722124\n",
            "\n",
            " Loss: 2.139780282974243\n",
            "92\n",
            "\n",
            " Current LR:0.00015013107289081707\n",
            "\n",
            " Loss: 2.164044141769409\n",
            "93\n"
          ]
        },
        {
          "output_type": "stream",
          "name": "stderr",
          "text": [
            "Epoch=0 LR=0.00016399619040124858 Loss=2.3925277182930396 batch_id=94 Accuracy=14.42%:  24%|██▍       | 95/391 [00:11<00:25, 11.50it/s]"
          ]
        },
        {
          "output_type": "stream",
          "name": "stdout",
          "text": [
            "\n",
            " Current LR:0.00015461738077164443\n",
            "\n",
            " Loss: 2.0411458015441895\n",
            "94\n",
            "\n",
            " Current LR:0.0001592377512286862\n",
            "\n",
            " Loss: 2.1554934978485107\n",
            "95\n",
            "\n",
            " Current LR:0.00016399619040124858\n",
            "\n",
            " Loss: 2.2065773010253906\n",
            "96"
          ]
        },
        {
          "output_type": "stream",
          "name": "stderr",
          "text": [
            "Epoch=0 LR=0.00017914179888451083 Loss=2.3829371418271745 batch_id=97 Accuracy=14.75%:  25%|██▍       | 97/391 [00:11<00:24, 11.91it/s]"
          ]
        },
        {
          "output_type": "stream",
          "name": "stdout",
          "text": [
            "\n",
            "\n",
            " Current LR:0.00016889682414252517\n",
            "\n",
            " Loss: 2.099684476852417\n",
            "97\n",
            "\n",
            " Current LR:0.0001739439015969598\n",
            "\n",
            " Loss: 2.0560832023620605\n",
            "98\n",
            "\n",
            " Current LR:0.00017914179888451083\n",
            "\n",
            " Loss: 2.0819389820098877\n"
          ]
        },
        {
          "output_type": "stream",
          "name": "stderr",
          "text": [
            "Epoch=0 LR=0.00019568615605679448 Loss=2.3754966164579487 batch_id=100 Accuracy=14.95%:  26%|██▌       | 101/391 [00:11<00:24, 11.96it/s]"
          ]
        },
        {
          "output_type": "stream",
          "name": "stdout",
          "text": [
            "99\n",
            "\n",
            " Current LR:0.0001844950228950103\n",
            "\n",
            " Loss: 2.242231845855713\n",
            "100\n",
            "\n",
            " Current LR:0.00019000821519590897\n",
            "\n",
            " Loss: 2.0679397583007812\n",
            "101\n",
            "\n",
            " Current LR:0.00019568615605679448\n",
            "\n",
            " Loss: 2.087146759033203\n"
          ]
        },
        {
          "output_type": "stream",
          "name": "stderr",
          "text": [
            "Epoch=0 LR=0.00021375844113841305 Loss=2.3666469752788544 batch_id=103 Accuracy=15.18%:  26%|██▋       | 103/391 [00:11<00:22, 12.72it/s]"
          ]
        },
        {
          "output_type": "stream",
          "name": "stdout",
          "text": [
            "102\n",
            "\n",
            " Current LR:0.0002015337685941729\n",
            "\n",
            " Loss: 1.9951930046081543\n",
            "103\n",
            "\n",
            " Current LR:0.00020755612304010706\n",
            "\n",
            " Loss: 2.118849039077759\n",
            "104\n",
            "\n",
            " Current LR:0.00021375844113841305\n",
            "\n",
            " Loss: 2.092085123062134\n"
          ]
        },
        {
          "output_type": "stream",
          "name": "stderr",
          "text": [
            "Epoch=0 LR=0.00022672464012686328 Loss=2.3609091268395477 batch_id=105 Accuracy=15.27%:  27%|██▋       | 105/391 [00:11<00:22, 12.64it/s]"
          ]
        },
        {
          "output_type": "stream",
          "name": "stdout",
          "text": [
            "105\n",
            "\n",
            " Current LR:0.00022014610067222628\n",
            "\n",
            " Loss: 2.071892499923706\n",
            "106\n",
            "\n",
            " Current LR:0.00022672464012686328\n",
            "\n",
            " Loss: 2.053189516067505\n",
            "107\n"
          ]
        },
        {
          "output_type": "stream",
          "name": "stderr",
          "text": [
            "Epoch=0 LR=0.0002476634352566058 Loss=2.3526198590567353 batch_id=108 Accuracy=15.54%:  28%|██▊       | 109/391 [00:12<00:22, 12.46it/s]"
          ]
        },
        {
          "output_type": "stream",
          "name": "stdout",
          "text": [
            "\n",
            " Current LR:0.00023349976349202185\n",
            "\n",
            " Loss: 2.1095263957977295\n",
            "108\n",
            "\n",
            " Current LR:0.00024047734520748338\n",
            "\n",
            " Loss: 2.127708911895752\n",
            "109\n",
            "\n",
            " Current LR:0.0002476634352566058\n",
            "\n",
            " Loss: 1.9419618844985962\n",
            "110\n"
          ]
        },
        {
          "output_type": "stream",
          "name": "stderr",
          "text": [
            "Epoch=0 LR=0.0002705359996548319 Loss=2.3437163499849185 batch_id=111 Accuracy=15.77%:  28%|██▊       | 111/391 [00:12<00:22, 12.27it/s]"
          ]
        },
        {
          "output_type": "stream",
          "name": "stdout",
          "text": [
            "\n",
            " Current LR:0.00025506426441202347\n",
            "\n",
            " Loss: 2.0734050273895264\n",
            "111\n",
            "\n",
            " Current LR:0.0002626862496381018\n",
            "\n",
            " Loss: 1.9908108711242676\n",
            "112\n",
            "\n",
            " Current LR:0.0002705359996548319\n",
            "\n",
            " Loss: 1.996450662612915\n"
          ]
        },
        {
          "output_type": "stream",
          "name": "stderr",
          "text": [
            "Epoch=0 LR=0.0002869462222705202 Loss=2.3396661187473096 batch_id=113 Accuracy=15.93%:  29%|██▉       | 113/391 [00:12<00:26, 10.64it/s]"
          ]
        },
        {
          "output_type": "stream",
          "name": "stdout",
          "text": [
            "113\n",
            "\n",
            " Current LR:0.00027862032066798857\n",
            "\n",
            " Loss: 2.194211006164551\n",
            "114\n",
            "\n",
            " Current LR:0.0002869462222705202\n",
            "\n",
            " Loss: 2.0314953327178955\n"
          ]
        },
        {
          "output_type": "stream",
          "name": "stderr",
          "text": [
            "Epoch=0 LR=0.0003134466862607334 Loss=2.330427906452081 batch_id=116 Accuracy=16.29%:  29%|██▉       | 115/391 [00:13<00:27, 10.20it/s] "
          ]
        },
        {
          "output_type": "stream",
          "name": "stdout",
          "text": [
            "115\n",
            "\n",
            " Current LR:0.00029552092352028804\n",
            "\n",
            " Loss: 1.999168038368225\n",
            "116\n",
            "\n",
            " Current LR:0.0003043518591994238\n",
            "\n",
            " Loss: 1.9653593301773071\n",
            "117\n",
            "\n",
            " Current LR:0.0003134466862607334\n",
            "\n",
            " Loss: 1.973600149154663\n"
          ]
        },
        {
          "output_type": "stream",
          "name": "stderr",
          "text": [
            "Epoch=0 LR=0.00033245979322709334 Loss=2.324694720636897 batch_id=118 Accuracy=16.54%:  30%|███       | 119/391 [00:13<00:29,  9.31it/s]"
          ]
        },
        {
          "output_type": "stream",
          "name": "stdout",
          "text": [
            "118\n",
            "\n",
            " Current LR:0.0003228132904667356\n",
            "\n",
            " Loss: 1.984283447265625\n",
            "119\n",
            "\n",
            " Current LR:0.00033245979322709334\n",
            "\n",
            " Loss: 1.9943232536315918\n"
          ]
        },
        {
          "output_type": "stream",
          "name": "stderr",
          "text": [
            "Epoch=0 LR=0.000352626200746178 Loss=2.3198302255189125 batch_id=120 Accuracy=16.69%:  31%|███       | 121/391 [00:13<00:32,  8.30it/s]"
          ]
        },
        {
          "output_type": "stream",
          "name": "stdout",
          "text": [
            "120\n",
            "\n",
            " Current LR:0.00034239455864036426\n",
            "\n",
            " Loss: 2.08971905708313\n",
            "121\n",
            "\n",
            " Current LR:0.000352626200746178\n",
            "\n",
            " Loss: 1.9710664749145508\n"
          ]
        },
        {
          "output_type": "stream",
          "name": "stderr",
          "text": [
            "Epoch=0 LR=0.00037401586593584663 Loss=2.314900596936544 batch_id=122 Accuracy=16.81%:  31%|███▏      | 123/391 [00:13<00:33,  8.05it/s]"
          ]
        },
        {
          "output_type": "stream",
          "name": "stdout",
          "text": [
            "122\n",
            "\n",
            " Current LR:0.0003631635909941268\n",
            "\n",
            " Loss: 2.0318803787231445\n",
            "123\n",
            "\n",
            " Current LR:0.00037401586593584663\n",
            "\n",
            " Loss: 2.0014357566833496\n"
          ]
        },
        {
          "output_type": "stream",
          "name": "stderr",
          "text": [
            "Epoch=0 LR=0.00039670298938572956 Loss=2.30920529460907 batch_id=124 Accuracy=17.04%:  32%|███▏      | 124/391 [00:14<00:38,  6.93it/s] "
          ]
        },
        {
          "output_type": "stream",
          "name": "stdout",
          "text": [
            "124\n",
            "\n",
            " Current LR:0.0003851924351469569\n",
            "\n",
            " Loss: 1.999074935913086\n",
            "125\n",
            "\n",
            " Current LR:0.00039670298938572956\n",
            "\n",
            " Loss: 1.9188134670257568\n"
          ]
        },
        {
          "output_type": "stream",
          "name": "stderr",
          "text": [
            "Epoch=0 LR=0.00042076627255852256 Loss=2.304304095703786 batch_id=126 Accuracy=17.21%:  32%|███▏      | 126/391 [00:14<00:35,  7.44it/s]"
          ]
        },
        {
          "output_type": "stream",
          "name": "stdout",
          "text": [
            "126\n",
            "\n",
            " Current LR:0.0004085575089955594\n",
            "\n",
            " Loss: 2.000286340713501\n",
            "127\n",
            "\n",
            " Current LR:0.00042076627255852256\n",
            "\n",
            " Loss: 1.9956719875335693\n"
          ]
        },
        {
          "output_type": "stream",
          "name": "stderr",
          "text": [
            "Epoch=0 LR=0.00044628919080477605 Loss=2.298982029737428 batch_id=128 Accuracy=17.36%:  33%|███▎      | 128/391 [00:14<00:36,  7.18it/s]"
          ]
        },
        {
          "output_type": "stream",
          "name": "stdout",
          "text": [
            "128\n",
            "\n",
            " Current LR:0.00043333986580752624\n",
            "\n",
            " Loss: 1.9530258178710938\n",
            "129\n",
            "\n",
            " Current LR:0.00044628919080477605\n",
            "\n",
            " Loss: 1.9690358638763428\n"
          ]
        },
        {
          "output_type": "stream",
          "name": "stderr",
          "text": [
            "Epoch=0 LR=0.000473360282938266 Loss=2.2932380647149704 batch_id=130 Accuracy=17.53%:  33%|███▎      | 130/391 [00:15<00:37,  6.93it/s]"
          ]
        },
        {
          "output_type": "stream",
          "name": "stdout",
          "text": [
            "130\n",
            "\n",
            " Current LR:0.00045962547539452\n",
            "\n",
            " Loss: 1.9637809991836548\n",
            "131\n",
            "\n",
            " Current LR:0.000473360282938266\n",
            "\n",
            " Loss: 1.8817236423492432\n"
          ]
        },
        {
          "output_type": "stream",
          "name": "stderr",
          "text": [
            "Epoch=0 LR=0.0005020734583764812 Loss=2.287264697533801 batch_id=132 Accuracy=17.69%:  34%|███▍      | 133/391 [00:15<00:40,  6.39it/s]"
          ]
        },
        {
          "output_type": "stream",
          "name": "stdout",
          "text": [
            "132\n",
            "\n",
            " Current LR:0.00048750552234091136\n",
            "\n",
            " Loss: 1.8958613872528076\n",
            "133\n",
            "\n",
            " Current LR:0.0005020734583764812\n",
            "\n",
            " Loss: 1.896156907081604\n",
            "134"
          ]
        },
        {
          "output_type": "stream",
          "name": "stderr",
          "text": [
            "Epoch=0 LR=0.000532528322911695 Loss=2.28234224319458 batch_id=134 Accuracy=17.89%:  34%|███▍      | 134/391 [00:15<00:37,  6.83it/s]   "
          ]
        },
        {
          "output_type": "stream",
          "name": "stdout",
          "text": [
            "\n",
            "\n",
            " Current LR:0.0005170767223224251\n",
            "\n",
            " Loss: 1.9129687547683716\n",
            "135\n",
            "\n",
            " Current LR:0.000532528322911695\n",
            "\n",
            " Loss: 1.9970293045043945\n"
          ]
        },
        {
          "output_type": "stream",
          "name": "stderr",
          "text": [
            "Epoch=0 LR=0.0005648305242427184 Loss=2.2764289640162114 batch_id=136 Accuracy=18.08%:  35%|███▍      | 136/391 [00:15<00:38,  6.68it/s]"
          ]
        },
        {
          "output_type": "stream",
          "name": "stdout",
          "text": [
            "136\n",
            "\n",
            " Current LR:0.0005484416576121004\n",
            "\n",
            " Loss: 1.847862720489502\n",
            "137\n",
            "\n",
            " Current LR:0.0005648305242427184\n",
            "\n",
            " Loss: 1.9067025184631348\n"
          ]
        },
        {
          "output_type": "stream",
          "name": "stderr",
          "text": [
            "Epoch=0 LR=0.0005990921184659823 Loss=2.2703994589743854 batch_id=138 Accuracy=18.24%:  35%|███▌      | 138/391 [00:16<00:37,  6.71it/s]"
          ]
        },
        {
          "output_type": "stream",
          "name": "stdout",
          "text": [
            "138\n",
            "\n",
            " Current LR:0.0005817091329374342\n",
            "\n",
            " Loss: 1.8433181047439575\n",
            "139\n",
            "\n",
            " Current LR:0.0005990921184659823\n",
            "\n",
            " Loss: 1.8714386224746704\n",
            "140\n"
          ]
        },
        {
          "output_type": "stream",
          "name": "stderr",
          "text": [
            "Epoch=0 LR=0.0006354319587973039 Loss=2.2654094975045385 batch_id=140 Accuracy=18.42%:  36%|███▌      | 140/391 [00:16<00:33,  7.44it/s]"
          ]
        },
        {
          "output_type": "stream",
          "name": "stdout",
          "text": [
            "\n",
            " Current LR:0.0006169945529231726\n",
            "\n",
            " Loss: 1.8658465147018433\n",
            "141\n",
            "\n",
            " Current LR:0.0006354319587973039\n",
            "\n",
            " Loss: 1.9713678359985352\n"
          ]
        },
        {
          "output_type": "stream",
          "name": "stderr",
          "text": [
            "Epoch=0 LR=0.0006739761078728088 Loss=2.260795180614178 batch_id=142 Accuracy=18.53%:  36%|███▋      | 142/391 [00:16<00:34,  7.19it/s]"
          ]
        },
        {
          "output_type": "stream",
          "name": "stdout",
          "text": [
            "142\n",
            "\n",
            " Current LR:0.000654420322429096\n",
            "\n",
            " Loss: 1.9733219146728516\n",
            "143\n",
            "\n",
            " Current LR:0.0006739761078728088\n",
            "\n",
            " Loss: 1.8976497650146484\n"
          ]
        },
        {
          "output_type": "stream",
          "name": "stderr",
          "text": [
            "Epoch=0 LR=0.0007362201041018624 Loss=2.2531084401966774 batch_id=145 Accuracy=18.83%:  37%|███▋      | 146/391 [00:17<00:27,  8.88it/s]"
          ]
        },
        {
          "output_type": "stream",
          "name": "stdout",
          "text": [
            "144\n",
            "\n",
            " Current LR:0.0006941162711715693\n",
            "\n",
            " Loss: 1.9058115482330322\n",
            "145\n",
            "\n",
            " Current LR:0.0007148582750592801\n",
            "\n",
            " Loss: 1.8798153400421143\n",
            "146\n",
            "\n",
            " Current LR:0.0007362201041018624\n",
            "\n",
            " Loss: 1.8744945526123047\n",
            "147\n"
          ]
        },
        {
          "output_type": "stream",
          "name": "stderr",
          "text": [
            "Epoch=0 LR=0.0008042125460418337 Loss=2.2444577569129485 batch_id=148 Accuracy=19.12%:  38%|███▊      | 148/391 [00:17<00:25,  9.70it/s]"
          ]
        },
        {
          "output_type": "stream",
          "name": "stdout",
          "text": [
            "\n",
            " Current LR:0.0007582202802909568\n",
            "\n",
            " Loss: 1.831107258796692\n",
            "148\n",
            "\n",
            " Current LR:0.0007808778791036043\n",
            "\n",
            " Loss: 1.762826919555664\n",
            "149\n",
            "\n",
            " Current LR:0.0008042125460418337\n",
            "\n",
            " Loss: 1.8764393329620361\n"
          ]
        },
        {
          "output_type": "stream",
          "name": "stderr",
          "text": [
            "Epoch=0 LR=0.000878484322293926 Loss=2.236970596407589 batch_id=151 Accuracy=19.33%:  39%|███▉      | 152/391 [00:17<00:21, 11.00it/s]"
          ]
        },
        {
          "output_type": "stream",
          "name": "stdout",
          "text": [
            "150\n",
            "\n",
            " Current LR:0.0008282445136664947\n",
            "\n",
            " Loss: 1.8264530897140503\n",
            "151\n",
            "\n",
            " Current LR:0.0008529946191401051\n",
            "\n",
            " Loss: 1.8206422328948975\n",
            "152\n",
            "\n",
            " Current LR:0.000878484322293926\n",
            "\n",
            " Loss: 1.9482295513153076\n"
          ]
        },
        {
          "output_type": "stream",
          "name": "stderr",
          "text": [
            "Epoch=0 LR=0.0009317715865087752 Loss=2.23200793854602 batch_id=153 Accuracy=19.51%:  39%|███▉      | 154/391 [00:17<00:23,  9.89it/s]"
          ]
        },
        {
          "output_type": "stream",
          "name": "stdout",
          "text": [
            "153\n",
            "\n",
            " Current LR:0.000904735724234927\n",
            "\n",
            " Loss: 1.9526487588882446\n",
            "154\n",
            "\n",
            " Current LR:0.0009317715865087752\n",
            "\n",
            " Loss: 1.7570431232452393\n",
            "155\n"
          ]
        },
        {
          "output_type": "stream",
          "name": "stderr",
          "text": [
            "Epoch=0 LR=0.0010178238759586803 Loss=2.2249711987319265 batch_id=156 Accuracy=19.71%:  40%|███▉      | 156/391 [00:18<00:23, 10.01it/s]"
          ]
        },
        {
          "output_type": "stream",
          "name": "stdout",
          "text": [
            "\n",
            " Current LR:0.0009596153508354675\n",
            "\n",
            " Loss: 1.782891869544983\n",
            "156\n",
            "\n",
            " Current LR:0.0009882911594347105\n",
            "\n",
            " Loss: 1.8362573385238647\n",
            "157\n",
            "\n",
            " Current LR:0.0010178238759586803\n",
            "\n",
            " Loss: 1.9721064567565918\n"
          ]
        },
        {
          "output_type": "stream",
          "name": "stderr",
          "text": [
            "Epoch=0 LR=0.0011118233883404584 Loss=2.2171202711760998 batch_id=159 Accuracy=19.99%:  41%|████      | 160/391 [00:18<00:21, 10.64it/s]"
          ]
        },
        {
          "output_type": "stream",
          "name": "stdout",
          "text": [
            "158\n",
            "\n",
            " Current LR:0.0010482391070503047\n",
            "\n",
            " Loss: 1.7190841436386108\n",
            "159\n",
            "\n",
            " Current LR:0.0010795632245457635\n",
            "\n",
            " Loss: 1.89007568359375\n",
            "160\n",
            "\n",
            " Current LR:0.0011118233883404584\n",
            "\n",
            " Loss: 1.809605360031128\n"
          ]
        },
        {
          "output_type": "stream",
          "name": "stderr",
          "text": [
            "Epoch=0 LR=0.0011792645767045738 Loss=2.212253412346781 batch_id=161 Accuracy=20.13%:  41%|████▏     | 162/391 [00:18<00:22, 10.32it/s]"
          ]
        },
        {
          "output_type": "stream",
          "name": "stdout",
          "text": [
            "161\n",
            "\n",
            " Current LR:0.0011450475699382782\n",
            "\n",
            " Loss: 1.876194715499878\n",
            "162\n",
            "\n",
            " Current LR:0.0011792645767045738\n",
            "\n",
            " Loss: 1.7696146965026855\n"
          ]
        },
        {
          "output_type": "stream",
          "name": "stderr",
          "text": [
            "Epoch=0 LR=0.001288173689369007 Loss=2.203772286935286 batch_id=164 Accuracy=20.39%:  42%|████▏     | 164/391 [00:18<00:20, 10.87it/s] "
          ]
        },
        {
          "output_type": "stream",
          "name": "stdout",
          "text": [
            "163\n",
            "\n",
            " Current LR:0.001214504076843881\n",
            "\n",
            " Loss: 1.7902003526687622\n",
            "164\n",
            "\n",
            " Current LR:0.0012507966251240376\n",
            "\n",
            " Loss: 1.821941614151001\n",
            "165\n",
            "\n",
            " Current LR:0.001288173689369007\n",
            "\n",
            " Loss: 1.6252325773239136\n"
          ]
        },
        {
          "output_type": "stream",
          "name": "stderr",
          "text": [
            "Epoch=0 LR=0.0014071409306804482 Loss=2.197496697306633 batch_id=167 Accuracy=20.60%:  43%|████▎     | 168/391 [00:19<00:19, 11.58it/s]"
          ]
        },
        {
          "output_type": "stream",
          "name": "stdout",
          "text": [
            "166\n",
            "\n",
            " Current LR:0.0013266676777433759\n",
            "\n",
            " Loss: 1.7422221899032593\n",
            "167\n",
            "\n",
            " Current LR:0.0013663119668521836\n",
            "\n",
            " Loss: 1.8590927124023438\n",
            "168\n",
            "\n",
            " Current LR:0.0014071409306804482\n",
            "\n",
            " Loss: 1.9557029008865356\n"
          ]
        },
        {
          "output_type": "stream",
          "name": "stderr",
          "text": [
            "Epoch=0 LR=0.0014924955450518244 Loss=2.1911438310847564 batch_id=169 Accuracy=20.82%:  43%|████▎     | 170/391 [00:19<00:18, 11.79it/s]"
          ]
        },
        {
          "output_type": "stream",
          "name": "stdout",
          "text": [
            "169\n",
            "\n",
            " Current LR:0.0014491899703974794\n",
            "\n",
            " Loss: 1.7065842151641846\n",
            "170\n",
            "\n",
            " Current LR:0.0014924955450518244\n",
            "\n",
            " Loss: 1.6084219217300415\n"
          ]
        },
        {
          "output_type": "stream",
          "name": "stderr",
          "text": [
            "Epoch=0 LR=0.0015830276153806246 Loss=2.186032136512357 batch_id=171 Accuracy=20.99%:  44%|████▍     | 172/391 [00:19<00:19, 11.28it/s]"
          ]
        },
        {
          "output_type": "stream",
          "name": "stdout",
          "text": [
            "171\n",
            "\n",
            " Current LR:0.0015370952031834575\n",
            "\n",
            " Loss: 1.7415670156478882\n",
            "172\n",
            "\n",
            " Current LR:0.0015830276153806246\n",
            "\n",
            " Loss: 1.7615091800689697\n",
            "173\n"
          ]
        },
        {
          "output_type": "stream",
          "name": "stderr",
          "text": [
            "Epoch=0 LR=0.001679051196746219 Loss=2.182068266402716 batch_id=173 Accuracy=21.17%:  45%|████▍     | 174/391 [00:19<00:19, 10.94it/s]"
          ]
        },
        {
          "output_type": "stream",
          "name": "stdout",
          "text": [
            "\n",
            " Current LR:0.0016303326078095691\n",
            "\n",
            " Loss: 1.9182604551315308\n",
            "174\n",
            "\n",
            " Current LR:0.001679051196746219\n",
            "\n",
            " Loss: 1.7640904188156128\n",
            "175\n"
          ]
        },
        {
          "output_type": "stream",
          "name": "stderr",
          "text": [
            "Epoch=0 LR=0.0017808993942389666 Loss=2.1774362163110212 batch_id=175 Accuracy=21.29%:  45%|████▌     | 176/391 [00:19<00:21,  9.84it/s]"
          ]
        },
        {
          "output_type": "stream",
          "name": "stdout",
          "text": [
            "\n",
            " Current LR:0.0017292256241397631\n",
            "\n",
            " Loss: 1.7430075407028198\n",
            "176\n",
            "\n",
            " Current LR:0.0017808993942389666\n",
            "\n",
            " Loss: 1.8058881759643555\n"
          ]
        },
        {
          "output_type": "stream",
          "name": "stderr",
          "text": [
            "Epoch=0 LR=0.0019453715378127167 Loss=2.168789912202505 batch_id=178 Accuracy=21.65%:  46%|████▌     | 178/391 [00:20<00:22,  9.57it/s]"
          ]
        },
        {
          "output_type": "stream",
          "name": "stdout",
          "text": [
            "177\n",
            "\n",
            " Current LR:0.0018341173113129723\n",
            "\n",
            " Loss: 1.7022062540054321\n",
            "178\n",
            "\n",
            " Current LR:0.001888925518499298\n",
            "\n",
            " Loss: 1.6281603574752808\n",
            "179\n",
            "\n",
            " Current LR:0.0019453715378127167\n",
            "\n",
            " Loss: 1.654253602027893\n"
          ]
        },
        {
          "output_type": "stream",
          "name": "stderr",
          "text": [
            "Epoch=0 LR=0.002125033245771323 Loss=2.160972004408365 batch_id=181 Accuracy=21.98%:  47%|████▋     | 182/391 [00:20<00:18, 11.34it/s]"
          ]
        },
        {
          "output_type": "stream",
          "name": "stdout",
          "text": [
            "180\n",
            "\n",
            " Current LR:0.002003504311349702\n",
            "\n",
            " Loss: 1.6505235433578491\n",
            "181\n",
            "\n",
            " Current LR:0.0020633742437241717\n",
            "\n",
            " Loss: 1.8488647937774658\n",
            "182\n",
            "\n",
            " Current LR:0.002125033245771323\n",
            "\n",
            " Loss: 1.5841221809387207\n"
          ]
        },
        {
          "output_type": "stream",
          "name": "stderr",
          "text": [
            "Epoch=0 LR=0.0023212873262814966 Loss=2.153570657163053 batch_id=184 Accuracy=22.19%:  47%|████▋     | 184/391 [00:20<00:18, 11.33it/s] "
          ]
        },
        {
          "output_type": "stream",
          "name": "stdout",
          "text": [
            "183\n",
            "\n",
            " Current LR:0.0021885347795574527\n",
            "\n",
            " Loss: 1.7762279510498047\n",
            "184\n",
            "\n",
            " Current LR:0.0022539339047347824\n",
            "\n",
            " Loss: 1.6328237056732178\n",
            "185\n",
            "\n",
            " Current LR:0.0023212873262814966\n",
            "\n",
            " Loss: 1.7046151161193848\n"
          ]
        },
        {
          "output_type": "stream",
          "name": "stderr",
          "text": [
            "Epoch=0 LR=0.002535666141636895 Loss=2.1466132148783257 batch_id=187 Accuracy=22.43%:  48%|████▊     | 188/391 [00:20<00:16, 12.13it/s]"
          ]
        },
        {
          "output_type": "stream",
          "name": "stdout",
          "text": [
            "186\n",
            "\n",
            " Current LR:0.002390653443668368\n",
            "\n",
            " Loss: 1.6039671897888184\n",
            "187\n",
            "\n",
            " Current LR:0.0024620924014946166\n",
            "\n",
            " Loss: 1.8148949146270752\n",
            "188\n",
            "\n",
            " Current LR:0.002535666141636895\n",
            "\n",
            " Loss: 1.7338507175445557\n"
          ]
        },
        {
          "output_type": "stream",
          "name": "stderr",
          "text": [
            "Epoch=0 LR=0.0026894750466122577 Loss=2.141999045171236 batch_id=189 Accuracy=22.62%:  49%|████▊     | 190/391 [00:21<00:16, 11.89it/s]"
          ]
        },
        {
          "output_type": "stream",
          "name": "stdout",
          "text": [
            "189\n",
            "\n",
            " Current LR:0.002611438456956628\n",
            "\n",
            " Loss: 1.7109037637710571\n",
            "190\n",
            "\n",
            " Current LR:0.0026894750466122577\n",
            "\n",
            " Loss: 1.7056304216384888\n",
            "191\n"
          ]
        },
        {
          "output_type": "stream",
          "name": "stderr",
          "text": [
            "Epoch=0 LR=0.0029378572558686417 Loss=2.1353730068305614 batch_id=192 Accuracy=22.89%:  49%|████▉     | 192/391 [00:21<00:18, 10.92it/s]"
          ]
        },
        {
          "output_type": "stream",
          "name": "stdout",
          "text": [
            "\n",
            " Current LR:0.002769843573024375\n",
            "\n",
            " Loss: 1.80364191532135\n",
            "192\n",
            "\n",
            " Current LR:0.0028526137205431065\n",
            "\n",
            " Loss: 1.5487629175186157\n",
            "193\n",
            "\n",
            " Current LR:0.0029378572558686417\n",
            "\n",
            " Loss: 1.794766902923584\n"
          ]
        },
        {
          "output_type": "stream",
          "name": "stderr",
          "text": [
            "Epoch=0 LR=0.003209178410757852 Loss=2.1295637342394613 batch_id=195 Accuracy=23.15%:  50%|█████     | 196/391 [00:21<00:15, 12.25it/s]"
          ]
        },
        {
          "output_type": "stream",
          "name": "stdout",
          "text": [
            "194\n",
            "\n",
            " Current LR:0.0030256480902772828\n",
            "\n",
            " Loss: 1.5780131816864014\n",
            "195\n",
            "\n",
            " Current LR:0.0031160623437069706\n",
            "\n",
            " Loss: 1.8350415229797363\n",
            "196\n",
            "\n",
            " Current LR:0.003209178410757852\n",
            "\n",
            " Loss: 1.8544468879699707\n"
          ]
        },
        {
          "output_type": "stream",
          "name": "stderr",
          "text": [
            "Epoch=0 LR=0.003403841347303038 Loss=2.1264368759261236 batch_id=197 Accuracy=23.37%:  51%|█████     | 198/391 [00:21<00:16, 11.89it/s]"
          ]
        },
        {
          "output_type": "stream",
          "name": "stdout",
          "text": [
            "197\n",
            "\n",
            " Current LR:0.003305077028665115\n",
            "\n",
            " Loss: 1.9143551588058472\n",
            "198\n",
            "\n",
            " Current LR:0.003403841347303038\n",
            "\n",
            " Loss: 1.7256543636322021\n",
            "199\n"
          ]
        },
        {
          "output_type": "stream",
          "name": "stderr",
          "text": [
            "Epoch=0 LR=0.0036103121841934856 Loss=2.122409661412239 batch_id=199 Accuracy=23.54%:  51%|█████     | 200/391 [00:21<00:16, 11.51it/s]"
          ]
        },
        {
          "output_type": "stream",
          "name": "stdout",
          "text": [
            "\n",
            " Current LR:0.0035055570012809275\n",
            "\n",
            " Loss: 1.8897335529327393\n",
            "200\n",
            "\n",
            " Current LR:0.0036103121841934856\n",
            "\n",
            " Loss: 1.5576972961425781\n",
            "201\n"
          ]
        },
        {
          "output_type": "stream",
          "name": "stderr",
          "text": [
            "Epoch=0 LR=0.003943736849183322 Loss=2.116401162053564 batch_id=202 Accuracy=23.82%:  52%|█████▏    | 202/391 [00:22<00:17, 10.76it/s] "
          ]
        },
        {
          "output_type": "stream",
          "name": "stdout",
          "text": [
            "\n",
            " Current LR:0.0037181977250899637\n",
            "\n",
            " Loss: 1.7669241428375244\n",
            "202\n",
            "\n",
            " Current LR:0.0038293071672284127\n",
            "\n",
            " Loss: 1.7651731967926025\n",
            "203\n",
            "\n",
            " Current LR:0.003943736849183322\n",
            "\n",
            " Loss: 1.6154062747955322\n",
            "204\n"
          ]
        },
        {
          "output_type": "stream",
          "name": "stderr",
          "text": [
            "Epoch=0 LR=0.0041829567671068605 Loss=2.1130803916512466 batch_id=204 Accuracy=23.96%:  52%|█████▏    | 204/391 [00:22<00:17, 10.91it/s]"
          ]
        },
        {
          "output_type": "stream",
          "name": "stdout",
          "text": [
            "\n",
            " Current LR:0.004061585988376962\n",
            "\n",
            " Loss: 1.9237629175186157\n",
            "205\n",
            "\n",
            " Current LR:0.0041829567671068605\n",
            "\n",
            " Loss: 1.6282814741134644\n"
          ]
        },
        {
          "output_type": "stream",
          "name": "stderr",
          "text": [
            "Epoch=0 LR=0.004569267115792438 Loss=2.1082675548700185 batch_id=207 Accuracy=24.18%:  53%|█████▎    | 208/391 [00:22<00:16, 11.29it/s]"
          ]
        },
        {
          "output_type": "stream",
          "name": "stdout",
          "text": [
            "206\n",
            "\n",
            " Current LR:0.004307954421144006\n",
            "\n",
            " Loss: 1.876823902130127\n",
            "207\n",
            "\n",
            " Current LR:0.004436687330978593\n",
            "\n",
            " Loss: 1.6494140625\n",
            "208\n",
            "\n",
            " Current LR:0.004569267115792438\n",
            "\n",
            " Loss: 1.811933159828186\n"
          ]
        },
        {
          "output_type": "stream",
          "name": "stderr",
          "text": [
            "Epoch=0 LR=0.004991254545024271 Loss=2.1039557191432934 batch_id=210 Accuracy=24.41%:  54%|█████▎    | 210/391 [00:22<00:16, 10.90it/s]"
          ]
        },
        {
          "output_type": "stream",
          "name": "stdout",
          "text": [
            "209\n",
            "\n",
            " Current LR:0.004705808730239522\n",
            "\n",
            " Loss: 1.650296926498413\n",
            "210\n",
            "\n",
            " Current LR:0.004846430564118598\n",
            "\n",
            " Loss: 1.7843347787857056\n",
            "211\n",
            "\n",
            " Current LR:0.004991254545024271\n",
            "\n",
            " Loss: 1.9803736209869385\n",
            "212\n"
          ]
        },
        {
          "output_type": "stream",
          "name": "stderr",
          "text": [
            "Epoch=0 LR=0.0052940149847436335 Loss=2.1018593686287392 batch_id=212 Accuracy=24.56%:  54%|█████▍    | 212/391 [00:23<00:15, 11.59it/s]"
          ]
        },
        {
          "output_type": "stream",
          "name": "stdout",
          "text": [
            "\n",
            " Current LR:0.005140406244065566\n",
            "\n",
            " Loss: 1.6916754245758057\n",
            "213\n",
            "\n",
            " Current LR:0.0052940149847436335\n",
            "\n",
            " Loss: 2.0697133541107178\n",
            "214\n"
          ]
        },
        {
          "output_type": "stream",
          "name": "stderr",
          "text": [
            "Epoch=0 LR=0.005782935355803912 Loss=2.0974511564881713 batch_id=215 Accuracy=24.74%:  55%|█████▌    | 216/391 [00:23<00:15, 11.21it/s]"
          ]
        },
        {
          "output_type": "stream",
          "name": "stdout",
          "text": [
            "\n",
            " Current LR:0.005452213955083014\n",
            "\n",
            " Loss: 2.1122350692749023\n",
            "215\n",
            "\n",
            " Current LR:0.005615140323113665\n",
            "\n",
            " Loss: 1.597585678100586\n",
            "216\n",
            "\n",
            " Current LR:0.005782935355803912\n",
            "\n",
            " Loss: 1.6435835361480713\n"
          ]
        },
        {
          "output_type": "stream",
          "name": "stderr",
          "text": [
            "Epoch=0 LR=0.006317009193548095 Loss=2.0946640130047385 batch_id=218 Accuracy=24.85%:  56%|█████▌    | 218/391 [00:23<00:16, 10.62it/s]"
          ]
        },
        {
          "output_type": "stream",
          "name": "stdout",
          "text": [
            "217\n",
            "\n",
            " Current LR:0.0059557445415474\n",
            "\n",
            " Loss: 1.8079869747161865\n",
            "218\n",
            "\n",
            " Current LR:0.006133717716310297\n",
            "\n",
            " Loss: 1.8383773565292358\n",
            "219\n",
            "\n",
            " Current LR:0.006317009193548095\n",
            "\n",
            " Loss: 2.03560471534729\n",
            "220\n"
          ]
        },
        {
          "output_type": "stream",
          "name": "stderr",
          "text": [
            "Epoch=0 LR=0.006900406574893113 Loss=2.0918792534518884 batch_id=221 Accuracy=25.05%:  57%|█████▋    | 222/391 [00:23<00:13, 12.27it/s]"
          ]
        },
        {
          "output_type": "stream",
          "name": "stdout",
          "text": [
            "\n",
            " Current LR:0.006505777898004661\n",
            "\n",
            " Loss: 1.846536636352539\n",
            "221\n",
            "\n",
            " Current LR:0.006700187503509559\n",
            "\n",
            " Loss: 1.9801993370056152\n",
            "222\n",
            "\n",
            " Current LR:0.006900406574893113\n",
            "\n",
            " Loss: 1.8390394449234009\n"
          ]
        },
        {
          "output_type": "stream",
          "name": "stderr",
          "text": [
            "Epoch=0 LR=0.0075376826976064105 Loss=2.0869020069970023 batch_id=224 Accuracy=25.30%:  57%|█████▋    | 224/391 [00:24<00:16, 10.40it/s]"
          ]
        },
        {
          "output_type": "stream",
          "name": "stdout",
          "text": [
            "223\n",
            "\n",
            " Current LR:0.00710660871414226\n",
            "\n",
            " Loss: 1.5909368991851807\n",
            "224\n",
            "\n",
            " Current LR:0.00731897271092392\n",
            "\n",
            " Loss: 1.8259382247924805\n",
            "225\n",
            "\n",
            " Current LR:0.0075376826976064105\n",
            "\n",
            " Loss: 1.7388821840286255\n",
            "226\n"
          ]
        },
        {
          "output_type": "stream",
          "name": "stderr",
          "text": [
            "Epoch=0 LR=0.008233813447532276 Loss=2.083058610297086 batch_id=227 Accuracy=25.51%:  58%|█████▊    | 228/391 [00:24<00:13, 11.70it/s]"
          ]
        },
        {
          "output_type": "stream",
          "name": "stdout",
          "text": [
            "\n",
            " Current LR:0.0077629283089132774\n",
            "\n",
            " Loss: 1.7555495500564575\n",
            "227\n",
            "\n",
            " Current LR:0.007994904846348025\n",
            "\n",
            " Loss: 1.8300461769104004\n",
            "228\n",
            "\n",
            " Current LR:0.008233813447532276\n",
            "\n",
            " Loss: 1.7988158464431763\n"
          ]
        },
        {
          "output_type": "stream",
          "name": "stderr",
          "text": [
            "Epoch=0 LR=0.008733261623828393 Loss=2.080835809914962 batch_id=229 Accuracy=25.64%:  59%|█████▉    | 230/391 [00:24<00:14, 11.21it/s]"
          ]
        },
        {
          "output_type": "stream",
          "name": "stdout",
          "text": [
            "229\n",
            "\n",
            " Current LR:0.008479861260604196\n",
            "\n",
            " Loss: 1.6385059356689453\n",
            "230\n",
            "\n",
            " Current LR:0.008733261623828393\n",
            "\n",
            " Loss: 2.016367197036743\n",
            "231\n"
          ]
        },
        {
          "output_type": "stream",
          "name": "stderr",
          "text": [
            "Epoch=0 LR=0.009824882512783462 Loss=2.086407219242846 batch_id=233 Accuracy=25.75%:  60%|█████▉    | 234/391 [00:24<00:13, 12.04it/s]"
          ]
        },
        {
          "output_type": "stream",
          "name": "stdout",
          "text": [
            "\n",
            " Current LR:0.00899423425057304\n",
            "\n",
            " Loss: 2.2912180423736572\n",
            "232\n",
            "\n",
            " Current LR:0.00926300541981459\n",
            "\n",
            " Loss: 2.0371947288513184\n",
            "233\n",
            "\n",
            " Current LR:0.00953980817233527\n",
            "\n",
            " Loss: 2.7353293895721436\n",
            "234\n",
            "\n",
            " Current LR:0.009824882512783462\n",
            "\n",
            " Loss: 2.5633108615875244\n"
          ]
        },
        {
          "output_type": "stream",
          "name": "stderr",
          "text": [
            "Epoch=0 LR=0.01073224397995285 Loss=2.0986404137269354 batch_id=236 Accuracy=25.79%:  60%|██████    | 236/391 [00:25<00:13, 11.17it/s]"
          ]
        },
        {
          "output_type": "stream",
          "name": "stdout",
          "text": [
            "235\n",
            "\n",
            " Current LR:0.010118475617772186\n",
            "\n",
            " Loss: 3.4590697288513184\n",
            "236\n",
            "\n",
            " Current LR:0.0104208420501961\n",
            "\n",
            " Loss: 3.1233768463134766\n",
            "237\n",
            "\n",
            " Current LR:0.01073224397995285\n",
            "\n",
            " Loss: 2.5760421752929688\n"
          ]
        },
        {
          "output_type": "stream",
          "name": "stderr",
          "text": [
            "Epoch=0 LR=0.011723403378652983 Loss=2.1138871550559997 batch_id=239 Accuracy=25.78%:  61%|██████▏   | 240/391 [00:25<00:12, 12.25it/s]"
          ]
        },
        {
          "output_type": "stream",
          "name": "stdout",
          "text": [
            "238\n",
            "\n",
            " Current LR:0.011052951411260163\n",
            "\n",
            " Loss: 3.783616304397583\n",
            "239\n",
            "\n",
            " Current LR:0.011383242416765737\n",
            "\n",
            " Loss: 3.4143054485321045\n",
            "240\n",
            "\n",
            " Current LR:0.011723403378652983\n",
            "\n",
            " Loss: 2.7572174072265625\n"
          ]
        },
        {
          "output_type": "stream",
          "name": "stderr",
          "text": [
            "Epoch=0 LR=0.012806099734159785 Loss=2.138922831649152 batch_id=242 Accuracy=25.75%:  62%|██████▏   | 242/391 [00:25<00:12, 11.65it/s] "
          ]
        },
        {
          "output_type": "stream",
          "name": "stdout",
          "text": [
            "241\n",
            "\n",
            " Current LR:0.01207372923695161\n",
            "\n",
            " Loss: 3.9879701137542725\n",
            "242\n",
            "\n",
            " Current LR:0.012434523745268381\n",
            "\n",
            " Loss: 4.896751880645752\n",
            "243\n",
            "\n",
            " Current LR:0.012806099734159785\n",
            "\n",
            " Loss: 3.5406088829040527\n"
          ]
        },
        {
          "output_type": "stream",
          "name": "stderr",
          "text": [
            "Epoch=0 LR=0.01398878679717412 Loss=2.159505411861389 batch_id=245 Accuracy=25.77%:  63%|██████▎   | 246/391 [00:25<00:11, 12.26it/s]"
          ]
        },
        {
          "output_type": "stream",
          "name": "stdout",
          "text": [
            "244\n",
            "\n",
            " Current LR:0.013188779382374945\n",
            "\n",
            " Loss: 3.014012575149536\n",
            "245\n",
            "\n",
            " Current LR:0.013582894496203998\n",
            "\n",
            " Loss: 4.1022515296936035\n",
            "246\n",
            "\n",
            " Current LR:0.01398878679717412\n",
            "\n",
            " Loss: 4.363819122314453\n"
          ]
        },
        {
          "output_type": "stream",
          "name": "stderr",
          "text": [
            "Epoch=0 LR=0.014837321209444261 Loss=2.1687701411785616 batch_id=247 Accuracy=25.81%:  63%|██████▎   | 248/391 [00:26<00:12, 11.70it/s]"
          ]
        },
        {
          "output_type": "stream",
          "name": "stdout",
          "text": [
            "247\n",
            "\n",
            " Current LR:0.014406808218342655\n",
            "\n",
            " Loss: 3.268242835998535\n",
            "248\n",
            "\n",
            " Current LR:0.014837321209444261\n",
            "\n",
            " Loss: 3.3484208583831787\n"
          ]
        },
        {
          "output_type": "stream",
          "name": "stderr",
          "text": [
            "Epoch=0 LR=0.01620759851545255 Loss=2.180339245207281 batch_id=250 Accuracy=25.83%:  64%|██████▍   | 250/391 [00:26<00:12, 11.51it/s]"
          ]
        },
        {
          "output_type": "stream",
          "name": "stdout",
          "text": [
            "249\n",
            "\n",
            " Current LR:0.015280699051156659\n",
            "\n",
            " Loss: 3.695322275161743\n",
            "250\n",
            "\n",
            " Current LR:0.01573732617875743\n",
            "\n",
            " Loss: 3.441802501678467\n",
            "251\n",
            "\n",
            " Current LR:0.01620759851545255\n",
            "\n",
            " Loss: 2.2730307579040527\n"
          ]
        },
        {
          "output_type": "stream",
          "name": "stderr",
          "text": [
            "Epoch=0 LR=0.01770442561227929 Loss=2.1896375398936234 batch_id=253 Accuracy=25.81%:  65%|██████▍   | 254/391 [00:26<00:11, 12.04it/s]"
          ]
        },
        {
          "output_type": "stream",
          "name": "stdout",
          "text": [
            "252\n",
            "\n",
            " Current LR:0.016691923815665657\n",
            "\n",
            " Loss: 3.170745849609375\n",
            "253\n",
            "\n",
            " Current LR:0.017190722018585656\n",
            "\n",
            " Loss: 3.2593486309051514\n",
            "254\n",
            "\n",
            " Current LR:0.01770442561227929\n",
            "\n",
            " Loss: 2.4726901054382324\n"
          ]
        },
        {
          "output_type": "stream",
          "name": "stderr",
          "text": [
            "Epoch=0 LR=0.018778343929808487 Loss=2.1949978871271014 batch_id=255 Accuracy=25.77%:  65%|██████▌   | 256/391 [00:26<00:11, 11.32it/s]"
          ]
        },
        {
          "output_type": "stream",
          "name": "stdout",
          "text": [
            "255\n",
            "\n",
            " Current LR:0.018233480008684317\n",
            "\n",
            " Loss: 2.627046585083008\n",
            "256\n",
            "\n",
            " Current LR:0.018778343929808487\n",
            "\n",
            " Loss: 3.1244773864746094\n"
          ]
        },
        {
          "output_type": "stream",
          "name": "stderr",
          "text": [
            "Epoch=0 LR=0.019917404182918177 Loss=2.2052599644476127 batch_id=257 Accuracy=25.75%:  66%|██████▌   | 258/391 [00:27<00:12, 10.61it/s]"
          ]
        },
        {
          "output_type": "stream",
          "name": "stdout",
          "text": [
            "257\n",
            "\n",
            " Current LR:0.01933948980546911\n",
            "\n",
            " Loss: 3.0629100799560547\n",
            "258\n",
            "\n",
            " Current LR:0.019917404182918177\n",
            "\n",
            " Loss: 3.9747016429901123\n"
          ]
        },
        {
          "output_type": "stream",
          "name": "stderr",
          "text": [
            "Epoch=0 LR=0.021125557763163855 Loss=2.211841740975013 batch_id=259 Accuracy=25.73%:  66%|██████▋   | 260/391 [00:27<00:14,  9.17it/s]"
          ]
        },
        {
          "output_type": "stream",
          "name": "stdout",
          "text": [
            "259\n",
            "\n",
            " Current LR:0.020512588148708086\n",
            "\n",
            " Loss: 2.6889166831970215\n",
            "260\n",
            "\n",
            " Current LR:0.021125557763163855\n",
            "\n",
            " Loss: 3.4328651428222656\n"
          ]
        },
        {
          "output_type": "stream",
          "name": "stderr",
          "text": [
            "Epoch=0 LR=0.022406995746339517 Loss=2.222991855999896 batch_id=261 Accuracy=25.75%:  67%|██████▋   | 261/391 [00:27<00:16,  8.02it/s] "
          ]
        },
        {
          "output_type": "stream",
          "name": "stdout",
          "text": [
            "261\n",
            "\n",
            " Current LR:0.021756844507838498\n",
            "\n",
            " Loss: 3.648609161376953\n",
            "262\n",
            "\n",
            " Current LR:0.022406995746339517\n",
            "\n",
            " Loss: 3.696404457092285\n",
            "263\n"
          ]
        },
        {
          "output_type": "stream",
          "name": "stderr",
          "text": [
            "Epoch=0 LR=0.02447635835793343 Loss=2.2333779865840695 batch_id=264 Accuracy=25.77%:  68%|██████▊   | 265/391 [00:27<00:13,  9.66it/s]"
          ]
        },
        {
          "output_type": "stream",
          "name": "stdout",
          "text": [
            "\n",
            " Current LR:0.02307657519892609\n",
            "\n",
            " Loss: 3.72829008102417\n",
            "264\n",
            "\n",
            " Current LR:0.023766163431288484\n",
            "\n",
            " Loss: 2.5635828971862793\n",
            "265\n",
            "\n",
            " Current LR:0.02447635835793343\n",
            "\n",
            " Loss: 3.129427194595337\n",
            "266\n"
          ]
        },
        {
          "output_type": "stream",
          "name": "stderr",
          "text": [
            "Epoch=0 LR=0.026736833676770228 Loss=2.253792788555373 batch_id=267 Accuracy=25.75%:  68%|██████▊   | 267/391 [00:28<00:12, 10.17it/s]"
          ]
        },
        {
          "output_type": "stream",
          "name": "stdout",
          "text": [
            "\n",
            " Current LR:0.02520777576061202\n",
            "\n",
            " Loss: 4.040737152099609\n",
            "267\n",
            "\n",
            " Current LR:0.02596104982223954\n",
            "\n",
            " Loss: 4.7511796951293945\n",
            "268\n",
            "\n",
            " Current LR:0.026736833676770228\n",
            "\n",
            " Loss: 3.3793840408325195\n"
          ]
        },
        {
          "output_type": "stream",
          "name": "stderr",
          "text": [
            "Epoch=0 LR=0.029206071614308188 Loss=2.2631155635158073 batch_id=270 Accuracy=25.67%:  69%|██████▉   | 271/391 [00:28<00:10, 11.03it/s]"
          ]
        },
        {
          "output_type": "stream",
          "name": "stdout",
          "text": [
            "269\n",
            "\n",
            " Current LR:0.027535799975503723\n",
            "\n",
            " Loss: 3.515852212905884\n",
            "270\n",
            "\n",
            " Current LR:0.028358641470314253\n",
            "\n",
            " Loss: 3.066004514694214\n",
            "271\n",
            "\n",
            " Current LR:0.029206071614308188\n",
            "\n",
            " Loss: 2.70599365234375\n"
          ]
        },
        {
          "output_type": "stream",
          "name": "stderr",
          "text": [
            "Epoch=0 LR=0.03190335211163041 Loss=2.2756526592004036 batch_id=273 Accuracy=25.67%:  70%|██████▉   | 273/391 [00:28<00:09, 12.16it/s]"
          ]
        },
        {
          "output_type": "stream",
          "name": "stdout",
          "text": [
            "272\n",
            "\n",
            " Current LR:0.030078825180430833\n",
            "\n",
            " Loss: 3.2258846759796143\n",
            "273\n",
            "\n",
            " Current LR:0.03097765889855881\n",
            "\n",
            " Loss: 3.676652431488037\n",
            "274\n",
            "\n",
            " Current LR:0.03190335211163041\n",
            "\n",
            " Loss: 3.3219738006591797\n"
          ]
        },
        {
          "output_type": "stream",
          "name": "stderr",
          "text": [
            "Epoch=0 LR=0.033838551534282155 Loss=2.2850962911826977 batch_id=275 Accuracy=25.66%:  70%|███████   | 275/391 [00:28<00:09, 11.86it/s]"
          ]
        },
        {
          "output_type": "stream",
          "name": "stdout",
          "text": [
            "275\n",
            "\n",
            " Current LR:0.03285670745138282\n",
            "\n",
            " Loss: 4.182495594024658\n",
            "276\n",
            "\n",
            " Current LR:0.033838551534282155\n",
            "\n",
            " Loss: 2.975252151489258\n",
            "277\n",
            "\n",
            " Current LR:0.03484973567824972\n",
            "\n",
            " Loss: 4.13737678527832\n"
          ]
        },
        {
          "output_type": "stream",
          "name": "stderr",
          "text": [
            "Epoch=0 LR=0.03696365737927151 Loss=2.301620473143875 batch_id=278 Accuracy=25.65%:  71%|███████▏  | 279/391 [00:29<00:09, 11.56it/s]"
          ]
        },
        {
          "output_type": "stream",
          "name": "stdout",
          "text": [
            "278\n",
            "\n",
            " Current LR:0.035891136640805864\n",
            "\n",
            " Loss: 3.608562469482422\n",
            "279\n",
            "\n",
            " Current LR:0.03696365737927151\n",
            "\n",
            " Loss: 3.7195963859558105\n",
            "280\n"
          ]
        },
        {
          "output_type": "stream",
          "name": "stderr",
          "text": [
            "Epoch=0 LR=0.039205805733123836 Loss=2.3173296112182724 batch_id=280 Accuracy=25.63%:  72%|███████▏  | 281/391 [00:29<00:09, 11.25it/s]"
          ]
        },
        {
          "output_type": "stream",
          "name": "stdout",
          "text": [
            "\n",
            " Current LR:0.03806822783368656\n",
            "\n",
            " Loss: 5.316646099090576\n",
            "281\n",
            "\n",
            " Current LR:0.039205805733123836\n",
            "\n",
            " Loss: 3.7008626461029053\n",
            "282\n",
            "\n",
            " Current LR:0.04037737742609785\n",
            "\n",
            " Loss: 2.8783557415008545\n"
          ]
        },
        {
          "output_type": "stream",
          "name": "stderr",
          "text": [
            "Epoch=0 LR=0.04282659584082019 Loss=2.3249600303005167 batch_id=283 Accuracy=25.61%:  72%|███████▏  | 283/391 [00:29<00:09, 11.12it/s] "
          ]
        },
        {
          "output_type": "stream",
          "name": "stdout",
          "text": [
            "283\n",
            "\n",
            " Current LR:0.041583958735788365\n",
            "\n",
            " Loss: 3.117354393005371\n",
            "284\n",
            "\n",
            " Current LR:0.04282659584082019\n",
            "\n",
            " Loss: 3.1233177185058594\n",
            "285\n"
          ]
        },
        {
          "output_type": "stream",
          "name": "stderr",
          "text": [
            "Epoch=0 LR=0.045424379398338016 Loss=2.3331721846040314 batch_id=285 Accuracy=25.54%:  73%|███████▎  | 285/391 [00:29<00:09, 10.98it/s]"
          ]
        },
        {
          "output_type": "stream",
          "name": "stdout",
          "text": [
            "\n",
            " Current LR:0.04410636618236308\n",
            "\n",
            " Loss: 3.05486798286438\n",
            "286\n",
            "\n",
            " Current LR:0.045424379398338016\n",
            "\n",
            " Loss: 3.94372820854187\n",
            "287\n"
          ]
        },
        {
          "output_type": "stream",
          "name": "stderr",
          "text": [
            "Epoch=0 LR=0.04961947603002874 Loss=2.342241288056423 batch_id=288 Accuracy=25.45%:  74%|███████▍  | 289/391 [00:30<00:09, 10.86it/s]"
          ]
        },
        {
          "output_type": "stream",
          "name": "stdout",
          "text": [
            "\n",
            " Current LR:0.04678177828554014\n",
            "\n",
            " Loss: 3.143728256225586\n",
            "288\n",
            "\n",
            " Current LR:0.04817973979051234\n",
            "\n",
            " Loss: 3.736766815185547\n",
            "289\n",
            "\n",
            " Current LR:0.04961947603002874\n",
            "\n",
            " Loss: 2.739992380142212\n",
            "290"
          ]
        },
        {
          "output_type": "stream",
          "name": "stderr",
          "text": [
            "Epoch=0 LR=0.052629303368222094 Loss=2.3554689015719488 batch_id=290 Accuracy=25.39%:  74%|███████▍  | 291/391 [00:30<00:09, 11.03it/s]"
          ]
        },
        {
          "output_type": "stream",
          "name": "stdout",
          "text": [
            "\n",
            "\n",
            " Current LR:0.05110223534207293\n",
            "\n",
            " Loss: 4.443780422210693\n",
            "291\n",
            "\n",
            " Current LR:0.052629303368222094\n",
            "\n",
            " Loss: 4.089937686920166\n",
            "292\n"
          ]
        },
        {
          "output_type": "stream",
          "name": "stderr",
          "text": [
            "Epoch=0 LR=0.0574897993444497 Loss=2.3622748267893887 batch_id=293 Accuracy=25.35%:  75%|███████▍  | 293/391 [00:30<00:08, 10.91it/s] "
          ]
        },
        {
          "output_type": "stream",
          "name": "stdout",
          "text": [
            "\n",
            " Current LR:0.05420200416837571\n",
            "\n",
            " Loss: 3.120366334915161\n",
            "293\n",
            "\n",
            " Current LR:0.05582170136879514\n",
            "\n",
            " Loss: 3.2444827556610107\n",
            "294\n",
            "\n",
            " Current LR:0.0574897993444497\n",
            "\n",
            " Loss: 2.7024996280670166\n"
          ]
        },
        {
          "output_type": "stream",
          "name": "stderr",
          "text": [
            "Epoch=0 LR=0.06279917873016566 Loss=2.3854366296068186 batch_id=296 Accuracy=25.24%:  76%|███████▌  | 297/391 [00:30<00:08, 11.72it/s]"
          ]
        },
        {
          "output_type": "stream",
          "name": "stdout",
          "text": [
            "295\n",
            "\n",
            " Current LR:0.05920774443669425\n",
            "\n",
            " Loss: 4.671102046966553\n",
            "296\n",
            "\n",
            " Current LR:0.0609770262073343\n",
            "\n",
            " Loss: 5.280534267425537\n",
            "297\n",
            "\n",
            " Current LR:0.06279917873016566\n",
            "\n",
            " Loss: 4.0142436027526855\n",
            "298\n"
          ]
        },
        {
          "output_type": "stream",
          "name": "stderr",
          "text": [
            "Epoch=0 LR=0.06660846290809118 Loss=2.4094460289613857 batch_id=298 Accuracy=25.22%:  76%|███████▋  | 299/391 [00:30<00:08, 11.26it/s]"
          ]
        },
        {
          "output_type": "stream",
          "name": "stdout",
          "text": [
            "\n",
            " Current LR:0.06467578192110883\n",
            "\n",
            " Loss: 6.878107070922852\n",
            "299\n",
            "\n",
            " Current LR:0.06660846290809118\n",
            "\n",
            " Loss: 5.0715765953063965\n",
            "300\n"
          ]
        },
        {
          "output_type": "stream",
          "name": "stderr",
          "text": [
            "Epoch=0 LR=0.07275998202819729 Loss=2.438947162880803 batch_id=301 Accuracy=25.13%:  77%|███████▋  | 301/391 [00:31<00:07, 11.89it/s]"
          ]
        },
        {
          "output_type": "stream",
          "name": "stdout",
          "text": [
            "\n",
            " Current LR:0.0685988974418648\n",
            "\n",
            " Loss: 4.241385459899902\n",
            "301\n",
            "\n",
            " Current LR:0.0706488113489833\n",
            "\n",
            " Loss: 6.065014839172363\n",
            "302\n",
            "\n",
            " Current LR:0.07275998202819729\n",
            "\n",
            " Loss: 5.83128023147583\n",
            "303\n"
          ]
        },
        {
          "output_type": "stream",
          "name": "stderr",
          "text": [
            "Epoch=0 LR=0.08185467307068978 Loss=2.4831509862849916 batch_id=305 Accuracy=25.03%:  78%|███████▊  | 305/391 [00:31<00:06, 13.49it/s]"
          ]
        },
        {
          "output_type": "stream",
          "name": "stdout",
          "text": [
            "\n",
            " Current LR:0.07493423999156608\n",
            "\n",
            " Loss: 3.936418294906616\n",
            "304\n",
            "\n",
            " Current LR:0.07717347045162186\n",
            "\n",
            " Loss: 3.1781182289123535\n",
            "305\n",
            "\n",
            " Current LR:0.07947961495596242\n",
            "\n",
            " Loss: 6.391221523284912\n",
            "306\n",
            "\n",
            " Current LR:0.08185467307068978\n",
            "\n",
            " Loss: 9.776400566101074\n"
          ]
        },
        {
          "output_type": "stream",
          "name": "stderr",
          "text": [
            "Epoch=0 LR=0.08430070411415437 Loss=2.490118706265179 batch_id=306 Accuracy=25.00%:  79%|███████▊  | 307/391 [00:31<00:08,  9.73it/s]"
          ]
        },
        {
          "output_type": "stream",
          "name": "stdout",
          "text": [
            "307\n",
            "\n",
            " Current LR:0.08430070411415437\n",
            "\n",
            " Loss: 4.622241020202637\n",
            "308\n"
          ]
        },
        {
          "output_type": "stream",
          "name": "stderr",
          "text": [
            "\n"
          ]
        },
        {
          "output_type": "stream",
          "name": "stdout",
          "text": [
            "\n",
            "Test set: Average loss: 35.5167, Accuracy: 999/10000 (9.99%)\n",
            "\n",
            "[1.029882607207437e-05, 1.060658184628388e-05, 1.0923534165409913e-05, 1.1249957846191874e-05, 1.1586135917609852e-05, 1.1932359866287762e-05, 1.2288929889229824e-05, 1.2656155154109411e-05, 1.3034354067336042e-05, 1.3423854550132903e-05, 1.382499432286429e-05, 1.423812119785949e-05, 1.4663593380987007e-05, 1.5101779782240613e-05, 1.555306033560652e-05, 1.601782632848902e-05, 1.64964807409802e-05, 1.698943859526796e-05, 1.749712731548522e-05, 1.801998709831238e-05, 1.8558471294654332e-05, 1.9113046802722984e-05, 1.968419447286611e-05, 2.0272409524493572e-05, 2.0878201975462318e-05, 2.1502097084292593e-05, 2.214463580559868e-05, 2.2806375259129134e-05, 2.3487889212823095e-05, 2.4189768580301685e-05, 2.491262193322564e-05, 2.5657076028963604e-05, 2.6423776354028466e-05, 2.721338768375306e-05, 2.8026594658690357e-05, 2.886410237823805e-05, 2.9726637012002185e-05, 3.0614946429429905e-05, 3.152980084825729e-05, 3.2471993502334466e-05, 3.344234132940718e-05, 3.4441685679450885e-05, 3.547089304417192e-05, 3.653085580830792e-05, 3.76224930233791e-05, 3.874675120456128e-05, 3.990460515137147e-05, 4.109705879287776e-05, 4.232514605816627e-05, 4.3589931772819856e-05, 4.489251258218601e-05, 4.6234017902234394e-05, 4.7615610898828476e-05, 4.9038489496260325e-05, 5.050388741592309e-05, 5.201307524602173e-05, 5.3567361543249464e-05, 5.5168093967385154e-05, 5.68166604497955e-05, 5.851449039685506e-05, 6.026305592932762e-05, 6.206387315878352e-05, 6.391850350215964e-05, 6.582855503560186e-05, 6.77956838887639e-05, 6.982159568077139e-05, 7.190804699909636e-05, 7.405684692262427e-05, 7.626985859023433e-05, 7.854900081625308e-05, 8.08962497541818e-05, 8.331364061014075e-05, 8.580326940751514e-05, 8.83672948043338e-05, 9.100793996495551e-05, 9.372749448768628e-05, 9.652831638999902e-05, 9.941283415307656e-05, 0.00010238354882745101, 0.00010544303620156518, 0.00010859394903513612, 0.00011183901935925751, 0.00011518106084523513, 0.00011862297124420921, 0.000122167734899679, 0.0001258184253351084, 0.00012957820791885567, 0.00013345034260873844, 0.00013743818677861325, 0.0001415451981294209, 0.00014577493768722124, 0.00015013107289081707, 0.00015461738077164443, 0.0001592377512286862, 0.00016399619040124858, 0.00016889682414252517, 0.0001739439015969598, 0.00017914179888451083, 0.0001844950228950103, 0.00019000821519590897, 0.00019568615605679448, 0.0002015337685941729, 0.00020755612304010706, 0.00021375844113841305, 0.00022014610067222628, 0.00022672464012686328, 0.00023349976349202185, 0.00024047734520748338, 0.0002476634352566058, 0.00025506426441202347, 0.0002626862496381018, 0.0002705359996548319, 0.00027862032066798857, 0.0002869462222705202, 0.00029552092352028804, 0.0003043518591994238, 0.0003134466862607334, 0.0003228132904667356, 0.00033245979322709334, 0.00034239455864036426, 0.000352626200746178, 0.0003631635909941268, 0.00037401586593584663, 0.0003851924351469569, 0.00039670298938572956, 0.0004085575089955594, 0.00042076627255852256, 0.00043333986580752624, 0.00044628919080477605, 0.00045962547539452, 0.000473360282938266, 0.00048750552234091136, 0.0005020734583764812, 0.0005170767223224251, 0.000532528322911695, 0.0005484416576121004, 0.0005648305242427184, 0.0005817091329374342, 0.0005990921184659823, 0.0006169945529231726, 0.0006354319587973039, 0.000654420322429096, 0.0006739761078728088, 0.0006941162711715693, 0.0007148582750592801, 0.0007362201041018624, 0.0007582202802909568, 0.0007808778791036043, 0.0008042125460418337, 0.0008282445136664947, 0.0008529946191401051, 0.000878484322293926, 0.000904735724234927, 0.0009317715865087752, 0.0009596153508354675, 0.0009882911594347105, 0.0010178238759586803, 0.0010482391070503047, 0.0010795632245457635, 0.0011118233883404584, 0.0011450475699382782, 0.0011792645767045738, 0.001214504076843881, 0.0012507966251240376, 0.001288173689369007, 0.0013266676777433759, 0.0013663119668521836, 0.0014071409306804482, 0.0014491899703974794, 0.0014924955450518244, 0.0015370952031834575, 0.0015830276153806246, 0.0016303326078095691, 0.001679051196746219, 0.0017292256241397631, 0.0017808993942389666, 0.0018341173113129723, 0.001888925518499298, 0.0019453715378127167, 0.002003504311349702, 0.0020633742437241717, 0.002125033245771323, 0.0021885347795574527, 0.0022539339047347824, 0.0023212873262814966, 0.002390653443668368, 0.0024620924014946166, 0.002535666141636895, 0.002611438456956628, 0.0026894750466122577, 0.002769843573024375, 0.0028526137205431065, 0.0029378572558686417, 0.0030256480902772828, 0.0031160623437069706, 0.003209178410757852, 0.003305077028665115, 0.003403841347303038, 0.0035055570012809275, 0.0036103121841934856, 0.0037181977250899637, 0.0038293071672284127, 0.003943736849183322, 0.004061585988376962, 0.0041829567671068605, 0.004307954421144006, 0.004436687330978593, 0.004569267115792438, 0.004705808730239522, 0.004846430564118598, 0.004991254545024271, 0.005140406244065566, 0.0052940149847436335, 0.005452213955083014, 0.005615140323113665, 0.005782935355803912, 0.0059557445415474, 0.006133717716310297, 0.006317009193548095, 0.006505777898004661, 0.006700187503509559, 0.006900406574893113, 0.00710660871414226, 0.00731897271092392, 0.0075376826976064105, 0.0077629283089132774, 0.007994904846348025, 0.008233813447532276, 0.008479861260604196, 0.008733261623828393, 0.00899423425057304, 0.00926300541981459, 0.00953980817233527, 0.009824882512783462, 0.010118475617772186, 0.0104208420501961, 0.01073224397995285, 0.011052951411260163, 0.011383242416765737, 0.011723403378652983, 0.01207372923695161, 0.012434523745268381, 0.012806099734159785, 0.013188779382374945, 0.013582894496203998, 0.01398878679717412, 0.014406808218342655, 0.014837321209444261, 0.015280699051156659, 0.01573732617875743, 0.01620759851545255, 0.016691923815665657, 0.017190722018585656, 0.01770442561227929, 0.018233480008684317, 0.018778343929808487, 0.01933948980546911, 0.019917404182918177, 0.020512588148708086, 0.021125557763163855, 0.021756844507838498, 0.022406995746339517, 0.02307657519892609, 0.023766163431288484, 0.02447635835793343, 0.02520777576061202, 0.02596104982223954, 0.026736833676770228, 0.027535799975503723, 0.028358641470314253, 0.029206071614308188, 0.030078825180430833, 0.03097765889855881, 0.03190335211163041, 0.03285670745138282, 0.033838551534282155, 0.03484973567824972, 0.035891136640805864, 0.03696365737927151, 0.03806822783368656, 0.039205805733123836, 0.04037737742609785, 0.041583958735788365, 0.04282659584082019, 0.04410636618236308, 0.045424379398338016, 0.04678177828554014, 0.04817973979051234, 0.04961947603002874, 0.05110223534207293, 0.052629303368222094, 0.05420200416837571, 0.05582170136879514, 0.0574897993444497, 0.05920774443669425, 0.0609770262073343, 0.06279917873016566, 0.06467578192110883, 0.06660846290809118, 0.0685988974418648, 0.0706488113489833, 0.07275998202819729, 0.07493423999156608, 0.07717347045162186, 0.07947961495596242, 0.08185467307068978, 0.08430070411415437]\n",
            "[2.894618511199951, 2.712022304534912, 2.947608470916748, 2.6423985958099365, 2.915708541870117, 2.7345314025878906, 2.734654188156128, 2.7197067737579346, 2.668097734451294, 2.736386299133301, 2.7681939601898193, 2.8127734661102295, 2.69694185256958, 2.8980095386505127, 2.575634002685547, 2.6239984035491943, 2.580177068710327, 2.6407113075256348, 2.673527956008911, 2.609095335006714, 2.4815239906311035, 2.573655605316162, 2.5344650745391846, 2.5476491451263428, 2.5816574096679688, 2.500006914138794, 2.4219417572021484, 2.651869535446167, 2.545468330383301, 2.540963649749756, 2.3951098918914795, 2.4885125160217285, 2.4076831340789795, 2.4591846466064453, 2.422346353530884, 2.4070608615875244, 2.4297525882720947, 2.33526873588562, 2.448735237121582, 2.350501298904419, 2.3275554180145264, 2.364442825317383, 2.3005576133728027, 2.2764031887054443, 2.366140127182007, 2.421189785003662, 2.3573341369628906, 2.354302406311035, 2.332702875137329, 2.2947001457214355, 2.3260085582733154, 2.4084489345550537, 2.3480019569396973, 2.2992045879364014, 2.2104947566986084, 2.359999179840088, 2.2775936126708984, 2.2381505966186523, 2.209744930267334, 2.2547903060913086, 2.251910448074341, 2.2475063800811768, 2.253159523010254, 2.1517317295074463, 2.226724624633789, 2.2728893756866455, 2.2963199615478516, 2.269580841064453, 2.281913995742798, 2.21240496635437, 2.3023698329925537, 2.2965171337127686, 2.2799031734466553, 2.206176280975342, 2.1572296619415283, 2.2579681873321533, 2.2039995193481445, 2.1192941665649414, 2.12160587310791, 2.1413683891296387, 2.161168098449707, 2.2167587280273438, 2.1548855304718018, 2.159331798553467, 2.1631882190704346, 2.169299840927124, 2.0934841632843018, 2.187237024307251, 2.1226589679718018, 2.1685874462127686, 2.139780282974243, 2.164044141769409, 2.0411458015441895, 2.1554934978485107, 2.2065773010253906, 2.099684476852417, 2.0560832023620605, 2.0819389820098877, 2.242231845855713, 2.0679397583007812, 2.087146759033203, 1.9951930046081543, 2.118849039077759, 2.092085123062134, 2.071892499923706, 2.053189516067505, 2.1095263957977295, 2.127708911895752, 1.9419618844985962, 2.0734050273895264, 1.9908108711242676, 1.996450662612915, 2.194211006164551, 2.0314953327178955, 1.999168038368225, 1.9653593301773071, 1.973600149154663, 1.984283447265625, 1.9943232536315918, 2.08971905708313, 1.9710664749145508, 2.0318803787231445, 2.0014357566833496, 1.999074935913086, 1.9188134670257568, 2.000286340713501, 1.9956719875335693, 1.9530258178710938, 1.9690358638763428, 1.9637809991836548, 1.8817236423492432, 1.8958613872528076, 1.896156907081604, 1.9129687547683716, 1.9970293045043945, 1.847862720489502, 1.9067025184631348, 1.8433181047439575, 1.8714386224746704, 1.8658465147018433, 1.9713678359985352, 1.9733219146728516, 1.8976497650146484, 1.9058115482330322, 1.8798153400421143, 1.8744945526123047, 1.831107258796692, 1.762826919555664, 1.8764393329620361, 1.8264530897140503, 1.8206422328948975, 1.9482295513153076, 1.9526487588882446, 1.7570431232452393, 1.782891869544983, 1.8362573385238647, 1.9721064567565918, 1.7190841436386108, 1.89007568359375, 1.809605360031128, 1.876194715499878, 1.7696146965026855, 1.7902003526687622, 1.821941614151001, 1.6252325773239136, 1.7422221899032593, 1.8590927124023438, 1.9557029008865356, 1.7065842151641846, 1.6084219217300415, 1.7415670156478882, 1.7615091800689697, 1.9182604551315308, 1.7640904188156128, 1.7430075407028198, 1.8058881759643555, 1.7022062540054321, 1.6281603574752808, 1.654253602027893, 1.6505235433578491, 1.8488647937774658, 1.5841221809387207, 1.7762279510498047, 1.6328237056732178, 1.7046151161193848, 1.6039671897888184, 1.8148949146270752, 1.7338507175445557, 1.7109037637710571, 1.7056304216384888, 1.80364191532135, 1.5487629175186157, 1.794766902923584, 1.5780131816864014, 1.8350415229797363, 1.8544468879699707, 1.9143551588058472, 1.7256543636322021, 1.8897335529327393, 1.5576972961425781, 1.7669241428375244, 1.7651731967926025, 1.6154062747955322, 1.9237629175186157, 1.6282814741134644, 1.876823902130127, 1.6494140625, 1.811933159828186, 1.650296926498413, 1.7843347787857056, 1.9803736209869385, 1.6916754245758057, 2.0697133541107178, 2.1122350692749023, 1.597585678100586, 1.6435835361480713, 1.8079869747161865, 1.8383773565292358, 2.03560471534729, 1.846536636352539, 1.9801993370056152, 1.8390394449234009, 1.5909368991851807, 1.8259382247924805, 1.7388821840286255, 1.7555495500564575, 1.8300461769104004, 1.7988158464431763, 1.6385059356689453, 2.016367197036743, 2.2912180423736572, 2.0371947288513184, 2.7353293895721436, 2.5633108615875244, 3.4590697288513184, 3.1233768463134766, 2.5760421752929688, 3.783616304397583, 3.4143054485321045, 2.7572174072265625, 3.9879701137542725, 4.896751880645752, 3.5406088829040527, 3.014012575149536, 4.1022515296936035, 4.363819122314453, 3.268242835998535, 3.3484208583831787, 3.695322275161743, 3.441802501678467, 2.2730307579040527, 3.170745849609375, 3.2593486309051514, 2.4726901054382324, 2.627046585083008, 3.1244773864746094, 3.0629100799560547, 3.9747016429901123, 2.6889166831970215, 3.4328651428222656, 3.648609161376953, 3.696404457092285, 3.72829008102417, 2.5635828971862793, 3.129427194595337, 4.040737152099609, 4.7511796951293945, 3.3793840408325195, 3.515852212905884, 3.066004514694214, 2.70599365234375, 3.2258846759796143, 3.676652431488037, 3.3219738006591797, 4.182495594024658, 2.975252151489258, 4.13737678527832, 3.608562469482422, 3.7195963859558105, 5.316646099090576, 3.7008626461029053, 2.8783557415008545, 3.117354393005371, 3.1233177185058594, 3.05486798286438, 3.94372820854187, 3.143728256225586, 3.736766815185547, 2.739992380142212, 4.443780422210693, 4.089937686920166, 3.120366334915161, 3.2444827556610107, 2.7024996280670166, 4.671102046966553, 5.280534267425537, 4.0142436027526855, 6.878107070922852, 5.0715765953063965, 4.241385459899902, 6.065014839172363, 5.83128023147583, 3.936418294906616, 3.1781182289123535, 6.391221523284912, 9.776400566101074, 4.622241020202637]\n"
          ]
        }
      ]
    },
    {
      "cell_type": "code",
      "source": [
        "import matplotlib.pyplot as plt\n",
        "def plot(lr, losses, start=10, end=-5):\n",
        "    plt.xlabel(\"Learning Rate\")\n",
        "    plt.ylabel(\"Losses\")\n",
        "    plt.plot(lr, losses)\n",
        "    plt.xscale('log')\n",
        "print(main.lr)\n",
        "print(main.train_losses)\n",
        "plot(main.lr, main.train_losses)"
      ],
      "metadata": {
        "colab": {
          "base_uri": "https://localhost:8080/",
          "height": 338
        },
        "id": "R7MzcuYoFI4B",
        "outputId": "06c0ce88-2b99-4735-861a-696f87d94fc1"
      },
      "execution_count": 3,
      "outputs": [
        {
          "output_type": "stream",
          "name": "stdout",
          "text": [
            "[1.029882607207437e-05, 1.060658184628388e-05, 1.0923534165409913e-05, 1.1249957846191874e-05, 1.1586135917609852e-05, 1.1932359866287762e-05, 1.2288929889229824e-05, 1.2656155154109411e-05, 1.3034354067336042e-05, 1.3423854550132903e-05, 1.382499432286429e-05, 1.423812119785949e-05, 1.4663593380987007e-05, 1.5101779782240613e-05, 1.555306033560652e-05, 1.601782632848902e-05, 1.64964807409802e-05, 1.698943859526796e-05, 1.749712731548522e-05, 1.801998709831238e-05, 1.8558471294654332e-05, 1.9113046802722984e-05, 1.968419447286611e-05, 2.0272409524493572e-05, 2.0878201975462318e-05, 2.1502097084292593e-05, 2.214463580559868e-05, 2.2806375259129134e-05, 2.3487889212823095e-05, 2.4189768580301685e-05, 2.491262193322564e-05, 2.5657076028963604e-05, 2.6423776354028466e-05, 2.721338768375306e-05, 2.8026594658690357e-05, 2.886410237823805e-05, 2.9726637012002185e-05, 3.0614946429429905e-05, 3.152980084825729e-05, 3.2471993502334466e-05, 3.344234132940718e-05, 3.4441685679450885e-05, 3.547089304417192e-05, 3.653085580830792e-05, 3.76224930233791e-05, 3.874675120456128e-05, 3.990460515137147e-05, 4.109705879287776e-05, 4.232514605816627e-05, 4.3589931772819856e-05, 4.489251258218601e-05, 4.6234017902234394e-05, 4.7615610898828476e-05, 4.9038489496260325e-05, 5.050388741592309e-05, 5.201307524602173e-05, 5.3567361543249464e-05, 5.5168093967385154e-05, 5.68166604497955e-05, 5.851449039685506e-05, 6.026305592932762e-05, 6.206387315878352e-05, 6.391850350215964e-05, 6.582855503560186e-05, 6.77956838887639e-05, 6.982159568077139e-05, 7.190804699909636e-05, 7.405684692262427e-05, 7.626985859023433e-05, 7.854900081625308e-05, 8.08962497541818e-05, 8.331364061014075e-05, 8.580326940751514e-05, 8.83672948043338e-05, 9.100793996495551e-05, 9.372749448768628e-05, 9.652831638999902e-05, 9.941283415307656e-05, 0.00010238354882745101, 0.00010544303620156518, 0.00010859394903513612, 0.00011183901935925751, 0.00011518106084523513, 0.00011862297124420921, 0.000122167734899679, 0.0001258184253351084, 0.00012957820791885567, 0.00013345034260873844, 0.00013743818677861325, 0.0001415451981294209, 0.00014577493768722124, 0.00015013107289081707, 0.00015461738077164443, 0.0001592377512286862, 0.00016399619040124858, 0.00016889682414252517, 0.0001739439015969598, 0.00017914179888451083, 0.0001844950228950103, 0.00019000821519590897, 0.00019568615605679448, 0.0002015337685941729, 0.00020755612304010706, 0.00021375844113841305, 0.00022014610067222628, 0.00022672464012686328, 0.00023349976349202185, 0.00024047734520748338, 0.0002476634352566058, 0.00025506426441202347, 0.0002626862496381018, 0.0002705359996548319, 0.00027862032066798857, 0.0002869462222705202, 0.00029552092352028804, 0.0003043518591994238, 0.0003134466862607334, 0.0003228132904667356, 0.00033245979322709334, 0.00034239455864036426, 0.000352626200746178, 0.0003631635909941268, 0.00037401586593584663, 0.0003851924351469569, 0.00039670298938572956, 0.0004085575089955594, 0.00042076627255852256, 0.00043333986580752624, 0.00044628919080477605, 0.00045962547539452, 0.000473360282938266, 0.00048750552234091136, 0.0005020734583764812, 0.0005170767223224251, 0.000532528322911695, 0.0005484416576121004, 0.0005648305242427184, 0.0005817091329374342, 0.0005990921184659823, 0.0006169945529231726, 0.0006354319587973039, 0.000654420322429096, 0.0006739761078728088, 0.0006941162711715693, 0.0007148582750592801, 0.0007362201041018624, 0.0007582202802909568, 0.0007808778791036043, 0.0008042125460418337, 0.0008282445136664947, 0.0008529946191401051, 0.000878484322293926, 0.000904735724234927, 0.0009317715865087752, 0.0009596153508354675, 0.0009882911594347105, 0.0010178238759586803, 0.0010482391070503047, 0.0010795632245457635, 0.0011118233883404584, 0.0011450475699382782, 0.0011792645767045738, 0.001214504076843881, 0.0012507966251240376, 0.001288173689369007, 0.0013266676777433759, 0.0013663119668521836, 0.0014071409306804482, 0.0014491899703974794, 0.0014924955450518244, 0.0015370952031834575, 0.0015830276153806246, 0.0016303326078095691, 0.001679051196746219, 0.0017292256241397631, 0.0017808993942389666, 0.0018341173113129723, 0.001888925518499298, 0.0019453715378127167, 0.002003504311349702, 0.0020633742437241717, 0.002125033245771323, 0.0021885347795574527, 0.0022539339047347824, 0.0023212873262814966, 0.002390653443668368, 0.0024620924014946166, 0.002535666141636895, 0.002611438456956628, 0.0026894750466122577, 0.002769843573024375, 0.0028526137205431065, 0.0029378572558686417, 0.0030256480902772828, 0.0031160623437069706, 0.003209178410757852, 0.003305077028665115, 0.003403841347303038, 0.0035055570012809275, 0.0036103121841934856, 0.0037181977250899637, 0.0038293071672284127, 0.003943736849183322, 0.004061585988376962, 0.0041829567671068605, 0.004307954421144006, 0.004436687330978593, 0.004569267115792438, 0.004705808730239522, 0.004846430564118598, 0.004991254545024271, 0.005140406244065566, 0.0052940149847436335, 0.005452213955083014, 0.005615140323113665, 0.005782935355803912, 0.0059557445415474, 0.006133717716310297, 0.006317009193548095, 0.006505777898004661, 0.006700187503509559, 0.006900406574893113, 0.00710660871414226, 0.00731897271092392, 0.0075376826976064105, 0.0077629283089132774, 0.007994904846348025, 0.008233813447532276, 0.008479861260604196, 0.008733261623828393, 0.00899423425057304, 0.00926300541981459, 0.00953980817233527, 0.009824882512783462, 0.010118475617772186, 0.0104208420501961, 0.01073224397995285, 0.011052951411260163, 0.011383242416765737, 0.011723403378652983, 0.01207372923695161, 0.012434523745268381, 0.012806099734159785, 0.013188779382374945, 0.013582894496203998, 0.01398878679717412, 0.014406808218342655, 0.014837321209444261, 0.015280699051156659, 0.01573732617875743, 0.01620759851545255, 0.016691923815665657, 0.017190722018585656, 0.01770442561227929, 0.018233480008684317, 0.018778343929808487, 0.01933948980546911, 0.019917404182918177, 0.020512588148708086, 0.021125557763163855, 0.021756844507838498, 0.022406995746339517, 0.02307657519892609, 0.023766163431288484, 0.02447635835793343, 0.02520777576061202, 0.02596104982223954, 0.026736833676770228, 0.027535799975503723, 0.028358641470314253, 0.029206071614308188, 0.030078825180430833, 0.03097765889855881, 0.03190335211163041, 0.03285670745138282, 0.033838551534282155, 0.03484973567824972, 0.035891136640805864, 0.03696365737927151, 0.03806822783368656, 0.039205805733123836, 0.04037737742609785, 0.041583958735788365, 0.04282659584082019, 0.04410636618236308, 0.045424379398338016, 0.04678177828554014, 0.04817973979051234, 0.04961947603002874, 0.05110223534207293, 0.052629303368222094, 0.05420200416837571, 0.05582170136879514, 0.0574897993444497, 0.05920774443669425, 0.0609770262073343, 0.06279917873016566, 0.06467578192110883, 0.06660846290809118, 0.0685988974418648, 0.0706488113489833, 0.07275998202819729, 0.07493423999156608, 0.07717347045162186, 0.07947961495596242, 0.08185467307068978, 0.08430070411415437]\n",
            "[2.894618511199951, 2.712022304534912, 2.947608470916748, 2.6423985958099365, 2.915708541870117, 2.7345314025878906, 2.734654188156128, 2.7197067737579346, 2.668097734451294, 2.736386299133301, 2.7681939601898193, 2.8127734661102295, 2.69694185256958, 2.8980095386505127, 2.575634002685547, 2.6239984035491943, 2.580177068710327, 2.6407113075256348, 2.673527956008911, 2.609095335006714, 2.4815239906311035, 2.573655605316162, 2.5344650745391846, 2.5476491451263428, 2.5816574096679688, 2.500006914138794, 2.4219417572021484, 2.651869535446167, 2.545468330383301, 2.540963649749756, 2.3951098918914795, 2.4885125160217285, 2.4076831340789795, 2.4591846466064453, 2.422346353530884, 2.4070608615875244, 2.4297525882720947, 2.33526873588562, 2.448735237121582, 2.350501298904419, 2.3275554180145264, 2.364442825317383, 2.3005576133728027, 2.2764031887054443, 2.366140127182007, 2.421189785003662, 2.3573341369628906, 2.354302406311035, 2.332702875137329, 2.2947001457214355, 2.3260085582733154, 2.4084489345550537, 2.3480019569396973, 2.2992045879364014, 2.2104947566986084, 2.359999179840088, 2.2775936126708984, 2.2381505966186523, 2.209744930267334, 2.2547903060913086, 2.251910448074341, 2.2475063800811768, 2.253159523010254, 2.1517317295074463, 2.226724624633789, 2.2728893756866455, 2.2963199615478516, 2.269580841064453, 2.281913995742798, 2.21240496635437, 2.3023698329925537, 2.2965171337127686, 2.2799031734466553, 2.206176280975342, 2.1572296619415283, 2.2579681873321533, 2.2039995193481445, 2.1192941665649414, 2.12160587310791, 2.1413683891296387, 2.161168098449707, 2.2167587280273438, 2.1548855304718018, 2.159331798553467, 2.1631882190704346, 2.169299840927124, 2.0934841632843018, 2.187237024307251, 2.1226589679718018, 2.1685874462127686, 2.139780282974243, 2.164044141769409, 2.0411458015441895, 2.1554934978485107, 2.2065773010253906, 2.099684476852417, 2.0560832023620605, 2.0819389820098877, 2.242231845855713, 2.0679397583007812, 2.087146759033203, 1.9951930046081543, 2.118849039077759, 2.092085123062134, 2.071892499923706, 2.053189516067505, 2.1095263957977295, 2.127708911895752, 1.9419618844985962, 2.0734050273895264, 1.9908108711242676, 1.996450662612915, 2.194211006164551, 2.0314953327178955, 1.999168038368225, 1.9653593301773071, 1.973600149154663, 1.984283447265625, 1.9943232536315918, 2.08971905708313, 1.9710664749145508, 2.0318803787231445, 2.0014357566833496, 1.999074935913086, 1.9188134670257568, 2.000286340713501, 1.9956719875335693, 1.9530258178710938, 1.9690358638763428, 1.9637809991836548, 1.8817236423492432, 1.8958613872528076, 1.896156907081604, 1.9129687547683716, 1.9970293045043945, 1.847862720489502, 1.9067025184631348, 1.8433181047439575, 1.8714386224746704, 1.8658465147018433, 1.9713678359985352, 1.9733219146728516, 1.8976497650146484, 1.9058115482330322, 1.8798153400421143, 1.8744945526123047, 1.831107258796692, 1.762826919555664, 1.8764393329620361, 1.8264530897140503, 1.8206422328948975, 1.9482295513153076, 1.9526487588882446, 1.7570431232452393, 1.782891869544983, 1.8362573385238647, 1.9721064567565918, 1.7190841436386108, 1.89007568359375, 1.809605360031128, 1.876194715499878, 1.7696146965026855, 1.7902003526687622, 1.821941614151001, 1.6252325773239136, 1.7422221899032593, 1.8590927124023438, 1.9557029008865356, 1.7065842151641846, 1.6084219217300415, 1.7415670156478882, 1.7615091800689697, 1.9182604551315308, 1.7640904188156128, 1.7430075407028198, 1.8058881759643555, 1.7022062540054321, 1.6281603574752808, 1.654253602027893, 1.6505235433578491, 1.8488647937774658, 1.5841221809387207, 1.7762279510498047, 1.6328237056732178, 1.7046151161193848, 1.6039671897888184, 1.8148949146270752, 1.7338507175445557, 1.7109037637710571, 1.7056304216384888, 1.80364191532135, 1.5487629175186157, 1.794766902923584, 1.5780131816864014, 1.8350415229797363, 1.8544468879699707, 1.9143551588058472, 1.7256543636322021, 1.8897335529327393, 1.5576972961425781, 1.7669241428375244, 1.7651731967926025, 1.6154062747955322, 1.9237629175186157, 1.6282814741134644, 1.876823902130127, 1.6494140625, 1.811933159828186, 1.650296926498413, 1.7843347787857056, 1.9803736209869385, 1.6916754245758057, 2.0697133541107178, 2.1122350692749023, 1.597585678100586, 1.6435835361480713, 1.8079869747161865, 1.8383773565292358, 2.03560471534729, 1.846536636352539, 1.9801993370056152, 1.8390394449234009, 1.5909368991851807, 1.8259382247924805, 1.7388821840286255, 1.7555495500564575, 1.8300461769104004, 1.7988158464431763, 1.6385059356689453, 2.016367197036743, 2.2912180423736572, 2.0371947288513184, 2.7353293895721436, 2.5633108615875244, 3.4590697288513184, 3.1233768463134766, 2.5760421752929688, 3.783616304397583, 3.4143054485321045, 2.7572174072265625, 3.9879701137542725, 4.896751880645752, 3.5406088829040527, 3.014012575149536, 4.1022515296936035, 4.363819122314453, 3.268242835998535, 3.3484208583831787, 3.695322275161743, 3.441802501678467, 2.2730307579040527, 3.170745849609375, 3.2593486309051514, 2.4726901054382324, 2.627046585083008, 3.1244773864746094, 3.0629100799560547, 3.9747016429901123, 2.6889166831970215, 3.4328651428222656, 3.648609161376953, 3.696404457092285, 3.72829008102417, 2.5635828971862793, 3.129427194595337, 4.040737152099609, 4.7511796951293945, 3.3793840408325195, 3.515852212905884, 3.066004514694214, 2.70599365234375, 3.2258846759796143, 3.676652431488037, 3.3219738006591797, 4.182495594024658, 2.975252151489258, 4.13737678527832, 3.608562469482422, 3.7195963859558105, 5.316646099090576, 3.7008626461029053, 2.8783557415008545, 3.117354393005371, 3.1233177185058594, 3.05486798286438, 3.94372820854187, 3.143728256225586, 3.736766815185547, 2.739992380142212, 4.443780422210693, 4.089937686920166, 3.120366334915161, 3.2444827556610107, 2.7024996280670166, 4.671102046966553, 5.280534267425537, 4.0142436027526855, 6.878107070922852, 5.0715765953063965, 4.241385459899902, 6.065014839172363, 5.83128023147583, 3.936418294906616, 3.1781182289123535, 6.391221523284912, 9.776400566101074, 4.622241020202637]\n"
          ]
        },
        {
          "output_type": "display_data",
          "data": {
            "text/plain": [
              "<Figure size 432x288 with 1 Axes>"
            ],
            "image/png": "[encoded data removed]"
          },
          "metadata": {
            "needs_background": "light"
          }
        }
      ]
    },
    {
      "cell_type": "markdown",
      "source": [
        "It can be observed that 0.08 would be a good value for Max LR."
      ],
      "metadata": {
        "id": "_-N_VWEBEQWV"
      }
    },
    {
      "cell_type": "markdown",
      "source": [
        "## Defining Tranforms"
      ],
      "metadata": {
        "id": "9N1DxuwmEZqE"
      }
    },
    {
      "cell_type": "code",
      "source": [
        "import torchvision.transforms as transforms\n",
        "import albumentations as A\n",
        "import albumentations.pytorch\n",
        "\n",
        "main.prepare_trainloader([\n",
        "  A.RandomCrop(32, 32),\n",
        "  A.HorizontalFlip(p=0.5),\n",
        "  A.Cutout(),\n",
        "  A.Normalize(mean=(0.4914, 0.4822, 0.4465), std=(0.2023, 0.1994, 0.2010)),\n",
        "  A.pytorch.transforms.ToTensorV2()\n",
        "])"
      ],
      "metadata": {
        "colab": {
          "base_uri": "https://localhost:8080/"
        },
        "id": "s1kpLdIyEd7V",
        "outputId": "e8b26187-150a-446c-a5ff-c822e4473f3c"
      },
      "execution_count": 6,
      "outputs": [
        {
          "output_type": "stream",
          "name": "stderr",
          "text": [
            "/usr/local/lib/python3.8/dist-packages/albumentations/augmentations/dropout/cutout.py:49: FutureWarning: Cutout has been deprecated. Please use CoarseDropout\n",
            "  warnings.warn(\n"
          ]
        },
        {
          "output_type": "stream",
          "name": "stdout",
          "text": [
            "Files already downloaded and verified\n"
          ]
        }
      ]
    },
    {
      "cell_type": "markdown",
      "source": [
        "# One Cycle LR"
      ],
      "metadata": {
        "id": "DM12LLRzIFl7"
      }
    },
    {
      "cell_type": "code",
      "source": [
        "main.scheduler = torch.optim.lr_scheduler.OneCycleLR(main.optimizer, max_lr=0.08, steps_per_epoch=len(main.trainloader), epochs=24, pct_start=0.2083)\n",
        "main.start_training(num_epochs=24, is_batchwise_scheduler_step=True, is_albumentation=True)"
      ],
      "metadata": {
        "colab": {
          "base_uri": "https://localhost:8080/"
        },
        "id": "siphwOQdHIpO",
        "outputId": "2108286b-7e95-4652-c301-11bf093b14d1"
      },
      "execution_count": 7,
      "outputs": [
        {
          "output_type": "stream",
          "name": "stderr",
          "text": [
            "Epoch=0 LR=0.010507004006262685 Loss=1.819459739853354 batch_id=390 Accuracy=39.39%: 100%|██████████| 391/391 [00:30<00:00, 12.67it/s]\n"
          ]
        },
        {
          "output_type": "stream",
          "name": "stdout",
          "text": [
            "\n",
            "Test set: Average loss: 1.6975, Accuracy: 4723/10000 (47.23%)\n",
            "\n"
          ]
        },
        {
          "output_type": "stream",
          "name": "stderr",
          "text": [
            "Epoch=1 LR=0.029705862949006734 Loss=1.6555639874294896 batch_id=390 Accuracy=50.34%: 100%|██████████| 391/391 [00:30<00:00, 12.72it/s]\n"
          ]
        },
        {
          "output_type": "stream",
          "name": "stdout",
          "text": [
            "\n",
            "Test set: Average loss: 1.3672, Accuracy: 5982/10000 (59.82%)\n",
            "\n"
          ]
        },
        {
          "output_type": "stream",
          "name": "stderr",
          "text": [
            "Epoch=2 LR=0.05345378313174099 Loss=1.183008669434911 batch_id=390 Accuracy=62.22%: 100%|██████████| 391/391 [00:29<00:00, 13.25it/s]\n"
          ]
        },
        {
          "output_type": "stream",
          "name": "stdout",
          "text": [
            "\n",
            "Test set: Average loss: 0.7989, Accuracy: 7162/10000 (71.62%)\n",
            "\n"
          ]
        },
        {
          "output_type": "stream",
          "name": "stderr",
          "text": [
            "Epoch=3 LR=0.07266807593481178 Loss=0.8358164989125089 batch_id=390 Accuracy=71.54%: 100%|██████████| 391/391 [00:29<00:00, 13.35it/s]\n"
          ]
        },
        {
          "output_type": "stream",
          "name": "stdout",
          "text": [
            "\n",
            "Test set: Average loss: 0.7464, Accuracy: 7493/10000 (74.93%)\n",
            "\n"
          ]
        },
        {
          "output_type": "stream",
          "name": "stderr",
          "text": [
            "Epoch=4 LR=0.07999999965008367 Loss=0.7123448339569599 batch_id=390 Accuracy=75.27%: 100%|██████████| 391/391 [00:29<00:00, 13.22it/s]\n"
          ]
        },
        {
          "output_type": "stream",
          "name": "stdout",
          "text": [
            "\n",
            "Test set: Average loss: 0.6051, Accuracy: 7918/10000 (79.18%)\n",
            "\n"
          ]
        },
        {
          "output_type": "stream",
          "name": "stderr",
          "text": [
            "Epoch=5 LR=0.0794536289957299 Loss=0.6290334601841314 batch_id=390 Accuracy=77.84%: 100%|██████████| 391/391 [00:30<00:00, 12.70it/s]\n"
          ]
        },
        {
          "output_type": "stream",
          "name": "stdout",
          "text": [
            "\n",
            "Test set: Average loss: 0.4747, Accuracy: 8418/10000 (84.18%)\n",
            "\n"
          ]
        },
        {
          "output_type": "stream",
          "name": "stderr",
          "text": [
            "Epoch=6 LR=0.07783116096876898 Loss=0.5638376880637215 batch_id=390 Accuracy=80.37%: 100%|██████████| 391/391 [00:30<00:00, 13.00it/s]\n"
          ]
        },
        {
          "output_type": "stream",
          "name": "stdout",
          "text": [
            "\n",
            "Test set: Average loss: 0.4792, Accuracy: 8389/10000 (83.89%)\n",
            "\n"
          ]
        },
        {
          "output_type": "stream",
          "name": "stderr",
          "text": [
            "Epoch=7 LR=0.07517684854936703 Loss=0.5238776698594203 batch_id=390 Accuracy=81.62%: 100%|██████████| 391/391 [00:29<00:00, 13.27it/s]\n"
          ]
        },
        {
          "output_type": "stream",
          "name": "stdout",
          "text": [
            "\n",
            "Test set: Average loss: 0.4954, Accuracy: 8348/10000 (83.48%)\n",
            "\n"
          ]
        },
        {
          "output_type": "stream",
          "name": "stderr",
          "text": [
            "Epoch=8 LR=0.07156308837825812 Loss=0.48763953435146595 batch_id=390 Accuracy=82.90%: 100%|██████████| 391/391 [00:29<00:00, 13.27it/s]\n"
          ]
        },
        {
          "output_type": "stream",
          "name": "stdout",
          "text": [
            "\n",
            "Test set: Average loss: 0.4423, Accuracy: 8526/10000 (85.26%)\n",
            "\n"
          ]
        },
        {
          "output_type": "stream",
          "name": "stderr",
          "text": [
            "Epoch=9 LR=0.06708844613101779 Loss=0.45697480653557937 batch_id=390 Accuracy=84.06%: 100%|██████████| 391/391 [00:29<00:00, 13.24it/s]\n"
          ]
        },
        {
          "output_type": "stream",
          "name": "stdout",
          "text": [
            "\n",
            "Test set: Average loss: 0.5303, Accuracy: 8300/10000 (83.00%)\n",
            "\n"
          ]
        },
        {
          "output_type": "stream",
          "name": "stderr",
          "text": [
            "Epoch=10 LR=0.061874968129254256 Loss=0.4320530585773156 batch_id=390 Accuracy=84.88%: 100%|██████████| 391/391 [00:29<00:00, 13.17it/s]\n"
          ]
        },
        {
          "output_type": "stream",
          "name": "stdout",
          "text": [
            "\n",
            "Test set: Average loss: 0.4485, Accuracy: 8552/10000 (85.52%)\n",
            "\n"
          ]
        },
        {
          "output_type": "stream",
          "name": "stderr",
          "text": [
            "Epoch=11 LR=0.056064852514795024 Loss=0.4054454220911426 batch_id=390 Accuracy=85.91%: 100%|██████████| 391/391 [00:30<00:00, 12.97it/s]\n"
          ]
        },
        {
          "output_type": "stream",
          "name": "stdout",
          "text": [
            "\n",
            "Test set: Average loss: 0.4496, Accuracy: 8529/10000 (85.29%)\n",
            "\n"
          ]
        },
        {
          "output_type": "stream",
          "name": "stderr",
          "text": [
            "Epoch=12 LR=0.04981657078093111 Loss=0.37458182471182644 batch_id=390 Accuracy=86.89%: 100%|██████████| 391/391 [00:29<00:00, 13.08it/s]\n"
          ]
        },
        {
          "output_type": "stream",
          "name": "stdout",
          "text": [
            "\n",
            "Test set: Average loss: 0.3816, Accuracy: 8677/10000 (86.77%)\n",
            "\n"
          ]
        },
        {
          "output_type": "stream",
          "name": "stderr",
          "text": [
            "Epoch=13 LR=0.04330054544634768 Loss=0.35505028019475815 batch_id=390 Accuracy=87.51%: 100%|██████████| 391/391 [00:31<00:00, 12.37it/s]\n"
          ]
        },
        {
          "output_type": "stream",
          "name": "stdout",
          "text": [
            "\n",
            "Test set: Average loss: 0.4151, Accuracy: 8671/10000 (86.71%)\n",
            "\n"
          ]
        },
        {
          "output_type": "stream",
          "name": "stderr",
          "text": [
            "Epoch=14 LR=0.03669450176362381 Loss=0.3342376458065589 batch_id=390 Accuracy=88.20%: 100%|██████████| 391/391 [00:29<00:00, 13.24it/s]\n"
          ]
        },
        {
          "output_type": "stream",
          "name": "stdout",
          "text": [
            "\n",
            "Test set: Average loss: 0.3713, Accuracy: 8778/10000 (87.78%)\n",
            "\n"
          ]
        },
        {
          "output_type": "stream",
          "name": "stderr",
          "text": [
            "Epoch=15 LR=0.030178620244923748 Loss=0.3012200141578074 batch_id=390 Accuracy=89.59%: 100%|██████████| 391/391 [00:30<00:00, 12.83it/s]\n"
          ]
        },
        {
          "output_type": "stream",
          "name": "stdout",
          "text": [
            "\n",
            "Test set: Average loss: 0.3812, Accuracy: 8796/10000 (87.96%)\n",
            "\n"
          ]
        },
        {
          "output_type": "stream",
          "name": "stderr",
          "text": [
            "Epoch=16 LR=0.02393062222023377 Loss=0.2725665496895685 batch_id=390 Accuracy=90.62%: 100%|██████████| 391/391 [00:29<00:00, 13.26it/s]\n"
          ]
        },
        {
          "output_type": "stream",
          "name": "stdout",
          "text": [
            "\n",
            "Test set: Average loss: 0.3407, Accuracy: 8895/10000 (88.95%)\n",
            "\n"
          ]
        },
        {
          "output_type": "stream",
          "name": "stderr",
          "text": [
            "Epoch=17 LR=0.01812092247004251 Loss=0.24083956306242882 batch_id=390 Accuracy=91.58%: 100%|██████████| 391/391 [00:30<00:00, 12.75it/s]\n"
          ]
        },
        {
          "output_type": "stream",
          "name": "stdout",
          "text": [
            "\n",
            "Test set: Average loss: 0.3074, Accuracy: 9012/10000 (90.12%)\n",
            "\n"
          ]
        },
        {
          "output_type": "stream",
          "name": "stderr",
          "text": [
            "Epoch=18 LR=0.012907981144900835 Loss=0.20753396412981745 batch_id=390 Accuracy=92.75%: 100%|██████████| 391/391 [00:29<00:00, 13.06it/s]\n"
          ]
        },
        {
          "output_type": "stream",
          "name": "stdout",
          "text": [
            "\n",
            "Test set: Average loss: 0.3078, Accuracy: 9011/10000 (90.11%)\n",
            "\n"
          ]
        },
        {
          "output_type": "stream",
          "name": "stderr",
          "text": [
            "Epoch=19 LR=0.00843398174872694 Loss=0.17517526564009658 batch_id=390 Accuracy=93.97%: 100%|██████████| 391/391 [00:30<00:00, 12.70it/s]\n"
          ]
        },
        {
          "output_type": "stream",
          "name": "stdout",
          "text": [
            "\n",
            "Test set: Average loss: 0.2648, Accuracy: 9110/10000 (91.10%)\n",
            "\n"
          ]
        },
        {
          "output_type": "stream",
          "name": "stderr",
          "text": [
            "Epoch=20 LR=0.004820953069300903 Loss=0.13867633685926953 batch_id=390 Accuracy=95.22%: 100%|██████████| 391/391 [00:29<00:00, 13.24it/s]\n"
          ]
        },
        {
          "output_type": "stream",
          "name": "stdout",
          "text": [
            "\n",
            "Test set: Average loss: 0.2580, Accuracy: 9175/10000 (91.75%)\n",
            "\n"
          ]
        },
        {
          "output_type": "stream",
          "name": "stderr",
          "text": [
            "Epoch=21 LR=0.0021674408306883515 Loss=0.11322854516451317 batch_id=390 Accuracy=96.24%: 100%|██████████| 391/391 [00:30<00:00, 12.83it/s]\n"
          ]
        },
        {
          "output_type": "stream",
          "name": "stdout",
          "text": [
            "\n",
            "Test set: Average loss: 0.2481, Accuracy: 9202/10000 (92.02%)\n",
            "\n"
          ]
        },
        {
          "output_type": "stream",
          "name": "stderr",
          "text": [
            "Epoch=22 LR=0.0005458198486110825 Loss=0.10010084427912216 batch_id=390 Accuracy=96.65%: 100%|██████████| 391/391 [00:31<00:00, 12.60it/s]\n"
          ]
        },
        {
          "output_type": "stream",
          "name": "stdout",
          "text": [
            "\n",
            "Test set: Average loss: 0.2399, Accuracy: 9208/10000 (92.08%)\n",
            "\n"
          ]
        },
        {
          "output_type": "stream",
          "name": "stderr",
          "text": [
            "Epoch=23 LR=3.2e-07 Loss=0.09017461662173576 batch_id=390 Accuracy=97.06%: 100%|██████████| 391/391 [00:29<00:00, 13.09it/s]\n"
          ]
        },
        {
          "output_type": "stream",
          "name": "stdout",
          "text": [
            "\n",
            "Test set: Average loss: 0.2372, Accuracy: 9210/10000 (92.10%)\n",
            "\n"
          ]
        }
      ]
    }
  ],
  "metadata": {
    "accelerator": "GPU",
    "colab": {
      "provenance": []
    },
    "gpuClass": "standard",
    "kernelspec": {
      "display_name": "Python 3",
      "name": "python3"
    },
    "language_info": {
      "name": "python"
    }
  },
  "nbformat": 4,
  "nbformat_minor": 0
}