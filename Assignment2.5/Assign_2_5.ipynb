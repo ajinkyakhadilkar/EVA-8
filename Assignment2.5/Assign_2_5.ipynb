{
  "nbformat": 4,
  "nbformat_minor": 0,
  "metadata": {
    "colab": {
      "provenance": []
    },
    "kernelspec": {
      "name": "python3",
      "display_name": "Python 3"
    },
    "language_info": {
      "name": "python"
    },
    "accelerator": "GPU",
    "gpuClass": "standard"
  },
  "cells": [
    {
      "cell_type": "code",
      "execution_count": null,
      "metadata": {
        "id": "1Kq1_e5Sx0HO",
        "colab": {
          "base_uri": "https://localhost:8080/"
        },
        "outputId": "e43a699b-97c7-4ae9-9d9f-7436c99a5142"
      },
      "outputs": [
        {
          "output_type": "stream",
          "name": "stdout",
          "text": [
            "Looking in indexes: https://pypi.org/simple, https://us-python.pkg.dev/colab-wheels/public/simple/\n",
            "Requirement already satisfied: torch in /usr/local/lib/python3.8/dist-packages (1.13.0+cu116)\n",
            "Requirement already satisfied: typing-extensions in /usr/local/lib/python3.8/dist-packages (from torch) (4.4.0)\n",
            "Looking in indexes: https://pypi.org/simple, https://us-python.pkg.dev/colab-wheels/public/simple/\n",
            "Requirement already satisfied: torchvision in /usr/local/lib/python3.8/dist-packages (0.14.0+cu116)\n",
            "Requirement already satisfied: pillow!=8.3.*,>=5.3.0 in /usr/local/lib/python3.8/dist-packages (from torchvision) (7.1.2)\n",
            "Requirement already satisfied: torch==1.13.0 in /usr/local/lib/python3.8/dist-packages (from torchvision) (1.13.0+cu116)\n",
            "Requirement already satisfied: requests in /usr/local/lib/python3.8/dist-packages (from torchvision) (2.23.0)\n",
            "Requirement already satisfied: numpy in /usr/local/lib/python3.8/dist-packages (from torchvision) (1.21.6)\n",
            "Requirement already satisfied: typing-extensions in /usr/local/lib/python3.8/dist-packages (from torchvision) (4.4.0)\n",
            "Requirement already satisfied: certifi>=2017.4.17 in /usr/local/lib/python3.8/dist-packages (from requests->torchvision) (2022.12.7)\n",
            "Requirement already satisfied: chardet<4,>=3.0.2 in /usr/local/lib/python3.8/dist-packages (from requests->torchvision) (3.0.4)\n",
            "Requirement already satisfied: urllib3!=1.25.0,!=1.25.1,<1.26,>=1.21.1 in /usr/local/lib/python3.8/dist-packages (from requests->torchvision) (1.24.3)\n",
            "Requirement already satisfied: idna<3,>=2.5 in /usr/local/lib/python3.8/dist-packages (from requests->torchvision) (2.10)\n",
            "Looking in indexes: https://pypi.org/simple, https://us-python.pkg.dev/colab-wheels/public/simple/\n",
            "Requirement already satisfied: numpy in /usr/local/lib/python3.8/dist-packages (1.21.6)\n",
            "Looking in indexes: https://pypi.org/simple, https://us-python.pkg.dev/colab-wheels/public/simple/\n",
            "Requirement already satisfied: matplotlib in /usr/local/lib/python3.8/dist-packages (3.2.2)\n",
            "Requirement already satisfied: python-dateutil>=2.1 in /usr/local/lib/python3.8/dist-packages (from matplotlib) (2.8.2)\n",
            "Requirement already satisfied: pyparsing!=2.0.4,!=2.1.2,!=2.1.6,>=2.0.1 in /usr/local/lib/python3.8/dist-packages (from matplotlib) (3.0.9)\n",
            "Requirement already satisfied: cycler>=0.10 in /usr/local/lib/python3.8/dist-packages (from matplotlib) (0.11.0)\n",
            "Requirement already satisfied: numpy>=1.11 in /usr/local/lib/python3.8/dist-packages (from matplotlib) (1.21.6)\n",
            "Requirement already satisfied: kiwisolver>=1.0.1 in /usr/local/lib/python3.8/dist-packages (from matplotlib) (1.4.4)\n",
            "Requirement already satisfied: six>=1.5 in /usr/local/lib/python3.8/dist-packages (from python-dateutil>=2.1->matplotlib) (1.15.0)\n"
          ]
        }
      ],
      "source": [
        "!pip install torch\n",
        "!pip install torchvision\n",
        "!pip install numpy\n",
        "!pip install matplotlib"
      ]
    },
    {
      "cell_type": "code",
      "source": [
        "import torch\n",
        "import torch.nn as nn\n",
        "import torch.optim as optim\n",
        "import torch.nn.functional as F\n",
        "import torchvision # provide access to datasets, models, transforms, utils, etc\n",
        "import torchvision.transforms as transforms\n",
        "import numpy as np\n",
        "import matplotlib.pyplot as plt\n",
        "import random"
      ],
      "metadata": {
        "id": "SwQrgEUslre9"
      },
      "execution_count": 2,
      "outputs": []
    },
    {
      "cell_type": "code",
      "source": [
        "#MNIST Dataset\n",
        "train_set = torchvision.datasets.MNIST(\n",
        "    root='./data'\n",
        "    ,train=True\n",
        "    ,download=True\n",
        "    ,transform=transforms.Compose([\n",
        "        transforms.ToTensor()\n",
        "    ])\n",
        ")\n",
        "print(train_set[0][0].size)\n",
        "train_loader = torch.utils.data.DataLoader(train_set\n",
        "    ,batch_size=32\n",
        "    ,shuffle=True\n",
        ")\n",
        "\n",
        "torch.set_printoptions(linewidth=120)"
      ],
      "metadata": {
        "colab": {
          "base_uri": "https://localhost:8080/",
          "height": 252
        },
        "id": "H8p-yEQ2npQF",
        "outputId": "3125e7fb-c48b-4cde-f445-ac71943fa79d"
      },
      "execution_count": 9,
      "outputs": [
        {
          "output_type": "stream",
          "name": "stdout",
          "text": [
            "<built-in method size of Tensor object at 0x7f5f3a246b80>\n"
          ]
        },
        {
          "output_type": "error",
          "ename": "AttributeError",
          "evalue": "ignored",
          "traceback": [
            "\u001b[0;31m---------------------------------------------------------------------------\u001b[0m",
            "\u001b[0;31mAttributeError\u001b[0m                            Traceback (most recent call last)",
            "\u001b[0;32m<ipython-input-9-9218f9ebaf11>\u001b[0m in \u001b[0;36m<module>\u001b[0;34m\u001b[0m\n\u001b[1;32m      9\u001b[0m )\n\u001b[1;32m     10\u001b[0m \u001b[0mprint\u001b[0m\u001b[0;34m(\u001b[0m\u001b[0mtrain_set\u001b[0m\u001b[0;34m[\u001b[0m\u001b[0;36m0\u001b[0m\u001b[0;34m]\u001b[0m\u001b[0;34m[\u001b[0m\u001b[0;36m0\u001b[0m\u001b[0;34m]\u001b[0m\u001b[0;34m.\u001b[0m\u001b[0msize\u001b[0m\u001b[0;34m)\u001b[0m\u001b[0;34m\u001b[0m\u001b[0;34m\u001b[0m\u001b[0m\n\u001b[0;32m---> 11\u001b[0;31m train_loader = torch.utils.data.DataLoader(train_set\n\u001b[0m\u001b[1;32m     12\u001b[0m     \u001b[0;34m,\u001b[0m\u001b[0mbatch_size\u001b[0m\u001b[0;34m=\u001b[0m\u001b[0;36m32\u001b[0m\u001b[0;34m\u001b[0m\u001b[0;34m\u001b[0m\u001b[0m\n\u001b[1;32m     13\u001b[0m     \u001b[0;34m,\u001b[0m\u001b[0mshuffle\u001b[0m\u001b[0;34m=\u001b[0m\u001b[0;32mTrue\u001b[0m\u001b[0;34m\u001b[0m\u001b[0;34m\u001b[0m\u001b[0m\n",
            "\u001b[0;31mAttributeError\u001b[0m: 'DataLoader' object has no attribute 'to'"
          ]
        }
      ]
    },
    {
      "cell_type": "code",
      "source": [
        "def get_num_correct(preds, labels):\n",
        "  return preds.argmax(dim=1).eq(labels).sum().item()\n"
      ],
      "metadata": {
        "id": "2GE59JnVntME"
      },
      "execution_count": 4,
      "outputs": []
    },
    {
      "cell_type": "code",
      "source": [
        "class Network(nn.Module):\n",
        "  def __init__(self):\n",
        "    super().__init__()\n",
        "    #conv1 | input=28*28*1 | output=24*24*6 | RF=5\n",
        "    self.conv1 = nn.Conv2d(in_channels=1, out_channels=6, kernel_size=5)\n",
        "    #MP1 | input=24*24*6 | output=12*12*6 | RF=10\n",
        "    #conv2 | input=12*12*6 | output=8*8*12 | RF=14\n",
        "    self.conv2 = nn.Conv2d(in_channels=6, out_channels=12, kernel_size=5) \n",
        "    #conv3 | input=8*8*12 | output=4*4*32 | RF=18\n",
        "    self.conv3 = nn.Conv2d(in_channels=12, out_channels=32, kernel_size=5)\n",
        "    #MP2 | input=4*4*32 | output=2*2*32 | RF=36\n",
        "    #FC1 | input=2*2*32 | out_features = 32\n",
        "    self.fc1 = nn.Linear(in_features=32*2*2, out_features=32)\n",
        "    #Output/MNIST | input=32 | out_features=10\n",
        "    self.out = nn.Linear(in_features=32, out_features=10)\n",
        "    #FC2/Sum | input=11 | out_features=19\n",
        "    self.fc2 = nn.Linear(in_features=11, out_features=19)\n",
        "  \n",
        "  def forward(self, t, num, model):\n",
        "    x = t\n",
        "    if model == 'mnist':\n",
        "      # input layer\n",
        "      \n",
        "      # conv1 layer\n",
        "      x = self.conv1(x)\n",
        "      x = F.relu(x)\n",
        "      x = F.max_pool2d(x, kernel_size=2, stride=2)\n",
        "      \n",
        "      # conv2 layer\n",
        "      x = self.conv2(x)\n",
        "      x = F.relu(x)\n",
        "      \n",
        "      #conv3 1d conv layer\n",
        "      x = self.conv3(x)\n",
        "      x = F.relu(x)\n",
        "      x = F.max_pool2d(x, kernel_size=2, stride=2)\n",
        "      \n",
        "      # reshape\n",
        "      #print(x.shape)\n",
        "      x = x.reshape(-1, 32*2*2)\n",
        "      \n",
        "      # fc1 layer\n",
        "      x = self.fc1(x)\n",
        "      x = F.relu(x)\n",
        "      \n",
        "      # fc2 layer\n",
        "      #x = self.fc2(x)\n",
        "      #x = F.relu(x)\n",
        "      \n",
        "      # output layer\n",
        "      x = self.out(x)\n",
        "      #print(x.size())\n",
        "      #print(num.size())\n",
        "      #print(torch.transpose(num, 0, 1).size())\n",
        "    if model=='sum':\n",
        "      #merge prediction and random number\n",
        "      x=torch.cat((x, torch.transpose(num, 0, 1)), 1)\n",
        "      x = self.fc2(x)\n",
        "\n",
        "\n",
        "    #x = F.softmax(x, dim=1)\n",
        "    return x"
      ],
      "metadata": {
        "id": "TFPyQrOPnvhs"
      },
      "execution_count": 5,
      "outputs": []
    },
    {
      "cell_type": "code",
      "source": [
        "def get_random_num():\n",
        "  return torch.tensor([[random.randrange(1,10) for i in range(0,32)]])"
      ],
      "metadata": {
        "id": "2kyvthlqzJmD"
      },
      "execution_count": 6,
      "outputs": []
    },
    {
      "cell_type": "code",
      "source": [
        "network = Network()\n",
        "device = torch.device('cuda')\n",
        "\n",
        "torch.set_grad_enabled(True)\n",
        "\n",
        "for epoch in range(30):\n",
        "    total_loss = 0\n",
        "    total_correct = 0\n",
        "    lr = 1/((epoch+1)*(epoch+1)*(epoch+1))\n",
        "    optimizer = optim.Adam(network.parameters(), 0.001)\n",
        "\n",
        "    for batch in train_loader: # Get Batch\n",
        "\n",
        "        images, labels = batch\n",
        "        rand_num = get_random_num()\n",
        "\n",
        "        preds_mnist = network(images, rand_num, 'mnist') # Pass Batch\n",
        "        preds_sum = network(preds_mnist, rand_num, 'sum') # Pass Batch\n",
        "        #print(labels)\n",
        "        #print(rand_num[0])\n",
        "        loss_mnist = F.cross_entropy(preds_mnist, labels) # Calculate Loss\n",
        "        loss_sum = F.cross_entropy(preds_sum, torch.add(labels, rand_num[0])) # Calculate Loss\n",
        "\n",
        "        optimizer.zero_grad()\n",
        "        loss_sum.backward() # Calculate Gradients\n",
        "        optimizer.step() # Update Weights\n",
        "\n",
        "        total_loss += loss_sum.item()\n",
        "        total_correct += get_num_correct(preds_sum, torch.add(labels, rand_num[0]))\n",
        "        #print('loss after batch: '+str(total_loss))\n",
        "        #print('correct after batch: '+str(total_correct))\n",
        "\n",
        "    \"\"\"\n",
        "    preds = network(images) # Pass Batch\n",
        "    loss = F.cross_entropy(preds, labels) # Calculate Loss\n",
        "\n",
        "    optimizer.zero_grad()\n",
        "    loss.backward() # Calculate Gradients\n",
        "    optimizer.step() # Update Weights\n",
        "\n",
        "    total_loss += loss.item()\n",
        "    total_correct += get_num_correct(preds, labels)\n",
        "    \"\"\"\n",
        "    print(\n",
        "        \"epoch:\", epoch, \n",
        "        \"total_correct:\", total_correct, \n",
        "        \"loss:\", total_loss\n",
        "    )\n"
      ],
      "metadata": {
        "colab": {
          "base_uri": "https://localhost:8080/"
        },
        "id": "Pt92CdubnynE",
        "outputId": "e3767ee6-8959-49b7-d4b3-46a6968b58c5"
      },
      "execution_count": 13,
      "outputs": [
        {
          "output_type": "stream",
          "name": "stdout",
          "text": [
            "epoch: 0 total_correct: 10390 loss: 4429.671415448189\n",
            "epoch: 1 total_correct: 18438 loss: 3460.265366077423\n",
            "epoch: 2 total_correct: 22444 loss: 3116.235142827034\n",
            "epoch: 3 total_correct: 25308 loss: 2914.4169557094574\n",
            "epoch: 4 total_correct: 27150 loss: 2776.4529504776\n",
            "epoch: 5 total_correct: 28924 loss: 2667.3346207141876\n",
            "epoch: 6 total_correct: 30617 loss: 2578.0346195697784\n",
            "epoch: 7 total_correct: 31800 loss: 2497.303243994713\n",
            "epoch: 8 total_correct: 33094 loss: 2432.204349040985\n",
            "epoch: 9 total_correct: 34154 loss: 2367.8478249311447\n",
            "epoch: 10 total_correct: 35203 loss: 2316.396575450897\n",
            "epoch: 11 total_correct: 36276 loss: 2266.422708451748\n",
            "epoch: 12 total_correct: 37505 loss: 2222.670917034149\n",
            "epoch: 13 total_correct: 38123 loss: 2174.9415504932404\n",
            "epoch: 14 total_correct: 38808 loss: 2137.7498277425766\n",
            "epoch: 15 total_correct: 39911 loss: 2104.5669313669205\n",
            "epoch: 16 total_correct: 40265 loss: 2068.424749970436\n",
            "epoch: 17 total_correct: 40849 loss: 2037.6919121742249\n",
            "epoch: 18 total_correct: 42122 loss: 2006.7010207176208\n",
            "epoch: 19 total_correct: 42278 loss: 1980.1332124471664\n",
            "epoch: 20 total_correct: 43565 loss: 1946.6533694267273\n",
            "epoch: 21 total_correct: 43923 loss: 1924.9403038024902\n",
            "epoch: 22 total_correct: 44083 loss: 1896.6454605460167\n",
            "epoch: 23 total_correct: 44444 loss: 1873.3748390078545\n",
            "epoch: 24 total_correct: 45137 loss: 1854.2574985027313\n",
            "epoch: 25 total_correct: 45494 loss: 1829.713345348835\n",
            "epoch: 26 total_correct: 45807 loss: 1813.2161071300507\n",
            "epoch: 27 total_correct: 46203 loss: 1789.4057226777077\n",
            "epoch: 28 total_correct: 46315 loss: 1770.0101960897446\n",
            "epoch: 29 total_correct: 47001 loss: 1750.6544769406319\n"
          ]
        }
      ]
    },
    {
      "cell_type": "code",
      "source": [
        "test_set = torchvision.datasets.MNIST(\n",
        "    root='./data'\n",
        "    ,train=False\n",
        "    ,download=True\n",
        "    ,transform=transforms.Compose([\n",
        "        transforms.ToTensor()\n",
        "    ])\n",
        ")\n",
        "\n",
        "test_loader = torch.utils.data.DataLoader(test_set\n",
        "    ,batch_size=1\n",
        "    ,shuffle=True\n",
        ")\n",
        "\n",
        "#print(next(iter(test_loader)))\n",
        "#image, label = next(iter(test_loader))\n",
        "#plt.imshow(image.squeeze(), cmap='gray')\n",
        "#print('label:', label)"
      ],
      "metadata": {
        "id": "Hn6-u1aMrSPd"
      },
      "execution_count": 14,
      "outputs": []
    },
    {
      "cell_type": "code",
      "source": [
        "image, label = next(iter(test_loader))\n",
        "network(network(image, None, 'mnist'), 5, 'sum')"
      ],
      "metadata": {
        "colab": {
          "base_uri": "https://localhost:8080/",
          "height": 397
        },
        "id": "zf6IrT8brY30",
        "outputId": "aa4a8622-9608-4d62-8e26-df12f2d5adcc"
      },
      "execution_count": 15,
      "outputs": [
        {
          "output_type": "error",
          "ename": "TypeError",
          "evalue": "ignored",
          "traceback": [
            "\u001b[0;31m---------------------------------------------------------------------------\u001b[0m",
            "\u001b[0;31mTypeError\u001b[0m                                 Traceback (most recent call last)",
            "\u001b[0;32m<ipython-input-15-e0f24f2bd2c3>\u001b[0m in \u001b[0;36m<module>\u001b[0;34m\u001b[0m\n\u001b[1;32m      1\u001b[0m \u001b[0mimage\u001b[0m\u001b[0;34m,\u001b[0m \u001b[0mlabel\u001b[0m \u001b[0;34m=\u001b[0m \u001b[0mnext\u001b[0m\u001b[0;34m(\u001b[0m\u001b[0miter\u001b[0m\u001b[0;34m(\u001b[0m\u001b[0mtest_loader\u001b[0m\u001b[0;34m)\u001b[0m\u001b[0;34m)\u001b[0m\u001b[0;34m\u001b[0m\u001b[0;34m\u001b[0m\u001b[0m\n\u001b[0;32m----> 2\u001b[0;31m \u001b[0mnetwork\u001b[0m\u001b[0;34m(\u001b[0m\u001b[0mnetwork\u001b[0m\u001b[0;34m(\u001b[0m\u001b[0mimage\u001b[0m\u001b[0;34m,\u001b[0m \u001b[0;32mNone\u001b[0m\u001b[0;34m,\u001b[0m \u001b[0;34m'mnist'\u001b[0m\u001b[0;34m)\u001b[0m\u001b[0;34m,\u001b[0m \u001b[0;36m5\u001b[0m\u001b[0;34m,\u001b[0m \u001b[0;34m'sum'\u001b[0m\u001b[0;34m)\u001b[0m\u001b[0;34m\u001b[0m\u001b[0;34m\u001b[0m\u001b[0m\n\u001b[0m",
            "\u001b[0;32m/usr/local/lib/python3.8/dist-packages/torch/nn/modules/module.py\u001b[0m in \u001b[0;36m_call_impl\u001b[0;34m(self, *input, **kwargs)\u001b[0m\n\u001b[1;32m   1188\u001b[0m         if not (self._backward_hooks or self._forward_hooks or self._forward_pre_hooks or _global_backward_hooks\n\u001b[1;32m   1189\u001b[0m                 or _global_forward_hooks or _global_forward_pre_hooks):\n\u001b[0;32m-> 1190\u001b[0;31m             \u001b[0;32mreturn\u001b[0m \u001b[0mforward_call\u001b[0m\u001b[0;34m(\u001b[0m\u001b[0;34m*\u001b[0m\u001b[0minput\u001b[0m\u001b[0;34m,\u001b[0m \u001b[0;34m**\u001b[0m\u001b[0mkwargs\u001b[0m\u001b[0;34m)\u001b[0m\u001b[0;34m\u001b[0m\u001b[0;34m\u001b[0m\u001b[0m\n\u001b[0m\u001b[1;32m   1191\u001b[0m         \u001b[0;31m# Do not call functions when jit is used\u001b[0m\u001b[0;34m\u001b[0m\u001b[0;34m\u001b[0m\u001b[0;34m\u001b[0m\u001b[0m\n\u001b[1;32m   1192\u001b[0m         \u001b[0mfull_backward_hooks\u001b[0m\u001b[0;34m,\u001b[0m \u001b[0mnon_full_backward_hooks\u001b[0m \u001b[0;34m=\u001b[0m \u001b[0;34m[\u001b[0m\u001b[0;34m]\u001b[0m\u001b[0;34m,\u001b[0m \u001b[0;34m[\u001b[0m\u001b[0;34m]\u001b[0m\u001b[0;34m\u001b[0m\u001b[0;34m\u001b[0m\u001b[0m\n",
            "\u001b[0;32m<ipython-input-5-563bc3bef74a>\u001b[0m in \u001b[0;36mforward\u001b[0;34m(self, t, num, model)\u001b[0m\n\u001b[1;32m     54\u001b[0m     \u001b[0;32mif\u001b[0m \u001b[0mmodel\u001b[0m\u001b[0;34m==\u001b[0m\u001b[0;34m'sum'\u001b[0m\u001b[0;34m:\u001b[0m\u001b[0;34m\u001b[0m\u001b[0;34m\u001b[0m\u001b[0m\n\u001b[1;32m     55\u001b[0m       \u001b[0;31m#merge prediction and random number\u001b[0m\u001b[0;34m\u001b[0m\u001b[0;34m\u001b[0m\u001b[0;34m\u001b[0m\u001b[0m\n\u001b[0;32m---> 56\u001b[0;31m       \u001b[0mx\u001b[0m\u001b[0;34m=\u001b[0m\u001b[0mtorch\u001b[0m\u001b[0;34m.\u001b[0m\u001b[0mcat\u001b[0m\u001b[0;34m(\u001b[0m\u001b[0;34m(\u001b[0m\u001b[0mx\u001b[0m\u001b[0;34m,\u001b[0m \u001b[0mtorch\u001b[0m\u001b[0;34m.\u001b[0m\u001b[0mtranspose\u001b[0m\u001b[0;34m(\u001b[0m\u001b[0mnum\u001b[0m\u001b[0;34m,\u001b[0m \u001b[0;36m0\u001b[0m\u001b[0;34m,\u001b[0m \u001b[0;36m1\u001b[0m\u001b[0;34m)\u001b[0m\u001b[0;34m)\u001b[0m\u001b[0;34m,\u001b[0m \u001b[0;36m1\u001b[0m\u001b[0;34m)\u001b[0m\u001b[0;34m\u001b[0m\u001b[0;34m\u001b[0m\u001b[0m\n\u001b[0m\u001b[1;32m     57\u001b[0m       \u001b[0mx\u001b[0m \u001b[0;34m=\u001b[0m \u001b[0mself\u001b[0m\u001b[0;34m.\u001b[0m\u001b[0mfc2\u001b[0m\u001b[0;34m(\u001b[0m\u001b[0mx\u001b[0m\u001b[0;34m)\u001b[0m\u001b[0;34m\u001b[0m\u001b[0;34m\u001b[0m\u001b[0m\n\u001b[1;32m     58\u001b[0m \u001b[0;34m\u001b[0m\u001b[0m\n",
            "\u001b[0;31mTypeError\u001b[0m: transpose() received an invalid combination of arguments - got (int, int, int), but expected one of:\n * (Tensor input, int dim0, int dim1)\n      didn't match because some of the arguments have invalid types: (!int!, int, int)\n * (Tensor input, name dim0, name dim1)\n      didn't match because some of the arguments have invalid types: (!int!, !int!, !int!)\n"
          ]
        }
      ]
    },
    {
      "cell_type": "code",
      "source": [
        "image, label = next(iter(test_loader))\n",
        "plt.imshow(image.squeeze(), cmap='gray')\n",
        "print('label:', label)\n",
        "torch.argmax(network(network(image,None, 'mnist'), torch.tensor([[7]]), 'sum'))"
      ],
      "metadata": {
        "colab": {
          "base_uri": "https://localhost:8080/",
          "height": 300
        },
        "id": "aqMCjGYarisE",
        "outputId": "29205081-2f27-4fbd-a676-7323e22bdb12"
      },
      "execution_count": 18,
      "outputs": [
        {
          "output_type": "stream",
          "name": "stdout",
          "text": [
            "label: tensor([2])\n"
          ]
        },
        {
          "output_type": "execute_result",
          "data": {
            "text/plain": [
              "tensor(9)"
            ]
          },
          "metadata": {},
          "execution_count": 18
        },
        {
          "output_type": "display_data",
          "data": {
            "text/plain": [
              "<Figure size 432x288 with 1 Axes>"
            ],
            "image/png": "[encoded data removed]"
          },
          "metadata": {
            "needs_background": "light"
          }
        }
      ]
    }
  ]
}