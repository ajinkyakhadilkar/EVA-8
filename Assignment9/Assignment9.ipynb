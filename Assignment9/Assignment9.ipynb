{
 "cells": [
  {
   "cell_type": "code",
   "execution_count": 11,
   "id": "c32116a9",
   "metadata": {},
   "outputs": [
    {
     "name": "stderr",
     "output_type": "stream",
     "text": [
      "Cloning into 'pytorch-cifar-for-EVA'...\n",
      "A duplicate file name exists, or the file\n",
      "cannot be found.\n"
     ]
    },
    {
     "name": "stdout",
     "output_type": "stream",
     "text": [
      "Requirement already satisfied: grad-cam in d:\\learning\\eva_8\\venv\\lib\\site-packages (1.4.6)\n",
      "Requirement already satisfied: torchvision>=0.8.2 in d:\\learning\\eva_8\\venv\\lib\\site-packages (from grad-cam) (0.14.1+cu117)\n",
      "Requirement already satisfied: Pillow in d:\\learning\\eva_8\\venv\\lib\\site-packages (from grad-cam) (9.3.0)\n",
      "Requirement already satisfied: opencv-python in d:\\learning\\eva_8\\venv\\lib\\site-packages (from grad-cam) (4.7.0.72)\n",
      "Requirement already satisfied: scikit-learn in d:\\learning\\eva_8\\venv\\lib\\site-packages (from grad-cam) (1.2.1)\n",
      "Requirement already satisfied: numpy in d:\\learning\\eva_8\\venv\\lib\\site-packages (from grad-cam) (1.24.0)\n",
      "Requirement already satisfied: tqdm in d:\\learning\\eva_8\\venv\\lib\\site-packages (from grad-cam) (4.64.1)\n",
      "Requirement already satisfied: matplotlib in d:\\learning\\eva_8\\venv\\lib\\site-packages (from grad-cam) (3.6.2)\n",
      "Requirement already satisfied: torch>=1.7.1 in d:\\learning\\eva_8\\venv\\lib\\site-packages (from grad-cam) (1.13.1+cu117)\n",
      "Requirement already satisfied: ttach in d:\\learning\\eva_8\\venv\\lib\\site-packages (from grad-cam) (0.0.3)\n",
      "Requirement already satisfied: typing-extensions in d:\\learning\\eva_8\\venv\\lib\\site-packages (from torch>=1.7.1->grad-cam) (4.4.0)\n",
      "Requirement already satisfied: requests in d:\\learning\\eva_8\\venv\\lib\\site-packages (from torchvision>=0.8.2->grad-cam) (2.28.1)\n",
      "Requirement already satisfied: python-dateutil>=2.7 in d:\\learning\\eva_8\\venv\\lib\\site-packages (from matplotlib->grad-cam) (2.8.2)\n",
      "Requirement already satisfied: fonttools>=4.22.0 in d:\\learning\\eva_8\\venv\\lib\\site-packages (from matplotlib->grad-cam) (4.38.0)\n",
      "Requirement already satisfied: contourpy>=1.0.1 in d:\\learning\\eva_8\\venv\\lib\\site-packages (from matplotlib->grad-cam) (1.0.6)\n",
      "Requirement already satisfied: kiwisolver>=1.0.1 in d:\\learning\\eva_8\\venv\\lib\\site-packages (from matplotlib->grad-cam) (1.4.4)\n",
      "Requirement already satisfied: packaging>=20.0 in d:\\learning\\eva_8\\venv\\lib\\site-packages (from matplotlib->grad-cam) (22.0)\n",
      "Requirement already satisfied: pyparsing>=2.2.1 in d:\\learning\\eva_8\\venv\\lib\\site-packages (from matplotlib->grad-cam) (3.0.9)\n",
      "Requirement already satisfied: cycler>=0.10 in d:\\learning\\eva_8\\venv\\lib\\site-packages (from matplotlib->grad-cam) (0.11.0)\n",
      "Requirement already satisfied: scipy>=1.3.2 in d:\\learning\\eva_8\\venv\\lib\\site-packages (from scikit-learn->grad-cam) (1.10.1)\n",
      "Requirement already satisfied: threadpoolctl>=2.0.0 in d:\\learning\\eva_8\\venv\\lib\\site-packages (from scikit-learn->grad-cam) (3.1.0)\n",
      "Requirement already satisfied: joblib>=1.1.1 in d:\\learning\\eva_8\\venv\\lib\\site-packages (from scikit-learn->grad-cam) (1.2.0)\n",
      "Requirement already satisfied: colorama in d:\\learning\\eva_8\\venv\\lib\\site-packages (from tqdm->grad-cam) (0.4.6)\n",
      "Requirement already satisfied: six>=1.5 in d:\\learning\\eva_8\\venv\\lib\\site-packages (from python-dateutil>=2.7->matplotlib->grad-cam) (1.16.0)\n",
      "Requirement already satisfied: urllib3<1.27,>=1.21.1 in d:\\learning\\eva_8\\venv\\lib\\site-packages (from requests->torchvision>=0.8.2->grad-cam) (1.26.13)\n",
      "Requirement already satisfied: certifi>=2017.4.17 in d:\\learning\\eva_8\\venv\\lib\\site-packages (from requests->torchvision>=0.8.2->grad-cam) (2022.12.7)\n",
      "Requirement already satisfied: charset-normalizer<3,>=2 in d:\\learning\\eva_8\\venv\\lib\\site-packages (from requests->torchvision>=0.8.2->grad-cam) (2.1.1)\n",
      "Requirement already satisfied: idna<4,>=2.5 in d:\\learning\\eva_8\\venv\\lib\\site-packages (from requests->torchvision>=0.8.2->grad-cam) (3.4)\n"
     ]
    },
    {
     "name": "stderr",
     "output_type": "stream",
     "text": [
      "WARNING: You are using pip version 22.0.4; however, version 23.0.1 is available.\n",
      "You should consider upgrading via the 'D:\\Learning\\EVA_8\\venv\\Scripts\\python.exe -m pip install --upgrade pip' command.\n"
     ]
    },
    {
     "name": "stdout",
     "output_type": "stream",
     "text": [
      "Requirement already satisfied: albumentations in d:\\learning\\eva_8\\venv\\lib\\site-packages (1.3.0)\n",
      "Requirement already satisfied: PyYAML in d:\\learning\\eva_8\\venv\\lib\\site-packages (from albumentations) (6.0)\n",
      "Requirement already satisfied: qudida>=0.0.4 in d:\\learning\\eva_8\\venv\\lib\\site-packages (from albumentations) (0.0.4)\n",
      "Requirement already satisfied: scipy in d:\\learning\\eva_8\\venv\\lib\\site-packages (from albumentations) (1.10.1)\n",
      "Requirement already satisfied: scikit-image>=0.16.1 in d:\\learning\\eva_8\\venv\\lib\\site-packages (from albumentations) (0.19.3)\n",
      "Requirement already satisfied: opencv-python-headless>=4.1.1 in d:\\learning\\eva_8\\venv\\lib\\site-packages (from albumentations) (4.7.0.72)\n",
      "Requirement already satisfied: numpy>=1.11.1 in d:\\learning\\eva_8\\venv\\lib\\site-packages (from albumentations) (1.24.0)\n",
      "Requirement already satisfied: scikit-learn>=0.19.1 in d:\\learning\\eva_8\\venv\\lib\\site-packages (from qudida>=0.0.4->albumentations) (1.2.1)\n",
      "Requirement already satisfied: typing-extensions in d:\\learning\\eva_8\\venv\\lib\\site-packages (from qudida>=0.0.4->albumentations) (4.4.0)\n",
      "Requirement already satisfied: imageio>=2.4.1 in d:\\learning\\eva_8\\venv\\lib\\site-packages (from scikit-image>=0.16.1->albumentations) (2.25.1)\n",
      "Requirement already satisfied: PyWavelets>=1.1.1 in d:\\learning\\eva_8\\venv\\lib\\site-packages (from scikit-image>=0.16.1->albumentations) (1.4.1)\n",
      "Requirement already satisfied: tifffile>=2019.7.26 in d:\\learning\\eva_8\\venv\\lib\\site-packages (from scikit-image>=0.16.1->albumentations) (2023.2.3)\n",
      "Requirement already satisfied: packaging>=20.0 in d:\\learning\\eva_8\\venv\\lib\\site-packages (from scikit-image>=0.16.1->albumentations) (22.0)\n",
      "Requirement already satisfied: pillow!=7.1.0,!=7.1.1,!=8.3.0,>=6.1.0 in d:\\learning\\eva_8\\venv\\lib\\site-packages (from scikit-image>=0.16.1->albumentations) (9.3.0)\n",
      "Requirement already satisfied: networkx>=2.2 in d:\\learning\\eva_8\\venv\\lib\\site-packages (from scikit-image>=0.16.1->albumentations) (3.0)\n",
      "Requirement already satisfied: joblib>=1.1.1 in d:\\learning\\eva_8\\venv\\lib\\site-packages (from scikit-learn>=0.19.1->qudida>=0.0.4->albumentations) (1.2.0)\n",
      "Requirement already satisfied: threadpoolctl>=2.0.0 in d:\\learning\\eva_8\\venv\\lib\\site-packages (from scikit-learn>=0.19.1->qudida>=0.0.4->albumentations) (3.1.0)\n"
     ]
    },
    {
     "name": "stderr",
     "output_type": "stream",
     "text": [
      "WARNING: You are using pip version 22.0.4; however, version 23.0.1 is available.\n",
      "You should consider upgrading via the 'D:\\Learning\\EVA_8\\venv\\Scripts\\python.exe -m pip install --upgrade pip' command.\n"
     ]
    },
    {
     "name": "stdout",
     "output_type": "stream",
     "text": [
      "Collecting torchsummary\n",
      "  Downloading torchsummary-1.5.1-py3-none-any.whl (2.8 kB)\n",
      "Installing collected packages: torchsummary\n",
      "Successfully installed torchsummary-1.5.1\n"
     ]
    },
    {
     "name": "stderr",
     "output_type": "stream",
     "text": [
      "WARNING: You are using pip version 22.0.4; however, version 23.0.1 is available.\n",
      "You should consider upgrading via the 'D:\\Learning\\EVA_8\\venv\\Scripts\\python.exe -m pip install --upgrade pip' command.\n"
     ]
    }
   ],
   "source": [
    "!git clone https://github.com/ajinkyakhadilkar/pytorch-cifar-for-EVA.git\n",
    "!rename pytorch-cifar-for-EVA pytorch_cifar"
   ]
  },
  {
   "cell_type": "code",
   "execution_count": 1,
   "id": "92006d10",
   "metadata": {
    "scrolled": true
   },
   "outputs": [
    {
     "name": "stdout",
     "output_type": "stream",
     "text": [
      "Requirement already satisfied: grad-cam in d:\\learning\\eva_8\\venv\\lib\\site-packages (1.4.6)\n",
      "Requirement already satisfied: ttach in d:\\learning\\eva_8\\venv\\lib\\site-packages (from grad-cam) (0.0.3)\n",
      "Requirement already satisfied: torch>=1.7.1 in d:\\learning\\eva_8\\venv\\lib\\site-packages (from grad-cam) (1.13.1+cu117)\n",
      "Requirement already satisfied: numpy in d:\\learning\\eva_8\\venv\\lib\\site-packages (from grad-cam) (1.24.0)\n",
      "Requirement already satisfied: opencv-python in d:\\learning\\eva_8\\venv\\lib\\site-packages (from grad-cam) (4.7.0.72)\n",
      "Requirement already satisfied: matplotlib in d:\\learning\\eva_8\\venv\\lib\\site-packages (from grad-cam) (3.6.2)\n",
      "Requirement already satisfied: torchvision>=0.8.2 in d:\\learning\\eva_8\\venv\\lib\\site-packages (from grad-cam) (0.14.1+cu117)\n",
      "Requirement already satisfied: scikit-learn in d:\\learning\\eva_8\\venv\\lib\\site-packages (from grad-cam) (1.2.1)\n",
      "Requirement already satisfied: tqdm in d:\\learning\\eva_8\\venv\\lib\\site-packages (from grad-cam) (4.64.1)\n",
      "Requirement already satisfied: Pillow in d:\\learning\\eva_8\\venv\\lib\\site-packages (from grad-cam) (9.3.0)\n",
      "Requirement already satisfied: typing-extensions in d:\\learning\\eva_8\\venv\\lib\\site-packages (from torch>=1.7.1->grad-cam) (4.4.0)\n",
      "Requirement already satisfied: requests in d:\\learning\\eva_8\\venv\\lib\\site-packages (from torchvision>=0.8.2->grad-cam) (2.28.1)\n",
      "Requirement already satisfied: cycler>=0.10 in d:\\learning\\eva_8\\venv\\lib\\site-packages (from matplotlib->grad-cam) (0.11.0)\n",
      "Requirement already satisfied: python-dateutil>=2.7 in d:\\learning\\eva_8\\venv\\lib\\site-packages (from matplotlib->grad-cam) (2.8.2)\n",
      "Requirement already satisfied: contourpy>=1.0.1 in d:\\learning\\eva_8\\venv\\lib\\site-packages (from matplotlib->grad-cam) (1.0.6)\n",
      "Requirement already satisfied: fonttools>=4.22.0 in d:\\learning\\eva_8\\venv\\lib\\site-packages (from matplotlib->grad-cam) (4.38.0)\n",
      "Requirement already satisfied: pyparsing>=2.2.1 in d:\\learning\\eva_8\\venv\\lib\\site-packages (from matplotlib->grad-cam) (3.0.9)\n",
      "Requirement already satisfied: kiwisolver>=1.0.1 in d:\\learning\\eva_8\\venv\\lib\\site-packages (from matplotlib->grad-cam) (1.4.4)\n",
      "Requirement already satisfied: packaging>=20.0 in d:\\learning\\eva_8\\venv\\lib\\site-packages (from matplotlib->grad-cam) (22.0)\n",
      "Requirement already satisfied: threadpoolctl>=2.0.0 in d:\\learning\\eva_8\\venv\\lib\\site-packages (from scikit-learn->grad-cam) (3.1.0)\n",
      "Requirement already satisfied: scipy>=1.3.2 in d:\\learning\\eva_8\\venv\\lib\\site-packages (from scikit-learn->grad-cam) (1.10.1)\n",
      "Requirement already satisfied: joblib>=1.1.1 in d:\\learning\\eva_8\\venv\\lib\\site-packages (from scikit-learn->grad-cam) (1.2.0)\n",
      "Requirement already satisfied: colorama in d:\\learning\\eva_8\\venv\\lib\\site-packages (from tqdm->grad-cam) (0.4.6)\n",
      "Requirement already satisfied: six>=1.5 in d:\\learning\\eva_8\\venv\\lib\\site-packages (from python-dateutil>=2.7->matplotlib->grad-cam) (1.16.0)\n",
      "Requirement already satisfied: certifi>=2017.4.17 in d:\\learning\\eva_8\\venv\\lib\\site-packages (from requests->torchvision>=0.8.2->grad-cam) (2022.12.7)\n",
      "Requirement already satisfied: urllib3<1.27,>=1.21.1 in d:\\learning\\eva_8\\venv\\lib\\site-packages (from requests->torchvision>=0.8.2->grad-cam) (1.26.13)\n",
      "Requirement already satisfied: charset-normalizer<3,>=2 in d:\\learning\\eva_8\\venv\\lib\\site-packages (from requests->torchvision>=0.8.2->grad-cam) (2.1.1)\n",
      "Requirement already satisfied: idna<4,>=2.5 in d:\\learning\\eva_8\\venv\\lib\\site-packages (from requests->torchvision>=0.8.2->grad-cam) (3.4)\n"
     ]
    },
    {
     "name": "stderr",
     "output_type": "stream",
     "text": [
      "WARNING: You are using pip version 22.0.4; however, version 23.0.1 is available.\n",
      "You should consider upgrading via the 'D:\\Learning\\EVA_8\\venv\\Scripts\\python.exe -m pip install --upgrade pip' command.\n"
     ]
    },
    {
     "name": "stdout",
     "output_type": "stream",
     "text": [
      "Requirement already satisfied: albumentations in d:\\learning\\eva_8\\venv\\lib\\site-packages (1.3.0)\n",
      "Requirement already satisfied: qudida>=0.0.4 in d:\\learning\\eva_8\\venv\\lib\\site-packages (from albumentations) (0.0.4)\n",
      "Requirement already satisfied: numpy>=1.11.1 in d:\\learning\\eva_8\\venv\\lib\\site-packages (from albumentations) (1.24.0)\n",
      "Requirement already satisfied: scikit-image>=0.16.1 in d:\\learning\\eva_8\\venv\\lib\\site-packages (from albumentations) (0.19.3)\n",
      "Requirement already satisfied: scipy in d:\\learning\\eva_8\\venv\\lib\\site-packages (from albumentations) (1.10.1)\n",
      "Requirement already satisfied: opencv-python-headless>=4.1.1 in d:\\learning\\eva_8\\venv\\lib\\site-packages (from albumentations) (4.7.0.72)\n",
      "Requirement already satisfied: PyYAML in d:\\learning\\eva_8\\venv\\lib\\site-packages (from albumentations) (6.0)\n",
      "Requirement already satisfied: scikit-learn>=0.19.1 in d:\\learning\\eva_8\\venv\\lib\\site-packages (from qudida>=0.0.4->albumentations) (1.2.1)\n",
      "Requirement already satisfied: typing-extensions in d:\\learning\\eva_8\\venv\\lib\\site-packages (from qudida>=0.0.4->albumentations) (4.4.0)\n",
      "Requirement already satisfied: packaging>=20.0 in d:\\learning\\eva_8\\venv\\lib\\site-packages (from scikit-image>=0.16.1->albumentations) (22.0)\n",
      "Requirement already satisfied: PyWavelets>=1.1.1 in d:\\learning\\eva_8\\venv\\lib\\site-packages (from scikit-image>=0.16.1->albumentations) (1.4.1)\n",
      "Requirement already satisfied: imageio>=2.4.1 in d:\\learning\\eva_8\\venv\\lib\\site-packages (from scikit-image>=0.16.1->albumentations) (2.25.1)\n",
      "Requirement already satisfied: pillow!=7.1.0,!=7.1.1,!=8.3.0,>=6.1.0 in d:\\learning\\eva_8\\venv\\lib\\site-packages (from scikit-image>=0.16.1->albumentations) (9.3.0)\n",
      "Requirement already satisfied: tifffile>=2019.7.26 in d:\\learning\\eva_8\\venv\\lib\\site-packages (from scikit-image>=0.16.1->albumentations) (2023.2.3)\n",
      "Requirement already satisfied: networkx>=2.2 in d:\\learning\\eva_8\\venv\\lib\\site-packages (from scikit-image>=0.16.1->albumentations) (3.0)\n",
      "Requirement already satisfied: joblib>=1.1.1 in d:\\learning\\eva_8\\venv\\lib\\site-packages (from scikit-learn>=0.19.1->qudida>=0.0.4->albumentations) (1.2.0)\n",
      "Requirement already satisfied: threadpoolctl>=2.0.0 in d:\\learning\\eva_8\\venv\\lib\\site-packages (from scikit-learn>=0.19.1->qudida>=0.0.4->albumentations) (3.1.0)\n"
     ]
    },
    {
     "name": "stderr",
     "output_type": "stream",
     "text": [
      "WARNING: You are using pip version 22.0.4; however, version 23.0.1 is available.\n",
      "You should consider upgrading via the 'D:\\Learning\\EVA_8\\venv\\Scripts\\python.exe -m pip install --upgrade pip' command.\n"
     ]
    },
    {
     "name": "stdout",
     "output_type": "stream",
     "text": [
      "Requirement already satisfied: torchsummary in d:\\learning\\eva_8\\venv\\lib\\site-packages (1.5.1)\n"
     ]
    },
    {
     "name": "stderr",
     "output_type": "stream",
     "text": [
      "WARNING: You are using pip version 22.0.4; however, version 23.0.1 is available.\n",
      "You should consider upgrading via the 'D:\\Learning\\EVA_8\\venv\\Scripts\\python.exe -m pip install --upgrade pip' command.\n"
     ]
    }
   ],
   "source": [
    "!pip install grad-cam\n",
    "!pip install -U albumentations\n",
    "!pip install torchsummary"
   ]
  },
  {
   "cell_type": "code",
   "execution_count": null,
   "id": "c00dadcf",
   "metadata": {},
   "outputs": [],
   "source": [
    "!pip install ipywidgets"
   ]
  },
  {
   "cell_type": "markdown",
   "id": "23c7291b",
   "metadata": {},
   "source": [
    "# Range Test"
   ]
  },
  {
   "cell_type": "code",
   "execution_count": 5,
   "id": "56ee7267",
   "metadata": {},
   "outputs": [
    {
     "name": "stderr",
     "output_type": "stream",
     "text": [
      "Epoch=0 LR=1.029882607207437e-05 Loss=13.073512077331543 batch_id=0 Accuracy=4.69%:   0%| | 1/391 [00:04<27:18,  4.20s/"
     ]
    },
    {
     "name": "stdout",
     "output_type": "stream",
     "text": [
      "1\n",
      "\n",
      " Current LR:1.029882607207437e-05\n",
      "\n",
      " Loss: 13.073512077331543\n",
      "2\n"
     ]
    },
    {
     "name": "stderr",
     "output_type": "stream",
     "text": [
      "Epoch=0 LR=1.1932359866287762e-05 Loss=11.11011012395223 batch_id=5 Accuracy=9.51%:   1%| | 3/391 [00:04<06:41,  1.03s/"
     ]
    },
    {
     "name": "stdout",
     "output_type": "stream",
     "text": [
      "\n",
      " Current LR:1.060658184628388e-05\n",
      "\n",
      " Loss: 12.979204177856445\n",
      "3\n",
      "\n",
      " Current LR:1.0923534165409913e-05\n",
      "\n",
      " Loss: 9.676170349121094\n",
      "4\n",
      "\n",
      " Current LR:1.1249957846191874e-05\n",
      "\n",
      " Loss: 10.308758735656738\n",
      "5\n",
      "\n",
      " Current LR:1.1586135917609852e-05\n",
      "\n",
      " Loss: 9.645108222961426\n",
      "6\n",
      "\n",
      " Current LR:1.1932359866287762e-05\n",
      "\n",
      " Loss: 10.977907180786133\n",
      "7\n",
      "\n",
      " Current LR:1.2288929889229824e-05\n",
      "\n",
      " Loss: 7.859798908233643\n"
     ]
    },
    {
     "name": "stderr",
     "output_type": "stream",
     "text": [
      "Epoch=0 LR=1.555306033560652e-05 Loss=10.67564738591512 batch_id=14 Accuracy=9.58%:   3%| | 13/391 [00:04<00:51,  7.34i"
     ]
    },
    {
     "name": "stdout",
     "output_type": "stream",
     "text": [
      "8\n",
      "\n",
      " Current LR:1.2656155154109411e-05\n",
      "\n",
      " Loss: 9.010895729064941\n",
      "9\n",
      "\n",
      " Current LR:1.3034354067336042e-05\n",
      "\n",
      " Loss: 10.424605369567871\n",
      "10\n",
      "\n",
      " Current LR:1.3423854550132903e-05\n",
      "\n",
      " Loss: 11.673129081726074\n",
      "11\n",
      "\n",
      " Current LR:1.382499432286429e-05\n",
      "\n",
      " Loss: 10.370264053344727\n",
      "12\n",
      "\n",
      " Current LR:1.423812119785949e-05\n",
      "\n",
      " Loss: 11.674994468688965\n",
      "13\n",
      "\n",
      " Current LR:1.4663593380987007e-05\n",
      "\n",
      " Loss: 9.086540222167969\n",
      "14\n",
      "\n",
      " Current LR:1.5101779782240613e-05\n",
      "\n",
      " Loss: 10.988754272460938\n",
      "15\n",
      "\n",
      " Current LR:1.555306033560652e-05\n",
      "\n",
      " Loss: 12.3850679397583\n",
      "16\n",
      "\n",
      " Current LR:1.601782632848902e-05\n",
      "\n",
      " Loss: 4.448969841003418\n"
     ]
    },
    {
     "name": "stderr",
     "output_type": "stream",
     "text": [
      "Epoch=0 LR=2.0878201975462318e-05 Loss=10.560972480773925 batch_id=24 Accuracy=9.72%:   6%| | 23/391 [00:04<00:22, 16.0"
     ]
    },
    {
     "name": "stdout",
     "output_type": "stream",
     "text": [
      "17\n",
      "\n",
      " Current LR:1.64964807409802e-05\n",
      "\n",
      " Loss: 11.094390869140625\n",
      "18\n",
      "\n",
      " Current LR:1.698943859526796e-05\n",
      "\n",
      " Loss: 7.661789417266846\n",
      "19\n",
      "\n",
      " Current LR:1.749712731548522e-05\n",
      "\n",
      " Loss: 13.094803810119629\n",
      "20\n",
      "\n",
      " Current LR:1.801998709831238e-05\n",
      "\n",
      " Loss: 12.312670707702637\n",
      "21\n",
      "\n",
      " Current LR:1.8558471294654332e-05\n",
      "\n",
      " Loss: 10.400177955627441\n",
      "22\n",
      "\n",
      " Current LR:1.9113046802722984e-05\n",
      "\n",
      " Loss: 9.092473030090332\n",
      "23\n",
      "\n",
      " Current LR:1.968419447286611e-05\n",
      "\n",
      " Loss: 10.388200759887695\n",
      "24\n",
      "\n",
      " Current LR:2.0272409524493572e-05\n",
      "\n",
      " Loss: 14.333864212036133\n",
      "25\n",
      "\n",
      " Current LR:2.0878201975462318e-05\n",
      "\n",
      " Loss: 11.062260627746582\n"
     ]
    },
    {
     "name": "stderr",
     "output_type": "stream",
     "text": [
      "Epoch=0 LR=2.8026594658690357e-05 Loss=10.561854239872524 batch_id=34 Accuracy=9.60%:   8%| | 32/391 [00:05<00:14, 24.3"
     ]
    },
    {
     "name": "stdout",
     "output_type": "stream",
     "text": [
      "26\n",
      "\n",
      " Current LR:2.1502097084292593e-05\n",
      "\n",
      " Loss: 9.007858276367188\n",
      "27\n",
      "\n",
      " Current LR:2.214463580559868e-05\n",
      "\n",
      " Loss: 8.376333236694336\n",
      "28\n",
      "\n",
      " Current LR:2.2806375259129134e-05\n",
      "\n",
      " Loss: 9.757654190063477\n",
      "29\n",
      "\n",
      " Current LR:2.3487889212823095e-05\n",
      "\n",
      " Loss: 10.287333488464355\n",
      "30\n",
      "\n",
      " Current LR:2.4189768580301685e-05\n",
      "\n",
      " Loss: 12.304479598999023\n",
      "31\n",
      "\n",
      " Current LR:2.491262193322564e-05\n",
      "\n",
      " Loss: 12.941722869873047\n",
      "32\n",
      "\n",
      " Current LR:2.5657076028963604e-05\n",
      "\n",
      " Loss: 10.988144874572754\n",
      "33\n",
      "\n",
      " Current LR:2.6423776354028466e-05\n",
      "\n",
      " Loss: 13.69313907623291\n",
      "34\n",
      "\n",
      " Current LR:2.721338768375306e-05\n",
      "\n",
      " Loss: 10.429617881774902\n",
      "35\n",
      "\n",
      " Current LR:2.8026594658690357e-05\n",
      "\n",
      " Loss: 7.854302883148193\n"
     ]
    },
    {
     "name": "stderr",
     "output_type": "stream",
     "text": [
      "Epoch=0 LR=3.653085580830792e-05 Loss=10.56989522413774 batch_id=43 Accuracy=9.45%:  11%| | 42/391 [00:05<00:10, 33.29i"
     ]
    },
    {
     "name": "stdout",
     "output_type": "stream",
     "text": [
      "36\n",
      "\n",
      " Current LR:2.886410237823805e-05\n",
      "\n",
      " Loss: 13.622624397277832\n",
      "37\n",
      "\n",
      " Current LR:2.9726637012002185e-05\n",
      "\n",
      " Loss: 6.489657402038574\n",
      "38\n",
      "\n",
      " Current LR:3.0614946429429905e-05\n",
      "\n",
      " Loss: 9.174064636230469\n",
      "39\n",
      "\n",
      " Current LR:3.152980084825729e-05\n",
      "\n",
      " Loss: 7.155526638031006\n",
      "40\n",
      "\n",
      " Current LR:3.2471993502334466e-05\n",
      "\n",
      " Loss: 11.030760765075684\n",
      "41\n",
      "\n",
      " Current LR:3.344234132940718e-05\n",
      "\n",
      " Loss: 9.725061416625977\n",
      "42\n",
      "\n",
      " Current LR:3.4441685679450885e-05\n",
      "\n",
      " Loss: 13.663755416870117\n",
      "43\n",
      "\n",
      " Current LR:3.547089304417192e-05\n",
      "\n",
      " Loss: 14.872260093688965\n",
      "44\n",
      "\n",
      " Current LR:3.653085580830792e-05\n",
      "\n",
      " Loss: 9.676780700683594\n"
     ]
    },
    {
     "name": "stderr",
     "output_type": "stream",
     "text": [
      "Epoch=0 LR=4.7615610898828476e-05 Loss=10.357824460515436 batch_id=52 Accuracy=9.57%:  13%|▏| 52/391 [00:05<00:09, 36.0"
     ]
    },
    {
     "name": "stdout",
     "output_type": "stream",
     "text": [
      "45\n",
      "\n",
      " Current LR:3.76224930233791e-05\n",
      "\n",
      " Loss: 11.588268280029297\n",
      "46\n",
      "\n",
      " Current LR:3.874675120456128e-05\n",
      "\n",
      " Loss: 10.435568809509277\n",
      "47\n",
      "\n",
      " Current LR:3.990460515137147e-05\n",
      "\n",
      " Loss: 9.165529251098633\n",
      "48\n",
      "\n",
      " Current LR:4.109705879287776e-05\n",
      "\n",
      " Loss: 9.047633171081543\n",
      "49\n",
      "\n",
      " Current LR:4.232514605816627e-05\n",
      "\n",
      " Loss: 8.988136291503906\n",
      "50\n",
      "\n",
      " Current LR:4.3589931772819856e-05\n",
      "\n",
      " Loss: 8.326584815979004\n",
      "51\n",
      "\n",
      " Current LR:4.489251258218601e-05\n",
      "\n",
      " Loss: 7.6522297859191895\n",
      "52\n",
      "\n",
      " Current LR:4.6234017902234394e-05\n",
      "\n",
      " Loss: 10.264570236206055\n",
      "53\n",
      "\n",
      " Current LR:4.7615610898828476e-05\n",
      "\n",
      " Loss: 8.420785903930664\n"
     ]
    },
    {
     "name": "stderr",
     "output_type": "stream",
     "text": [
      "Epoch=0 LR=6.206387315878352e-05 Loss=10.37936903584388 batch_id=61 Accuracy=9.72%:  15%|▏| 57/391 [00:05<00:08, 37.36i"
     ]
    },
    {
     "name": "stdout",
     "output_type": "stream",
     "text": [
      "54\n",
      "\n",
      " Current LR:4.9038489496260325e-05\n",
      "\n",
      " Loss: 10.359636306762695\n",
      "55\n",
      "\n",
      " Current LR:5.050388741592309e-05\n",
      "\n",
      " Loss: 8.453751564025879\n",
      "56\n",
      "\n",
      " Current LR:5.201307524602173e-05\n",
      "\n",
      " Loss: 8.34414291381836\n",
      "57\n",
      "\n",
      " Current LR:5.3567361543249464e-05\n",
      "\n",
      " Loss: 13.003411293029785\n",
      "58\n",
      "\n",
      " Current LR:5.5168093967385154e-05\n",
      "\n",
      " Loss: 10.359020233154297\n",
      "59\n",
      "\n",
      " Current LR:5.68166604497955e-05\n",
      "\n",
      " Loss: 12.351183891296387\n",
      "60\n",
      "\n",
      " Current LR:5.851449039685506e-05\n",
      "\n",
      " Loss: 10.984959602355957\n",
      "61\n",
      "\n",
      " Current LR:6.026305592932762e-05\n",
      "\n",
      " Loss: 11.03852653503418\n",
      "62\n",
      "\n",
      " Current LR:6.206387315878352e-05\n",
      "\n",
      " Loss: 9.661551475524902\n"
     ]
    },
    {
     "name": "stderr",
     "output_type": "stream",
     "text": [
      "Epoch=0 LR=8.08962497541818e-05 Loss=10.412791856577698 batch_id=70 Accuracy=9.87%:  17%|▏| 67/391 [00:05<00:07, 41.39i"
     ]
    },
    {
     "name": "stdout",
     "output_type": "stream",
     "text": [
      "63\n",
      "\n",
      " Current LR:6.391850350215964e-05\n",
      "\n",
      " Loss: 13.500718116760254\n",
      "64\n",
      "\n",
      " Current LR:6.582855503560186e-05\n",
      "\n",
      " Loss: 11.602952003479004\n",
      "65\n",
      "\n",
      " Current LR:6.77956838887639e-05\n",
      "\n",
      " Loss: 8.494651794433594\n",
      "66\n",
      "\n",
      " Current LR:6.982159568077139e-05\n",
      "\n",
      " Loss: 7.81356143951416\n",
      "67\n",
      "\n",
      " Current LR:7.190804699909636e-05\n",
      "\n",
      " Loss: 15.96222972869873\n",
      "68\n",
      "\n",
      " Current LR:7.405684692262427e-05\n",
      "\n",
      " Loss: 11.737874031066895\n",
      "69\n",
      "\n",
      " Current LR:7.626985859023433e-05\n",
      "\n",
      " Loss: 8.456560134887695\n",
      "70\n",
      "\n",
      " Current LR:7.854900081625308e-05\n",
      "\n",
      " Loss: 10.47643756866455\n",
      "71\n",
      "\n",
      " Current LR:8.08962497541818e-05\n",
      "\n",
      " Loss: 7.742356777191162\n"
     ]
    },
    {
     "name": "stderr",
     "output_type": "stream",
     "text": [
      "Epoch=0 LR=0.00010544303620156518 Loss=10.404751658439636 batch_id=79 Accuracy=9.70%:  20%|▏| 77/391 [00:06<00:07, 42.6"
     ]
    },
    {
     "name": "stdout",
     "output_type": "stream",
     "text": [
      "72\n",
      "\n",
      " Current LR:8.331364061014075e-05\n",
      "\n",
      " Loss: 7.182030200958252\n",
      "73\n",
      "\n",
      " Current LR:8.580326940751514e-05\n",
      "\n",
      " Loss: 9.276440620422363\n",
      "74\n",
      "\n",
      " Current LR:8.83672948043338e-05\n",
      "\n",
      " Loss: 9.01515007019043\n",
      "75\n",
      "\n",
      " Current LR:9.100793996495551e-05\n",
      "\n",
      " Loss: 6.509418964385986\n",
      "76\n",
      "\n",
      " Current LR:9.372749448768628e-05\n",
      "\n",
      " Loss: 11.042329788208008\n",
      "77\n",
      "\n",
      " Current LR:9.652831638999902e-05\n",
      "\n",
      " Loss: 13.78562068939209\n",
      "78\n",
      "\n",
      " Current LR:9.941283415307656e-05\n",
      "\n",
      " Loss: 9.807680130004883\n",
      "79\n",
      "\n",
      " Current LR:0.00010238354882745101\n",
      "\n",
      " Loss: 14.592185020446777\n",
      "80\n",
      "\n",
      " Current LR:0.00010544303620156518\n",
      "\n",
      " Loss: 11.861055374145508\n"
     ]
    },
    {
     "name": "stderr",
     "output_type": "stream",
     "text": [
      "Epoch=0 LR=0.00013345034260873844 Loss=10.585216663100503 batch_id=87 Accuracy=9.75%:  22%|▏| 87/391 [00:06<00:07, 40.8"
     ]
    },
    {
     "name": "stdout",
     "output_type": "stream",
     "text": [
      "81\n",
      "\n",
      " Current LR:0.00010859394903513612\n",
      "\n",
      " Loss: 11.130804061889648\n",
      "82\n",
      "\n",
      " Current LR:0.00011183901935925751\n",
      "\n",
      " Loss: 14.42070198059082\n",
      "83\n",
      "\n",
      " Current LR:0.00011518106084523513\n",
      "\n",
      " Loss: 15.01460075378418\n",
      "84\n",
      "\n",
      " Current LR:0.00011862297124420921\n",
      "\n",
      " Loss: 11.539987564086914\n",
      "85\n",
      "\n",
      " Current LR:0.000122167734899679\n",
      "\n",
      " Loss: 13.64002513885498\n",
      "86\n",
      "\n",
      " Current LR:0.0001258184253351084\n",
      "\n",
      " Loss: 10.981057167053223\n",
      "87\n",
      "\n",
      " Current LR:0.00012957820791885567\n",
      "\n",
      " Loss: 11.596866607666016\n",
      "88\n",
      "\n",
      " Current LR:0.00013345034260873844\n",
      "\n",
      " Loss: 10.794890403747559\n"
     ]
    },
    {
     "name": "stderr",
     "output_type": "stream",
     "text": [
      "Epoch=0 LR=0.0001739439015969598 Loss=10.619237712978087 batch_id=96 Accuracy=9.62%:  24%|▏| 92/391 [00:06<00:07, 41.31"
     ]
    },
    {
     "name": "stdout",
     "output_type": "stream",
     "text": [
      "89\n",
      "\n",
      " Current LR:0.00013743818677861325\n",
      "\n",
      " Loss: 11.499319076538086\n",
      "90\n",
      "\n",
      " Current LR:0.0001415451981294209\n",
      "\n",
      " Loss: 10.7062406539917\n",
      "91\n",
      "\n",
      " Current LR:0.00014577493768722124\n",
      "\n",
      " Loss: 9.229129791259766\n",
      "92\n",
      "\n",
      " Current LR:0.00015013107289081707\n",
      "\n",
      " Loss: 11.180140495300293\n",
      "93\n",
      "\n",
      " Current LR:0.00015461738077164443\n",
      "\n",
      " Loss: 11.146665573120117\n",
      "94\n",
      "\n",
      " Current LR:0.0001592377512286862\n",
      "\n",
      " Loss: 14.225232124328613\n",
      "95\n",
      "\n",
      " Current LR:0.00016399619040124858\n",
      "\n",
      " Loss: 10.332576751708984\n",
      "96\n",
      "\n",
      " Current LR:0.00016889682414252517\n",
      "\n",
      " Loss: 9.722899436950684\n",
      "97\n",
      "\n",
      " Current LR:0.0001739439015969598\n",
      "\n",
      " Loss: 10.524787902832031\n"
     ]
    },
    {
     "name": "stderr",
     "output_type": "stream",
     "text": [
      "Epoch=0 LR=0.00022014610067222628 Loss=10.557937385922386 batch_id=104 Accuracy=9.59%:  26%|▎| 102/391 [00:06<00:07, 40"
     ]
    },
    {
     "name": "stdout",
     "output_type": "stream",
     "text": [
      "98\n",
      "\n",
      " Current LR:0.00017914179888451083\n",
      "\n",
      " Loss: 7.104126453399658\n",
      "99\n",
      "\n",
      " Current LR:0.0001844950228950103\n",
      "\n",
      " Loss: 11.301854133605957\n",
      "100\n",
      "\n",
      " Current LR:0.00019000821519590897\n",
      "\n",
      " Loss: 7.77267599105835\n",
      "101\n",
      "\n",
      " Current LR:0.00019568615605679448\n",
      "\n",
      " Loss: 11.693988800048828\n",
      "102\n",
      "\n",
      " Current LR:0.0002015337685941729\n",
      "\n",
      " Loss: 8.317205429077148\n",
      "103\n",
      "\n",
      " Current LR:0.00020755612304010706\n",
      "\n",
      " Loss: 14.906046867370605\n",
      "104\n",
      "\n",
      " Current LR:0.00021375844113841305\n",
      "\n",
      " Loss: 11.038063049316406\n",
      "105\n",
      "\n",
      " Current LR:0.00022014610067222628\n",
      "\n",
      " Loss: 6.383406639099121\n"
     ]
    },
    {
     "name": "stderr",
     "output_type": "stream",
     "text": [
      "Epoch=0 LR=0.0002869462222705202 Loss=10.606594842776918 batch_id=113 Accuracy=9.54%:  29%|▎| 112/391 [00:07<00:06, 41."
     ]
    },
    {
     "name": "stdout",
     "output_type": "stream",
     "text": [
      "106\n",
      "\n",
      " Current LR:0.00022672464012686328\n",
      "\n",
      " Loss: 13.68898868560791\n",
      "107\n",
      "\n",
      " Current LR:0.00023349976349202185\n",
      "\n",
      " Loss: 14.107339859008789\n",
      "108\n",
      "\n",
      " Current LR:0.00024047734520748338\n",
      "\n",
      " Loss: 9.868139266967773\n",
      "109\n",
      "\n",
      " Current LR:0.0002476634352566058\n",
      "\n",
      " Loss: 14.39067554473877\n",
      "110\n",
      "\n",
      " Current LR:0.00025506426441202347\n",
      "\n",
      " Loss: 12.976669311523438\n",
      "111\n",
      "\n",
      " Current LR:0.0002626862496381018\n",
      "\n",
      " Loss: 9.607861518859863\n",
      "112\n",
      "\n",
      " Current LR:0.0002705359996548319\n",
      "\n",
      " Loss: 10.351664543151855\n",
      "113\n",
      "\n",
      " Current LR:0.00027862032066798857\n",
      "\n",
      " Loss: 9.13039779663086\n",
      "114\n",
      "\n",
      " Current LR:0.0002869462222705202\n",
      "\n",
      " Loss: 6.44665002822876\n"
     ]
    },
    {
     "name": "stderr",
     "output_type": "stream",
     "text": [
      "Epoch=0 LR=0.0003631635909941268 Loss=10.624123327067641 batch_id=121 Accuracy=9.68%:  31%|▎| 122/391 [00:07<00:06, 43."
     ]
    },
    {
     "name": "stdout",
     "output_type": "stream",
     "text": [
      "115\n",
      "\n",
      " Current LR:0.00029552092352028804\n",
      "\n",
      " Loss: 12.510590553283691\n",
      "116\n",
      "\n",
      " Current LR:0.0003043518591994238\n",
      "\n",
      " Loss: 11.755071640014648\n",
      "117\n",
      "\n",
      " Current LR:0.0003134466862607334\n",
      "\n",
      " Loss: 12.228601455688477\n",
      "118\n",
      "\n",
      " Current LR:0.0003228132904667356\n",
      "\n",
      " Loss: 10.240354537963867\n",
      "119\n",
      "\n",
      " Current LR:0.00033245979322709334\n",
      "\n",
      " Loss: 10.801218032836914\n",
      "120\n",
      "\n",
      " Current LR:0.00034239455864036426\n",
      "\n",
      " Loss: 8.101493835449219\n",
      "121\n",
      "\n",
      " Current LR:0.000352626200746178\n",
      "\n",
      " Loss: 12.192366600036621\n",
      "122\n",
      "\n",
      " Current LR:0.0003631635909941268\n",
      "\n",
      " Loss: 9.161537170410156\n",
      "123\n",
      "\n",
      " Current LR:0.00037401586593584663\n",
      "\n",
      " Loss: 12.746238708496094\n"
     ]
    },
    {
     "name": "stderr",
     "output_type": "stream",
     "text": [
      "Epoch=0 LR=0.000473360282938266 Loss=10.613089364903574 batch_id=130 Accuracy=9.79%:  32%|▎| 127/391 [00:07<00:06, 42.8"
     ]
    },
    {
     "name": "stdout",
     "output_type": "stream",
     "text": [
      "124\n",
      "\n",
      " Current LR:0.0003851924351469569\n",
      "\n",
      " Loss: 8.885537147521973\n",
      "125\n",
      "\n",
      " Current LR:0.00039670298938572956\n",
      "\n",
      " Loss: 6.999305248260498\n",
      "126\n",
      "\n",
      " Current LR:0.0004085575089955594\n",
      "\n",
      " Loss: 6.319699287414551\n",
      "127\n",
      "\n",
      " Current LR:0.00042076627255852256\n",
      "\n",
      " Loss: 15.414246559143066\n",
      "128\n",
      "\n",
      " Current LR:0.00043333986580752624\n",
      "\n",
      " Loss: 11.015152931213379\n",
      "129\n",
      "\n",
      " Current LR:0.00044628919080477605\n",
      "\n",
      " Loss: 9.677288055419922\n",
      "130\n",
      "\n",
      " Current LR:0.00045962547539452\n",
      "\n",
      " Loss: 10.127752304077148\n",
      "131\n",
      "\n",
      " Current LR:0.000473360282938266\n",
      "\n",
      " Loss: 12.986440658569336\n",
      "132\n",
      "\n",
      " Current LR:0.00048750552234091136\n",
      "\n",
      " Loss: 13.524262428283691\n"
     ]
    },
    {
     "name": "stderr",
     "output_type": "stream",
     "text": [
      "Epoch=0 LR=0.0006354319587973039 Loss=10.635156201978102 batch_id=140 Accuracy=9.88%:  35%|▎| 137/391 [00:07<00:05, 43."
     ]
    },
    {
     "name": "stdout",
     "output_type": "stream",
     "text": [
      "133\n",
      "\n",
      " Current LR:0.0005020734583764812\n",
      "\n",
      " Loss: 10.996088981628418\n",
      "134\n",
      "\n",
      " Current LR:0.0005170767223224251\n",
      "\n",
      " Loss: 6.466620922088623\n",
      "135\n",
      "\n",
      " Current LR:0.000532528322911695\n",
      "\n",
      " Loss: 9.664315223693848\n",
      "136\n",
      "\n",
      " Current LR:0.0005484416576121004\n",
      "\n",
      " Loss: 9.124593734741211\n",
      "137\n",
      "\n",
      " Current LR:0.0005648305242427184\n",
      "\n",
      " Loss: 12.573915481567383\n",
      "138\n",
      "\n",
      " Current LR:0.0005817091329374342\n",
      "\n",
      " Loss: 12.956642150878906\n",
      "139\n",
      "\n",
      " Current LR:0.0005990921184659823\n",
      "\n",
      " Loss: 11.70637035369873\n",
      "140\n",
      "\n",
      " Current LR:0.0006169945529231726\n",
      "\n",
      " Loss: 11.011439323425293\n",
      "141\n",
      "\n",
      " Current LR:0.0006354319587973039\n",
      "\n",
      " Loss: 11.218069076538086\n",
      "142\n",
      "\n",
      " Current LR:0.000654420322429096\n",
      "\n",
      " Loss: 10.951254844665527\n"
     ]
    },
    {
     "name": "stderr",
     "output_type": "stream",
     "text": [
      "Epoch=0 LR=0.0008529946191401051 Loss=10.634527869571913 batch_id=150 Accuracy=9.80%:  38%|▍| 147/391 [00:07<00:05, 44."
     ]
    },
    {
     "name": "stdout",
     "output_type": "stream",
     "text": [
      "143\n",
      "\n",
      " Current LR:0.0006739761078728088\n",
      "\n",
      " Loss: 7.829563617706299\n",
      "144\n",
      "\n",
      " Current LR:0.0006941162711715693\n",
      "\n",
      " Loss: 14.279037475585938\n",
      "145\n",
      "\n",
      " Current LR:0.0007148582750592801\n",
      "\n",
      " Loss: 9.79310131072998\n",
      "146\n",
      "\n",
      " Current LR:0.0007362201041018624\n",
      "\n",
      " Loss: 8.49227523803711\n",
      "147\n",
      "\n",
      " Current LR:0.0007582202802909568\n",
      "\n",
      " Loss: 10.9509916305542\n",
      "148\n",
      "\n",
      " Current LR:0.0007808778791036043\n",
      "\n",
      " Loss: 9.847171783447266\n",
      "149\n",
      "\n",
      " Current LR:0.0008042125460418337\n",
      "\n",
      " Loss: 8.475743293762207\n",
      "150\n",
      "\n",
      " Current LR:0.0008282445136664947\n",
      "\n",
      " Loss: 10.824600219726562\n",
      "151\n",
      "\n",
      " Current LR:0.0008529946191401051\n",
      "\n",
      " Loss: 14.812944412231445\n",
      "152\n",
      "\n",
      " Current LR:0.000878484322293926\n",
      "\n",
      " Loss: 10.125106811523438\n"
     ]
    },
    {
     "name": "stderr",
     "output_type": "stream",
     "text": [
      "Epoch=0 LR=0.0011118233883404584 Loss=10.648999291658402 batch_id=159 Accuracy=9.80%:  40%|▍| 157/391 [00:08<00:05, 41."
     ]
    },
    {
     "name": "stdout",
     "output_type": "stream",
     "text": [
      "153\n",
      "\n",
      " Current LR:0.000904735724234927\n",
      "\n",
      " Loss: 8.971199989318848\n",
      "154\n",
      "\n",
      " Current LR:0.0009317715865087752\n",
      "\n",
      " Loss: 13.385875701904297\n",
      "155\n",
      "\n",
      " Current LR:0.0009596153508354675\n",
      "\n",
      " Loss: 12.526020050048828\n",
      "156\n",
      "\n",
      " Current LR:0.0009882911594347105\n",
      "\n",
      " Loss: 10.426782608032227\n",
      "157\n",
      "\n",
      " Current LR:0.0010178238759586803\n",
      "\n",
      " Loss: 14.417398452758789\n",
      "158\n",
      "\n",
      " Current LR:0.0010482391070503047\n",
      "\n",
      " Loss: 7.613674163818359\n",
      "159\n",
      "\n",
      " Current LR:0.0010795632245457635\n",
      "\n",
      " Loss: 8.294926643371582\n",
      "160\n",
      "\n",
      " Current LR:0.0011118233883404584\n",
      "\n",
      " Loss: 12.265193939208984\n"
     ]
    },
    {
     "name": "stderr",
     "output_type": "stream",
     "text": [
      "Epoch=0 LR=0.0014924955450518244 Loss=10.63697057611802 batch_id=169 Accuracy=9.78%:  43%|▍| 167/391 [00:08<00:05, 42.3"
     ]
    },
    {
     "name": "stdout",
     "output_type": "stream",
     "text": [
      "161\n",
      "\n",
      " Current LR:0.0011450475699382782\n",
      "\n",
      " Loss: 10.331090927124023\n",
      "162\n",
      "\n",
      " Current LR:0.0011792645767045738\n",
      "\n",
      " Loss: 9.124053001403809\n",
      "163\n",
      "\n",
      " Current LR:0.001214504076843881\n",
      "\n",
      " Loss: 9.080212593078613\n",
      "164\n",
      "\n",
      " Current LR:0.0012507966251240376\n",
      "\n",
      " Loss: 12.35746955871582\n",
      "165\n",
      "\n",
      " Current LR:0.001288173689369007\n",
      "\n",
      " Loss: 9.16866683959961\n",
      "166\n",
      "\n",
      " Current LR:0.0013266676777433759\n",
      "\n",
      " Loss: 10.615983009338379\n",
      "167\n",
      "\n",
      " Current LR:0.0013663119668521836\n",
      "\n",
      " Loss: 9.995089530944824\n",
      "168\n",
      "\n",
      " Current LR:0.0014071409306804482\n",
      "\n",
      " Loss: 9.091719627380371\n",
      "169\n",
      "\n",
      " Current LR:0.0014491899703974794\n",
      "\n",
      " Loss: 12.83358383178711\n",
      "170\n",
      "\n",
      " Current LR:0.0014924955450518244\n",
      "\n",
      " Loss: 11.84724235534668\n"
     ]
    },
    {
     "name": "stderr",
     "output_type": "stream",
     "text": [
      "Epoch=0 LR=0.0019453715378127167 Loss=10.599298066933061 batch_id=178 Accuracy=9.76%:  45%|▍| 177/391 [00:08<00:04, 44."
     ]
    },
    {
     "name": "stdout",
     "output_type": "stream",
     "text": [
      "171\n",
      "\n",
      " Current LR:0.0015370952031834575\n",
      "\n",
      " Loss: 13.933786392211914\n",
      "172\n",
      "\n",
      " Current LR:0.0015830276153806246\n",
      "\n",
      " Loss: 7.540043830871582\n",
      "173\n",
      "\n",
      " Current LR:0.0016303326078095691\n",
      "\n",
      " Loss: 9.784351348876953\n",
      "174\n",
      "\n",
      " Current LR:0.001679051196746219\n",
      "\n",
      " Loss: 8.278642654418945\n",
      "175\n",
      "\n",
      " Current LR:0.0017292256241397631\n",
      "\n",
      " Loss: 10.129087448120117\n",
      "176\n",
      "\n",
      " Current LR:0.0017808993942389666\n",
      "\n",
      " Loss: 9.50281047821045\n",
      "177\n",
      "\n",
      " Current LR:0.0018341173113129723\n",
      "\n",
      " Loss: 11.412227630615234\n",
      "178\n",
      "\n",
      " Current LR:0.001888925518499298\n",
      "\n",
      " Loss: 7.539633750915527\n",
      "179\n",
      "\n",
      " Current LR:0.0019453715378127167\n",
      "\n",
      " Loss: 10.868772506713867\n",
      "180\n",
      "\n",
      " Current LR:0.002003504311349702\n",
      "\n",
      " Loss: 8.1650390625\n"
     ]
    },
    {
     "name": "stderr",
     "output_type": "stream",
     "text": [
      "Epoch=0 LR=0.0026894750466122577 Loss=10.562305495613499 batch_id=189 Accuracy=9.77%:  48%|▍| 188/391 [00:08<00:04, 45."
     ]
    },
    {
     "name": "stdout",
     "output_type": "stream",
     "text": [
      "181\n",
      "\n",
      " Current LR:0.0020633742437241717\n",
      "\n",
      " Loss: 9.399008750915527\n",
      "182\n",
      "\n",
      " Current LR:0.002125033245771323\n",
      "\n",
      " Loss: 14.422733306884766\n",
      "183\n",
      "\n",
      " Current LR:0.0021885347795574527\n",
      "\n",
      " Loss: 7.6245880126953125\n",
      "184\n",
      "\n",
      " Current LR:0.0022539339047347824\n",
      "\n",
      " Loss: 12.640284538269043\n",
      "185\n",
      "\n",
      " Current LR:0.0023212873262814966\n",
      "\n",
      " Loss: 7.681142330169678\n",
      "186\n",
      "\n",
      " Current LR:0.002390653443668368\n",
      "\n",
      " Loss: 11.28931999206543\n",
      "187\n",
      "\n",
      " Current LR:0.0024620924014946166\n",
      "\n",
      " Loss: 9.1237154006958\n",
      "188\n",
      "\n",
      " Current LR:0.002535666141636895\n",
      "\n",
      " Loss: 9.557097434997559\n",
      "189\n",
      "\n",
      " Current LR:0.002611438456956628\n",
      "\n",
      " Loss: 7.658920764923096\n",
      "190\n",
      "\n",
      " Current LR:0.0026894750466122577\n",
      "\n",
      " Loss: 12.001840591430664\n"
     ]
    },
    {
     "name": "stderr",
     "output_type": "stream",
     "text": [
      "Epoch=0 LR=0.0035055570012809275 Loss=10.599584440490109 batch_id=198 Accuracy=9.80%:  51%|▌| 198/391 [00:08<00:04, 45."
     ]
    },
    {
     "name": "stdout",
     "output_type": "stream",
     "text": [
      "191\n",
      "\n",
      " Current LR:0.002769843573024375\n",
      "\n",
      " Loss: 9.039207458496094\n",
      "192\n",
      "\n",
      " Current LR:0.0028526137205431065\n",
      "\n",
      " Loss: 8.672718048095703\n",
      "193\n",
      "\n",
      " Current LR:0.0029378572558686417\n",
      "\n",
      " Loss: 17.144014358520508\n",
      "194\n",
      "\n",
      " Current LR:0.0030256480902772828\n",
      "\n",
      " Loss: 10.327837944030762\n",
      "195\n",
      "\n",
      " Current LR:0.0031160623437069706\n",
      "\n",
      " Loss: 10.51883316040039\n",
      "196\n",
      "\n",
      " Current LR:0.003209178410757852\n",
      "\n",
      " Loss: 8.614161491394043\n",
      "197\n",
      "\n",
      " Current LR:0.003305077028665115\n",
      "\n",
      " Loss: 10.618356704711914\n",
      "198\n",
      "\n",
      " Current LR:0.003403841347303038\n",
      "\n",
      " Loss: 15.036301612854004\n",
      "199\n",
      "\n",
      " Current LR:0.0035055570012809275\n",
      "\n",
      " Loss: 12.507828712463379\n"
     ]
    },
    {
     "name": "stderr",
     "output_type": "stream",
     "text": [
      "Epoch=0 LR=0.004436687330978593 Loss=10.712343004014757 batch_id=206 Accuracy=9.79%:  52%|▌| 203/391 [00:09<00:04, 43.3"
     ]
    },
    {
     "name": "stdout",
     "output_type": "stream",
     "text": [
      "200\n",
      "\n",
      " Current LR:0.0036103121841934856\n",
      "\n",
      " Loss: 17.041059494018555\n",
      "201\n",
      "\n",
      " Current LR:0.0037181977250899637\n",
      "\n",
      " Loss: 16.55193519592285\n",
      "202\n",
      "\n",
      " Current LR:0.0038293071672284127\n",
      "\n",
      " Loss: 14.674663543701172\n",
      "203\n",
      "\n",
      " Current LR:0.003943736849183322\n",
      "\n",
      " Loss: 13.187204360961914\n",
      "204\n",
      "\n",
      " Current LR:0.004061585988376962\n",
      "\n",
      " Loss: 9.785148620605469\n",
      "205\n",
      "\n",
      " Current LR:0.0041829567671068605\n",
      "\n",
      " Loss: 12.648197174072266\n",
      "206\n",
      "\n",
      " Current LR:0.004307954421144006\n",
      "\n",
      " Loss: 10.458155632019043\n",
      "207\n",
      "\n",
      " Current LR:0.004436687330978593\n",
      "\n",
      " Loss: 13.79133415222168\n",
      "208\n",
      "\n",
      " Current LR:0.004569267115792438\n",
      "\n",
      " Loss: 13.845393180847168\n"
     ]
    },
    {
     "name": "stderr",
     "output_type": "stream",
     "text": [
      "Epoch=0 LR=0.0059557445415474 Loss=10.871228657559865 batch_id=216 Accuracy=9.83%:  55%|▌| 214/391 [00:09<00:03, 44.91i"
     ]
    },
    {
     "name": "stdout",
     "output_type": "stream",
     "text": [
      "209\n",
      "\n",
      " Current LR:0.004705808730239522\n",
      "\n",
      " Loss: 18.276451110839844\n",
      "210\n",
      "\n",
      " Current LR:0.004846430564118598\n",
      "\n",
      " Loss: 17.192562103271484\n",
      "211\n",
      "\n",
      " Current LR:0.004991254545024271\n",
      "\n",
      " Loss: 12.430529594421387\n",
      "212\n",
      "\n",
      " Current LR:0.005140406244065566\n",
      "\n",
      " Loss: 17.9904842376709\n",
      "213\n",
      "\n",
      " Current LR:0.0052940149847436335\n",
      "\n",
      " Loss: 13.007800102233887\n",
      "214\n",
      "\n",
      " Current LR:0.005452213955083014\n",
      "\n",
      " Loss: 12.474767684936523\n",
      "215\n",
      "\n",
      " Current LR:0.005615140323113665\n",
      "\n",
      " Loss: 11.107305526733398\n",
      "216\n",
      "\n",
      " Current LR:0.005782935355803912\n",
      "\n",
      " Loss: 13.770271301269531\n",
      "217\n",
      "\n",
      " Current LR:0.0059557445415474\n",
      "\n",
      " Loss: 11.506052017211914\n"
     ]
    },
    {
     "name": "stderr",
     "output_type": "stream",
     "text": [
      "Epoch=0 LR=0.0075376826976064105 Loss=10.894386948479546 batch_id=224 Accuracy=9.89%:  57%|▌| 224/391 [00:09<00:04, 41."
     ]
    },
    {
     "name": "stdout",
     "output_type": "stream",
     "text": [
      "218\n",
      "\n",
      " Current LR:0.006133717716310297\n",
      "\n",
      " Loss: 9.003547668457031\n",
      "219\n",
      "\n",
      " Current LR:0.006317009193548095\n",
      "\n",
      " Loss: 11.70458984375\n",
      "220\n",
      "\n",
      " Current LR:0.006505777898004661\n",
      "\n",
      " Loss: 10.686344146728516\n",
      "221\n",
      "\n",
      " Current LR:0.006700187503509559\n",
      "\n",
      " Loss: 10.03982162475586\n",
      "222\n",
      "\n",
      " Current LR:0.006900406574893113\n",
      "\n",
      " Loss: 11.465995788574219\n",
      "223\n",
      "\n",
      " Current LR:0.00710660871414226\n",
      "\n",
      " Loss: 12.286524772644043\n",
      "224\n",
      "\n",
      " Current LR:0.00731897271092392\n",
      "\n",
      " Loss: 14.592977523803711\n",
      "225\n",
      "\n",
      " Current LR:0.0075376826976064105\n",
      "\n",
      " Loss: 12.400643348693848\n",
      "226\n",
      "\n",
      " Current LR:0.0077629283089132774\n",
      "\n",
      " Loss: 11.98254680633545\n"
     ]
    },
    {
     "name": "stderr",
     "output_type": "stream",
     "text": [
      "Epoch=0 LR=0.009824882512783462 Loss=10.936751883254091 batch_id=233 Accuracy=9.89%:  59%|▌| 230/391 [00:09<00:03, 44.4"
     ]
    },
    {
     "name": "stdout",
     "output_type": "stream",
     "text": [
      "227\n",
      "\n",
      " Current LR:0.007994904846348025\n",
      "\n",
      " Loss: 8.758735656738281\n",
      "228\n",
      "\n",
      " Current LR:0.008233813447532276\n",
      "\n",
      " Loss: 12.796724319458008\n",
      "229\n",
      "\n",
      " Current LR:0.008479861260604196\n",
      "\n",
      " Loss: 8.422804832458496\n",
      "230\n",
      "\n",
      " Current LR:0.008733261623828393\n",
      "\n",
      " Loss: 9.8201904296875\n",
      "231\n",
      "\n",
      " Current LR:0.00899423425057304\n",
      "\n",
      " Loss: 11.942880630493164\n",
      "232\n",
      "\n",
      " Current LR:0.00926300541981459\n",
      "\n",
      " Loss: 13.393607139587402\n",
      "233\n",
      "\n",
      " Current LR:0.00953980817233527\n",
      "\n",
      " Loss: 17.654333114624023\n",
      "234\n",
      "\n",
      " Current LR:0.009824882512783462\n",
      "\n",
      " Loss: 13.191054344177246\n",
      "235\n",
      "\n",
      " Current LR:0.010118475617772186\n",
      "\n",
      " Loss: 17.3424072265625\n"
     ]
    },
    {
     "name": "stderr",
     "output_type": "stream",
     "text": [
      "Epoch=0 LR=0.013188779382374945 Loss=11.180868563104848 batch_id=243 Accuracy=9.88%:  61%|▌| 240/391 [00:09<00:03, 42.6"
     ]
    },
    {
     "name": "stdout",
     "output_type": "stream",
     "text": [
      "236\n",
      "\n",
      " Current LR:0.0104208420501961\n",
      "\n",
      " Loss: 10.882434844970703\n",
      "237\n",
      "\n",
      " Current LR:0.01073224397995285\n",
      "\n",
      " Loss: 12.49127197265625\n",
      "238\n",
      "\n",
      " Current LR:0.011052951411260163\n",
      "\n",
      " Loss: 12.291561126708984\n",
      "239\n",
      "\n",
      " Current LR:0.011383242416765737\n",
      "\n",
      " Loss: 14.714445114135742\n",
      "240\n",
      "\n",
      " Current LR:0.011723403378652983\n",
      "\n",
      " Loss: 16.334033966064453\n",
      "241\n",
      "\n",
      " Current LR:0.01207372923695161\n",
      "\n",
      " Loss: 11.66861629486084\n",
      "242\n",
      "\n",
      " Current LR:0.012434523745268381\n",
      "\n",
      " Loss: 26.136276245117188\n",
      "243\n",
      "\n",
      " Current LR:0.012806099734159785\n",
      "\n",
      " Loss: 12.038825988769531\n",
      "244\n",
      "\n",
      " Current LR:0.013188779382374945\n",
      "\n",
      " Loss: 35.0321159362793\n",
      "245\n"
     ]
    },
    {
     "name": "stderr",
     "output_type": "stream",
     "text": [
      "Epoch=0 LR=0.013188779382374945 Loss=11.180868563104848 batch_id=243 Accuracy=9.88%:  62%|▌| 244/391 [00:10<00:06, 23.7\n"
     ]
    },
    {
     "name": "stdout",
     "output_type": "stream",
     "text": [
      "\n",
      "Test set: Average loss: 241.5706, Accuracy: 1000/10000 (10.00%)\n",
      "\n",
      "[1.029882607207437e-05, 1.060658184628388e-05, 1.0923534165409913e-05, 1.1249957846191874e-05, 1.1586135917609852e-05, 1.1932359866287762e-05, 1.2288929889229824e-05, 1.2656155154109411e-05, 1.3034354067336042e-05, 1.3423854550132903e-05, 1.382499432286429e-05, 1.423812119785949e-05, 1.4663593380987007e-05, 1.5101779782240613e-05, 1.555306033560652e-05, 1.601782632848902e-05, 1.64964807409802e-05, 1.698943859526796e-05, 1.749712731548522e-05, 1.801998709831238e-05, 1.8558471294654332e-05, 1.9113046802722984e-05, 1.968419447286611e-05, 2.0272409524493572e-05, 2.0878201975462318e-05, 2.1502097084292593e-05, 2.214463580559868e-05, 2.2806375259129134e-05, 2.3487889212823095e-05, 2.4189768580301685e-05, 2.491262193322564e-05, 2.5657076028963604e-05, 2.6423776354028466e-05, 2.721338768375306e-05, 2.8026594658690357e-05, 2.886410237823805e-05, 2.9726637012002185e-05, 3.0614946429429905e-05, 3.152980084825729e-05, 3.2471993502334466e-05, 3.344234132940718e-05, 3.4441685679450885e-05, 3.547089304417192e-05, 3.653085580830792e-05, 3.76224930233791e-05, 3.874675120456128e-05, 3.990460515137147e-05, 4.109705879287776e-05, 4.232514605816627e-05, 4.3589931772819856e-05, 4.489251258218601e-05, 4.6234017902234394e-05, 4.7615610898828476e-05, 4.9038489496260325e-05, 5.050388741592309e-05, 5.201307524602173e-05, 5.3567361543249464e-05, 5.5168093967385154e-05, 5.68166604497955e-05, 5.851449039685506e-05, 6.026305592932762e-05, 6.206387315878352e-05, 6.391850350215964e-05, 6.582855503560186e-05, 6.77956838887639e-05, 6.982159568077139e-05, 7.190804699909636e-05, 7.405684692262427e-05, 7.626985859023433e-05, 7.854900081625308e-05, 8.08962497541818e-05, 8.331364061014075e-05, 8.580326940751514e-05, 8.83672948043338e-05, 9.100793996495551e-05, 9.372749448768628e-05, 9.652831638999902e-05, 9.941283415307656e-05, 0.00010238354882745101, 0.00010544303620156518, 0.00010859394903513612, 0.00011183901935925751, 0.00011518106084523513, 0.00011862297124420921, 0.000122167734899679, 0.0001258184253351084, 0.00012957820791885567, 0.00013345034260873844, 0.00013743818677861325, 0.0001415451981294209, 0.00014577493768722124, 0.00015013107289081707, 0.00015461738077164443, 0.0001592377512286862, 0.00016399619040124858, 0.00016889682414252517, 0.0001739439015969598, 0.00017914179888451083, 0.0001844950228950103, 0.00019000821519590897, 0.00019568615605679448, 0.0002015337685941729, 0.00020755612304010706, 0.00021375844113841305, 0.00022014610067222628, 0.00022672464012686328, 0.00023349976349202185, 0.00024047734520748338, 0.0002476634352566058, 0.00025506426441202347, 0.0002626862496381018, 0.0002705359996548319, 0.00027862032066798857, 0.0002869462222705202, 0.00029552092352028804, 0.0003043518591994238, 0.0003134466862607334, 0.0003228132904667356, 0.00033245979322709334, 0.00034239455864036426, 0.000352626200746178, 0.0003631635909941268, 0.00037401586593584663, 0.0003851924351469569, 0.00039670298938572956, 0.0004085575089955594, 0.00042076627255852256, 0.00043333986580752624, 0.00044628919080477605, 0.00045962547539452, 0.000473360282938266, 0.00048750552234091136, 0.0005020734583764812, 0.0005170767223224251, 0.000532528322911695, 0.0005484416576121004, 0.0005648305242427184, 0.0005817091329374342, 0.0005990921184659823, 0.0006169945529231726, 0.0006354319587973039, 0.000654420322429096, 0.0006739761078728088, 0.0006941162711715693, 0.0007148582750592801, 0.0007362201041018624, 0.0007582202802909568, 0.0007808778791036043, 0.0008042125460418337, 0.0008282445136664947, 0.0008529946191401051, 0.000878484322293926, 0.000904735724234927, 0.0009317715865087752, 0.0009596153508354675, 0.0009882911594347105, 0.0010178238759586803, 0.0010482391070503047, 0.0010795632245457635, 0.0011118233883404584, 0.0011450475699382782, 0.0011792645767045738, 0.001214504076843881, 0.0012507966251240376, 0.001288173689369007, 0.0013266676777433759, 0.0013663119668521836, 0.0014071409306804482, 0.0014491899703974794, 0.0014924955450518244, 0.0015370952031834575, 0.0015830276153806246, 0.0016303326078095691, 0.001679051196746219, 0.0017292256241397631, 0.0017808993942389666, 0.0018341173113129723, 0.001888925518499298, 0.0019453715378127167, 0.002003504311349702, 0.0020633742437241717, 0.002125033245771323, 0.0021885347795574527, 0.0022539339047347824, 0.0023212873262814966, 0.002390653443668368, 0.0024620924014946166, 0.002535666141636895, 0.002611438456956628, 0.0026894750466122577, 0.002769843573024375, 0.0028526137205431065, 0.0029378572558686417, 0.0030256480902772828, 0.0031160623437069706, 0.003209178410757852, 0.003305077028665115, 0.003403841347303038, 0.0035055570012809275, 0.0036103121841934856, 0.0037181977250899637, 0.0038293071672284127, 0.003943736849183322, 0.004061585988376962, 0.0041829567671068605, 0.004307954421144006, 0.004436687330978593, 0.004569267115792438, 0.004705808730239522, 0.004846430564118598, 0.004991254545024271, 0.005140406244065566, 0.0052940149847436335, 0.005452213955083014, 0.005615140323113665, 0.005782935355803912, 0.0059557445415474, 0.006133717716310297, 0.006317009193548095, 0.006505777898004661, 0.006700187503509559, 0.006900406574893113, 0.00710660871414226, 0.00731897271092392, 0.0075376826976064105, 0.0077629283089132774, 0.007994904846348025, 0.008233813447532276, 0.008479861260604196, 0.008733261623828393, 0.00899423425057304, 0.00926300541981459, 0.00953980817233527, 0.009824882512783462, 0.010118475617772186, 0.0104208420501961, 0.01073224397995285, 0.011052951411260163, 0.011383242416765737, 0.011723403378652983, 0.01207372923695161, 0.012434523745268381, 0.012806099734159785, 0.013188779382374945]\n",
      "[13.073512077331543, 12.979204177856445, 9.676170349121094, 10.308758735656738, 9.645108222961426, 10.977907180786133, 7.859798908233643, 9.010895729064941, 10.424605369567871, 11.673129081726074, 10.370264053344727, 11.674994468688965, 9.086540222167969, 10.988754272460938, 12.3850679397583, 4.448969841003418, 11.094390869140625, 7.661789417266846, 13.094803810119629, 12.312670707702637, 10.400177955627441, 9.092473030090332, 10.388200759887695, 14.333864212036133, 11.062260627746582, 9.007858276367188, 8.376333236694336, 9.757654190063477, 10.287333488464355, 12.304479598999023, 12.941722869873047, 10.988144874572754, 13.69313907623291, 10.429617881774902, 7.854302883148193, 13.622624397277832, 6.489657402038574, 9.174064636230469, 7.155526638031006, 11.030760765075684, 9.725061416625977, 13.663755416870117, 14.872260093688965, 9.676780700683594, 11.588268280029297, 10.435568809509277, 9.165529251098633, 9.047633171081543, 8.988136291503906, 8.326584815979004, 7.6522297859191895, 10.264570236206055, 8.420785903930664, 10.359636306762695, 8.453751564025879, 8.34414291381836, 13.003411293029785, 10.359020233154297, 12.351183891296387, 10.984959602355957, 11.03852653503418, 9.661551475524902, 13.500718116760254, 11.602952003479004, 8.494651794433594, 7.81356143951416, 15.96222972869873, 11.737874031066895, 8.456560134887695, 10.47643756866455, 7.742356777191162, 7.182030200958252, 9.276440620422363, 9.01515007019043, 6.509418964385986, 11.042329788208008, 13.78562068939209, 9.807680130004883, 14.592185020446777, 11.861055374145508, 11.130804061889648, 14.42070198059082, 15.01460075378418, 11.539987564086914, 13.64002513885498, 10.981057167053223, 11.596866607666016, 10.794890403747559, 11.499319076538086, 10.7062406539917, 9.229129791259766, 11.180140495300293, 11.146665573120117, 14.225232124328613, 10.332576751708984, 9.722899436950684, 10.524787902832031, 7.104126453399658, 11.301854133605957, 7.77267599105835, 11.693988800048828, 8.317205429077148, 14.906046867370605, 11.038063049316406, 6.383406639099121, 13.68898868560791, 14.107339859008789, 9.868139266967773, 14.39067554473877, 12.976669311523438, 9.607861518859863, 10.351664543151855, 9.13039779663086, 6.44665002822876, 12.510590553283691, 11.755071640014648, 12.228601455688477, 10.240354537963867, 10.801218032836914, 8.101493835449219, 12.192366600036621, 9.161537170410156, 12.746238708496094, 8.885537147521973, 6.999305248260498, 6.319699287414551, 15.414246559143066, 11.015152931213379, 9.677288055419922, 10.127752304077148, 12.986440658569336, 13.524262428283691, 10.996088981628418, 6.466620922088623, 9.664315223693848, 9.124593734741211, 12.573915481567383, 12.956642150878906, 11.70637035369873, 11.011439323425293, 11.218069076538086, 10.951254844665527, 7.829563617706299, 14.279037475585938, 9.79310131072998, 8.49227523803711, 10.9509916305542, 9.847171783447266, 8.475743293762207, 10.824600219726562, 14.812944412231445, 10.125106811523438, 8.971199989318848, 13.385875701904297, 12.526020050048828, 10.426782608032227, 14.417398452758789, 7.613674163818359, 8.294926643371582, 12.265193939208984, 10.331090927124023, 9.124053001403809, 9.080212593078613, 12.35746955871582, 9.16866683959961, 10.615983009338379, 9.995089530944824, 9.091719627380371, 12.83358383178711, 11.84724235534668, 13.933786392211914, 7.540043830871582, 9.784351348876953, 8.278642654418945, 10.129087448120117, 9.50281047821045, 11.412227630615234, 7.539633750915527, 10.868772506713867, 8.1650390625, 9.399008750915527, 14.422733306884766, 7.6245880126953125, 12.640284538269043, 7.681142330169678, 11.28931999206543, 9.1237154006958, 9.557097434997559, 7.658920764923096, 12.001840591430664, 9.039207458496094, 8.672718048095703, 17.144014358520508, 10.327837944030762, 10.51883316040039, 8.614161491394043, 10.618356704711914, 15.036301612854004, 12.507828712463379, 17.041059494018555, 16.55193519592285, 14.674663543701172, 13.187204360961914, 9.785148620605469, 12.648197174072266, 10.458155632019043, 13.79133415222168, 13.845393180847168, 18.276451110839844, 17.192562103271484, 12.430529594421387, 17.9904842376709, 13.007800102233887, 12.474767684936523, 11.107305526733398, 13.770271301269531, 11.506052017211914, 9.003547668457031, 11.70458984375, 10.686344146728516, 10.03982162475586, 11.465995788574219, 12.286524772644043, 14.592977523803711, 12.400643348693848, 11.98254680633545, 8.758735656738281, 12.796724319458008, 8.422804832458496, 9.8201904296875, 11.942880630493164, 13.393607139587402, 17.654333114624023, 13.191054344177246, 17.3424072265625, 10.882434844970703, 12.49127197265625, 12.291561126708984, 14.714445114135742, 16.334033966064453, 11.66861629486084, 26.136276245117188, 12.038825988769531, 35.0321159362793]\n",
      "[1.029882607207437e-05, 1.060658184628388e-05, 1.0923534165409913e-05, 1.1249957846191874e-05, 1.1586135917609852e-05, 1.1932359866287762e-05, 1.2288929889229824e-05, 1.2656155154109411e-05, 1.3034354067336042e-05, 1.3423854550132903e-05, 1.382499432286429e-05, 1.423812119785949e-05, 1.4663593380987007e-05, 1.5101779782240613e-05, 1.555306033560652e-05, 1.601782632848902e-05, 1.64964807409802e-05, 1.698943859526796e-05, 1.749712731548522e-05, 1.801998709831238e-05, 1.8558471294654332e-05, 1.9113046802722984e-05, 1.968419447286611e-05, 2.0272409524493572e-05, 2.0878201975462318e-05, 2.1502097084292593e-05, 2.214463580559868e-05, 2.2806375259129134e-05, 2.3487889212823095e-05, 2.4189768580301685e-05, 2.491262193322564e-05, 2.5657076028963604e-05, 2.6423776354028466e-05, 2.721338768375306e-05, 2.8026594658690357e-05, 2.886410237823805e-05, 2.9726637012002185e-05, 3.0614946429429905e-05, 3.152980084825729e-05, 3.2471993502334466e-05, 3.344234132940718e-05, 3.4441685679450885e-05, 3.547089304417192e-05, 3.653085580830792e-05, 3.76224930233791e-05, 3.874675120456128e-05, 3.990460515137147e-05, 4.109705879287776e-05, 4.232514605816627e-05, 4.3589931772819856e-05, 4.489251258218601e-05, 4.6234017902234394e-05, 4.7615610898828476e-05, 4.9038489496260325e-05, 5.050388741592309e-05, 5.201307524602173e-05, 5.3567361543249464e-05, 5.5168093967385154e-05, 5.68166604497955e-05, 5.851449039685506e-05, 6.026305592932762e-05, 6.206387315878352e-05, 6.391850350215964e-05, 6.582855503560186e-05, 6.77956838887639e-05, 6.982159568077139e-05, 7.190804699909636e-05, 7.405684692262427e-05, 7.626985859023433e-05, 7.854900081625308e-05, 8.08962497541818e-05, 8.331364061014075e-05, 8.580326940751514e-05, 8.83672948043338e-05, 9.100793996495551e-05, 9.372749448768628e-05, 9.652831638999902e-05, 9.941283415307656e-05, 0.00010238354882745101, 0.00010544303620156518, 0.00010859394903513612, 0.00011183901935925751, 0.00011518106084523513, 0.00011862297124420921, 0.000122167734899679, 0.0001258184253351084, 0.00012957820791885567, 0.00013345034260873844, 0.00013743818677861325, 0.0001415451981294209, 0.00014577493768722124, 0.00015013107289081707, 0.00015461738077164443, 0.0001592377512286862, 0.00016399619040124858, 0.00016889682414252517, 0.0001739439015969598, 0.00017914179888451083, 0.0001844950228950103, 0.00019000821519590897, 0.00019568615605679448, 0.0002015337685941729, 0.00020755612304010706, 0.00021375844113841305, 0.00022014610067222628, 0.00022672464012686328, 0.00023349976349202185, 0.00024047734520748338, 0.0002476634352566058, 0.00025506426441202347, 0.0002626862496381018, 0.0002705359996548319, 0.00027862032066798857, 0.0002869462222705202, 0.00029552092352028804, 0.0003043518591994238, 0.0003134466862607334, 0.0003228132904667356, 0.00033245979322709334, 0.00034239455864036426, 0.000352626200746178, 0.0003631635909941268, 0.00037401586593584663, 0.0003851924351469569, 0.00039670298938572956, 0.0004085575089955594, 0.00042076627255852256, 0.00043333986580752624, 0.00044628919080477605, 0.00045962547539452, 0.000473360282938266, 0.00048750552234091136, 0.0005020734583764812, 0.0005170767223224251, 0.000532528322911695, 0.0005484416576121004, 0.0005648305242427184, 0.0005817091329374342, 0.0005990921184659823, 0.0006169945529231726, 0.0006354319587973039, 0.000654420322429096, 0.0006739761078728088, 0.0006941162711715693, 0.0007148582750592801, 0.0007362201041018624, 0.0007582202802909568, 0.0007808778791036043, 0.0008042125460418337, 0.0008282445136664947, 0.0008529946191401051, 0.000878484322293926, 0.000904735724234927, 0.0009317715865087752, 0.0009596153508354675, 0.0009882911594347105, 0.0010178238759586803, 0.0010482391070503047, 0.0010795632245457635, 0.0011118233883404584, 0.0011450475699382782, 0.0011792645767045738, 0.001214504076843881, 0.0012507966251240376, 0.001288173689369007, 0.0013266676777433759, 0.0013663119668521836, 0.0014071409306804482, 0.0014491899703974794, 0.0014924955450518244, 0.0015370952031834575, 0.0015830276153806246, 0.0016303326078095691, 0.001679051196746219, 0.0017292256241397631, 0.0017808993942389666, 0.0018341173113129723, 0.001888925518499298, 0.0019453715378127167, 0.002003504311349702, 0.0020633742437241717, 0.002125033245771323, 0.0021885347795574527, 0.0022539339047347824, 0.0023212873262814966, 0.002390653443668368, 0.0024620924014946166, 0.002535666141636895, 0.002611438456956628, 0.0026894750466122577, 0.002769843573024375, 0.0028526137205431065, 0.0029378572558686417, 0.0030256480902772828, 0.0031160623437069706, 0.003209178410757852, 0.003305077028665115, 0.003403841347303038, 0.0035055570012809275, 0.0036103121841934856, 0.0037181977250899637, 0.0038293071672284127, 0.003943736849183322, 0.004061585988376962, 0.0041829567671068605, 0.004307954421144006, 0.004436687330978593, 0.004569267115792438, 0.004705808730239522, 0.004846430564118598, 0.004991254545024271, 0.005140406244065566, 0.0052940149847436335, 0.005452213955083014, 0.005615140323113665, 0.005782935355803912, 0.0059557445415474, 0.006133717716310297, 0.006317009193548095, 0.006505777898004661, 0.006700187503509559, 0.006900406574893113, 0.00710660871414226, 0.00731897271092392, 0.0075376826976064105, 0.0077629283089132774, 0.007994904846348025, 0.008233813447532276, 0.008479861260604196, 0.008733261623828393, 0.00899423425057304, 0.00926300541981459, 0.00953980817233527, 0.009824882512783462, 0.010118475617772186, 0.0104208420501961, 0.01073224397995285, 0.011052951411260163, 0.011383242416765737, 0.011723403378652983, 0.01207372923695161, 0.012434523745268381, 0.012806099734159785, 0.013188779382374945]\n",
      "[13.073512077331543, 12.979204177856445, 9.676170349121094, 10.308758735656738, 9.645108222961426, 10.977907180786133, 7.859798908233643, 9.010895729064941, 10.424605369567871, 11.673129081726074, 10.370264053344727, 11.674994468688965, 9.086540222167969, 10.988754272460938, 12.3850679397583, 4.448969841003418, 11.094390869140625, 7.661789417266846, 13.094803810119629, 12.312670707702637, 10.400177955627441, 9.092473030090332, 10.388200759887695, 14.333864212036133, 11.062260627746582, 9.007858276367188, 8.376333236694336, 9.757654190063477, 10.287333488464355, 12.304479598999023, 12.941722869873047, 10.988144874572754, 13.69313907623291, 10.429617881774902, 7.854302883148193, 13.622624397277832, 6.489657402038574, 9.174064636230469, 7.155526638031006, 11.030760765075684, 9.725061416625977, 13.663755416870117, 14.872260093688965, 9.676780700683594, 11.588268280029297, 10.435568809509277, 9.165529251098633, 9.047633171081543, 8.988136291503906, 8.326584815979004, 7.6522297859191895, 10.264570236206055, 8.420785903930664, 10.359636306762695, 8.453751564025879, 8.34414291381836, 13.003411293029785, 10.359020233154297, 12.351183891296387, 10.984959602355957, 11.03852653503418, 9.661551475524902, 13.500718116760254, 11.602952003479004, 8.494651794433594, 7.81356143951416, 15.96222972869873, 11.737874031066895, 8.456560134887695, 10.47643756866455, 7.742356777191162, 7.182030200958252, 9.276440620422363, 9.01515007019043, 6.509418964385986, 11.042329788208008, 13.78562068939209, 9.807680130004883, 14.592185020446777, 11.861055374145508, 11.130804061889648, 14.42070198059082, 15.01460075378418, 11.539987564086914, 13.64002513885498, 10.981057167053223, 11.596866607666016, 10.794890403747559, 11.499319076538086, 10.7062406539917, 9.229129791259766, 11.180140495300293, 11.146665573120117, 14.225232124328613, 10.332576751708984, 9.722899436950684, 10.524787902832031, 7.104126453399658, 11.301854133605957, 7.77267599105835, 11.693988800048828, 8.317205429077148, 14.906046867370605, 11.038063049316406, 6.383406639099121, 13.68898868560791, 14.107339859008789, 9.868139266967773, 14.39067554473877, 12.976669311523438, 9.607861518859863, 10.351664543151855, 9.13039779663086, 6.44665002822876, 12.510590553283691, 11.755071640014648, 12.228601455688477, 10.240354537963867, 10.801218032836914, 8.101493835449219, 12.192366600036621, 9.161537170410156, 12.746238708496094, 8.885537147521973, 6.999305248260498, 6.319699287414551, 15.414246559143066, 11.015152931213379, 9.677288055419922, 10.127752304077148, 12.986440658569336, 13.524262428283691, 10.996088981628418, 6.466620922088623, 9.664315223693848, 9.124593734741211, 12.573915481567383, 12.956642150878906, 11.70637035369873, 11.011439323425293, 11.218069076538086, 10.951254844665527, 7.829563617706299, 14.279037475585938, 9.79310131072998, 8.49227523803711, 10.9509916305542, 9.847171783447266, 8.475743293762207, 10.824600219726562, 14.812944412231445, 10.125106811523438, 8.971199989318848, 13.385875701904297, 12.526020050048828, 10.426782608032227, 14.417398452758789, 7.613674163818359, 8.294926643371582, 12.265193939208984, 10.331090927124023, 9.124053001403809, 9.080212593078613, 12.35746955871582, 9.16866683959961, 10.615983009338379, 9.995089530944824, 9.091719627380371, 12.83358383178711, 11.84724235534668, 13.933786392211914, 7.540043830871582, 9.784351348876953, 8.278642654418945, 10.129087448120117, 9.50281047821045, 11.412227630615234, 7.539633750915527, 10.868772506713867, 8.1650390625, 9.399008750915527, 14.422733306884766, 7.6245880126953125, 12.640284538269043, 7.681142330169678, 11.28931999206543, 9.1237154006958, 9.557097434997559, 7.658920764923096, 12.001840591430664, 9.039207458496094, 8.672718048095703, 17.144014358520508, 10.327837944030762, 10.51883316040039, 8.614161491394043, 10.618356704711914, 15.036301612854004, 12.507828712463379, 17.041059494018555, 16.55193519592285, 14.674663543701172, 13.187204360961914, 9.785148620605469, 12.648197174072266, 10.458155632019043, 13.79133415222168, 13.845393180847168, 18.276451110839844, 17.192562103271484, 12.430529594421387, 17.9904842376709, 13.007800102233887, 12.474767684936523, 11.107305526733398, 13.770271301269531, 11.506052017211914, 9.003547668457031, 11.70458984375, 10.686344146728516, 10.03982162475586, 11.465995788574219, 12.286524772644043, 14.592977523803711, 12.400643348693848, 11.98254680633545, 8.758735656738281, 12.796724319458008, 8.422804832458496, 9.8201904296875, 11.942880630493164, 13.393607139587402, 17.654333114624023, 13.191054344177246, 17.3424072265625, 10.882434844970703, 12.49127197265625, 12.291561126708984, 14.714445114135742, 16.334033966064453, 11.66861629486084, 26.136276245117188, 12.038825988769531, 35.0321159362793]\n"
     ]
    },
    {
     "data": {
      "image/png": "[encoded data removed]",
      "text/plain": [
       "<Figure size 640x480 with 1 Axes>"
      ]
     },
     "metadata": {},
     "output_type": "display_data"
    }
   ],
   "source": [
    "import matplotlib.pyplot as plt\n",
    "\n",
    "main.start_training(1, is_range_test=True)\n",
    "print(main.lr)\n",
    "print(main.train_losses)\n",
    "def plot(lr, losses, start=10, end=-5):\n",
    "    plt.xlabel(\"Learning Rate\")\n",
    "    plt.ylabel(\"Losses\")\n",
    "    plt.plot(lr, losses)\n",
    "    plt.xscale('log')\n",
    "print(main.lr)\n",
    "print(main.train_losses)\n",
    "plot(main.lr, main.train_losses)"
   ]
  },
  {
   "cell_type": "markdown",
   "id": "a8d11f5d",
   "metadata": {},
   "source": [
    "# Training"
   ]
  },
  {
   "cell_type": "code",
   "execution_count": 1,
   "id": "e8f9782c",
   "metadata": {},
   "outputs": [
    {
     "name": "stdout",
     "output_type": "stream",
     "text": [
      "==> Preparing data..\n",
      "Files already downloaded and verified\n",
      "Files already downloaded and verified\n",
      "==> Building model..\n"
     ]
    }
   ],
   "source": [
    "import pytorch_cifar.main as main\n",
    "import pytorch_cifar.models as models\n",
    "import torch\n",
    "import torch.nn.functional as F\n",
    "import torch.optim as optim\n",
    "import copy\n",
    "\n",
    "main.set_net(copy.deepcopy(models.model9.TransformerModel()))\n",
    "main.optimizer = optim.Adam(main.net.parameters(), lr=0.0001, weight_decay=5e-4)\n",
    "main.criterion = F.nll_loss"
   ]
  },
  {
   "cell_type": "code",
   "execution_count": 2,
   "id": "4aa04efb",
   "metadata": {
    "scrolled": true
   },
   "outputs": [
    {
     "name": "stdout",
     "output_type": "stream",
     "text": [
      "----------------------------------------------------------------\n",
      "        Layer (type)               Output Shape         Param #\n",
      "================================================================\n",
      "            Conv2d-1           [-1, 16, 32, 32]             448\n",
      "              ReLU-2           [-1, 16, 32, 32]               0\n",
      "            Conv2d-3           [-1, 32, 32, 32]           4,640\n",
      "              ReLU-4           [-1, 32, 32, 32]               0\n",
      "            Conv2d-5           [-1, 48, 32, 32]          13,872\n",
      "              ReLU-6           [-1, 48, 32, 32]               0\n",
      " AdaptiveAvgPool2d-7             [-1, 48, 1, 1]               0\n",
      "            Linear-8                    [-1, 8]             392\n",
      "            Linear-9                    [-1, 8]             392\n",
      "           Linear-10                    [-1, 8]             392\n",
      "           Linear-11                   [-1, 48]             432\n",
      "          Ultimus-12                   [-1, 48]               0\n",
      "           Linear-13                    [-1, 8]             392\n",
      "           Linear-14                    [-1, 8]             392\n",
      "           Linear-15                    [-1, 8]             392\n",
      "           Linear-16                   [-1, 48]             432\n",
      "          Ultimus-17                   [-1, 48]               0\n",
      "           Linear-18                    [-1, 8]             392\n",
      "           Linear-19                    [-1, 8]             392\n",
      "           Linear-20                    [-1, 8]             392\n",
      "           Linear-21                   [-1, 48]             432\n",
      "          Ultimus-22                   [-1, 48]               0\n",
      "           Linear-23                    [-1, 8]             392\n",
      "           Linear-24                    [-1, 8]             392\n",
      "           Linear-25                    [-1, 8]             392\n",
      "           Linear-26                   [-1, 48]             432\n",
      "          Ultimus-27                   [-1, 48]               0\n",
      "           Linear-28                   [-1, 10]             490\n",
      " TransformerModel-29                   [-1, 10]               0\n",
      "================================================================\n",
      "Total params: 25,882\n",
      "Trainable params: 25,882\n",
      "Non-trainable params: 0\n",
      "----------------------------------------------------------------\n",
      "Input size (MB): 0.01\n",
      "Forward/backward pass size (MB): 1.50\n",
      "Params size (MB): 0.10\n",
      "Estimated Total Size (MB): 1.61\n",
      "----------------------------------------------------------------\n"
     ]
    },
    {
     "name": "stderr",
     "output_type": "stream",
     "text": [
      "D:\\Learning\\EVA_8\\Assignment 9\\pytorch_cifar\\models\\model9.py:21: UserWarning: Implicit dimension choice for softmax has been deprecated. Change the call to include dim=X as an argument.\n",
      "  am = F.softmax(torch.div(torch.multiply(q, k),(8**0.5)))\n",
      "D:\\Learning\\EVA_8\\Assignment 9\\pytorch_cifar\\models\\model9.py:56: UserWarning: Implicit dimension choice for log_softmax has been deprecated. Change the call to include dim=X as an argument.\n",
      "  return F.log_softmax(x)\n"
     ]
    },
    {
     "data": {
      "text/plain": [
       "None"
      ]
     },
     "metadata": {},
     "output_type": "display_data"
    }
   ],
   "source": [
    "from torchsummary import summary\n",
    "\n",
    "display(summary(main.net, input_size=(3,32,32)))"
   ]
  },
  {
   "cell_type": "code",
   "execution_count": 3,
   "id": "9154e848",
   "metadata": {
    "scrolled": true
   },
   "outputs": [
    {
     "name": "stderr",
     "output_type": "stream",
     "text": [
      "Epoch=0 LR=0.0026267510015656713 Loss=2.031066616477869 batch_id=390 Accuracy=23.32%: 100%|█| 391/391 [00:13<00:00, 29.\n"
     ]
    },
    {
     "name": "stdout",
     "output_type": "stream",
     "text": [
      "\n",
      "Test set: Average loss: 1.8646, Accuracy: 2970/10000 (29.70%)\n",
      "\n"
     ]
    },
    {
     "name": "stderr",
     "output_type": "stream",
     "text": [
      "Epoch=1 LR=0.0074264657372516835 Loss=1.8016941346170958 batch_id=390 Accuracy=31.37%: 100%|█| 391/391 [00:12<00:00, 31\n"
     ]
    },
    {
     "name": "stdout",
     "output_type": "stream",
     "text": [
      "\n",
      "Test set: Average loss: 1.6896, Accuracy: 3612/10000 (36.12%)\n",
      "\n"
     ]
    },
    {
     "name": "stderr",
     "output_type": "stream",
     "text": [
      "Epoch=2 LR=0.013363445782935248 Loss=1.68522828466752 batch_id=390 Accuracy=36.19%: 100%|█| 391/391 [00:12<00:00, 30.64\n"
     ]
    },
    {
     "name": "stdout",
     "output_type": "stream",
     "text": [
      "\n",
      "Test set: Average loss: 1.6661, Accuracy: 3777/10000 (37.77%)\n",
      "\n"
     ]
    },
    {
     "name": "stderr",
     "output_type": "stream",
     "text": [
      "Epoch=3 LR=0.018167018983702946 Loss=1.5987703019700696 batch_id=390 Accuracy=40.62%: 100%|█| 391/391 [00:13<00:00, 30.\n"
     ]
    },
    {
     "name": "stdout",
     "output_type": "stream",
     "text": [
      "\n",
      "Test set: Average loss: 1.4947, Accuracy: 4543/10000 (45.43%)\n",
      "\n"
     ]
    },
    {
     "name": "stderr",
     "output_type": "stream",
     "text": [
      "Epoch=4 LR=0.019999999912520917 Loss=1.5008331214070625 batch_id=390 Accuracy=44.75%: 100%|█| 391/391 [00:12<00:00, 30.\n"
     ]
    },
    {
     "name": "stdout",
     "output_type": "stream",
     "text": [
      "\n",
      "Test set: Average loss: 1.4661, Accuracy: 4705/10000 (47.05%)\n",
      "\n"
     ]
    },
    {
     "name": "stderr",
     "output_type": "stream",
     "text": [
      "Epoch=5 LR=0.019863407248932475 Loss=1.4356180325798367 batch_id=390 Accuracy=47.26%: 100%|█| 391/391 [00:12<00:00, 30.\n"
     ]
    },
    {
     "name": "stdout",
     "output_type": "stream",
     "text": [
      "\n",
      "Test set: Average loss: 1.4203, Accuracy: 4790/10000 (47.90%)\n",
      "\n"
     ]
    },
    {
     "name": "stderr",
     "output_type": "stream",
     "text": [
      "Epoch=6 LR=0.019457790242192245 Loss=1.3830962979885013 batch_id=390 Accuracy=49.43%: 100%|█| 391/391 [00:12<00:00, 30.\n"
     ]
    },
    {
     "name": "stdout",
     "output_type": "stream",
     "text": [
      "\n",
      "Test set: Average loss: 1.3164, Accuracy: 5141/10000 (51.41%)\n",
      "\n"
     ]
    },
    {
     "name": "stderr",
     "output_type": "stream",
     "text": [
      "Epoch=7 LR=0.018794212137341757 Loss=1.3587120844580023 batch_id=390 Accuracy=50.47%: 100%|█| 391/391 [00:12<00:00, 31.\n"
     ]
    },
    {
     "name": "stdout",
     "output_type": "stream",
     "text": [
      "\n",
      "Test set: Average loss: 1.3686, Accuracy: 5031/10000 (50.31%)\n",
      "\n"
     ]
    },
    {
     "name": "stderr",
     "output_type": "stream",
     "text": [
      "Epoch=8 LR=0.01789077209456453 Loss=1.3248384254972647 batch_id=390 Accuracy=52.00%: 100%|█| 391/391 [00:12<00:00, 30.1\n"
     ]
    },
    {
     "name": "stdout",
     "output_type": "stream",
     "text": [
      "\n",
      "Test set: Average loss: 1.4475, Accuracy: 4880/10000 (48.80%)\n",
      "\n"
     ]
    },
    {
     "name": "stderr",
     "output_type": "stream",
     "text": [
      "Epoch=9 LR=0.016772111532754447 Loss=1.290140253198726 batch_id=390 Accuracy=53.42%: 100%|█| 391/391 [00:12<00:00, 30.5\n"
     ]
    },
    {
     "name": "stdout",
     "output_type": "stream",
     "text": [
      "\n",
      "Test set: Average loss: 1.2994, Accuracy: 5300/10000 (53.00%)\n",
      "\n"
     ]
    },
    {
     "name": "stderr",
     "output_type": "stream",
     "text": [
      "Epoch=10 LR=0.015468742032313564 Loss=1.2614626491161258 batch_id=390 Accuracy=54.52%: 100%|█| 391/391 [00:12<00:00, 31\n"
     ]
    },
    {
     "name": "stdout",
     "output_type": "stream",
     "text": [
      "\n",
      "Test set: Average loss: 1.2559, Accuracy: 5545/10000 (55.45%)\n",
      "\n"
     ]
    },
    {
     "name": "stderr",
     "output_type": "stream",
     "text": [
      "Epoch=11 LR=0.014016213128698756 Loss=1.2431139997814014 batch_id=390 Accuracy=55.12%: 100%|█| 391/391 [00:12<00:00, 31\n"
     ]
    },
    {
     "name": "stdout",
     "output_type": "stream",
     "text": [
      "\n",
      "Test set: Average loss: 1.2407, Accuracy: 5453/10000 (54.53%)\n",
      "\n"
     ]
    },
    {
     "name": "stderr",
     "output_type": "stream",
     "text": [
      "Epoch=12 LR=0.012454142695232777 Loss=1.2109728914392575 batch_id=390 Accuracy=56.44%: 100%|█| 391/391 [00:12<00:00, 30\n"
     ]
    },
    {
     "name": "stdout",
     "output_type": "stream",
     "text": [
      "\n",
      "Test set: Average loss: 1.2178, Accuracy: 5612/10000 (56.12%)\n",
      "\n"
     ]
    },
    {
     "name": "stderr",
     "output_type": "stream",
     "text": [
      "Epoch=13 LR=0.01082513636158692 Loss=1.1843270961280978 batch_id=390 Accuracy=57.37%: 100%|█| 391/391 [00:12<00:00, 30.\n"
     ]
    },
    {
     "name": "stdout",
     "output_type": "stream",
     "text": [
      "\n",
      "Test set: Average loss: 1.1335, Accuracy: 5930/10000 (59.30%)\n",
      "\n"
     ]
    },
    {
     "name": "stderr",
     "output_type": "stream",
     "text": [
      "Epoch=14 LR=0.009173625440905952 Loss=1.1673536294561517 batch_id=390 Accuracy=58.15%: 100%|█| 391/391 [00:12<00:00, 30\n"
     ]
    },
    {
     "name": "stdout",
     "output_type": "stream",
     "text": [
      "\n",
      "Test set: Average loss: 1.1616, Accuracy: 5799/10000 (57.99%)\n",
      "\n"
     ]
    },
    {
     "name": "stderr",
     "output_type": "stream",
     "text": [
      "Epoch=15 LR=0.007544655061230937 Loss=1.1296061695079365 batch_id=390 Accuracy=59.60%: 100%|█| 391/391 [00:13<00:00, 30\n"
     ]
    },
    {
     "name": "stdout",
     "output_type": "stream",
     "text": [
      "\n",
      "Test set: Average loss: 1.1518, Accuracy: 5897/10000 (58.97%)\n",
      "\n"
     ]
    },
    {
     "name": "stderr",
     "output_type": "stream",
     "text": [
      "Epoch=16 LR=0.005982655555058443 Loss=1.1106056180756416 batch_id=390 Accuracy=60.13%: 100%|█| 391/391 [00:12<00:00, 30\n"
     ]
    },
    {
     "name": "stdout",
     "output_type": "stream",
     "text": [
      "\n",
      "Test set: Average loss: 1.1642, Accuracy: 5768/10000 (57.68%)\n",
      "\n"
     ]
    },
    {
     "name": "stderr",
     "output_type": "stream",
     "text": [
      "Epoch=17 LR=0.004530230617510627 Loss=1.0832886915377644 batch_id=390 Accuracy=61.30%: 100%|█| 391/391 [00:12<00:00, 30\n"
     ]
    },
    {
     "name": "stdout",
     "output_type": "stream",
     "text": [
      "\n",
      "Test set: Average loss: 1.0884, Accuracy: 6052/10000 (60.52%)\n",
      "\n"
     ]
    },
    {
     "name": "stderr",
     "output_type": "stream",
     "text": [
      "Epoch=18 LR=0.0032269952862252088 Loss=1.0576721373421456 batch_id=390 Accuracy=62.16%: 100%|█| 391/391 [00:12<00:00, 3\n"
     ]
    },
    {
     "name": "stdout",
     "output_type": "stream",
     "text": [
      "\n",
      "Test set: Average loss: 1.0870, Accuracy: 6116/10000 (61.16%)\n",
      "\n"
     ]
    },
    {
     "name": "stderr",
     "output_type": "stream",
     "text": [
      "Epoch=19 LR=0.002108495437181735 Loss=1.0270280434042596 batch_id=390 Accuracy=63.32%: 100%|█| 391/391 [00:13<00:00, 29\n"
     ]
    },
    {
     "name": "stdout",
     "output_type": "stream",
     "text": [
      "\n",
      "Test set: Average loss: 1.0624, Accuracy: 6273/10000 (62.73%)\n",
      "\n"
     ]
    },
    {
     "name": "stderr",
     "output_type": "stream",
     "text": [
      "Epoch=20 LR=0.0012052382673252257 Loss=1.0135519548755167 batch_id=390 Accuracy=63.90%: 100%|█| 391/391 [00:12<00:00, 3\n"
     ]
    },
    {
     "name": "stdout",
     "output_type": "stream",
     "text": [
      "\n",
      "Test set: Average loss: 1.0185, Accuracy: 6345/10000 (63.45%)\n",
      "\n"
     ]
    },
    {
     "name": "stderr",
     "output_type": "stream",
     "text": [
      "Epoch=21 LR=0.0005418602076720879 Loss=0.9867091438044673 batch_id=390 Accuracy=64.96%: 100%|█| 391/391 [00:13<00:00, 2\n"
     ]
    },
    {
     "name": "stdout",
     "output_type": "stream",
     "text": [
      "\n",
      "Test set: Average loss: 0.9971, Accuracy: 6433/10000 (64.33%)\n",
      "\n"
     ]
    },
    {
     "name": "stderr",
     "output_type": "stream",
     "text": [
      "Epoch=22 LR=0.00013645496215277061 Loss=0.970521935569051 batch_id=390 Accuracy=65.63%: 100%|█| 391/391 [00:13<00:00, 2\n"
     ]
    },
    {
     "name": "stdout",
     "output_type": "stream",
     "text": [
      "\n",
      "Test set: Average loss: 0.9942, Accuracy: 6432/10000 (64.32%)\n",
      "\n"
     ]
    },
    {
     "name": "stderr",
     "output_type": "stream",
     "text": [
      "Epoch=23 LR=8e-08 Loss=0.9640273300887984 batch_id=390 Accuracy=65.86%: 100%|████████| 391/391 [00:12<00:00, 30.37it/s]\n"
     ]
    },
    {
     "name": "stdout",
     "output_type": "stream",
     "text": [
      "\n",
      "Test set: Average loss: 0.9913, Accuracy: 6443/10000 (64.43%)\n",
      "\n"
     ]
    }
   ],
   "source": [
    "main.scheduler = torch.optim.lr_scheduler.OneCycleLR(main.optimizer, max_lr=0.02, steps_per_epoch=len(main.trainloader), epochs=24, pct_start=0.2083)\n",
    "main.start_training(num_epochs=24, is_batchwise_scheduler_step=True)"
   ]
  },
  {
   "cell_type": "code",
   "execution_count": 17,
   "id": "a8a8aa2f",
   "metadata": {},
   "outputs": [],
   "source": [
    "def plot_train_and_test_losses(train_losses, test_losses):\n",
    "    fig, axs = plt.subplots(1,2,figsize=(15,10))\n",
    "    axs[0].plot(train_losses)\n",
    "    axs[0].set_xlabel('Iterations')\n",
    "    axs[0].set_ylabel('Loss')\n",
    "    axs[0].set_title(\"Training Loss\")\n",
    "    axs[1].plot(test_losses)\n",
    "    axs[1].set_xlabel('Iterations')\n",
    "    axs[1].set_ylabel('Loss')\n",
    "    axs[1].set_title(\"Validation Loss\")"
   ]
  },
  {
   "cell_type": "code",
   "execution_count": 19,
   "id": "15d1367b",
   "metadata": {},
   "outputs": [
    {
     "data": {
      "image/png": "[encoded data removed]",
      "text/plain": [
       "<Figure size 1500x1000 with 2 Axes>"
      ]
     },
     "metadata": {},
     "output_type": "display_data"
    }
   ],
   "source": [
    "import pytorch_cifar.utils as utils\n",
    "utils.plot_train_and_test_losses(main.train_losses, main.test_losses)"
   ]
  }
 ],
 "metadata": {
  "kernelspec": {
   "display_name": "Python 3 (ipykernel)",
   "language": "python",
   "name": "python3"
  },
  "language_info": {
   "codemirror_mode": {
    "name": "ipython",
    "version": 3
   },
   "file_extension": ".py",
   "mimetype": "text/x-python",
   "name": "python",
   "nbconvert_exporter": "python",
   "pygments_lexer": "ipython3",
   "version": "3.10.5"
  }
 },
 "nbformat": 4,
 "nbformat_minor": 5
}
