{
  "nbformat": 4,
  "nbformat_minor": 0,
  "metadata": {
    "colab": {
      "provenance": []
    },
    "kernelspec": {
      "name": "python3",
      "display_name": "Python 3"
    },
    "language_info": {
      "name": "python"
    },
    "gpuClass": "standard",
    "accelerator": "GPU"
  },
  "cells": [
    {
      "cell_type": "code",
      "execution_count": 22,
      "metadata": {
        "id": "zv9oW0QKhXDz"
      },
      "outputs": [],
      "source": [
        "import model\n",
        "import torch\n",
        "import torch.nn.functional as F\n",
        "import torch.optim as optim\n",
        "from torchvision import datasets, transforms\n",
        "import os"
      ]
    },
    {
      "cell_type": "code",
      "source": [
        "!pip install torchsummary\n",
        "from torchsummary import summary\n",
        "use_cuda = torch.cuda.is_available()\n",
        "device = torch.device(\"cuda\" if use_cuda else \"cpu\")\n",
        "network = model.get_network(model.Network.GROUP_NORM).to(device)\n",
        "summary(network, input_size=(1, 28, 28))"
      ],
      "metadata": {
        "colab": {
          "base_uri": "https://localhost:8080/"
        },
        "id": "mEe6M6xGEWZx",
        "outputId": "c349aca9-9177-49eb-cb01-4fb20f986f1b"
      },
      "execution_count": 23,
      "outputs": [
        {
          "output_type": "stream",
          "name": "stdout",
          "text": [
            "Looking in indexes: https://pypi.org/simple, https://us-python.pkg.dev/colab-wheels/public/simple/\n",
            "Requirement already satisfied: torchsummary in /usr/local/lib/python3.8/dist-packages (1.5.1)\n",
            "----------------------------------------------------------------\n",
            "        Layer (type)               Output Shape         Param #\n",
            "================================================================\n",
            "            Conv2d-1           [-1, 10, 28, 28]             100\n",
            "              ReLU-2           [-1, 10, 28, 28]               0\n",
            "         GroupNorm-3           [-1, 10, 28, 28]              20\n",
            "         Dropout2d-4           [-1, 10, 28, 28]               0\n",
            "            Conv2d-5           [-1, 16, 28, 28]           1,456\n",
            "              ReLU-6           [-1, 16, 28, 28]               0\n",
            "         GroupNorm-7           [-1, 16, 28, 28]              32\n",
            "         Dropout2d-8           [-1, 16, 28, 28]               0\n",
            "         MaxPool2d-9           [-1, 16, 14, 14]               0\n",
            "           Conv2d-10            [-1, 8, 14, 14]             136\n",
            "             ReLU-11            [-1, 8, 14, 14]               0\n",
            "        GroupNorm-12            [-1, 8, 14, 14]              16\n",
            "        Dropout2d-13            [-1, 8, 14, 14]               0\n",
            "           Conv2d-14           [-1, 16, 14, 14]           1,168\n",
            "             ReLU-15           [-1, 16, 14, 14]               0\n",
            "        GroupNorm-16           [-1, 16, 14, 14]              32\n",
            "        Dropout2d-17           [-1, 16, 14, 14]               0\n",
            "           Conv2d-18           [-1, 16, 14, 14]           2,320\n",
            "             ReLU-19           [-1, 16, 14, 14]               0\n",
            "        GroupNorm-20           [-1, 16, 14, 14]              32\n",
            "        Dropout2d-21           [-1, 16, 14, 14]               0\n",
            "           Conv2d-22           [-1, 16, 14, 14]           2,320\n",
            "             ReLU-23           [-1, 16, 14, 14]               0\n",
            "        GroupNorm-24           [-1, 16, 14, 14]              32\n",
            "        Dropout2d-25           [-1, 16, 14, 14]               0\n",
            "        MaxPool2d-26             [-1, 16, 7, 7]               0\n",
            "           Conv2d-27              [-1, 8, 7, 7]             136\n",
            "             ReLU-28              [-1, 8, 7, 7]               0\n",
            "        GroupNorm-29              [-1, 8, 7, 7]              16\n",
            "        Dropout2d-30              [-1, 8, 7, 7]               0\n",
            "           Conv2d-31             [-1, 10, 5, 5]             730\n",
            "             ReLU-32             [-1, 10, 5, 5]               0\n",
            "        GroupNorm-33             [-1, 10, 5, 5]              20\n",
            "        Dropout2d-34             [-1, 10, 5, 5]               0\n",
            "           Conv2d-35             [-1, 16, 3, 3]           1,456\n",
            "             ReLU-36             [-1, 16, 3, 3]               0\n",
            "        GroupNorm-37             [-1, 16, 3, 3]              32\n",
            "        Dropout2d-38             [-1, 16, 3, 3]               0\n",
            "           Conv2d-39             [-1, 10, 3, 3]             170\n",
            "        AvgPool2d-40             [-1, 10, 1, 1]               0\n",
            "================================================================\n",
            "Total params: 10,224\n",
            "Trainable params: 10,224\n",
            "Non-trainable params: 0\n",
            "----------------------------------------------------------------\n",
            "Input size (MB): 0.00\n",
            "Forward/backward pass size (MB): 1.01\n",
            "Params size (MB): 0.04\n",
            "Estimated Total Size (MB): 1.05\n",
            "----------------------------------------------------------------\n"
          ]
        },
        {
          "output_type": "stream",
          "name": "stderr",
          "text": [
            "/content/model.py:114: UserWarning: Implicit dimension choice for log_softmax has been deprecated. Change the call to include dim=X as an argument.\n",
            "  return F.log_softmax(x)\n"
          ]
        }
      ]
    },
    {
      "cell_type": "code",
      "source": [
        "torch.manual_seed(1)\n",
        "batch_size = 64\n",
        "\n",
        "kwargs = {'num_workers': 1, 'pin_memory': True} if use_cuda else {}\n",
        "train_loader = torch.utils.data.DataLoader(\n",
        "    datasets.MNIST('../data', train=True, download=True,\n",
        "                    transform=transforms.Compose([\n",
        "                        #transforms.RandomRotation((-7.0, 7.0), fill=(1,)),\n",
        "                        transforms.ToTensor(),\n",
        "                        transforms.Normalize((0.1307,), (0.3081,))\n",
        "                    ])),\n",
        "    batch_size=batch_size, shuffle=True, **kwargs)\n",
        "test_loader = torch.utils.data.DataLoader(\n",
        "    datasets.MNIST('../data', train=False, transform=transforms.Compose([\n",
        "                        transforms.ToTensor(),\n",
        "                        transforms.Normalize((0.1307,), (0.3081,))\n",
        "                    ])),\n",
        "    batch_size=batch_size, shuffle=True, **kwargs)\n"
      ],
      "metadata": {
        "id": "SM3FZBdCMX8e"
      },
      "execution_count": 24,
      "outputs": []
    },
    {
      "cell_type": "code",
      "source": [
        "from tqdm import tqdm\n",
        "\n",
        "train_losses = []\n",
        "train_acc = []\n",
        "test_losses = []\n",
        "test_acc = []\n",
        "gn_train_losses, gn_train_acc, gn_test_losses, gn_test_acc = [], [], [], []\n",
        "ln_train_losses, ln_train_acc, ln_test_losses, ln_test_acc = [], [], [], []\n",
        "bn_train_losses, bn_train_acc, bn_test_losses, bn_test_acc = [], [], [], []\n",
        "\n",
        "\n",
        "def train(model, device, train_loader, optimizer, epoch, use_lambda = False):\n",
        "    model.train()\n",
        "    pbar = tqdm(train_loader)\n",
        "    correct = 0\n",
        "    processed = 0\n",
        "    lambda_l1 = 0.0004\n",
        "\n",
        "    for batch_idx, (data, target) in enumerate(pbar):\n",
        "        data, target = data.to(device), target.to(device)\n",
        "        y_pred = model(data)\n",
        "\n",
        "        loss = F.nll_loss(y_pred, target)\n",
        "\n",
        "        if use_lambda :\n",
        "          l1 = 0\n",
        "          for params in model.parameters():\n",
        "            l1 = l1 + params.abs().sum()\n",
        "          '''  \n",
        "          #lambda_l1 = 0.0004\n",
        "          if lambda_l1 == 0: #First epoch lambda calculation\n",
        "            lambda_l1 = loss/(l1*10)\n",
        "            print('loss: ', loss)\n",
        "            print('l1: ', l1)\n",
        "            print('lambda_l1: ', lambda_l1)\n",
        "          '''\n",
        "          loss = loss + lambda_l1*l1\n",
        "\n",
        "        train_losses.append(loss)\n",
        "\n",
        "        optimizer.zero_grad()\n",
        "        loss.backward()\n",
        "        optimizer.step()\n",
        "\n",
        "        pred = y_pred.argmax(dim=1, keepdim=True)  # get the index of the max log-probability\n",
        "        correct += pred.eq(target.view_as(pred)).sum().item()\n",
        "        processed += len(data)\n",
        "\n",
        "        pbar.set_description(desc= f'Epoch={epoch} Loss={loss.item()} batch_id={batch_idx} Accuracy={100*correct/processed:0.2f}%')\n",
        "        train_acc.append(100*correct/processed)\n",
        "\n",
        "    return train_losses, train_acc\n",
        "\n",
        "def test(model, device, test_loader):\n",
        "    model.eval()\n",
        "    test_loss = 0\n",
        "    correct = 0\n",
        "    with torch.no_grad():\n",
        "        for data, target in test_loader:\n",
        "            data, target = data.to(device), target.to(device)\n",
        "            output = model(data)\n",
        "            test_loss += F.nll_loss(output, target, reduction='sum').item()  # sum up batch loss\n",
        "            pred = output.argmax(dim=1, keepdim=True)  # get the index of the max log-probability\n",
        "            correct += pred.eq(target.view_as(pred)).sum().item()\n",
        "\n",
        "    test_loss /= len(test_loader.dataset)\n",
        "    test_losses.append(test_loss)\n",
        "\n",
        "    print('\\nTest set: Average loss: {:.4f}, Accuracy: {}/{} ({:.2f}%)\\n'.format(\n",
        "        test_loss, correct, len(test_loader.dataset),\n",
        "        100. * correct / len(test_loader.dataset)))\n",
        "    \n",
        "    test_acc.append(100. * correct / len(test_loader.dataset))\n",
        "    return test_losses, test_acc"
      ],
      "metadata": {
        "id": "d-yqEVPPMf1l"
      },
      "execution_count": 25,
      "outputs": []
    },
    {
      "cell_type": "code",
      "source": [
        "network = model.get_network(model.Network.GROUP_NORM).to(device)\n",
        "optimizer = optim.SGD(network.parameters(), lr=0.01, momentum=0.9)\n",
        "#scheduler = StepLR(optimizer, step_size=5, gamma=0.1)\n",
        "\n",
        "train_losses = []\n",
        "train_acc = []\n",
        "test_losses = []\n",
        "test_acc = []\n",
        "\n",
        "for epoch in range(1, 16):\n",
        "    gn_train_losses, gn_train_acc = train(network, device, train_loader, optimizer, epoch)\n",
        "    gn_test_losses, gn_test_acc = test(network, device, test_loader)"
      ],
      "metadata": {
        "colab": {
          "base_uri": "https://localhost:8080/"
        },
        "id": "PAfmictNNTqe",
        "outputId": "0a1304ca-9ec4-49d0-cee3-ab7c88543e5c"
      },
      "execution_count": 26,
      "outputs": [
        {
          "output_type": "stream",
          "name": "stderr",
          "text": [
            "Epoch=1 Loss=0.27026161551475525 batch_id=937 Accuracy=87.27%: 100%|██████████| 938/938 [00:27<00:00, 33.83it/s]\n"
          ]
        },
        {
          "output_type": "stream",
          "name": "stdout",
          "text": [
            "\n",
            "Test set: Average loss: 0.0960, Accuracy: 9711/10000 (97.11%)\n",
            "\n"
          ]
        },
        {
          "output_type": "stream",
          "name": "stderr",
          "text": [
            "Epoch=2 Loss=0.15303342044353485 batch_id=937 Accuracy=96.92%: 100%|██████████| 938/938 [00:21<00:00, 43.38it/s]\n"
          ]
        },
        {
          "output_type": "stream",
          "name": "stdout",
          "text": [
            "\n",
            "Test set: Average loss: 0.0501, Accuracy: 9860/10000 (98.60%)\n",
            "\n"
          ]
        },
        {
          "output_type": "stream",
          "name": "stderr",
          "text": [
            "Epoch=3 Loss=0.06850352883338928 batch_id=937 Accuracy=97.60%: 100%|██████████| 938/938 [00:21<00:00, 43.87it/s]\n"
          ]
        },
        {
          "output_type": "stream",
          "name": "stdout",
          "text": [
            "\n",
            "Test set: Average loss: 0.0410, Accuracy: 9879/10000 (98.79%)\n",
            "\n"
          ]
        },
        {
          "output_type": "stream",
          "name": "stderr",
          "text": [
            "Epoch=4 Loss=0.029781468212604523 batch_id=937 Accuracy=97.94%: 100%|██████████| 938/938 [00:22<00:00, 40.97it/s]\n"
          ]
        },
        {
          "output_type": "stream",
          "name": "stdout",
          "text": [
            "\n",
            "Test set: Average loss: 0.0343, Accuracy: 9895/10000 (98.95%)\n",
            "\n"
          ]
        },
        {
          "output_type": "stream",
          "name": "stderr",
          "text": [
            "Epoch=5 Loss=0.03474287688732147 batch_id=937 Accuracy=98.12%: 100%|██████████| 938/938 [00:21<00:00, 43.43it/s]\n"
          ]
        },
        {
          "output_type": "stream",
          "name": "stdout",
          "text": [
            "\n",
            "Test set: Average loss: 0.0371, Accuracy: 9880/10000 (98.80%)\n",
            "\n"
          ]
        },
        {
          "output_type": "stream",
          "name": "stderr",
          "text": [
            "Epoch=6 Loss=0.06373993307352066 batch_id=937 Accuracy=98.19%: 100%|██████████| 938/938 [00:21<00:00, 43.34it/s]\n"
          ]
        },
        {
          "output_type": "stream",
          "name": "stdout",
          "text": [
            "\n",
            "Test set: Average loss: 0.0318, Accuracy: 9906/10000 (99.06%)\n",
            "\n"
          ]
        },
        {
          "output_type": "stream",
          "name": "stderr",
          "text": [
            "Epoch=7 Loss=0.17453797161579132 batch_id=937 Accuracy=98.42%: 100%|██████████| 938/938 [00:21<00:00, 43.88it/s]\n"
          ]
        },
        {
          "output_type": "stream",
          "name": "stdout",
          "text": [
            "\n",
            "Test set: Average loss: 0.0290, Accuracy: 9905/10000 (99.05%)\n",
            "\n"
          ]
        },
        {
          "output_type": "stream",
          "name": "stderr",
          "text": [
            "Epoch=8 Loss=0.05069108307361603 batch_id=937 Accuracy=98.55%: 100%|██████████| 938/938 [00:21<00:00, 43.65it/s]\n"
          ]
        },
        {
          "output_type": "stream",
          "name": "stdout",
          "text": [
            "\n",
            "Test set: Average loss: 0.0298, Accuracy: 9899/10000 (98.99%)\n",
            "\n"
          ]
        },
        {
          "output_type": "stream",
          "name": "stderr",
          "text": [
            "Epoch=9 Loss=0.09064511209726334 batch_id=937 Accuracy=98.51%: 100%|██████████| 938/938 [00:21<00:00, 43.74it/s]\n"
          ]
        },
        {
          "output_type": "stream",
          "name": "stdout",
          "text": [
            "\n",
            "Test set: Average loss: 0.0283, Accuracy: 9906/10000 (99.06%)\n",
            "\n"
          ]
        },
        {
          "output_type": "stream",
          "name": "stderr",
          "text": [
            "Epoch=10 Loss=0.17357614636421204 batch_id=937 Accuracy=98.69%: 100%|██████████| 938/938 [00:21<00:00, 43.77it/s]\n"
          ]
        },
        {
          "output_type": "stream",
          "name": "stdout",
          "text": [
            "\n",
            "Test set: Average loss: 0.0251, Accuracy: 9915/10000 (99.15%)\n",
            "\n"
          ]
        },
        {
          "output_type": "stream",
          "name": "stderr",
          "text": [
            "Epoch=11 Loss=0.013294675387442112 batch_id=937 Accuracy=98.64%: 100%|██████████| 938/938 [00:22<00:00, 42.43it/s]\n"
          ]
        },
        {
          "output_type": "stream",
          "name": "stdout",
          "text": [
            "\n",
            "Test set: Average loss: 0.0231, Accuracy: 9919/10000 (99.19%)\n",
            "\n"
          ]
        },
        {
          "output_type": "stream",
          "name": "stderr",
          "text": [
            "Epoch=12 Loss=0.015237477608025074 batch_id=937 Accuracy=98.79%: 100%|██████████| 938/938 [00:21<00:00, 43.68it/s]\n"
          ]
        },
        {
          "output_type": "stream",
          "name": "stdout",
          "text": [
            "\n",
            "Test set: Average loss: 0.0245, Accuracy: 9924/10000 (99.24%)\n",
            "\n"
          ]
        },
        {
          "output_type": "stream",
          "name": "stderr",
          "text": [
            "Epoch=13 Loss=0.0599377267062664 batch_id=937 Accuracy=98.87%: 100%|██████████| 938/938 [00:21<00:00, 44.18it/s]\n"
          ]
        },
        {
          "output_type": "stream",
          "name": "stdout",
          "text": [
            "\n",
            "Test set: Average loss: 0.0223, Accuracy: 9927/10000 (99.27%)\n",
            "\n"
          ]
        },
        {
          "output_type": "stream",
          "name": "stderr",
          "text": [
            "Epoch=14 Loss=0.02618277631700039 batch_id=937 Accuracy=98.77%: 100%|██████████| 938/938 [00:21<00:00, 44.26it/s]\n"
          ]
        },
        {
          "output_type": "stream",
          "name": "stdout",
          "text": [
            "\n",
            "Test set: Average loss: 0.0255, Accuracy: 9918/10000 (99.18%)\n",
            "\n"
          ]
        },
        {
          "output_type": "stream",
          "name": "stderr",
          "text": [
            "Epoch=15 Loss=0.03442539647221565 batch_id=937 Accuracy=98.87%: 100%|██████████| 938/938 [00:21<00:00, 43.84it/s]\n"
          ]
        },
        {
          "output_type": "stream",
          "name": "stdout",
          "text": [
            "\n",
            "Test set: Average loss: 0.0233, Accuracy: 9925/10000 (99.25%)\n",
            "\n"
          ]
        }
      ]
    },
    {
      "cell_type": "code",
      "source": [
        "network = model.get_network(model.Network.LAYER_NORM).to(device)\n",
        "summary(network, input_size=(1, 28, 28))"
      ],
      "metadata": {
        "colab": {
          "base_uri": "https://localhost:8080/"
        },
        "id": "pvJ8-azLS-co",
        "outputId": "255ca8b1-f8d2-450e-8fe6-43b4b63804f1"
      },
      "execution_count": 27,
      "outputs": [
        {
          "output_type": "stream",
          "name": "stdout",
          "text": [
            "----------------------------------------------------------------\n",
            "        Layer (type)               Output Shape         Param #\n",
            "================================================================\n",
            "            Conv2d-1           [-1, 10, 28, 28]             100\n",
            "              ReLU-2           [-1, 10, 28, 28]               0\n",
            "         LayerNorm-3           [-1, 10, 28, 28]          15,680\n",
            "         Dropout2d-4           [-1, 10, 28, 28]               0\n",
            "            Conv2d-5           [-1, 16, 28, 28]           1,456\n",
            "              ReLU-6           [-1, 16, 28, 28]               0\n",
            "         LayerNorm-7           [-1, 16, 28, 28]          25,088\n",
            "         Dropout2d-8           [-1, 16, 28, 28]               0\n",
            "         MaxPool2d-9           [-1, 16, 14, 14]               0\n",
            "           Conv2d-10            [-1, 8, 14, 14]             136\n",
            "             ReLU-11            [-1, 8, 14, 14]               0\n",
            "        LayerNorm-12            [-1, 8, 14, 14]           3,136\n",
            "        Dropout2d-13            [-1, 8, 14, 14]               0\n",
            "           Conv2d-14           [-1, 16, 14, 14]           1,168\n",
            "             ReLU-15           [-1, 16, 14, 14]               0\n",
            "        LayerNorm-16           [-1, 16, 14, 14]           6,272\n",
            "        Dropout2d-17           [-1, 16, 14, 14]               0\n",
            "           Conv2d-18           [-1, 16, 14, 14]           2,320\n",
            "             ReLU-19           [-1, 16, 14, 14]               0\n",
            "        LayerNorm-20           [-1, 16, 14, 14]           6,272\n",
            "        Dropout2d-21           [-1, 16, 14, 14]               0\n",
            "           Conv2d-22           [-1, 16, 14, 14]           2,320\n",
            "             ReLU-23           [-1, 16, 14, 14]               0\n",
            "        LayerNorm-24           [-1, 16, 14, 14]           6,272\n",
            "        Dropout2d-25           [-1, 16, 14, 14]               0\n",
            "        MaxPool2d-26             [-1, 16, 7, 7]               0\n",
            "           Conv2d-27              [-1, 8, 7, 7]             136\n",
            "             ReLU-28              [-1, 8, 7, 7]               0\n",
            "        LayerNorm-29              [-1, 8, 7, 7]             784\n",
            "        Dropout2d-30              [-1, 8, 7, 7]               0\n",
            "           Conv2d-31             [-1, 10, 5, 5]             730\n",
            "             ReLU-32             [-1, 10, 5, 5]               0\n",
            "        LayerNorm-33             [-1, 10, 5, 5]             500\n",
            "        Dropout2d-34             [-1, 10, 5, 5]               0\n",
            "           Conv2d-35             [-1, 16, 3, 3]           1,456\n",
            "             ReLU-36             [-1, 16, 3, 3]               0\n",
            "        LayerNorm-37             [-1, 16, 3, 3]             288\n",
            "        Dropout2d-38             [-1, 16, 3, 3]               0\n",
            "           Conv2d-39             [-1, 10, 3, 3]             170\n",
            "        AvgPool2d-40             [-1, 10, 1, 1]               0\n",
            "================================================================\n",
            "Total params: 74,284\n",
            "Trainable params: 74,284\n",
            "Non-trainable params: 0\n",
            "----------------------------------------------------------------\n",
            "Input size (MB): 0.00\n",
            "Forward/backward pass size (MB): 1.01\n",
            "Params size (MB): 0.28\n",
            "Estimated Total Size (MB): 1.30\n",
            "----------------------------------------------------------------\n"
          ]
        },
        {
          "output_type": "stream",
          "name": "stderr",
          "text": [
            "/content/model.py:211: UserWarning: Implicit dimension choice for log_softmax has been deprecated. Change the call to include dim=X as an argument.\n",
            "  return F.log_softmax(x)\n"
          ]
        }
      ]
    },
    {
      "cell_type": "code",
      "source": [
        "#network = model.get_network(model.Network.LAYER_NORM).to(device)\n",
        "optimizer = optim.SGD(network.parameters(), lr=0.01, momentum=0.9)\n",
        "#scheduler = StepLR(optimizer, step_size=5, gamma=0.1)\n",
        "\n",
        "train_losses = []\n",
        "train_acc = []\n",
        "test_losses = []\n",
        "test_acc = []\n",
        "\n",
        "for epoch in range(1, 16):\n",
        "    ln_train_losses, ln_train_acc = train(network, device, train_loader, optimizer, epoch)\n",
        "    ln_test_losses, ln_test_acc = test(network, device, test_loader)"
      ],
      "metadata": {
        "colab": {
          "base_uri": "https://localhost:8080/"
        },
        "id": "YZnqVCUXaysc",
        "outputId": "219ad4a2-46a9-4a1b-b3e3-8b282201f26c"
      },
      "execution_count": 28,
      "outputs": [
        {
          "output_type": "stream",
          "name": "stderr",
          "text": [
            "Epoch=1 Loss=0.3943309187889099 batch_id=937 Accuracy=88.72%: 100%|██████████| 938/938 [00:27<00:00, 34.24it/s]\n"
          ]
        },
        {
          "output_type": "stream",
          "name": "stdout",
          "text": [
            "\n",
            "Test set: Average loss: 0.0810, Accuracy: 9769/10000 (97.69%)\n",
            "\n"
          ]
        },
        {
          "output_type": "stream",
          "name": "stderr",
          "text": [
            "Epoch=2 Loss=0.058832798153162 batch_id=937 Accuracy=96.94%: 100%|██████████| 938/938 [00:20<00:00, 45.11it/s]\n"
          ]
        },
        {
          "output_type": "stream",
          "name": "stdout",
          "text": [
            "\n",
            "Test set: Average loss: 0.0472, Accuracy: 9857/10000 (98.57%)\n",
            "\n"
          ]
        },
        {
          "output_type": "stream",
          "name": "stderr",
          "text": [
            "Epoch=3 Loss=0.3692172169685364 batch_id=937 Accuracy=97.66%: 100%|██████████| 938/938 [00:20<00:00, 44.85it/s]\n"
          ]
        },
        {
          "output_type": "stream",
          "name": "stdout",
          "text": [
            "\n",
            "Test set: Average loss: 0.0384, Accuracy: 9884/10000 (98.84%)\n",
            "\n"
          ]
        },
        {
          "output_type": "stream",
          "name": "stderr",
          "text": [
            "Epoch=4 Loss=0.07799383997917175 batch_id=937 Accuracy=98.14%: 100%|██████████| 938/938 [00:20<00:00, 44.89it/s]\n"
          ]
        },
        {
          "output_type": "stream",
          "name": "stdout",
          "text": [
            "\n",
            "Test set: Average loss: 0.0344, Accuracy: 9891/10000 (98.91%)\n",
            "\n"
          ]
        },
        {
          "output_type": "stream",
          "name": "stderr",
          "text": [
            "Epoch=5 Loss=0.02110084518790245 batch_id=937 Accuracy=98.27%: 100%|██████████| 938/938 [00:21<00:00, 43.50it/s]\n"
          ]
        },
        {
          "output_type": "stream",
          "name": "stdout",
          "text": [
            "\n",
            "Test set: Average loss: 0.0307, Accuracy: 9904/10000 (99.04%)\n",
            "\n"
          ]
        },
        {
          "output_type": "stream",
          "name": "stderr",
          "text": [
            "Epoch=6 Loss=0.1437591016292572 batch_id=937 Accuracy=98.46%: 100%|██████████| 938/938 [00:20<00:00, 45.29it/s]\n"
          ]
        },
        {
          "output_type": "stream",
          "name": "stdout",
          "text": [
            "\n",
            "Test set: Average loss: 0.0267, Accuracy: 9915/10000 (99.15%)\n",
            "\n"
          ]
        },
        {
          "output_type": "stream",
          "name": "stderr",
          "text": [
            "Epoch=7 Loss=0.059965066611766815 batch_id=937 Accuracy=98.53%: 100%|██████████| 938/938 [00:20<00:00, 45.09it/s]\n"
          ]
        },
        {
          "output_type": "stream",
          "name": "stdout",
          "text": [
            "\n",
            "Test set: Average loss: 0.0268, Accuracy: 9916/10000 (99.16%)\n",
            "\n"
          ]
        },
        {
          "output_type": "stream",
          "name": "stderr",
          "text": [
            "Epoch=8 Loss=0.008127904497087002 batch_id=937 Accuracy=98.63%: 100%|██████████| 938/938 [00:21<00:00, 43.47it/s]\n"
          ]
        },
        {
          "output_type": "stream",
          "name": "stdout",
          "text": [
            "\n",
            "Test set: Average loss: 0.0266, Accuracy: 9911/10000 (99.11%)\n",
            "\n"
          ]
        },
        {
          "output_type": "stream",
          "name": "stderr",
          "text": [
            "Epoch=9 Loss=0.04513375461101532 batch_id=937 Accuracy=98.74%: 100%|██████████| 938/938 [00:20<00:00, 45.39it/s]\n"
          ]
        },
        {
          "output_type": "stream",
          "name": "stdout",
          "text": [
            "\n",
            "Test set: Average loss: 0.0258, Accuracy: 9920/10000 (99.20%)\n",
            "\n"
          ]
        },
        {
          "output_type": "stream",
          "name": "stderr",
          "text": [
            "Epoch=10 Loss=0.020319625735282898 batch_id=937 Accuracy=98.75%: 100%|██████████| 938/938 [00:20<00:00, 46.03it/s]\n"
          ]
        },
        {
          "output_type": "stream",
          "name": "stdout",
          "text": [
            "\n",
            "Test set: Average loss: 0.0235, Accuracy: 9913/10000 (99.13%)\n",
            "\n"
          ]
        },
        {
          "output_type": "stream",
          "name": "stderr",
          "text": [
            "Epoch=11 Loss=0.008243116550147533 batch_id=937 Accuracy=98.81%: 100%|██████████| 938/938 [00:20<00:00, 45.22it/s]\n"
          ]
        },
        {
          "output_type": "stream",
          "name": "stdout",
          "text": [
            "\n",
            "Test set: Average loss: 0.0221, Accuracy: 9931/10000 (99.31%)\n",
            "\n"
          ]
        },
        {
          "output_type": "stream",
          "name": "stderr",
          "text": [
            "Epoch=12 Loss=0.10386316478252411 batch_id=937 Accuracy=98.86%: 100%|██████████| 938/938 [00:20<00:00, 45.53it/s]\n"
          ]
        },
        {
          "output_type": "stream",
          "name": "stdout",
          "text": [
            "\n",
            "Test set: Average loss: 0.0238, Accuracy: 9918/10000 (99.18%)\n",
            "\n"
          ]
        },
        {
          "output_type": "stream",
          "name": "stderr",
          "text": [
            "Epoch=13 Loss=0.0031548310071229935 batch_id=937 Accuracy=98.91%: 100%|██████████| 938/938 [00:20<00:00, 45.15it/s]\n"
          ]
        },
        {
          "output_type": "stream",
          "name": "stdout",
          "text": [
            "\n",
            "Test set: Average loss: 0.0228, Accuracy: 9927/10000 (99.27%)\n",
            "\n"
          ]
        },
        {
          "output_type": "stream",
          "name": "stderr",
          "text": [
            "Epoch=14 Loss=0.00873594917356968 batch_id=937 Accuracy=98.91%: 100%|██████████| 938/938 [00:20<00:00, 45.68it/s]\n"
          ]
        },
        {
          "output_type": "stream",
          "name": "stdout",
          "text": [
            "\n",
            "Test set: Average loss: 0.0217, Accuracy: 9928/10000 (99.28%)\n",
            "\n"
          ]
        },
        {
          "output_type": "stream",
          "name": "stderr",
          "text": [
            "Epoch=15 Loss=0.0485687330365181 batch_id=937 Accuracy=98.94%: 100%|██████████| 938/938 [00:20<00:00, 45.07it/s]\n"
          ]
        },
        {
          "output_type": "stream",
          "name": "stdout",
          "text": [
            "\n",
            "Test set: Average loss: 0.0203, Accuracy: 9933/10000 (99.33%)\n",
            "\n"
          ]
        }
      ]
    },
    {
      "cell_type": "code",
      "source": [
        "network = model.get_network(model.Network.BATCH_NORM).to(device)\n",
        "summary(network, input_size=(1, 28, 28))"
      ],
      "metadata": {
        "colab": {
          "base_uri": "https://localhost:8080/"
        },
        "id": "9sxNzIckkeHt",
        "outputId": "e40e2053-91b1-47d4-bda0-6c75ef930a4a"
      },
      "execution_count": 29,
      "outputs": [
        {
          "output_type": "stream",
          "name": "stdout",
          "text": [
            "----------------------------------------------------------------\n",
            "        Layer (type)               Output Shape         Param #\n",
            "================================================================\n",
            "            Conv2d-1           [-1, 10, 28, 28]             100\n",
            "              ReLU-2           [-1, 10, 28, 28]               0\n",
            "       BatchNorm2d-3           [-1, 10, 28, 28]              20\n",
            "         Dropout2d-4           [-1, 10, 28, 28]               0\n",
            "            Conv2d-5           [-1, 16, 28, 28]           1,456\n",
            "              ReLU-6           [-1, 16, 28, 28]               0\n",
            "       BatchNorm2d-7           [-1, 16, 28, 28]              32\n",
            "         Dropout2d-8           [-1, 16, 28, 28]               0\n",
            "         MaxPool2d-9           [-1, 16, 14, 14]               0\n",
            "           Conv2d-10            [-1, 8, 14, 14]             136\n",
            "             ReLU-11            [-1, 8, 14, 14]               0\n",
            "      BatchNorm2d-12            [-1, 8, 14, 14]              16\n",
            "        Dropout2d-13            [-1, 8, 14, 14]               0\n",
            "           Conv2d-14           [-1, 16, 14, 14]           1,168\n",
            "             ReLU-15           [-1, 16, 14, 14]               0\n",
            "      BatchNorm2d-16           [-1, 16, 14, 14]              32\n",
            "        Dropout2d-17           [-1, 16, 14, 14]               0\n",
            "           Conv2d-18           [-1, 16, 14, 14]           2,320\n",
            "             ReLU-19           [-1, 16, 14, 14]               0\n",
            "      BatchNorm2d-20           [-1, 16, 14, 14]              32\n",
            "        Dropout2d-21           [-1, 16, 14, 14]               0\n",
            "           Conv2d-22           [-1, 16, 14, 14]           2,320\n",
            "             ReLU-23           [-1, 16, 14, 14]               0\n",
            "      BatchNorm2d-24           [-1, 16, 14, 14]              32\n",
            "        Dropout2d-25           [-1, 16, 14, 14]               0\n",
            "        MaxPool2d-26             [-1, 16, 7, 7]               0\n",
            "           Conv2d-27              [-1, 8, 7, 7]             136\n",
            "             ReLU-28              [-1, 8, 7, 7]               0\n",
            "      BatchNorm2d-29              [-1, 8, 7, 7]              16\n",
            "        Dropout2d-30              [-1, 8, 7, 7]               0\n",
            "           Conv2d-31             [-1, 10, 5, 5]             730\n",
            "             ReLU-32             [-1, 10, 5, 5]               0\n",
            "      BatchNorm2d-33             [-1, 10, 5, 5]              20\n",
            "        Dropout2d-34             [-1, 10, 5, 5]               0\n",
            "           Conv2d-35             [-1, 16, 3, 3]           1,456\n",
            "             ReLU-36             [-1, 16, 3, 3]               0\n",
            "      BatchNorm2d-37             [-1, 16, 3, 3]              32\n",
            "        Dropout2d-38             [-1, 16, 3, 3]               0\n",
            "           Conv2d-39             [-1, 10, 3, 3]             170\n",
            "        AvgPool2d-40             [-1, 10, 1, 1]               0\n",
            "================================================================\n",
            "Total params: 10,224\n",
            "Trainable params: 10,224\n",
            "Non-trainable params: 0\n",
            "----------------------------------------------------------------\n",
            "Input size (MB): 0.00\n",
            "Forward/backward pass size (MB): 1.01\n",
            "Params size (MB): 0.04\n",
            "Estimated Total Size (MB): 1.05\n",
            "----------------------------------------------------------------\n"
          ]
        },
        {
          "output_type": "stream",
          "name": "stderr",
          "text": [
            "/content/model.py:308: UserWarning: Implicit dimension choice for log_softmax has been deprecated. Change the call to include dim=X as an argument.\n",
            "  return F.log_softmax(x)\n"
          ]
        }
      ]
    },
    {
      "cell_type": "code",
      "source": [
        "network = model.get_network(model.Network.BATCH_NORM).to(device)\n",
        "optimizer = optim.SGD(network.parameters(), lr=0.01, momentum=0.9)\n",
        "#scheduler = StepLR(optimizer, step_size=5, gamma=0.1)\n",
        "\n",
        "train_losses = []\n",
        "train_acc = []\n",
        "test_losses = []\n",
        "test_acc = []\n",
        "\n",
        "for epoch in range(1, 16):\n",
        "    bn_train_losses, bn_train_acc = train(network, device, train_loader, optimizer, epoch, use_lambda = True)\n",
        "    bn_test_losses, bn_test_acc = test(network, device, test_loader)"
      ],
      "metadata": {
        "colab": {
          "base_uri": "https://localhost:8080/"
        },
        "id": "DYK1vuN3kk3s",
        "outputId": "4406397a-1f1c-46f6-a2db-4c265078c9a1"
      },
      "execution_count": 30,
      "outputs": [
        {
          "output_type": "stream",
          "name": "stderr",
          "text": [
            "Epoch=1 Loss=0.41637444496154785 batch_id=937 Accuracy=90.04%: 100%|██████████| 938/938 [00:22<00:00, 41.13it/s]\n"
          ]
        },
        {
          "output_type": "stream",
          "name": "stdout",
          "text": [
            "\n",
            "Test set: Average loss: 0.0697, Accuracy: 9789/10000 (97.89%)\n",
            "\n"
          ]
        },
        {
          "output_type": "stream",
          "name": "stderr",
          "text": [
            "Epoch=2 Loss=0.38503971695899963 batch_id=937 Accuracy=96.66%: 100%|██████████| 938/938 [00:22<00:00, 41.32it/s]\n"
          ]
        },
        {
          "output_type": "stream",
          "name": "stdout",
          "text": [
            "\n",
            "Test set: Average loss: 0.0517, Accuracy: 9844/10000 (98.44%)\n",
            "\n"
          ]
        },
        {
          "output_type": "stream",
          "name": "stderr",
          "text": [
            "Epoch=3 Loss=0.2972959280014038 batch_id=937 Accuracy=97.16%: 100%|██████████| 938/938 [00:22<00:00, 41.52it/s]\n"
          ]
        },
        {
          "output_type": "stream",
          "name": "stdout",
          "text": [
            "\n",
            "Test set: Average loss: 0.0477, Accuracy: 9854/10000 (98.54%)\n",
            "\n"
          ]
        },
        {
          "output_type": "stream",
          "name": "stderr",
          "text": [
            "Epoch=4 Loss=0.6611180901527405 batch_id=937 Accuracy=97.25%: 100%|██████████| 938/938 [00:22<00:00, 41.53it/s]\n"
          ]
        },
        {
          "output_type": "stream",
          "name": "stdout",
          "text": [
            "\n",
            "Test set: Average loss: 0.0431, Accuracy: 9865/10000 (98.65%)\n",
            "\n"
          ]
        },
        {
          "output_type": "stream",
          "name": "stderr",
          "text": [
            "Epoch=5 Loss=0.24398651719093323 batch_id=937 Accuracy=97.42%: 100%|██████████| 938/938 [00:23<00:00, 40.23it/s]\n"
          ]
        },
        {
          "output_type": "stream",
          "name": "stdout",
          "text": [
            "\n",
            "Test set: Average loss: 0.0376, Accuracy: 9870/10000 (98.70%)\n",
            "\n"
          ]
        },
        {
          "output_type": "stream",
          "name": "stderr",
          "text": [
            "Epoch=6 Loss=0.4469282627105713 batch_id=937 Accuracy=97.48%: 100%|██████████| 938/938 [00:22<00:00, 41.18it/s]\n"
          ]
        },
        {
          "output_type": "stream",
          "name": "stdout",
          "text": [
            "\n",
            "Test set: Average loss: 0.0415, Accuracy: 9865/10000 (98.65%)\n",
            "\n"
          ]
        },
        {
          "output_type": "stream",
          "name": "stderr",
          "text": [
            "Epoch=7 Loss=0.22897346317768097 batch_id=937 Accuracy=97.36%: 100%|██████████| 938/938 [00:22<00:00, 41.51it/s]\n"
          ]
        },
        {
          "output_type": "stream",
          "name": "stdout",
          "text": [
            "\n",
            "Test set: Average loss: 0.0571, Accuracy: 9813/10000 (98.13%)\n",
            "\n"
          ]
        },
        {
          "output_type": "stream",
          "name": "stderr",
          "text": [
            "Epoch=8 Loss=0.4171452522277832 batch_id=937 Accuracy=97.47%: 100%|██████████| 938/938 [00:22<00:00, 41.64it/s]\n"
          ]
        },
        {
          "output_type": "stream",
          "name": "stdout",
          "text": [
            "\n",
            "Test set: Average loss: 0.0409, Accuracy: 9867/10000 (98.67%)\n",
            "\n"
          ]
        },
        {
          "output_type": "stream",
          "name": "stderr",
          "text": [
            "Epoch=9 Loss=0.29185277223587036 batch_id=937 Accuracy=97.56%: 100%|██████████| 938/938 [00:22<00:00, 41.35it/s]\n"
          ]
        },
        {
          "output_type": "stream",
          "name": "stdout",
          "text": [
            "\n",
            "Test set: Average loss: 0.0397, Accuracy: 9878/10000 (98.78%)\n",
            "\n"
          ]
        },
        {
          "output_type": "stream",
          "name": "stderr",
          "text": [
            "Epoch=10 Loss=0.22588683664798737 batch_id=937 Accuracy=97.62%: 100%|██████████| 938/938 [00:22<00:00, 41.01it/s]\n"
          ]
        },
        {
          "output_type": "stream",
          "name": "stdout",
          "text": [
            "\n",
            "Test set: Average loss: 0.0425, Accuracy: 9865/10000 (98.65%)\n",
            "\n"
          ]
        },
        {
          "output_type": "stream",
          "name": "stderr",
          "text": [
            "Epoch=11 Loss=0.2377592772245407 batch_id=937 Accuracy=97.53%: 100%|██████████| 938/938 [00:23<00:00, 40.42it/s]\n"
          ]
        },
        {
          "output_type": "stream",
          "name": "stdout",
          "text": [
            "\n",
            "Test set: Average loss: 0.0377, Accuracy: 9878/10000 (98.78%)\n",
            "\n"
          ]
        },
        {
          "output_type": "stream",
          "name": "stderr",
          "text": [
            "Epoch=12 Loss=0.21448864042758942 batch_id=937 Accuracy=97.62%: 100%|██████████| 938/938 [00:22<00:00, 40.84it/s]\n"
          ]
        },
        {
          "output_type": "stream",
          "name": "stdout",
          "text": [
            "\n",
            "Test set: Average loss: 0.0338, Accuracy: 9894/10000 (98.94%)\n",
            "\n"
          ]
        },
        {
          "output_type": "stream",
          "name": "stderr",
          "text": [
            "Epoch=13 Loss=0.1941608488559723 batch_id=937 Accuracy=97.61%: 100%|██████████| 938/938 [00:22<00:00, 40.88it/s]\n"
          ]
        },
        {
          "output_type": "stream",
          "name": "stdout",
          "text": [
            "\n",
            "Test set: Average loss: 0.0400, Accuracy: 9876/10000 (98.76%)\n",
            "\n"
          ]
        },
        {
          "output_type": "stream",
          "name": "stderr",
          "text": [
            "Epoch=14 Loss=0.1909678727388382 batch_id=937 Accuracy=97.53%: 100%|██████████| 938/938 [00:22<00:00, 41.41it/s]\n"
          ]
        },
        {
          "output_type": "stream",
          "name": "stdout",
          "text": [
            "\n",
            "Test set: Average loss: 0.0377, Accuracy: 9871/10000 (98.71%)\n",
            "\n"
          ]
        },
        {
          "output_type": "stream",
          "name": "stderr",
          "text": [
            "Epoch=15 Loss=0.2192317098379135 batch_id=937 Accuracy=97.64%: 100%|██████████| 938/938 [00:22<00:00, 41.18it/s]\n"
          ]
        },
        {
          "output_type": "stream",
          "name": "stdout",
          "text": [
            "\n",
            "Test set: Average loss: 0.0435, Accuracy: 9861/10000 (98.61%)\n",
            "\n"
          ]
        }
      ]
    },
    {
      "cell_type": "code",
      "source": [
        "from torch.functional import Tensor\n",
        "%matplotlib inline\n",
        "import matplotlib.pyplot as plt\n",
        "\n",
        "fig, axs = plt.subplots(2,2,figsize=(15,10))\n",
        "axs[0, 0].plot(torch.stack(gn_train_losses).cpu().detach().numpy(), color='r', label='GN')\n",
        "axs[0, 0].plot(torch.stack(ln_train_losses).cpu().detach().numpy(), color='g', label='LN')\n",
        "axs[0, 0].plot(torch.stack(bn_train_losses).cpu().detach().numpy(), color='b', label='L1+BN')\n",
        "axs[0, 0].set_title(\"Training Loss\")\n",
        "axs[1, 0].plot(gn_train_acc[4000:], color='r', label='GN')\n",
        "axs[1, 0].plot(ln_train_acc[4000:], color='g', label='LN')\n",
        "axs[1, 0].plot(bn_train_acc[4000:], color='b', label='L1+BN')\n",
        "axs[1, 0].set_title(\"Training Accuracy\")\n",
        "axs[0, 1].plot(gn_test_losses, color='r', label='GN')\n",
        "axs[0, 1].plot(ln_test_losses, color='g', label='LN')\n",
        "axs[0, 1].plot(bn_test_losses, color='b', label='L1+BN')\n",
        "axs[0, 1].set_title(\"Test Loss\")\n",
        "#axs[1, 1].plot(test_acc)\n",
        "axs[1, 1].plot(gn_test_acc, color='r', label='GN')\n",
        "axs[1, 1].plot(ln_test_acc, color='g', label='LN')\n",
        "axs[1, 1].plot(bn_test_acc, color='b', label='L1+BN')\n",
        "axs[1, 1].set_title(\"Test Accuracy\")\n",
        "axs[0, 0].legend()\n",
        "axs[0, 1].legend()\n",
        "axs[1, 0].legend()\n",
        "axs[1, 1].legend()\n"
      ],
      "metadata": {
        "colab": {
          "base_uri": "https://localhost:8080/",
          "height": 624
        },
        "id": "G7CaQLCHv08Z",
        "outputId": "9175d311-75cb-407a-a999-ddc92dc33906"
      },
      "execution_count": 37,
      "outputs": [
        {
          "output_type": "execute_result",
          "data": {
            "text/plain": [
              "<matplotlib.legend.Legend at 0x7f295b5c1790>"
            ]
          },
          "metadata": {},
          "execution_count": 37
        },
        {
          "output_type": "display_data",
          "data": {
            "text/plain": [
              "<Figure size 1080x720 with 4 Axes>"
            ],
            "image/png": "[encoded data removed]"
          },
          "metadata": {
            "needs_background": "light"
          }
        }
      ]
    }
  ]
}