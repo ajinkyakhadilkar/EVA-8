{
  "nbformat": 4,
  "nbformat_minor": 0,
  "metadata": {
    "colab": {
      "provenance": []
    },
    "kernelspec": {
      "name": "python3",
      "display_name": "Python 3"
    },
    "language_info": {
      "name": "python"
    },
    "gpuClass": "standard",
    "accelerator": "GPU"
  },
  "cells": [
    {
      "cell_type": "code",
      "execution_count": 46,
      "metadata": {
        "id": "zv9oW0QKhXDz"
      },
      "outputs": [],
      "source": [
        "import model\n",
        "import torch\n",
        "import torch.nn.functional as F\n",
        "import torch.optim as optim\n",
        "from torchvision import datasets, transforms\n",
        "import os"
      ]
    },
    {
      "cell_type": "code",
      "source": [
        "!pip install torchsummary\n",
        "from torchsummary import summary\n",
        "use_cuda = torch.cuda.is_available()\n",
        "device = torch.device(\"cuda\" if use_cuda else \"cpu\")\n",
        "network = model.get_network(model.Network.GROUP_NORM).to(device)\n",
        "summary(network, input_size=(1, 28, 28))"
      ],
      "metadata": {
        "colab": {
          "base_uri": "https://localhost:8080/"
        },
        "id": "mEe6M6xGEWZx",
        "outputId": "0b54ab62-bc78-49b6-953c-055ed3d44031"
      },
      "execution_count": 47,
      "outputs": [
        {
          "output_type": "stream",
          "name": "stdout",
          "text": [
            "Looking in indexes: https://pypi.org/simple, https://us-python.pkg.dev/colab-wheels/public/simple/\n",
            "Requirement already satisfied: torchsummary in /usr/local/lib/python3.8/dist-packages (1.5.1)\n",
            "----------------------------------------------------------------\n",
            "        Layer (type)               Output Shape         Param #\n",
            "================================================================\n",
            "            Conv2d-1           [-1, 10, 28, 28]             100\n",
            "              ReLU-2           [-1, 10, 28, 28]               0\n",
            "         GroupNorm-3           [-1, 10, 28, 28]              20\n",
            "         Dropout2d-4           [-1, 10, 28, 28]               0\n",
            "            Conv2d-5           [-1, 16, 28, 28]           1,456\n",
            "              ReLU-6           [-1, 16, 28, 28]               0\n",
            "         GroupNorm-7           [-1, 16, 28, 28]              32\n",
            "         Dropout2d-8           [-1, 16, 28, 28]               0\n",
            "         MaxPool2d-9           [-1, 16, 14, 14]               0\n",
            "           Conv2d-10            [-1, 8, 14, 14]             136\n",
            "             ReLU-11            [-1, 8, 14, 14]               0\n",
            "        GroupNorm-12            [-1, 8, 14, 14]              16\n",
            "        Dropout2d-13            [-1, 8, 14, 14]               0\n",
            "           Conv2d-14           [-1, 16, 14, 14]           1,168\n",
            "             ReLU-15           [-1, 16, 14, 14]               0\n",
            "        GroupNorm-16           [-1, 16, 14, 14]              32\n",
            "        Dropout2d-17           [-1, 16, 14, 14]               0\n",
            "           Conv2d-18           [-1, 16, 14, 14]           2,320\n",
            "             ReLU-19           [-1, 16, 14, 14]               0\n",
            "        GroupNorm-20           [-1, 16, 14, 14]              32\n",
            "        Dropout2d-21           [-1, 16, 14, 14]               0\n",
            "           Conv2d-22           [-1, 16, 14, 14]           2,320\n",
            "             ReLU-23           [-1, 16, 14, 14]               0\n",
            "        GroupNorm-24           [-1, 16, 14, 14]              32\n",
            "        Dropout2d-25           [-1, 16, 14, 14]               0\n",
            "        MaxPool2d-26             [-1, 16, 7, 7]               0\n",
            "           Conv2d-27              [-1, 8, 7, 7]             136\n",
            "             ReLU-28              [-1, 8, 7, 7]               0\n",
            "        GroupNorm-29              [-1, 8, 7, 7]              16\n",
            "        Dropout2d-30              [-1, 8, 7, 7]               0\n",
            "           Conv2d-31             [-1, 10, 5, 5]             730\n",
            "             ReLU-32             [-1, 10, 5, 5]               0\n",
            "        GroupNorm-33             [-1, 10, 5, 5]              20\n",
            "        Dropout2d-34             [-1, 10, 5, 5]               0\n",
            "           Conv2d-35             [-1, 16, 3, 3]           1,456\n",
            "             ReLU-36             [-1, 16, 3, 3]               0\n",
            "        GroupNorm-37             [-1, 16, 3, 3]              32\n",
            "        Dropout2d-38             [-1, 16, 3, 3]               0\n",
            "           Conv2d-39             [-1, 10, 3, 3]             170\n",
            "        AvgPool2d-40             [-1, 10, 1, 1]               0\n",
            "================================================================\n",
            "Total params: 10,224\n",
            "Trainable params: 10,224\n",
            "Non-trainable params: 0\n",
            "----------------------------------------------------------------\n",
            "Input size (MB): 0.00\n",
            "Forward/backward pass size (MB): 1.01\n",
            "Params size (MB): 0.04\n",
            "Estimated Total Size (MB): 1.05\n",
            "----------------------------------------------------------------\n"
          ]
        },
        {
          "output_type": "stream",
          "name": "stderr",
          "text": [
            "/content/model.py:114: UserWarning: Implicit dimension choice for log_softmax has been deprecated. Change the call to include dim=X as an argument.\n",
            "  return F.log_softmax(x)\n"
          ]
        }
      ]
    },
    {
      "cell_type": "code",
      "source": [
        "torch.manual_seed(1)\n",
        "batch_size = 64\n",
        "\n",
        "kwargs = {'num_workers': 1, 'pin_memory': True} if use_cuda else {}\n",
        "train_loader = torch.utils.data.DataLoader(\n",
        "    datasets.MNIST('../data', train=True, download=True,\n",
        "                    transform=transforms.Compose([\n",
        "                        #transforms.RandomRotation((-7.0, 7.0), fill=(1,)),\n",
        "                        transforms.ToTensor(),\n",
        "                        transforms.Normalize((0.1307,), (0.3081,))\n",
        "                    ])),\n",
        "    batch_size=batch_size, shuffle=True, **kwargs)\n",
        "test_loader = torch.utils.data.DataLoader(\n",
        "    datasets.MNIST('../data', train=False, transform=transforms.Compose([\n",
        "                        transforms.ToTensor(),\n",
        "                        transforms.Normalize((0.1307,), (0.3081,))\n",
        "                    ])),\n",
        "    batch_size=batch_size, shuffle=True, **kwargs)\n"
      ],
      "metadata": {
        "id": "SM3FZBdCMX8e"
      },
      "execution_count": 48,
      "outputs": []
    },
    {
      "cell_type": "code",
      "source": [
        "from tqdm import tqdm\n",
        "\n",
        "train_losses = []\n",
        "train_acc = []\n",
        "test_losses = []\n",
        "test_acc = []\n",
        "missclassified = []\n",
        "missclassified_value = []\n",
        "expected_label = []\n",
        "gn_train_losses, gn_train_acc, gn_test_losses, gn_test_acc = [], [], [], []\n",
        "ln_train_losses, ln_train_acc, ln_test_losses, ln_test_acc = [], [], [], []\n",
        "bn_train_losses, bn_train_acc, bn_test_losses, bn_test_acc = [], [], [], []\n",
        "\n",
        "\n",
        "def train(model, device, train_loader, optimizer, epoch, use_lambda = False):\n",
        "    model.train()\n",
        "    pbar = tqdm(train_loader)\n",
        "    correct = 0\n",
        "    processed = 0\n",
        "    lambda_l1 = 0.0004\n",
        "\n",
        "    for batch_idx, (data, target) in enumerate(pbar):\n",
        "        data, target = data.to(device), target.to(device)\n",
        "        y_pred = model(data)\n",
        "\n",
        "        loss = F.nll_loss(y_pred, target)\n",
        "\n",
        "        if use_lambda :\n",
        "          l1 = 0\n",
        "          for params in model.parameters():\n",
        "            l1 = l1 + params.abs().sum()\n",
        "          '''  \n",
        "          #lambda_l1 = 0.0004\n",
        "          if lambda_l1 == 0: #First epoch lambda calculation\n",
        "            lambda_l1 = loss/(l1*10)\n",
        "            print('loss: ', loss)\n",
        "            print('l1: ', l1)\n",
        "            print('lambda_l1: ', lambda_l1)\n",
        "          '''\n",
        "          loss = loss + lambda_l1*l1\n",
        "\n",
        "        train_losses.append(loss)\n",
        "\n",
        "        optimizer.zero_grad()\n",
        "        loss.backward()\n",
        "        optimizer.step()\n",
        "\n",
        "        pred = y_pred.argmax(dim=1, keepdim=True)  # get the index of the max log-probability\n",
        "        correct += pred.eq(target.view_as(pred)).sum().item()\n",
        "        processed += len(data)\n",
        "\n",
        "        pbar.set_description(desc= f'Epoch={epoch} Loss={loss.item()} batch_id={batch_idx} Accuracy={100*correct/processed:0.2f}%')\n",
        "        train_acc.append(100*correct/processed)\n",
        "\n",
        "    return train_losses, train_acc\n",
        "\n",
        "def test(model, device, test_loader):\n",
        "    model.eval()\n",
        "    test_loss = 0\n",
        "    correct = 0\n",
        "    with torch.no_grad():\n",
        "        for data, target in test_loader:\n",
        "            data, target = data.to(device), target.to(device)\n",
        "            output = model(data)\n",
        "            test_loss += F.nll_loss(output, target, reduction='sum').item()  # sum up batch loss\n",
        "            pred = output.argmax(dim=1, keepdim=True)  # get the index of the max log-\n",
        "            results = pred.eq(target.view_as(pred))\n",
        "            correct += results.sum().item()\n",
        "            #Collecting missclassified images\n",
        "            for i in range(0,len(target)):\n",
        "              if len(missclassified) < 10 and not results[i]:\n",
        "                missclassified.append(data[i])\n",
        "                expected_label.append(target[i])\n",
        "                missclassified_value.append(pred[i])\n",
        "                  \n",
        "\n",
        "    test_loss /= len(test_loader.dataset)\n",
        "    test_losses.append(test_loss)\n",
        "\n",
        "    print('\\nTest set: Average loss: {:.4f}, Accuracy: {}/{} ({:.2f}%)\\n'.format(\n",
        "        test_loss, correct, len(test_loader.dataset),\n",
        "        100. * correct / len(test_loader.dataset)))\n",
        "    \n",
        "    test_acc.append(100. * correct / len(test_loader.dataset))\n",
        "    return test_losses, test_acc"
      ],
      "metadata": {
        "id": "d-yqEVPPMf1l"
      },
      "execution_count": 49,
      "outputs": []
    },
    {
      "cell_type": "code",
      "source": [
        "import matplotlib.pyplot as plt\n",
        "\n",
        "network = model.get_network(model.Network.GROUP_NORM).to(device)\n",
        "optimizer = optim.SGD(network.parameters(), lr=0.01, momentum=0.9)\n",
        "#scheduler = StepLR(optimizer, step_size=5, gamma=0.1)\n",
        "\n",
        "train_losses = []\n",
        "train_acc = []\n",
        "test_losses = []\n",
        "test_acc = []\n",
        "\n",
        "for epoch in range(1, 16):\n",
        "    gn_train_losses, gn_train_acc = train(network, device, train_loader, optimizer, epoch)\n",
        "    gn_test_losses, gn_test_acc = test(network, device, test_loader)\n"
      ],
      "metadata": {
        "colab": {
          "base_uri": "https://localhost:8080/"
        },
        "id": "PAfmictNNTqe",
        "outputId": "e17faf47-39ef-4401-de3c-b5b7e34bb692"
      },
      "execution_count": 50,
      "outputs": [
        {
          "output_type": "stream",
          "name": "stderr",
          "text": [
            "Epoch=1 Loss=0.14965088665485382 batch_id=937 Accuracy=87.32%: 100%|██████████| 938/938 [00:32<00:00, 28.55it/s]\n"
          ]
        },
        {
          "output_type": "stream",
          "name": "stdout",
          "text": [
            "\n",
            "Test set: Average loss: 0.0740, Accuracy: 9804/10000 (98.04%)\n",
            "\n"
          ]
        },
        {
          "output_type": "stream",
          "name": "stderr",
          "text": [
            "Epoch=2 Loss=0.04764918237924576 batch_id=937 Accuracy=96.83%: 100%|██████████| 938/938 [00:25<00:00, 37.42it/s]\n"
          ]
        },
        {
          "output_type": "stream",
          "name": "stdout",
          "text": [
            "\n",
            "Test set: Average loss: 0.0522, Accuracy: 9844/10000 (98.44%)\n",
            "\n"
          ]
        },
        {
          "output_type": "stream",
          "name": "stderr",
          "text": [
            "Epoch=3 Loss=0.08550190925598145 batch_id=937 Accuracy=97.55%: 100%|██████████| 938/938 [00:24<00:00, 37.76it/s]\n"
          ]
        },
        {
          "output_type": "stream",
          "name": "stdout",
          "text": [
            "\n",
            "Test set: Average loss: 0.0472, Accuracy: 9870/10000 (98.70%)\n",
            "\n"
          ]
        },
        {
          "output_type": "stream",
          "name": "stderr",
          "text": [
            "Epoch=4 Loss=0.02727905474603176 batch_id=937 Accuracy=97.92%: 100%|██████████| 938/938 [00:25<00:00, 36.11it/s]\n"
          ]
        },
        {
          "output_type": "stream",
          "name": "stdout",
          "text": [
            "\n",
            "Test set: Average loss: 0.0339, Accuracy: 9901/10000 (99.01%)\n",
            "\n"
          ]
        },
        {
          "output_type": "stream",
          "name": "stderr",
          "text": [
            "Epoch=5 Loss=0.06263162195682526 batch_id=937 Accuracy=98.20%: 100%|██████████| 938/938 [00:24<00:00, 38.55it/s]\n"
          ]
        },
        {
          "output_type": "stream",
          "name": "stdout",
          "text": [
            "\n",
            "Test set: Average loss: 0.0357, Accuracy: 9900/10000 (99.00%)\n",
            "\n"
          ]
        },
        {
          "output_type": "stream",
          "name": "stderr",
          "text": [
            "Epoch=6 Loss=0.13830704987049103 batch_id=937 Accuracy=98.29%: 100%|██████████| 938/938 [00:24<00:00, 38.58it/s]\n"
          ]
        },
        {
          "output_type": "stream",
          "name": "stdout",
          "text": [
            "\n",
            "Test set: Average loss: 0.0365, Accuracy: 9892/10000 (98.92%)\n",
            "\n"
          ]
        },
        {
          "output_type": "stream",
          "name": "stderr",
          "text": [
            "Epoch=7 Loss=0.08553171902894974 batch_id=937 Accuracy=98.49%: 100%|██████████| 938/938 [00:24<00:00, 38.71it/s]\n"
          ]
        },
        {
          "output_type": "stream",
          "name": "stdout",
          "text": [
            "\n",
            "Test set: Average loss: 0.0304, Accuracy: 9913/10000 (99.13%)\n",
            "\n"
          ]
        },
        {
          "output_type": "stream",
          "name": "stderr",
          "text": [
            "Epoch=8 Loss=0.03671471029520035 batch_id=937 Accuracy=98.50%: 100%|██████████| 938/938 [00:24<00:00, 38.35it/s]\n"
          ]
        },
        {
          "output_type": "stream",
          "name": "stdout",
          "text": [
            "\n",
            "Test set: Average loss: 0.0296, Accuracy: 9914/10000 (99.14%)\n",
            "\n"
          ]
        },
        {
          "output_type": "stream",
          "name": "stderr",
          "text": [
            "Epoch=9 Loss=0.1879219263792038 batch_id=937 Accuracy=98.59%: 100%|██████████| 938/938 [00:25<00:00, 37.34it/s]\n"
          ]
        },
        {
          "output_type": "stream",
          "name": "stdout",
          "text": [
            "\n",
            "Test set: Average loss: 0.0305, Accuracy: 9906/10000 (99.06%)\n",
            "\n"
          ]
        },
        {
          "output_type": "stream",
          "name": "stderr",
          "text": [
            "Epoch=10 Loss=0.18057924509048462 batch_id=937 Accuracy=98.64%: 100%|██████████| 938/938 [00:24<00:00, 38.35it/s]\n"
          ]
        },
        {
          "output_type": "stream",
          "name": "stdout",
          "text": [
            "\n",
            "Test set: Average loss: 0.0262, Accuracy: 9922/10000 (99.22%)\n",
            "\n"
          ]
        },
        {
          "output_type": "stream",
          "name": "stderr",
          "text": [
            "Epoch=11 Loss=0.05710477754473686 batch_id=937 Accuracy=98.72%: 100%|██████████| 938/938 [00:24<00:00, 38.34it/s]\n"
          ]
        },
        {
          "output_type": "stream",
          "name": "stdout",
          "text": [
            "\n",
            "Test set: Average loss: 0.0263, Accuracy: 9913/10000 (99.13%)\n",
            "\n"
          ]
        },
        {
          "output_type": "stream",
          "name": "stderr",
          "text": [
            "Epoch=12 Loss=0.011738564819097519 batch_id=937 Accuracy=98.71%: 100%|██████████| 938/938 [00:24<00:00, 38.19it/s]\n"
          ]
        },
        {
          "output_type": "stream",
          "name": "stdout",
          "text": [
            "\n",
            "Test set: Average loss: 0.0265, Accuracy: 9921/10000 (99.21%)\n",
            "\n"
          ]
        },
        {
          "output_type": "stream",
          "name": "stderr",
          "text": [
            "Epoch=13 Loss=0.01851530186831951 batch_id=937 Accuracy=98.83%: 100%|██████████| 938/938 [00:25<00:00, 37.35it/s]\n"
          ]
        },
        {
          "output_type": "stream",
          "name": "stdout",
          "text": [
            "\n",
            "Test set: Average loss: 0.0293, Accuracy: 9919/10000 (99.19%)\n",
            "\n"
          ]
        },
        {
          "output_type": "stream",
          "name": "stderr",
          "text": [
            "Epoch=14 Loss=0.08591222018003464 batch_id=937 Accuracy=98.88%: 100%|██████████| 938/938 [00:24<00:00, 37.60it/s]\n"
          ]
        },
        {
          "output_type": "stream",
          "name": "stdout",
          "text": [
            "\n",
            "Test set: Average loss: 0.0267, Accuracy: 9917/10000 (99.17%)\n",
            "\n"
          ]
        },
        {
          "output_type": "stream",
          "name": "stderr",
          "text": [
            "Epoch=15 Loss=0.026583293452858925 batch_id=937 Accuracy=98.92%: 100%|██████████| 938/938 [00:24<00:00, 38.05it/s]\n"
          ]
        },
        {
          "output_type": "stream",
          "name": "stdout",
          "text": [
            "\n",
            "Test set: Average loss: 0.0223, Accuracy: 9934/10000 (99.34%)\n",
            "\n"
          ]
        }
      ]
    },
    {
      "cell_type": "code",
      "source": [
        "print('Missclassification \\n')\n",
        "for i in range(0, 10):\n",
        "  plt.subplot(2, 5, i+1)\n",
        "  plt.axis('off')\n",
        "  plt.imshow(torch.stack(missclassified).cpu().detach().numpy()[i].squeeze())\n",
        "\n",
        "print('Correct Labels: ')\n",
        "for i in range(0, len(missclassified)):\n",
        "  output_line += str(expected_label[i].item()) + ' '\n",
        "  if i ==int((len(missclassified)-1)/2) or i==len(missclassified)-1:\n",
        "    print(output_line + '\\n')\n",
        "    output_line = ''\n",
        "\n",
        "print('Prediction : ')\n",
        "for i in range(0, len(missclassified)):\n",
        "  output_line += str(missclassified_value[i].item()) + ' '\n",
        "  if i ==int((len(missclassified)-1)/2) or i==len(missclassified)-1:\n",
        "    print(output_line + '\\n')\n",
        "    output_line = ''\n",
        "\n",
        "#cleanup lists\n",
        "missclassified = []\n",
        "expected_label = []\n",
        "missclassified_value = []\n",
        "\n",
        "print('Images')"
      ],
      "metadata": {
        "colab": {
          "base_uri": "https://localhost:8080/",
          "height": 433
        },
        "id": "cQKD6_Xx8fU8",
        "outputId": "78c3c9e0-f918-4f09-ae41-eda9a451aa5a"
      },
      "execution_count": 51,
      "outputs": [
        {
          "output_type": "stream",
          "name": "stdout",
          "text": [
            "Missclassification \n",
            "\n",
            "Correct Labels: \n",
            "6 6 9 8 1 \n",
            "\n",
            "9 6 5 8 8 \n",
            "\n",
            "Prediction : \n",
            "0 0 1 9 3 \n",
            "\n",
            "7 5 3 0 7 \n",
            "\n",
            "Images\n"
          ]
        },
        {
          "output_type": "display_data",
          "data": {
            "text/plain": [
              "<Figure size 432x288 with 10 Axes>"
            ],
            "image/png": "[encoded data removed]"
          },
          "metadata": {
            "needs_background": "light"
          }
        }
      ]
    },
    {
      "cell_type": "code",
      "source": [
        "network = model.get_network(model.Network.LAYER_NORM).to(device)\n",
        "summary(network, input_size=(1, 28, 28))"
      ],
      "metadata": {
        "colab": {
          "base_uri": "https://localhost:8080/"
        },
        "id": "pvJ8-azLS-co",
        "outputId": "72b87aef-e614-4d40-a102-3d63af93dcf3"
      },
      "execution_count": 52,
      "outputs": [
        {
          "output_type": "stream",
          "name": "stdout",
          "text": [
            "----------------------------------------------------------------\n",
            "        Layer (type)               Output Shape         Param #\n",
            "================================================================\n",
            "            Conv2d-1           [-1, 10, 28, 28]             100\n",
            "              ReLU-2           [-1, 10, 28, 28]               0\n",
            "         LayerNorm-3           [-1, 10, 28, 28]          15,680\n",
            "         Dropout2d-4           [-1, 10, 28, 28]               0\n",
            "            Conv2d-5           [-1, 16, 28, 28]           1,456\n",
            "              ReLU-6           [-1, 16, 28, 28]               0\n",
            "         LayerNorm-7           [-1, 16, 28, 28]          25,088\n",
            "         Dropout2d-8           [-1, 16, 28, 28]               0\n",
            "         MaxPool2d-9           [-1, 16, 14, 14]               0\n",
            "           Conv2d-10            [-1, 8, 14, 14]             136\n",
            "             ReLU-11            [-1, 8, 14, 14]               0\n",
            "        LayerNorm-12            [-1, 8, 14, 14]           3,136\n",
            "        Dropout2d-13            [-1, 8, 14, 14]               0\n",
            "           Conv2d-14           [-1, 16, 14, 14]           1,168\n",
            "             ReLU-15           [-1, 16, 14, 14]               0\n",
            "        LayerNorm-16           [-1, 16, 14, 14]           6,272\n",
            "        Dropout2d-17           [-1, 16, 14, 14]               0\n",
            "           Conv2d-18           [-1, 16, 14, 14]           2,320\n",
            "             ReLU-19           [-1, 16, 14, 14]               0\n",
            "        LayerNorm-20           [-1, 16, 14, 14]           6,272\n",
            "        Dropout2d-21           [-1, 16, 14, 14]               0\n",
            "           Conv2d-22           [-1, 16, 14, 14]           2,320\n",
            "             ReLU-23           [-1, 16, 14, 14]               0\n",
            "        LayerNorm-24           [-1, 16, 14, 14]           6,272\n",
            "        Dropout2d-25           [-1, 16, 14, 14]               0\n",
            "        MaxPool2d-26             [-1, 16, 7, 7]               0\n",
            "           Conv2d-27              [-1, 8, 7, 7]             136\n",
            "             ReLU-28              [-1, 8, 7, 7]               0\n",
            "        LayerNorm-29              [-1, 8, 7, 7]             784\n",
            "        Dropout2d-30              [-1, 8, 7, 7]               0\n",
            "           Conv2d-31             [-1, 10, 5, 5]             730\n",
            "             ReLU-32             [-1, 10, 5, 5]               0\n",
            "        LayerNorm-33             [-1, 10, 5, 5]             500\n",
            "        Dropout2d-34             [-1, 10, 5, 5]               0\n",
            "           Conv2d-35             [-1, 16, 3, 3]           1,456\n",
            "             ReLU-36             [-1, 16, 3, 3]               0\n",
            "        LayerNorm-37             [-1, 16, 3, 3]             288\n",
            "        Dropout2d-38             [-1, 16, 3, 3]               0\n",
            "           Conv2d-39             [-1, 10, 3, 3]             170\n",
            "        AvgPool2d-40             [-1, 10, 1, 1]               0\n",
            "================================================================\n",
            "Total params: 74,284\n",
            "Trainable params: 74,284\n",
            "Non-trainable params: 0\n",
            "----------------------------------------------------------------\n",
            "Input size (MB): 0.00\n",
            "Forward/backward pass size (MB): 1.01\n",
            "Params size (MB): 0.28\n",
            "Estimated Total Size (MB): 1.30\n",
            "----------------------------------------------------------------\n"
          ]
        },
        {
          "output_type": "stream",
          "name": "stderr",
          "text": [
            "/content/model.py:211: UserWarning: Implicit dimension choice for log_softmax has been deprecated. Change the call to include dim=X as an argument.\n",
            "  return F.log_softmax(x)\n"
          ]
        }
      ]
    },
    {
      "cell_type": "code",
      "source": [
        "#network = model.get_network(model.Network.LAYER_NORM).to(device)\n",
        "optimizer = optim.SGD(network.parameters(), lr=0.01, momentum=0.9)\n",
        "#scheduler = StepLR(optimizer, step_size=5, gamma=0.1)\n",
        "\n",
        "train_losses = []\n",
        "train_acc = []\n",
        "test_losses = []\n",
        "test_acc = []\n",
        "\n",
        "for epoch in range(1, 16):\n",
        "    ln_train_losses, ln_train_acc = train(network, device, train_loader, optimizer, epoch)\n",
        "    ln_test_losses, ln_test_acc = test(network, device, test_loader)"
      ],
      "metadata": {
        "colab": {
          "base_uri": "https://localhost:8080/"
        },
        "id": "YZnqVCUXaysc",
        "outputId": "92229287-2818-4a50-d8c9-86c152a266e4"
      },
      "execution_count": 53,
      "outputs": [
        {
          "output_type": "stream",
          "name": "stderr",
          "text": [
            "Epoch=1 Loss=0.2999889552593231 batch_id=937 Accuracy=88.86%: 100%|██████████| 938/938 [00:33<00:00, 28.06it/s]\n"
          ]
        },
        {
          "output_type": "stream",
          "name": "stdout",
          "text": [
            "\n",
            "Test set: Average loss: 0.0758, Accuracy: 9791/10000 (97.91%)\n",
            "\n"
          ]
        },
        {
          "output_type": "stream",
          "name": "stderr",
          "text": [
            "Epoch=2 Loss=0.09282763302326202 batch_id=937 Accuracy=96.92%: 100%|██████████| 938/938 [00:23<00:00, 39.17it/s]\n"
          ]
        },
        {
          "output_type": "stream",
          "name": "stdout",
          "text": [
            "\n",
            "Test set: Average loss: 0.0436, Accuracy: 9881/10000 (98.81%)\n",
            "\n"
          ]
        },
        {
          "output_type": "stream",
          "name": "stderr",
          "text": [
            "Epoch=3 Loss=0.28662505745887756 batch_id=937 Accuracy=97.75%: 100%|██████████| 938/938 [00:23<00:00, 39.36it/s]\n"
          ]
        },
        {
          "output_type": "stream",
          "name": "stdout",
          "text": [
            "\n",
            "Test set: Average loss: 0.0386, Accuracy: 9884/10000 (98.84%)\n",
            "\n"
          ]
        },
        {
          "output_type": "stream",
          "name": "stderr",
          "text": [
            "Epoch=4 Loss=0.10336264222860336 batch_id=937 Accuracy=98.07%: 100%|██████████| 938/938 [00:24<00:00, 38.91it/s]\n"
          ]
        },
        {
          "output_type": "stream",
          "name": "stdout",
          "text": [
            "\n",
            "Test set: Average loss: 0.0365, Accuracy: 9887/10000 (98.87%)\n",
            "\n"
          ]
        },
        {
          "output_type": "stream",
          "name": "stderr",
          "text": [
            "Epoch=5 Loss=0.0663108229637146 batch_id=937 Accuracy=98.29%: 100%|██████████| 938/938 [00:24<00:00, 37.58it/s]\n"
          ]
        },
        {
          "output_type": "stream",
          "name": "stdout",
          "text": [
            "\n",
            "Test set: Average loss: 0.0307, Accuracy: 9905/10000 (99.05%)\n",
            "\n"
          ]
        },
        {
          "output_type": "stream",
          "name": "stderr",
          "text": [
            "Epoch=6 Loss=0.17832228541374207 batch_id=937 Accuracy=98.45%: 100%|██████████| 938/938 [00:23<00:00, 40.10it/s]\n"
          ]
        },
        {
          "output_type": "stream",
          "name": "stdout",
          "text": [
            "\n",
            "Test set: Average loss: 0.0275, Accuracy: 9912/10000 (99.12%)\n",
            "\n"
          ]
        },
        {
          "output_type": "stream",
          "name": "stderr",
          "text": [
            "Epoch=7 Loss=0.12443371117115021 batch_id=937 Accuracy=98.42%: 100%|██████████| 938/938 [00:23<00:00, 39.33it/s]\n"
          ]
        },
        {
          "output_type": "stream",
          "name": "stdout",
          "text": [
            "\n",
            "Test set: Average loss: 0.0290, Accuracy: 9914/10000 (99.14%)\n",
            "\n"
          ]
        },
        {
          "output_type": "stream",
          "name": "stderr",
          "text": [
            "Epoch=8 Loss=0.00875511858612299 batch_id=937 Accuracy=98.65%: 100%|██████████| 938/938 [00:24<00:00, 38.10it/s]\n"
          ]
        },
        {
          "output_type": "stream",
          "name": "stdout",
          "text": [
            "\n",
            "Test set: Average loss: 0.0271, Accuracy: 9918/10000 (99.18%)\n",
            "\n"
          ]
        },
        {
          "output_type": "stream",
          "name": "stderr",
          "text": [
            "Epoch=9 Loss=0.07980145514011383 batch_id=937 Accuracy=98.69%: 100%|██████████| 938/938 [00:23<00:00, 39.18it/s]\n"
          ]
        },
        {
          "output_type": "stream",
          "name": "stdout",
          "text": [
            "\n",
            "Test set: Average loss: 0.0253, Accuracy: 9915/10000 (99.15%)\n",
            "\n"
          ]
        },
        {
          "output_type": "stream",
          "name": "stderr",
          "text": [
            "Epoch=10 Loss=0.013098673895001411 batch_id=937 Accuracy=98.70%: 100%|██████████| 938/938 [00:23<00:00, 39.49it/s]\n"
          ]
        },
        {
          "output_type": "stream",
          "name": "stdout",
          "text": [
            "\n",
            "Test set: Average loss: 0.0230, Accuracy: 9925/10000 (99.25%)\n",
            "\n"
          ]
        },
        {
          "output_type": "stream",
          "name": "stderr",
          "text": [
            "Epoch=11 Loss=0.12468984723091125 batch_id=937 Accuracy=98.82%: 100%|██████████| 938/938 [00:23<00:00, 39.94it/s]\n"
          ]
        },
        {
          "output_type": "stream",
          "name": "stdout",
          "text": [
            "\n",
            "Test set: Average loss: 0.0236, Accuracy: 9922/10000 (99.22%)\n",
            "\n"
          ]
        },
        {
          "output_type": "stream",
          "name": "stderr",
          "text": [
            "Epoch=12 Loss=0.030203131958842278 batch_id=937 Accuracy=98.86%: 100%|██████████| 938/938 [00:23<00:00, 39.11it/s]\n"
          ]
        },
        {
          "output_type": "stream",
          "name": "stdout",
          "text": [
            "\n",
            "Test set: Average loss: 0.0211, Accuracy: 9936/10000 (99.36%)\n",
            "\n"
          ]
        },
        {
          "output_type": "stream",
          "name": "stderr",
          "text": [
            "Epoch=13 Loss=0.0025571819860488176 batch_id=937 Accuracy=98.88%: 100%|██████████| 938/938 [00:24<00:00, 38.76it/s]\n"
          ]
        },
        {
          "output_type": "stream",
          "name": "stdout",
          "text": [
            "\n",
            "Test set: Average loss: 0.0201, Accuracy: 9939/10000 (99.39%)\n",
            "\n"
          ]
        },
        {
          "output_type": "stream",
          "name": "stderr",
          "text": [
            "Epoch=14 Loss=0.007738321553915739 batch_id=937 Accuracy=98.90%: 100%|██████████| 938/938 [00:24<00:00, 38.90it/s]\n"
          ]
        },
        {
          "output_type": "stream",
          "name": "stdout",
          "text": [
            "\n",
            "Test set: Average loss: 0.0221, Accuracy: 9930/10000 (99.30%)\n",
            "\n"
          ]
        },
        {
          "output_type": "stream",
          "name": "stderr",
          "text": [
            "Epoch=15 Loss=0.015638766810297966 batch_id=937 Accuracy=98.98%: 100%|██████████| 938/938 [00:25<00:00, 37.48it/s]\n"
          ]
        },
        {
          "output_type": "stream",
          "name": "stdout",
          "text": [
            "\n",
            "Test set: Average loss: 0.0178, Accuracy: 9938/10000 (99.38%)\n",
            "\n"
          ]
        }
      ]
    },
    {
      "cell_type": "code",
      "source": [
        "print('Missclassification \\n')\n",
        "for i in range(0, 10):\n",
        "  plt.subplot(2, 5, i+1)\n",
        "  plt.axis('off')\n",
        "  plt.imshow(torch.stack(missclassified).cpu().detach().numpy()[i].squeeze())\n",
        "\n",
        "print('Correct Labels: ')\n",
        "for i in range(0, len(missclassified)):\n",
        "  output_line += str(expected_label[i].item()) + ' '\n",
        "  if i ==int((len(missclassified)-1)/2) or i==len(missclassified)-1:\n",
        "    print(output_line + '\\n')\n",
        "    output_line = ''\n",
        "\n",
        "print('Prediction : ')\n",
        "for i in range(0, len(missclassified)):\n",
        "  output_line += str(missclassified_value[i].item()) + ' '\n",
        "  if i ==int((len(missclassified)-1)/2) or i==len(missclassified)-1:\n",
        "    print(output_line + '\\n')\n",
        "    output_line = ''\n",
        "\n",
        "#cleanup lists\n",
        "missclassified = []\n",
        "expected_label = []\n",
        "missclassified_value = []\n",
        "\n",
        "print('Images')"
      ],
      "metadata": {
        "colab": {
          "base_uri": "https://localhost:8080/",
          "height": 433
        },
        "id": "OF6gKDwYHY8Z",
        "outputId": "bbc05173-70a5-4429-e328-8f2cf884bd04"
      },
      "execution_count": 54,
      "outputs": [
        {
          "output_type": "stream",
          "name": "stdout",
          "text": [
            "Missclassification \n",
            "\n",
            "Correct Labels: \n",
            "3 4 9 4 8 \n",
            "\n",
            "3 8 6 5 3 \n",
            "\n",
            "Prediction : \n",
            "5 9 4 9 6 \n",
            "\n",
            "2 3 1 0 2 \n",
            "\n",
            "Images\n"
          ]
        },
        {
          "output_type": "display_data",
          "data": {
            "text/plain": [
              "<Figure size 432x288 with 10 Axes>"
            ],
            "image/png": "[encoded data removed]"
          },
          "metadata": {
            "needs_background": "light"
          }
        }
      ]
    },
    {
      "cell_type": "code",
      "source": [
        "network = model.get_network(model.Network.BATCH_NORM).to(device)\n",
        "summary(network, input_size=(1, 28, 28))"
      ],
      "metadata": {
        "colab": {
          "base_uri": "https://localhost:8080/"
        },
        "id": "9sxNzIckkeHt",
        "outputId": "0086539a-24cd-44d4-d84c-720c9d1d8e32"
      },
      "execution_count": 55,
      "outputs": [
        {
          "output_type": "stream",
          "name": "stdout",
          "text": [
            "----------------------------------------------------------------\n",
            "        Layer (type)               Output Shape         Param #\n",
            "================================================================\n",
            "            Conv2d-1           [-1, 10, 28, 28]             100\n",
            "              ReLU-2           [-1, 10, 28, 28]               0\n",
            "       BatchNorm2d-3           [-1, 10, 28, 28]              20\n",
            "         Dropout2d-4           [-1, 10, 28, 28]               0\n",
            "            Conv2d-5           [-1, 16, 28, 28]           1,456\n",
            "              ReLU-6           [-1, 16, 28, 28]               0\n",
            "       BatchNorm2d-7           [-1, 16, 28, 28]              32\n",
            "         Dropout2d-8           [-1, 16, 28, 28]               0\n",
            "         MaxPool2d-9           [-1, 16, 14, 14]               0\n",
            "           Conv2d-10            [-1, 8, 14, 14]             136\n",
            "             ReLU-11            [-1, 8, 14, 14]               0\n",
            "      BatchNorm2d-12            [-1, 8, 14, 14]              16\n",
            "        Dropout2d-13            [-1, 8, 14, 14]               0\n",
            "           Conv2d-14           [-1, 16, 14, 14]           1,168\n",
            "             ReLU-15           [-1, 16, 14, 14]               0\n",
            "      BatchNorm2d-16           [-1, 16, 14, 14]              32\n",
            "        Dropout2d-17           [-1, 16, 14, 14]               0\n",
            "           Conv2d-18           [-1, 16, 14, 14]           2,320\n",
            "             ReLU-19           [-1, 16, 14, 14]               0\n",
            "      BatchNorm2d-20           [-1, 16, 14, 14]              32\n",
            "        Dropout2d-21           [-1, 16, 14, 14]               0\n",
            "           Conv2d-22           [-1, 16, 14, 14]           2,320\n",
            "             ReLU-23           [-1, 16, 14, 14]               0\n",
            "      BatchNorm2d-24           [-1, 16, 14, 14]              32\n",
            "        Dropout2d-25           [-1, 16, 14, 14]               0\n",
            "        MaxPool2d-26             [-1, 16, 7, 7]               0\n",
            "           Conv2d-27              [-1, 8, 7, 7]             136\n",
            "             ReLU-28              [-1, 8, 7, 7]               0\n",
            "      BatchNorm2d-29              [-1, 8, 7, 7]              16\n",
            "        Dropout2d-30              [-1, 8, 7, 7]               0\n",
            "           Conv2d-31             [-1, 10, 5, 5]             730\n",
            "             ReLU-32             [-1, 10, 5, 5]               0\n",
            "      BatchNorm2d-33             [-1, 10, 5, 5]              20\n",
            "        Dropout2d-34             [-1, 10, 5, 5]               0\n",
            "           Conv2d-35             [-1, 16, 3, 3]           1,456\n",
            "             ReLU-36             [-1, 16, 3, 3]               0\n",
            "      BatchNorm2d-37             [-1, 16, 3, 3]              32\n",
            "        Dropout2d-38             [-1, 16, 3, 3]               0\n",
            "           Conv2d-39             [-1, 10, 3, 3]             170\n",
            "        AvgPool2d-40             [-1, 10, 1, 1]               0\n",
            "================================================================\n",
            "Total params: 10,224\n",
            "Trainable params: 10,224\n",
            "Non-trainable params: 0\n",
            "----------------------------------------------------------------\n",
            "Input size (MB): 0.00\n",
            "Forward/backward pass size (MB): 1.01\n",
            "Params size (MB): 0.04\n",
            "Estimated Total Size (MB): 1.05\n",
            "----------------------------------------------------------------\n"
          ]
        },
        {
          "output_type": "stream",
          "name": "stderr",
          "text": [
            "/content/model.py:308: UserWarning: Implicit dimension choice for log_softmax has been deprecated. Change the call to include dim=X as an argument.\n",
            "  return F.log_softmax(x)\n"
          ]
        }
      ]
    },
    {
      "cell_type": "code",
      "source": [
        "network = model.get_network(model.Network.BATCH_NORM).to(device)\n",
        "optimizer = optim.SGD(network.parameters(), lr=0.01, momentum=0.9)\n",
        "#scheduler = StepLR(optimizer, step_size=5, gamma=0.1)\n",
        "\n",
        "train_losses = []\n",
        "train_acc = []\n",
        "test_losses = []\n",
        "test_acc = []\n",
        "\n",
        "for epoch in range(1, 16):\n",
        "    bn_train_losses, bn_train_acc = train(network, device, train_loader, optimizer, epoch, use_lambda = True)\n",
        "    bn_test_losses, bn_test_acc = test(network, device, test_loader)"
      ],
      "metadata": {
        "colab": {
          "base_uri": "https://localhost:8080/"
        },
        "id": "DYK1vuN3kk3s",
        "outputId": "391ff012-8766-4de8-8265-dd4cf17e7850"
      },
      "execution_count": 56,
      "outputs": [
        {
          "output_type": "stream",
          "name": "stderr",
          "text": [
            "Epoch=1 Loss=0.36217600107192993 batch_id=937 Accuracy=90.41%: 100%|██████████| 938/938 [00:26<00:00, 36.00it/s]\n"
          ]
        },
        {
          "output_type": "stream",
          "name": "stdout",
          "text": [
            "\n",
            "Test set: Average loss: 0.0643, Accuracy: 9793/10000 (97.93%)\n",
            "\n"
          ]
        },
        {
          "output_type": "stream",
          "name": "stderr",
          "text": [
            "Epoch=2 Loss=0.3840905427932739 batch_id=937 Accuracy=96.59%: 100%|██████████| 938/938 [00:25<00:00, 36.33it/s]\n"
          ]
        },
        {
          "output_type": "stream",
          "name": "stdout",
          "text": [
            "\n",
            "Test set: Average loss: 0.0604, Accuracy: 9814/10000 (98.14%)\n",
            "\n"
          ]
        },
        {
          "output_type": "stream",
          "name": "stderr",
          "text": [
            "Epoch=3 Loss=0.2833991050720215 batch_id=937 Accuracy=97.06%: 100%|██████████| 938/938 [00:25<00:00, 36.15it/s]\n"
          ]
        },
        {
          "output_type": "stream",
          "name": "stdout",
          "text": [
            "\n",
            "Test set: Average loss: 0.0503, Accuracy: 9849/10000 (98.49%)\n",
            "\n"
          ]
        },
        {
          "output_type": "stream",
          "name": "stderr",
          "text": [
            "Epoch=4 Loss=0.6140828132629395 batch_id=937 Accuracy=97.22%: 100%|██████████| 938/938 [00:25<00:00, 36.09it/s]\n"
          ]
        },
        {
          "output_type": "stream",
          "name": "stdout",
          "text": [
            "\n",
            "Test set: Average loss: 0.0439, Accuracy: 9867/10000 (98.67%)\n",
            "\n"
          ]
        },
        {
          "output_type": "stream",
          "name": "stderr",
          "text": [
            "Epoch=5 Loss=0.24126075208187103 batch_id=937 Accuracy=97.32%: 100%|██████████| 938/938 [00:25<00:00, 36.27it/s]\n"
          ]
        },
        {
          "output_type": "stream",
          "name": "stdout",
          "text": [
            "\n",
            "Test set: Average loss: 0.0435, Accuracy: 9867/10000 (98.67%)\n",
            "\n"
          ]
        },
        {
          "output_type": "stream",
          "name": "stderr",
          "text": [
            "Epoch=6 Loss=0.3590990900993347 batch_id=937 Accuracy=97.42%: 100%|██████████| 938/938 [00:26<00:00, 35.74it/s]\n"
          ]
        },
        {
          "output_type": "stream",
          "name": "stdout",
          "text": [
            "\n",
            "Test set: Average loss: 0.0452, Accuracy: 9873/10000 (98.73%)\n",
            "\n"
          ]
        },
        {
          "output_type": "stream",
          "name": "stderr",
          "text": [
            "Epoch=7 Loss=0.2772316634654999 batch_id=937 Accuracy=97.39%: 100%|██████████| 938/938 [00:26<00:00, 35.05it/s]\n"
          ]
        },
        {
          "output_type": "stream",
          "name": "stdout",
          "text": [
            "\n",
            "Test set: Average loss: 0.0421, Accuracy: 9863/10000 (98.63%)\n",
            "\n"
          ]
        },
        {
          "output_type": "stream",
          "name": "stderr",
          "text": [
            "Epoch=8 Loss=0.3154352605342865 batch_id=937 Accuracy=97.45%: 100%|██████████| 938/938 [00:25<00:00, 36.29it/s]\n"
          ]
        },
        {
          "output_type": "stream",
          "name": "stdout",
          "text": [
            "\n",
            "Test set: Average loss: 0.0386, Accuracy: 9889/10000 (98.89%)\n",
            "\n"
          ]
        },
        {
          "output_type": "stream",
          "name": "stderr",
          "text": [
            "Epoch=9 Loss=0.2768058180809021 batch_id=937 Accuracy=97.54%: 100%|██████████| 938/938 [00:25<00:00, 36.36it/s]\n"
          ]
        },
        {
          "output_type": "stream",
          "name": "stdout",
          "text": [
            "\n",
            "Test set: Average loss: 0.0378, Accuracy: 9885/10000 (98.85%)\n",
            "\n"
          ]
        },
        {
          "output_type": "stream",
          "name": "stderr",
          "text": [
            "Epoch=10 Loss=0.2064865678548813 batch_id=937 Accuracy=97.58%: 100%|██████████| 938/938 [00:25<00:00, 36.30it/s]\n"
          ]
        },
        {
          "output_type": "stream",
          "name": "stdout",
          "text": [
            "\n",
            "Test set: Average loss: 0.0371, Accuracy: 9898/10000 (98.98%)\n",
            "\n"
          ]
        },
        {
          "output_type": "stream",
          "name": "stderr",
          "text": [
            "Epoch=11 Loss=0.335493803024292 batch_id=937 Accuracy=97.61%: 100%|██████████| 938/938 [00:25<00:00, 36.62it/s]\n"
          ]
        },
        {
          "output_type": "stream",
          "name": "stdout",
          "text": [
            "\n",
            "Test set: Average loss: 0.0488, Accuracy: 9830/10000 (98.30%)\n",
            "\n"
          ]
        },
        {
          "output_type": "stream",
          "name": "stderr",
          "text": [
            "Epoch=12 Loss=0.19641457498073578 batch_id=937 Accuracy=97.50%: 100%|██████████| 938/938 [00:25<00:00, 36.94it/s]\n"
          ]
        },
        {
          "output_type": "stream",
          "name": "stdout",
          "text": [
            "\n",
            "Test set: Average loss: 0.0369, Accuracy: 9884/10000 (98.84%)\n",
            "\n"
          ]
        },
        {
          "output_type": "stream",
          "name": "stderr",
          "text": [
            "Epoch=13 Loss=0.20581068098545074 batch_id=937 Accuracy=97.62%: 100%|██████████| 938/938 [00:25<00:00, 36.45it/s]\n"
          ]
        },
        {
          "output_type": "stream",
          "name": "stdout",
          "text": [
            "\n",
            "Test set: Average loss: 0.0468, Accuracy: 9845/10000 (98.45%)\n",
            "\n"
          ]
        },
        {
          "output_type": "stream",
          "name": "stderr",
          "text": [
            "Epoch=14 Loss=0.22532521188259125 batch_id=937 Accuracy=97.59%: 100%|██████████| 938/938 [00:26<00:00, 36.03it/s]\n"
          ]
        },
        {
          "output_type": "stream",
          "name": "stdout",
          "text": [
            "\n",
            "Test set: Average loss: 0.0337, Accuracy: 9892/10000 (98.92%)\n",
            "\n"
          ]
        },
        {
          "output_type": "stream",
          "name": "stderr",
          "text": [
            "Epoch=15 Loss=0.2543012201786041 batch_id=937 Accuracy=97.74%: 100%|██████████| 938/938 [00:25<00:00, 36.43it/s]\n"
          ]
        },
        {
          "output_type": "stream",
          "name": "stdout",
          "text": [
            "\n",
            "Test set: Average loss: 0.0390, Accuracy: 9873/10000 (98.73%)\n",
            "\n"
          ]
        }
      ]
    },
    {
      "cell_type": "code",
      "source": [
        "print('Missclassification \\n')\n",
        "for i in range(0, 10):\n",
        "  plt.subplot(2, 5, i+1)\n",
        "  plt.axis('off')\n",
        "  plt.imshow(torch.stack(missclassified).cpu().detach().numpy()[i].squeeze())\n",
        "\n",
        "print('Correct Labels: ')\n",
        "for i in range(0, len(missclassified)):\n",
        "  output_line += str(expected_label[i].item()) + ' '\n",
        "  if i ==int((len(missclassified)-1)/2) or i==len(missclassified)-1:\n",
        "    print(output_line + '\\n')\n",
        "    output_line = ''\n",
        "\n",
        "print('Prediction : ')\n",
        "for i in range(0, len(missclassified)):\n",
        "  output_line += str(missclassified_value[i].item()) + ' '\n",
        "  if i ==int((len(missclassified)-1)/2) or i==len(missclassified)-1:\n",
        "    print(output_line + '\\n')\n",
        "    output_line = ''\n",
        "\n",
        "#cleanup lists\n",
        "missclassified = []\n",
        "expected_label = []\n",
        "missclassified_value = []\n",
        "\n",
        "print('Images')"
      ],
      "metadata": {
        "colab": {
          "base_uri": "https://localhost:8080/",
          "height": 433
        },
        "id": "J6fOrFUnHePw",
        "outputId": "fea06fd8-47af-4113-f0b9-7e44cf532905"
      },
      "execution_count": 57,
      "outputs": [
        {
          "output_type": "stream",
          "name": "stdout",
          "text": [
            "Missclassification \n",
            "\n",
            "Correct Labels: \n",
            "4 4 7 9 9 \n",
            "\n",
            "7 9 3 3 1 \n",
            "\n",
            "Prediction : \n",
            "9 7 2 7 4 \n",
            "\n",
            "2 7 5 7 7 \n",
            "\n",
            "Images\n"
          ]
        },
        {
          "output_type": "display_data",
          "data": {
            "text/plain": [
              "<Figure size 432x288 with 10 Axes>"
            ],
            "image/png": "[encoded data removed]"
          },
          "metadata": {
            "needs_background": "light"
          }
        }
      ]
    },
    {
      "cell_type": "code",
      "source": [
        "from torch.functional import Tensor\n",
        "%matplotlib inline\n",
        "import matplotlib.pyplot as plt\n",
        "\n",
        "fig, axs = plt.subplots(2,2,figsize=(15,10))\n",
        "axs[0, 0].plot(torch.stack(gn_train_losses).cpu().detach().numpy(), color='r', label='GN')\n",
        "axs[0, 0].plot(torch.stack(ln_train_losses).cpu().detach().numpy(), color='g', label='LN')\n",
        "axs[0, 0].plot(torch.stack(bn_train_losses).cpu().detach().numpy(), color='b', label='L1+BN')\n",
        "axs[0, 0].set_title(\"Training Loss\")\n",
        "axs[1, 0].plot(gn_train_acc[4000:], color='r', label='GN')\n",
        "axs[1, 0].plot(ln_train_acc[4000:], color='g', label='LN')\n",
        "axs[1, 0].plot(bn_train_acc[4000:], color='b', label='L1+BN')\n",
        "axs[1, 0].set_title(\"Training Accuracy\")\n",
        "axs[0, 1].plot(gn_test_losses, color='r', label='GN')\n",
        "axs[0, 1].plot(ln_test_losses, color='g', label='LN')\n",
        "axs[0, 1].plot(bn_test_losses, color='b', label='L1+BN')\n",
        "axs[0, 1].set_title(\"Test Loss\")\n",
        "#axs[1, 1].plot(test_acc)\n",
        "axs[1, 1].plot(gn_test_acc, color='r', label='GN')\n",
        "axs[1, 1].plot(ln_test_acc, color='g', label='LN')\n",
        "axs[1, 1].plot(bn_test_acc, color='b', label='L1+BN')\n",
        "axs[1, 1].set_title(\"Test Accuracy\")\n",
        "axs[0, 0].legend()\n",
        "axs[0, 1].legend()\n",
        "axs[1, 0].legend()\n",
        "axs[1, 1].legend()\n"
      ],
      "metadata": {
        "colab": {
          "base_uri": "https://localhost:8080/",
          "height": 485
        },
        "id": "G7CaQLCHv08Z",
        "outputId": "b5bb5000-9b05-42ce-eead-78fe27b9f937"
      },
      "execution_count": 58,
      "outputs": [
        {
          "output_type": "execute_result",
          "data": {
            "text/plain": [
              "<matplotlib.legend.Legend at 0x7fd9adfa1910>"
            ]
          },
          "metadata": {},
          "execution_count": 58
        },
        {
          "output_type": "display_data",
          "data": {
            "text/plain": [
              "<Figure size 1080x720 with 4 Axes>"
            ],
            "image/png": "[encoded data removed]"
          },
          "metadata": {
            "needs_background": "light"
          }
        }
      ]
    }
  ]
}