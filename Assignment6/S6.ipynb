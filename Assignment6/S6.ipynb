{
  "nbformat": 4,
  "nbformat_minor": 0,
  "metadata": {
    "kernelspec": {
      "name": "python3",
      "display_name": "Python 3"
    },
    "language_info": {
      "codemirror_mode": {
        "name": "ipython",
        "version": 3
      },
      "file_extension": ".py",
      "mimetype": "text/x-python",
      "name": "python",
      "nbconvert_exporter": "python",
      "pygments_lexer": "ipython3",
      "version": "3.6.6"
    },
    "colab": {
      "provenance": []
    },
    "accelerator": "GPU",
    "gpuClass": "standard"
  },
  "cells": [
    {
      "cell_type": "code",
      "metadata": {
        "id": "QVbdg0z4poCc"
      },
      "source": [
        "%matplotlib inline"
      ],
      "execution_count": 16,
      "outputs": []
    },
    {
      "cell_type": "markdown",
      "metadata": {
        "id": "fPogbueepoCh"
      },
      "source": [
        "\n",
        "Training a Classifier\n",
        "=====================\n",
        "\n",
        "This is it. You have seen how to define neural networks, compute loss and make\n",
        "updates to the weights of the network.\n",
        "\n",
        "Now you might be thinking,\n",
        "\n",
        "What about data?\n",
        "----------------\n",
        "\n",
        "Generally, when you have to deal with image, text, audio or video data,\n",
        "you can use standard python packages that load data into a numpy array.\n",
        "Then you can convert this array into a ``torch.*Tensor``.\n",
        "\n",
        "-  For images, packages such as Pillow, OpenCV are useful\n",
        "-  For audio, packages such as scipy and librosa\n",
        "-  For text, either raw Python or Cython based loading, or NLTK and\n",
        "   SpaCy are useful\n",
        "\n",
        "Specifically for vision, we have created a package called\n",
        "``torchvision``, that has data loaders for common datasets such as\n",
        "Imagenet, CIFAR10, MNIST, etc. and data transformers for images, viz.,\n",
        "``torchvision.datasets`` and ``torch.utils.data.DataLoader``.\n",
        "\n",
        "This provides a huge convenience and avoids writing boilerplate code.\n",
        "\n",
        "For this tutorial, we will use the CIFAR10 dataset.\n",
        "It has the classes: ‘airplane’, ‘automobile’, ‘bird’, ‘cat’, ‘deer’,\n",
        "‘dog’, ‘frog’, ‘horse’, ‘ship’, ‘truck’. The images in CIFAR-10 are of\n",
        "size 3x32x32, i.e. 3-channel color images of 32x32 pixels in size.\n",
        "\n",
        ".. figure:: /_static/img/cifar10.png\n",
        "   :alt: cifar10\n",
        "\n",
        "   cifar10\n",
        "\n",
        "\n",
        "Training an image classifier\n",
        "----------------------------\n",
        "\n",
        "We will do the following steps in order:\n",
        "\n",
        "1. Load and normalizing the CIFAR10 training and test datasets using\n",
        "   ``torchvision``\n",
        "2. Define a Convolution Neural Network\n",
        "3. Define a loss function\n",
        "4. Train the network on the training data\n",
        "5. Test the network on the test data\n",
        "\n",
        "1. Loading and normalizing CIFAR10\n",
        "^^^^^^^^^^^^^^^^^^^^^^^^^^^^^^^^^^\n",
        "\n",
        "Using ``torchvision``, it’s extremely easy to load CIFAR10.\n",
        "\n"
      ]
    },
    {
      "cell_type": "code",
      "metadata": {
        "id": "-yVpodAMpoCi"
      },
      "source": [
        "import torch\n",
        "import torchvision\n",
        "import torchvision.transforms as transforms\n",
        "import numpy as np"
      ],
      "execution_count": 17,
      "outputs": []
    },
    {
      "cell_type": "markdown",
      "source": [
        "Install Albumentation Libarary"
      ],
      "metadata": {
        "id": "yiXWPHz7xRha"
      }
    },
    {
      "cell_type": "code",
      "source": [
        "!pip install -U albumentations\n",
        "import albumentations as A\n",
        "from albumentations import pytorch"
      ],
      "metadata": {
        "id": "2g5QOzA4xQkS",
        "colab": {
          "base_uri": "https://localhost:8080/"
        },
        "outputId": "b329a2ca-c0cb-4911-ee85-2ac137649429"
      },
      "execution_count": 18,
      "outputs": [
        {
          "output_type": "stream",
          "name": "stdout",
          "text": [
            "Looking in indexes: https://pypi.org/simple, https://us-python.pkg.dev/colab-wheels/public/simple/\n",
            "Requirement already satisfied: albumentations in /usr/local/lib/python3.8/dist-packages (1.3.0)\n",
            "Requirement already satisfied: opencv-python-headless>=4.1.1 in /usr/local/lib/python3.8/dist-packages (from albumentations) (4.7.0.68)\n",
            "Requirement already satisfied: scikit-image>=0.16.1 in /usr/local/lib/python3.8/dist-packages (from albumentations) (0.18.3)\n",
            "Requirement already satisfied: scipy in /usr/local/lib/python3.8/dist-packages (from albumentations) (1.7.3)\n",
            "Requirement already satisfied: PyYAML in /usr/local/lib/python3.8/dist-packages (from albumentations) (6.0)\n",
            "Requirement already satisfied: qudida>=0.0.4 in /usr/local/lib/python3.8/dist-packages (from albumentations) (0.0.4)\n",
            "Requirement already satisfied: numpy>=1.11.1 in /usr/local/lib/python3.8/dist-packages (from albumentations) (1.21.6)\n",
            "Requirement already satisfied: scikit-learn>=0.19.1 in /usr/local/lib/python3.8/dist-packages (from qudida>=0.0.4->albumentations) (1.0.2)\n",
            "Requirement already satisfied: typing-extensions in /usr/local/lib/python3.8/dist-packages (from qudida>=0.0.4->albumentations) (4.4.0)\n",
            "Requirement already satisfied: imageio>=2.3.0 in /usr/local/lib/python3.8/dist-packages (from scikit-image>=0.16.1->albumentations) (2.9.0)\n",
            "Requirement already satisfied: matplotlib!=3.0.0,>=2.0.0 in /usr/local/lib/python3.8/dist-packages (from scikit-image>=0.16.1->albumentations) (3.2.2)\n",
            "Requirement already satisfied: PyWavelets>=1.1.1 in /usr/local/lib/python3.8/dist-packages (from scikit-image>=0.16.1->albumentations) (1.4.1)\n",
            "Requirement already satisfied: pillow!=7.1.0,!=7.1.1,>=4.3.0 in /usr/local/lib/python3.8/dist-packages (from scikit-image>=0.16.1->albumentations) (7.1.2)\n",
            "Requirement already satisfied: tifffile>=2019.7.26 in /usr/local/lib/python3.8/dist-packages (from scikit-image>=0.16.1->albumentations) (2023.1.23.1)\n",
            "Requirement already satisfied: networkx>=2.0 in /usr/local/lib/python3.8/dist-packages (from scikit-image>=0.16.1->albumentations) (3.0)\n",
            "Requirement already satisfied: pyparsing!=2.0.4,!=2.1.2,!=2.1.6,>=2.0.1 in /usr/local/lib/python3.8/dist-packages (from matplotlib!=3.0.0,>=2.0.0->scikit-image>=0.16.1->albumentations) (3.0.9)\n",
            "Requirement already satisfied: cycler>=0.10 in /usr/local/lib/python3.8/dist-packages (from matplotlib!=3.0.0,>=2.0.0->scikit-image>=0.16.1->albumentations) (0.11.0)\n",
            "Requirement already satisfied: python-dateutil>=2.1 in /usr/local/lib/python3.8/dist-packages (from matplotlib!=3.0.0,>=2.0.0->scikit-image>=0.16.1->albumentations) (2.8.2)\n",
            "Requirement already satisfied: kiwisolver>=1.0.1 in /usr/local/lib/python3.8/dist-packages (from matplotlib!=3.0.0,>=2.0.0->scikit-image>=0.16.1->albumentations) (1.4.4)\n",
            "Requirement already satisfied: joblib>=0.11 in /usr/local/lib/python3.8/dist-packages (from scikit-learn>=0.19.1->qudida>=0.0.4->albumentations) (1.2.0)\n",
            "Requirement already satisfied: threadpoolctl>=2.0.0 in /usr/local/lib/python3.8/dist-packages (from scikit-learn>=0.19.1->qudida>=0.0.4->albumentations) (3.1.0)\n",
            "Requirement already satisfied: six>=1.5 in /usr/local/lib/python3.8/dist-packages (from python-dateutil>=2.1->matplotlib!=3.0.0,>=2.0.0->scikit-image>=0.16.1->albumentations) (1.15.0)\n"
          ]
        }
      ]
    },
    {
      "cell_type": "code",
      "source": [
        "class Transforms:\n",
        "    def __init__(self, transforms: A.Compose):\n",
        "        self.transforms = transforms\n",
        "\n",
        "    def __call__(self, img, *args, **kwargs):\n",
        "        return self.transforms(image=np.array(img))"
      ],
      "metadata": {
        "id": "trePRIzz8O-k"
      },
      "execution_count": 19,
      "outputs": []
    },
    {
      "cell_type": "markdown",
      "metadata": {
        "id": "5kjt4e2TpoCk"
      },
      "source": [
        "The output of torchvision datasets are PILImage images of range [0, 1].\n",
        "We transform them to Tensors of normalized range [-1, 1].\n",
        "\n"
      ]
    },
    {
      "cell_type": "code",
      "metadata": {
        "id": "D8Tjigo2poCl",
        "outputId": "852a49ed-54ba-4d9a-e6f5-7bee7f1c26b5",
        "colab": {
          "base_uri": "https://localhost:8080/"
        }
      },
      "source": [
        "transform_al = Transforms(A.Compose([A.HorizontalFlip(p=0.5),\n",
        "                          A.ShiftScaleRotate(p=0.5),\n",
        "                          A.CoarseDropout(max_holes = 1, max_height=16, max_width=16, min_height=16, min_width=16, min_holes = 1, fill_value=-1.69, mask_fill_value = None),\n",
        "                          A.Normalize(mean=(0.5, 0.5, 0.5), std=(0.5, 0.5, 0.5)),\n",
        "                          A.pytorch.transforms.ToTensorV2(),]))\n",
        "\n",
        "'''\n",
        "transform = transforms.Compose(\n",
        "    [transforms.ToTensor(),\n",
        "     transforms.Normalize((0.5, 0.5, 0.5), (0.5, 0.5, 0.5))])\n",
        "'''\n",
        "trainset_notransform = torchvision.datasets.CIFAR10(root='./data', train=True,\n",
        "                                        download=True)\n",
        "trainloader_notransform = torch.utils.data.DataLoader(trainset, batch_size=4,\n",
        "                                          shuffle=True, num_workers=2)\n",
        "trainset = torchvision.datasets.CIFAR10(root='./data', train=True,\n",
        "                                        download=True, transform=transform_al)\n",
        "trainloader = torch.utils.data.DataLoader(trainset, batch_size=4,\n",
        "                                          shuffle=True, num_workers=2)\n",
        "\n",
        "testset = torchvision.datasets.CIFAR10(root='./data', train=False,\n",
        "                                       download=True, transform=transform_al)\n",
        "testloader = torch.utils.data.DataLoader(testset, batch_size=4,\n",
        "                                         shuffle=False, num_workers=2)\n",
        "\n",
        "classes = ('plane', 'car', 'bird', 'cat',\n",
        "           'deer', 'dog', 'frog', 'horse', 'ship', 'truck')"
      ],
      "execution_count": 38,
      "outputs": [
        {
          "output_type": "stream",
          "name": "stdout",
          "text": [
            "Files already downloaded and verified\n",
            "Files already downloaded and verified\n",
            "Files already downloaded and verified\n"
          ]
        }
      ]
    },
    {
      "cell_type": "markdown",
      "source": [
        "Find the mean of the dataset"
      ],
      "metadata": {
        "id": "V06hPZ5l0HKX"
      }
    },
    {
      "cell_type": "code",
      "source": [
        "sum=0\n",
        "for inputs, labels in trainloader_notransform:\n",
        "  for input in inputs['image']:\n",
        "    sum = sum + input.sum()\n",
        "mean = sum.item()/len(trainset)\n",
        "print(mean)"
      ],
      "metadata": {
        "colab": {
          "base_uri": "https://localhost:8080/"
        },
        "id": "MgFUXAUM0Fun",
        "outputId": "16f35396-d9c6-45be-c2f3-eb740ff1c742"
      },
      "execution_count": 39,
      "outputs": [
        {
          "output_type": "stream",
          "name": "stdout",
          "text": [
            "245.41374\n"
          ]
        }
      ]
    },
    {
      "cell_type": "code",
      "source": [
        "print(sum)"
      ],
      "metadata": {
        "id": "UiJBq9k08G6h",
        "colab": {
          "base_uri": "https://localhost:8080/"
        },
        "outputId": "2136d643-f08d-4726-f915-625f2e75f246"
      },
      "execution_count": 40,
      "outputs": [
        {
          "output_type": "stream",
          "name": "stdout",
          "text": [
            "tensor(12270687.)\n"
          ]
        }
      ]
    },
    {
      "cell_type": "markdown",
      "metadata": {
        "id": "_cj433rtpoCn"
      },
      "source": [
        "Let us show some of the training images, for fun.\n",
        "\n"
      ]
    },
    {
      "cell_type": "code",
      "metadata": {
        "id": "daA7bADhpoCo",
        "outputId": "3bfc2a51-9be5-4df3-983f-bad58b842376",
        "colab": {
          "base_uri": "https://localhost:8080/",
          "height": 173
        }
      },
      "source": [
        "import matplotlib.pyplot as plt\n",
        "\n",
        "# functions to show an image\n",
        "\n",
        "\n",
        "def imshow(img):\n",
        "    img = img / 2 + 0.5     # unnormalize\n",
        "    npimg = img.numpy()\n",
        "    plt.imshow(np.transpose(npimg, (1, 2, 0)))\n",
        "\n",
        "\n",
        "# get some random training images\n",
        "dataiter = iter(trainloader)\n",
        "images, labels = next(dataiter)\n",
        "print(images['image'][0].size())\n",
        "# show images\n",
        "imshow(torchvision.utils.make_grid(images['image']))\n",
        "# print labels\n",
        "print(' '.join('%5s' % classes[labels[j]] for j in range(4)))"
      ],
      "execution_count": 41,
      "outputs": [
        {
          "output_type": "stream",
          "name": "stdout",
          "text": [
            "torch.Size([3, 32, 32])\n",
            "  cat truck  ship   cat\n"
          ]
        },
        {
          "output_type": "display_data",
          "data": {
            "text/plain": [
              "<Figure size 432x288 with 1 Axes>"
            ],
            "image/png": "[encoded data removed]"
          },
          "metadata": {
            "needs_background": "light"
          }
        }
      ]
    },
    {
      "cell_type": "markdown",
      "metadata": {
        "id": "28OpHA_LpoCq"
      },
      "source": [
        "2. Define a Convolution Neural Network\n",
        "^^^^^^^^^^^^^^^^^^^^^^^^^^^^^^^^^^^^^^\n",
        "Copy the neural network from the Neural Networks section before and modify it to\n",
        "take 3-channel images (instead of 1-channel images as it was defined).\n",
        "\n"
      ]
    },
    {
      "cell_type": "code",
      "metadata": {
        "id": "0jjLwLLQpoCr"
      },
      "source": [],
      "execution_count": 41,
      "outputs": []
    },
    {
      "cell_type": "markdown",
      "metadata": {
        "id": "Wdw2NNCUpoCu"
      },
      "source": [
        "3. Define a Loss function and optimizer\n",
        "^^^^^^^^^^^^^^^^^^^^^^^^^^^^^^^^^^^^^^^\n",
        "Let's use a Classification Cross-Entropy loss and SGD with momentum.\n",
        "\n"
      ]
    },
    {
      "cell_type": "code",
      "metadata": {
        "id": "M4xBbDROpoCv",
        "colab": {
          "base_uri": "https://localhost:8080/"
        },
        "outputId": "3e515e0f-27e0-4cca-f8bb-ea48effad567"
      },
      "source": [
        "from torchsummary import summary\n",
        "import model\n",
        "import torch.optim as optim\n",
        "import torch.nn as nn\n",
        "\n",
        "# use gpu\n",
        "use_cuda = torch.cuda.is_available()\n",
        "device = torch.device(\"cuda\" if use_cuda else \"cpu\")\n",
        "net = model.Net().to(device)\n",
        "summary(net, input_size=(3,32,32))\n",
        "criterion = nn.CrossEntropyLoss()\n",
        "optimizer = optim.SGD(net.parameters(), lr=0.001, momentum=0.9)\n"
      ],
      "execution_count": 42,
      "outputs": [
        {
          "output_type": "stream",
          "name": "stdout",
          "text": [
            "----------------------------------------------------------------\n",
            "        Layer (type)               Output Shape         Param #\n",
            "================================================================\n",
            "            Conv2d-1            [-1, 6, 32, 32]             456\n",
            "              ReLU-2            [-1, 6, 32, 32]               0\n",
            "            Conv2d-3           [-1, 16, 34, 34]             880\n",
            "              ReLU-4           [-1, 16, 34, 34]               0\n",
            "            Conv2d-5           [-1, 16, 16, 16]           2,320\n",
            "              ReLU-6           [-1, 16, 16, 16]               0\n",
            "            Conv2d-7           [-1, 16, 16, 16]           2,320\n",
            "            Conv2d-8            [-1, 8, 16, 16]             136\n",
            "              ReLU-9            [-1, 8, 16, 16]               0\n",
            "           Conv2d-10              [-1, 8, 7, 7]             584\n",
            "             ReLU-11              [-1, 8, 7, 7]               0\n",
            "           Conv2d-12             [-1, 16, 7, 7]           3,216\n",
            "             ReLU-13             [-1, 16, 7, 7]               0\n",
            "           Conv2d-14             [-1, 16, 3, 3]           2,320\n",
            "             ReLU-15             [-1, 16, 3, 3]               0\n",
            "AdaptiveAvgPool2d-16             [-1, 16, 1, 1]               0\n",
            "           Linear-17                   [-1, 10]             170\n",
            "================================================================\n",
            "Total params: 12,402\n",
            "Trainable params: 12,402\n",
            "Non-trainable params: 0\n",
            "----------------------------------------------------------------\n",
            "Input size (MB): 0.01\n",
            "Forward/backward pass size (MB): 0.52\n",
            "Params size (MB): 0.05\n",
            "Estimated Total Size (MB): 0.58\n",
            "----------------------------------------------------------------\n"
          ]
        }
      ]
    },
    {
      "cell_type": "markdown",
      "metadata": {
        "id": "O-odOrhdpoC2"
      },
      "source": [
        "4. Train the network\n",
        "^^^^^^^^^^^^^^^^^^^^\n",
        "\n",
        "This is when things start to get interesting.\n",
        "We simply have to loop over our data iterator, and feed the inputs to the\n",
        "network and optimize.\n",
        "\n"
      ]
    },
    {
      "cell_type": "code",
      "metadata": {
        "id": "kkuRfo1IpoC3",
        "colab": {
          "base_uri": "https://localhost:8080/"
        },
        "outputId": "6c7d0a8e-0dec-475d-9934-4ea0b6048d76"
      },
      "source": [
        "for epoch in range(20):  # loop over the dataset multiple times\n",
        "\n",
        "    running_loss = 0.0\n",
        "    for i, data in enumerate(trainloader, 0):\n",
        "        # get the inputs\n",
        "        inputs, labels = data\n",
        "        inputs, labels = inputs['image'].to(device), labels.to(device)\n",
        "\n",
        "        # zero the parameter gradients\n",
        "        optimizer.zero_grad()\n",
        "\n",
        "        # forward + backward + optimize\n",
        "        outputs = net(inputs)\n",
        "        loss = criterion(outputs, labels)\n",
        "        loss.backward()\n",
        "        optimizer.step()\n",
        "\n",
        "        # print statistics\n",
        "        running_loss += loss.item()\n",
        "        if i % 2000 == 1999:    # print every 2000 mini-batches\n",
        "            print('[%d, %5d] loss: %.3f' %\n",
        "                  (epoch + 1, i + 1, running_loss / 2000))\n",
        "            running_loss = 0.0\n",
        "\n",
        "print('Finished Training')"
      ],
      "execution_count": 43,
      "outputs": [
        {
          "output_type": "stream",
          "name": "stdout",
          "text": [
            "[1,  2000] loss: 2.306\n",
            "[1,  4000] loss: 2.303\n",
            "[1,  6000] loss: 2.303\n",
            "[1,  8000] loss: 2.303\n",
            "[1, 10000] loss: 2.303\n",
            "[1, 12000] loss: 2.303\n",
            "[2,  2000] loss: 2.302\n",
            "[2,  4000] loss: 2.300\n",
            "[2,  6000] loss: 2.155\n",
            "[2,  8000] loss: 2.069\n",
            "[2, 10000] loss: 2.036\n",
            "[2, 12000] loss: 2.004\n",
            "[3,  2000] loss: 1.970\n",
            "[3,  4000] loss: 1.941\n",
            "[3,  6000] loss: 1.925\n",
            "[3,  8000] loss: 1.902\n",
            "[3, 10000] loss: 1.901\n",
            "[3, 12000] loss: 1.880\n",
            "[4,  2000] loss: 1.867\n",
            "[4,  4000] loss: 1.851\n",
            "[4,  6000] loss: 1.837\n",
            "[4,  8000] loss: 1.826\n",
            "[4, 10000] loss: 1.819\n",
            "[4, 12000] loss: 1.809\n",
            "[5,  2000] loss: 1.783\n",
            "[5,  4000] loss: 1.778\n",
            "[5,  6000] loss: 1.781\n",
            "[5,  8000] loss: 1.766\n",
            "[5, 10000] loss: 1.744\n",
            "[5, 12000] loss: 1.761\n",
            "[6,  2000] loss: 1.746\n",
            "[6,  4000] loss: 1.729\n",
            "[6,  6000] loss: 1.740\n",
            "[6,  8000] loss: 1.705\n",
            "[6, 10000] loss: 1.696\n",
            "[6, 12000] loss: 1.709\n",
            "[7,  2000] loss: 1.683\n",
            "[7,  4000] loss: 1.688\n",
            "[7,  6000] loss: 1.672\n",
            "[7,  8000] loss: 1.658\n",
            "[7, 10000] loss: 1.637\n",
            "[7, 12000] loss: 1.652\n",
            "[8,  2000] loss: 1.629\n",
            "[8,  4000] loss: 1.643\n",
            "[8,  6000] loss: 1.626\n",
            "[8,  8000] loss: 1.626\n",
            "[8, 10000] loss: 1.619\n",
            "[8, 12000] loss: 1.617\n",
            "[9,  2000] loss: 1.604\n",
            "[9,  4000] loss: 1.599\n",
            "[9,  6000] loss: 1.582\n",
            "[9,  8000] loss: 1.583\n",
            "[9, 10000] loss: 1.578\n",
            "[9, 12000] loss: 1.568\n",
            "[10,  2000] loss: 1.547\n",
            "[10,  4000] loss: 1.563\n",
            "[10,  6000] loss: 1.562\n",
            "[10,  8000] loss: 1.541\n",
            "[10, 10000] loss: 1.548\n",
            "[10, 12000] loss: 1.552\n",
            "[11,  2000] loss: 1.524\n",
            "[11,  4000] loss: 1.543\n",
            "[11,  6000] loss: 1.524\n",
            "[11,  8000] loss: 1.534\n",
            "[11, 10000] loss: 1.517\n",
            "[11, 12000] loss: 1.530\n",
            "[12,  2000] loss: 1.516\n",
            "[12,  4000] loss: 1.505\n",
            "[12,  6000] loss: 1.499\n",
            "[12,  8000] loss: 1.487\n",
            "[12, 10000] loss: 1.504\n",
            "[12, 12000] loss: 1.495\n",
            "[13,  2000] loss: 1.472\n",
            "[13,  4000] loss: 1.495\n",
            "[13,  6000] loss: 1.485\n",
            "[13,  8000] loss: 1.483\n",
            "[13, 10000] loss: 1.479\n",
            "[13, 12000] loss: 1.475\n",
            "[14,  2000] loss: 1.455\n",
            "[14,  4000] loss: 1.473\n",
            "[14,  6000] loss: 1.440\n",
            "[14,  8000] loss: 1.482\n",
            "[14, 10000] loss: 1.462\n",
            "[14, 12000] loss: 1.458\n",
            "[15,  2000] loss: 1.455\n",
            "[15,  4000] loss: 1.464\n",
            "[15,  6000] loss: 1.445\n",
            "[15,  8000] loss: 1.445\n",
            "[15, 10000] loss: 1.443\n",
            "[15, 12000] loss: 1.436\n",
            "[16,  2000] loss: 1.432\n",
            "[16,  4000] loss: 1.446\n",
            "[16,  6000] loss: 1.436\n",
            "[16,  8000] loss: 1.442\n",
            "[16, 10000] loss: 1.450\n",
            "[16, 12000] loss: 1.435\n",
            "[17,  2000] loss: 1.432\n",
            "[17,  4000] loss: 1.429\n",
            "[17,  6000] loss: 1.432\n",
            "[17,  8000] loss: 1.412\n",
            "[17, 10000] loss: 1.423\n",
            "[17, 12000] loss: 1.417\n",
            "[18,  2000] loss: 1.410\n",
            "[18,  4000] loss: 1.402\n",
            "[18,  6000] loss: 1.416\n",
            "[18,  8000] loss: 1.402\n",
            "[18, 10000] loss: 1.416\n",
            "[18, 12000] loss: 1.425\n",
            "[19,  2000] loss: 1.403\n",
            "[19,  4000] loss: 1.403\n",
            "[19,  6000] loss: 1.428\n",
            "[19,  8000] loss: 1.386\n",
            "[19, 10000] loss: 1.410\n",
            "[19, 12000] loss: 1.400\n",
            "[20,  2000] loss: 1.381\n",
            "[20,  4000] loss: 1.402\n",
            "[20,  6000] loss: 1.389\n",
            "[20,  8000] loss: 1.393\n",
            "[20, 10000] loss: 1.391\n",
            "[20, 12000] loss: 1.412\n",
            "Finished Training\n"
          ]
        }
      ]
    },
    {
      "cell_type": "markdown",
      "metadata": {
        "id": "YLrvL_fHpoC5"
      },
      "source": [
        "5. Test the network on the test data\n",
        "^^^^^^^^^^^^^^^^^^^^^^^^^^^^^^^^^^^^\n",
        "\n",
        "We have trained the network for 2 passes over the training dataset.\n",
        "But we need to check if the network has learnt anything at all.\n",
        "\n",
        "We will check this by predicting the class label that the neural network\n",
        "outputs, and checking it against the ground-truth. If the prediction is\n",
        "correct, we add the sample to the list of correct predictions.\n",
        "\n",
        "Okay, first step. Let us display an image from the test set to get familiar.\n",
        "\n"
      ]
    },
    {
      "cell_type": "code",
      "metadata": {
        "id": "nizbsvw9poC6",
        "colab": {
          "base_uri": "https://localhost:8080/",
          "height": 155
        },
        "outputId": "41af2741-7c4f-49ca-e1fc-7e50b7bbfb4b"
      },
      "source": [
        "dataiter = iter(testloader)\n",
        "images, labels = next(dataiter)\n",
        "images, labels = images['image'].to(device), labels.to(device)\n",
        "\n",
        "# print images\n",
        "imshow(torchvision.utils.make_grid(images.cpu()))\n",
        "print('GroundTruth: ', ' '.join('%5s' % classes[labels[j]] for j in range(4)))"
      ],
      "execution_count": 44,
      "outputs": [
        {
          "output_type": "stream",
          "name": "stdout",
          "text": [
            "GroundTruth:    cat  ship  ship plane\n"
          ]
        },
        {
          "output_type": "display_data",
          "data": {
            "text/plain": [
              "<Figure size 432x288 with 1 Axes>"
            ],
            "image/png": "[encoded data removed]"
          },
          "metadata": {
            "needs_background": "light"
          }
        }
      ]
    },
    {
      "cell_type": "markdown",
      "metadata": {
        "id": "DAx4QPHVpoC8"
      },
      "source": [
        "Okay, now let us see what the neural network thinks these examples above are:\n",
        "\n"
      ]
    },
    {
      "cell_type": "code",
      "metadata": {
        "id": "HVLjlssWpoC9"
      },
      "source": [
        "outputs = net(images)"
      ],
      "execution_count": 45,
      "outputs": []
    },
    {
      "cell_type": "markdown",
      "metadata": {
        "id": "u8OTHZEApoC_"
      },
      "source": [
        "The outputs are energies for the 10 classes.\n",
        "Higher the energy for a class, the more the network\n",
        "thinks that the image is of the particular class.\n",
        "So, let's get the index of the highest energy:\n",
        "\n"
      ]
    },
    {
      "cell_type": "code",
      "metadata": {
        "id": "ABRIDW3lpoDA",
        "colab": {
          "base_uri": "https://localhost:8080/"
        },
        "outputId": "94d51987-c78f-4c83-f222-a571fb10c7b9"
      },
      "source": [
        "_, predicted = torch.max(outputs, 1)\n",
        "\n",
        "print('Predicted: ', ' '.join('%5s' % classes[predicted[j]]\n",
        "                              for j in range(4)))"
      ],
      "execution_count": 46,
      "outputs": [
        {
          "output_type": "stream",
          "name": "stdout",
          "text": [
            "Predicted:    cat  ship  ship  ship\n"
          ]
        }
      ]
    },
    {
      "cell_type": "markdown",
      "metadata": {
        "id": "2TV0TXL1poDC"
      },
      "source": [
        "The results seem pretty good.\n",
        "\n",
        "Let us look at how the network performs on the whole dataset.\n",
        "\n"
      ]
    },
    {
      "cell_type": "code",
      "metadata": {
        "id": "SZ4-5CESpoDD",
        "colab": {
          "base_uri": "https://localhost:8080/"
        },
        "outputId": "0dc1eb1e-9097-4cc4-affb-1767fee8f4e0"
      },
      "source": [
        "correct = 0\n",
        "total = 0\n",
        "with torch.no_grad():\n",
        "    for data in testloader:\n",
        "        images, labels = data\n",
        "        images, labels = images['image'].to(device), labels.to(device)\n",
        "        outputs = net(images)\n",
        "        _, predicted = torch.max(outputs.data, 1)\n",
        "        total += labels.size(0)\n",
        "        correct += (predicted == labels).sum().item()\n",
        "\n",
        "print('Accuracy of the network on the 10000 test images: %d %%' % (\n",
        "    100 * correct / total))"
      ],
      "execution_count": 47,
      "outputs": [
        {
          "output_type": "stream",
          "name": "stdout",
          "text": [
            "Accuracy of the network on the 10000 test images: 50 %\n"
          ]
        }
      ]
    },
    {
      "cell_type": "markdown",
      "metadata": {
        "id": "eDdwPBl8poDF"
      },
      "source": [
        "That looks waaay better than chance, which is 10% accuracy (randomly picking\n",
        "a class out of 10 classes).\n",
        "Seems like the network learnt something.\n",
        "\n",
        "Hmmm, what are the classes that performed well, and the classes that did\n",
        "not perform well:\n",
        "\n"
      ]
    },
    {
      "cell_type": "code",
      "metadata": {
        "id": "pDNFuDEDpoDG",
        "colab": {
          "base_uri": "https://localhost:8080/"
        },
        "outputId": "1d4b04a4-0e68-454f-80bb-6592bb421555"
      },
      "source": [
        "class_correct = list(0. for i in range(10))\n",
        "class_total = list(0. for i in range(10))\n",
        "with torch.no_grad():\n",
        "    for data in testloader:\n",
        "        images, labels = data\n",
        "        images, labels = images['image'].to(device), labels.to(device)\n",
        "        outputs = net(images)\n",
        "        _, predicted = torch.max(outputs, 1)\n",
        "        c = (predicted == labels).squeeze()\n",
        "        for i in range(4):\n",
        "            label = labels[i]\n",
        "            class_correct[label] += c[i].item()\n",
        "            class_total[label] += 1\n",
        "\n",
        "\n",
        "for i in range(10):\n",
        "    print('Accuracy of %5s : %2d %%' % (\n",
        "        classes[i], 100 * class_correct[i] / class_total[i]))"
      ],
      "execution_count": 48,
      "outputs": [
        {
          "output_type": "stream",
          "name": "stdout",
          "text": [
            "Accuracy of plane : 45 %\n",
            "Accuracy of   car : 62 %\n",
            "Accuracy of  bird : 49 %\n",
            "Accuracy of   cat : 43 %\n",
            "Accuracy of  deer : 31 %\n",
            "Accuracy of   dog : 27 %\n",
            "Accuracy of  frog : 55 %\n",
            "Accuracy of horse : 58 %\n",
            "Accuracy of  ship : 69 %\n",
            "Accuracy of truck : 57 %\n"
          ]
        }
      ]
    }
  ]
}